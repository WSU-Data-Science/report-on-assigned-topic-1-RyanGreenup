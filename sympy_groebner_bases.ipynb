{
 "cells": [
  {
   "cell_type": "markdown",
   "id": "occasional-appliance",
   "metadata": {},
   "source": [
    "# Buchbergers Algorithm"
   ]
  },
  {
   "cell_type": "markdown",
   "id": "regional-zealand",
   "metadata": {},
   "source": [
    "## Boiler Plate"
   ]
  },
  {
   "source": [
    "First load the Sympy module"
   ],
   "cell_type": "markdown",
   "metadata": {}
  },
  {
   "cell_type": "code",
   "execution_count": 213,
   "id": "northern-cancellation",
   "metadata": {},
   "outputs": [],
   "source": [
    "## Sympy Boiler Plate\n",
    "\n",
    "from __future__ import division\n",
    "from sympy import *\n",
    "t, x, y, z = symbols('t x y z')  # I believe this order matters, i.e. t<-x1, x <- x2, y <- x3 ...\n",
    "k, m, n = symbols('k m n', integer=True)\n",
    "f, g, h = symbols('f g h', cls=Function)\n",
    "init_printing()\n",
    "init_printing(use_latex='mathjax', latex_mode='equation')\n",
    "\n",
    "\n",
    "\n",
    "import pyperclip\n",
    "def lx(expr):\n",
    "    pyperclip.copy(latex(expr))\n",
    "    print(expr)\n",
    "# NB: See also srepr(), display() and print_mathml()\n",
    "\n",
    "import numpy as np\n",
    "import matplotlib as plt"
   ]
  },
  {
   "cell_type": "markdown",
   "id": "affiliated-dublin",
   "metadata": {},
   "source": [
    "## Terminology\n",
    "\n",
    "There are mutlidegree's, leading coefficients, leading monomials and leading terms."
   ]
  },
  {
   "cell_type": "code",
   "execution_count": 214,
   "metadata": {},
   "outputs": [],
   "source": [
    "def f(x, domain = 'QQ'):\n",
    "    return 2+3*x+5*y+7*x*y+11*x**2*y+13*x*y**2+17*x**2*y**2+19*x**2*y**2*z**2\n",
    "    # return 13*x**2+11*x-7\n",
    "def g(x, domain = 'QQ'):\n",
    "    return 2+3*x+5*y+7*x*y+11*x**2*y+13*x*y**2+17*x**2*y**2+19*x*y**2*z**2\n",
    "    # return 13*x**2+11*x-7\n"
   ]
  },
  {
   "cell_type": "code",
   "execution_count": 215,
   "metadata": {},
   "outputs": [
    {
     "output_type": "stream",
     "name": "stdout",
     "text": [
      "Leading Monomial:\n"
     ]
    },
    {
     "output_type": "display_data",
     "data": {
      "text/plain": " 2  2  2\nx ⋅y ⋅z ",
      "text/latex": "\\begin{equation}x^{2} y^{2} z^{2}\\end{equation}"
     },
     "metadata": {}
    },
    {
     "output_type": "stream",
     "name": "stdout",
     "text": [
      "Leading Coefficient\n"
     ]
    },
    {
     "output_type": "display_data",
     "data": {
      "text/plain": "19",
      "text/latex": "\\begin{equation}19\\end{equation}"
     },
     "metadata": {}
    },
    {
     "output_type": "stream",
     "name": "stdout",
     "text": [
      "Leading Term\n"
     ]
    },
    {
     "output_type": "display_data",
     "data": {
      "text/plain": "    2  2  2\n19⋅x ⋅y ⋅z ",
      "text/latex": "\\begin{equation}19 x^{2} y^{2} z^{2}\\end{equation}"
     },
     "metadata": {}
    }
   ],
   "source": [
    "print(\"Leading Monomial:\")\n",
    "display(LM(f(x)))\n",
    "\n",
    "print(\"Leading Coefficient\")\n",
    "display(LC(f(x)))\n",
    "\n",
    "print(\"Leading Term\")\n",
    "display(LT(f(x)))"
   ]
  },
  {
   "source": [
    "The initial monomial with respect to an ordering is the first monomial returned by `sympy`, I believe that sympy uses lexicographic ordering under the hood, as suggested by the documentation [^spdocsPolySysRef], but I'd need to get a better understanding of the differences between `lex`, `grlex` and `grevlex` to be certain.\n",
    "\n",
    "\n",
    "[^spdocsPolySysRef]: SymPy Development Team. “Polynomials Manipulation Module Reference — SymPy 1.8 Documentation.” Sympy Documentation. Accessed April 13, 2021. https://docs.sympy.org/latest/modules/polys/reference.html."
   ],
   "cell_type": "markdown",
   "metadata": {}
  },
  {
   "cell_type": "code",
   "execution_count": 216,
   "metadata": {},
   "outputs": [
    {
     "output_type": "execute_result",
     "data": {
      "text/plain": [
       "    2  2  2       2  2       2           2                        \n",
       "19⋅x ⋅y ⋅z  + 17⋅x ⋅y  + 11⋅x ⋅y + 13⋅x⋅y  + 7⋅x⋅y + 3⋅x + 5⋅y + 2"
      ],
      "text/latex": "\\begin{equation}19 x^{2} y^{2} z^{2} + 17 x^{2} y^{2} + 11 x^{2} y + 13 x y^{2} + 7 x y + 3 x + 5 y + 2\\end{equation}"
     },
     "metadata": {},
     "execution_count": 216
    }
   ],
   "source": [
    "f(x)"
   ]
  },
  {
   "source": [
    "In this case, the first monomial is $x^2y^2z^2$ and so that is the initial. In practice we can just use the `LT`, the initial is just another way to skin the cat, which is probably why sympy doesn't offer a clear way to extract the initial. [^initVlt].\n",
    "\n",
    "\n",
    "[^initVlt]: If it was necessary to get the initial one option might be to extract the polynomial to a string `str(f(x))` and then use regex `^[A-Za-z0-9*]+(?=[\\ +])` to extract the first term and then take the `LM` of that term to get the initial monomial."
   ],
   "cell_type": "markdown",
   "metadata": {}
  },
  {
   "cell_type": "code",
   "execution_count": 217,
   "metadata": {},
   "outputs": [
    {
     "output_type": "execute_result",
     "data": {
      "text/plain": [
       "    2  2  2       2  2       2           2                        \n",
       "19⋅x ⋅y ⋅z  + 17⋅x ⋅y  + 11⋅x ⋅y + 13⋅x⋅y  + 7⋅x⋅y + 3⋅x + 5⋅y + 2"
      ],
      "text/latex": "\\begin{equation}19 x^{2} y^{2} z^{2} + 17 x^{2} y^{2} + 11 x^{2} y + 13 x y^{2} + 7 x y + 3 x + 5 y + 2\\end{equation}"
     },
     "metadata": {},
     "execution_count": 217
    }
   ],
   "source": [
    "f(x)"
   ]
  },
  {
   "cell_type": "code",
   "execution_count": 218,
   "metadata": {},
   "outputs": [
    {
     "output_type": "execute_result",
     "data": {
      "text/plain": [
       "    2  2       2           2  2         2                        \n",
       "17⋅x ⋅y  + 11⋅x ⋅y + 19⋅x⋅y ⋅z  + 13⋅x⋅y  + 7⋅x⋅y + 3⋅x + 5⋅y + 2"
      ],
      "text/latex": "\\begin{equation}17 x^{2} y^{2} + 11 x^{2} y + 19 x y^{2} z^{2} + 13 x y^{2} + 7 x y + 3 x + 5 y + 2\\end{equation}"
     },
     "metadata": {},
     "execution_count": 218
    }
   ],
   "source": [
    "g(x)"
   ]
  },
  {
   "source": [
    "## Implementing the Algorithm"
   ],
   "cell_type": "markdown",
   "metadata": {}
  },
  {
   "source": [
    "### Set of Polynomials"
   ],
   "cell_type": "markdown",
   "metadata": {}
  },
  {
   "source": [
    "To begin with, we'll implement buchberger's algorithm on a simple polynomial system, the reason for this choice is to see the implementation of the algorithm generally, a *simple* system such as a linear or single variable system, may be more confusing at first, but will be returned to later in order to draw insights."
   ],
   "cell_type": "markdown",
   "metadata": {}
  },
  {
   "source": [
    "So we have our bag of polynomials:"
   ],
   "cell_type": "markdown",
   "metadata": {}
  },
  {
   "cell_type": "code",
   "execution_count": 219,
   "metadata": {},
   "outputs": [
    {
     "output_type": "display_data",
     "data": {
      "text/plain": " 3        \nx  - 2⋅x⋅y",
      "text/latex": "\\begin{equation}x^{3} - 2 x y\\end{equation}"
     },
     "metadata": {}
    },
    {
     "output_type": "display_data",
     "data": {
      "text/plain": " 2            2\nx ⋅y + x - 2⋅y ",
      "text/latex": "\\begin{equation}x^{2} y + x - 2 y^{2}\\end{equation}"
     },
     "metadata": {}
    }
   ],
   "source": [
    "F = [x**3-2*x*y, x**2*y-2*y**2 + x]\n",
    "for poly in F:\n",
    "    display(poly)"
   ]
  },
  {
   "source": [
    "These polynomials are equal to zero and so could also be expressed:"
   ],
   "cell_type": "markdown",
   "metadata": {}
  },
  {
   "source": [
    "\\begin{align}\n",
    "x^3 &= 2xy \\\\\n",
    "  x &=2y^2-x^2y    \n",
    "\\end{align}"
   ],
   "cell_type": "markdown",
   "metadata": {}
  },
  {
   "source": [
    "Now we want our algorithm to give us back:"
   ],
   "cell_type": "markdown",
   "metadata": {}
  },
  {
   "cell_type": "code",
   "execution_count": 220,
   "metadata": {},
   "outputs": [
    {
     "output_type": "execute_result",
     "data": {
      "text/plain": [
       "             ⎛⎡       2   3⎤                           ⎞\n",
       "GroebnerBasis⎝⎣x - 2⋅y , y ⎦, x, y, domain=ℤ, order=lex⎠"
      ],
      "text/latex": "\\begin{equation}GroebnerBasis\\left(\\left( x - 2 y^{2}, \\  y^{3}\\right), \\left( x, \\  y\\right)\\right)\\end{equation}"
     },
     "metadata": {},
     "execution_count": 220
    }
   ],
   "source": [
    "G_out = polys.polytools.groebner(F, x, y, order = 'lex', method = 'buchberger')\n",
    "G_out\n"
   ]
  },
  {
   "source": [
    "Note that the 2nd tupple $\\left(x, y\\right)$ that is printed out refers to the variables, the first tupple is the reduced Groebner Basis, a clearer way to display it would be as a list:"
   ],
   "cell_type": "markdown",
   "metadata": {}
  },
  {
   "cell_type": "code",
   "execution_count": 221,
   "metadata": {},
   "outputs": [
    {
     "output_type": "display_data",
     "data": {
      "text/plain": "⎡       2   3⎤\n⎣x - 2⋅y , y ⎦",
      "text/latex": "\\begin{equation}\\left[ x - 2 y^{2}, \\  y^{3}\\right]\\end{equation}"
     },
     "metadata": {}
    }
   ],
   "source": [
    "\n",
    "G = []\n",
    "for poly in G_out:\n",
    "    G.append(poly)\n",
    "\n",
    "display(G)\n"
   ]
  },
  {
   "source": [
    "and so overall we have:"
   ],
   "cell_type": "markdown",
   "metadata": {}
  },
  {
   "source": [
    "$$\n",
    "\\begin{array}{rcl}\n",
    "x^{3} & = & 2xy\\\\\n",
    "x & = & 2y^{2}-x^{2}y\n",
    "\\end{array}\\implies\\begin{array}{rcl}\n",
    "y^{2} & = & \\frac{1}{2}x\\\\\n",
    "y^{3} & = & 0\n",
    "\\end{array}\n",
    "$$"
   ],
   "cell_type": "markdown",
   "metadata": {}
  },
  {
   "source": [
    "\\begin{align}\n",
    "y^2 &= \\frac{1}{2}x \\\\\n",
    "y^3 &= 0\n",
    "\\end{align}    "
   ],
   "cell_type": "markdown",
   "metadata": {}
  },
  {
   "source": [
    "## S-Polynomial"
   ],
   "cell_type": "markdown",
   "metadata": {}
  },
  {
   "source": [
    "The $S$-Polynomial used to determine whether or not two polynomials belong in the Groebner Basis and it is given by:\n",
    "\n",
    "$$\n",
    "S=\\mathrm{LCM}\\left(\\mathrm{LM}\\left(f\\right),\\mathrm{LM}\\left(g\\right)\\right)\\times\\left(\\frac{f}{\\mathrm{LT}\\left(f\\right)}-\\frac{g}{\\mathrm{LT}\\left(g\\right)}\\right)\n",
    "$$"
   ],
   "cell_type": "markdown",
   "metadata": {}
  },
  {
   "source": [
    "Sympy comes with a function to determine the LCM of polynomials:\n",
    "\n"
   ],
   "cell_type": "markdown",
   "metadata": {}
  },
  {
   "cell_type": "code",
   "execution_count": 222,
   "metadata": {},
   "outputs": [
    {
     "output_type": "execute_result",
     "data": {
      "text/plain": [
       " 3  \n",
       "x ⋅y"
      ],
      "text/latex": "\\begin{equation}x^{3} y\\end{equation}"
     },
     "metadata": {},
     "execution_count": 222
    }
   ],
   "source": [
    "from sympy.polys.monomials import monomial_mul, monomial_lcm, monomial_divides, term_div\n",
    "# https://docs.sympy.org/latest/modules/polys/basics.html\n",
    "LMf = LM(F[0])\n",
    "LMg = LM(F[1])\n",
    "# LCM12 = monomial_lcm(LMF, LMG) # This fails\n",
    "LCM12 = lcm(LMf, LMg)\n",
    "LCM12\n"
   ]
  },
  {
   "source": [
    "and the $s$-polynomial can hence be calculated thusly:"
   ],
   "cell_type": "markdown",
   "metadata": {}
  },
  {
   "cell_type": "code",
   "execution_count": 223,
   "metadata": {},
   "outputs": [
    {
     "output_type": "execute_result",
     "data": {
      "text/plain": [
       "  2\n",
       "-x "
      ],
      "text/latex": "\\begin{equation}- x^{2}\\end{equation}"
     },
     "metadata": {},
     "execution_count": 223
    }
   ],
   "source": [
    "def s_polynomial(f, g):\n",
    "    LCM_fg = lcm(LM(f), LM(g))\n",
    "    s = LCM_fg*(f/LT(f)-g/LT(g))\n",
    "    return s.expand()\n",
    "s=s_polynomial(F[0], F[1])\n",
    "s"
   ]
  },
  {
   "source": [
    "Now we need to divide this $s$ value by all the terms in $F$, write it out in terms of quotients and divisors and then consider the remainder, so for example:"
   ],
   "cell_type": "markdown",
   "metadata": {}
  },
  {
   "cell_type": "code",
   "execution_count": 224,
   "metadata": {},
   "outputs": [
    {
     "output_type": "display_data",
     "data": {
      "text/plain": "⎛     2⎞\n⎝0, -x ⎠",
      "text/latex": "\\begin{equation}\\left( 0, \\  - x^{2}\\right)\\end{equation}"
     },
     "metadata": {}
    },
    {
     "output_type": "display_data",
     "data": {
      "text/plain": "⎛     2⎞\n⎝0, -x ⎠",
      "text/latex": "\\begin{equation}\\left( 0, \\  - x^{2}\\right)\\end{equation}"
     },
     "metadata": {}
    }
   ],
   "source": [
    "display(div(s, F[0]))\n",
    "display(div(s, F[1]))"
   ]
  },
  {
   "source": [
    "\\begin{align*}\n",
    " & -x^{2} & = & 0\\left(2xy\\right) & -x^{2}\\\\\n",
    "+ &  & =\\\\\n",
    " & -x^{2} & = & 0\\left(2y^{2}-x^{2}y\\right) & -x^{2}\\\\\n",
    "\\hline  & -2x^{2} & = & 0\\left(2xy\\right)+0\\left(2y^{2}-x^{2}y\\right) & -2x^{2}\\\\\n",
    "\\implies & r & = & \\mathrm{mean}\\left(r\\in R\\right)\n",
    "\\end{align*}\n"
   ],
   "cell_type": "markdown",
   "metadata": {}
  },
  {
   "source": [
    "And so this remainder value can be calculated, in `sympy`, like so:"
   ],
   "cell_type": "markdown",
   "metadata": {}
  },
  {
   "cell_type": "code",
   "execution_count": 225,
   "metadata": {},
   "outputs": [
    {
     "output_type": "execute_result",
     "data": {
      "text/plain": [
       "  2\n",
       "-x "
      ],
      "text/latex": "\\begin{equation}- x^{2}\\end{equation}"
     },
     "metadata": {},
     "execution_count": 225
    }
   ],
   "source": [
    "r_list = [ div(s, F[i])[1] for i in range(len(F)) ]\n",
    "r = sum(r_list)/len(r_list)\n",
    "r"
   ]
  },
  {
   "source": [
    "Now because this remainder value is non-zero, it belongs to the Groebner Bases and it needs to be added back to $F$ and the process needs to start again."
   ],
   "cell_type": "markdown",
   "metadata": {}
  },
  {
   "cell_type": "code",
   "execution_count": 226,
   "metadata": {},
   "outputs": [
    {
     "output_type": "display_data",
     "data": {
      "text/plain": " 3        \nx  - 2⋅x⋅y",
      "text/latex": "\\begin{equation}x^{3} - 2 x y\\end{equation}"
     },
     "metadata": {}
    },
    {
     "output_type": "display_data",
     "data": {
      "text/plain": " 2            2\nx ⋅y + x - 2⋅y ",
      "text/latex": "\\begin{equation}x^{2} y + x - 2 y^{2}\\end{equation}"
     },
     "metadata": {}
    },
    {
     "output_type": "display_data",
     "data": {
      "text/plain": "  2\n-x ",
      "text/latex": "\\begin{equation}- x^{2}\\end{equation}"
     },
     "metadata": {}
    }
   ],
   "source": [
    "F_0 = F.copy() # Remember to copy lists in Python, like C\n",
    "F.append(r)\n",
    "for poly in F:\n",
    "    display(poly)"
   ]
  },
  {
   "source": [
    "### Continue testing values"
   ],
   "cell_type": "markdown",
   "metadata": {}
  },
  {
   "source": [
    "To return all possible pairs from a set of values in python, the itertools library can be used:"
   ],
   "cell_type": "markdown",
   "metadata": {}
  },
  {
   "cell_type": "code",
   "execution_count": 227,
   "metadata": {},
   "outputs": [
    {
     "output_type": "display_data",
     "data": {
      "text/plain": "⎛ 3           2            2⎞\n⎝x  - 2⋅x⋅y, x ⋅y + x - 2⋅y ⎠",
      "text/latex": "\\begin{equation}\\left( x^{3} - 2 x y, \\  x^{2} y + x - 2 y^{2}\\right)\\end{equation}"
     },
     "metadata": {}
    },
    {
     "output_type": "display_data",
     "data": {
      "text/plain": "⎛ 2            2    2⎞\n⎝x ⋅y + x - 2⋅y , -x ⎠",
      "text/latex": "\\begin{equation}\\left( x^{2} y + x - 2 y^{2}, \\  - x^{2}\\right)\\end{equation}"
     },
     "metadata": {}
    },
    {
     "output_type": "display_data",
     "data": {
      "text/plain": "⎛  2   3        ⎞\n⎝-x , x  - 2⋅x⋅y⎠",
      "text/latex": "\\begin{equation}\\left( - x^{2}, \\  x^{3} - 2 x y\\right)\\end{equation}"
     },
     "metadata": {}
    }
   ],
   "source": [
    "from itertools import tee\n",
    "\n",
    "\n",
    "\n",
    "def pairwise(iterable): # NOTE https://docs.python.org/3/library/itertools.html\n",
    "    \"s -> (s0,s1), (s1,s2), (s2, s3), ...\"\n",
    "    iterable.append(iterable[0]) # I have to add this on to make it work, it's not elegant but :shrug:\n",
    "    a, b = tee(iterable)\n",
    "    next(b, None)\n",
    "    return zip(a, b)\n",
    "\n",
    "\n",
    "list_of_vals = [1, 2, 3, 5, 7, 11, 13, 17, 19]\n",
    "for pair in pairwise(F):\n",
    "    display(pair)"
   ]
  },
  {
   "cell_type": "code",
   "execution_count": 260,
   "metadata": {},
   "outputs": [
    {
     "output_type": "stream",
     "name": "stdout",
     "text": [
      "Input Polynomials are:\n"
     ]
    },
    {
     "output_type": "display_data",
     "data": {
      "text/plain": " 3        \nx  - 2⋅x⋅y",
      "text/latex": "\\begin{equation}x^{3} - 2 x y\\end{equation}"
     },
     "metadata": {}
    },
    {
     "output_type": "display_data",
     "data": {
      "text/plain": " 2            2\nx ⋅y + x - 2⋅y ",
      "text/latex": "\\begin{equation}x^{2} y + x - 2 y^{2}\\end{equation}"
     },
     "metadata": {}
    },
    {
     "output_type": "stream",
     "name": "stdout",
     "text": [
      "Input Polynomials are:\n"
     ]
    },
    {
     "output_type": "display_data",
     "data": {
      "text/plain": " 2            2\nx ⋅y + x - 2⋅y ",
      "text/latex": "\\begin{equation}x^{2} y + x - 2 y^{2}\\end{equation}"
     },
     "metadata": {}
    },
    {
     "output_type": "display_data",
     "data": {
      "text/plain": "    2\n-2⋅x ",
      "text/latex": "\\begin{equation}- 2 x^{2}\\end{equation}"
     },
     "metadata": {}
    },
    {
     "output_type": "stream",
     "name": "stdout",
     "text": [
      "Input Polynomials are:\n"
     ]
    },
    {
     "output_type": "display_data",
     "data": {
      "text/plain": "    2\n-2⋅x ",
      "text/latex": "\\begin{equation}- 2 x^{2}\\end{equation}"
     },
     "metadata": {}
    },
    {
     "output_type": "display_data",
     "data": {
      "text/plain": "-6⋅x⋅y",
      "text/latex": "\\begin{equation}- 6 x y\\end{equation}"
     },
     "metadata": {}
    },
    {
     "output_type": "stream",
     "name": "stdout",
     "text": [
      "Input Polynomials are:\n"
     ]
    },
    {
     "output_type": "display_data",
     "data": {
      "text/plain": "-6⋅x⋅y",
      "text/latex": "\\begin{equation}- 6 x y\\end{equation}"
     },
     "metadata": {}
    },
    {
     "output_type": "display_data",
     "data": {
      "text/plain": "      2\n-6⋅x⋅y ",
      "text/latex": "\\begin{equation}- 6 x y^{2}\\end{equation}"
     },
     "metadata": {}
    },
    {
     "output_type": "stream",
     "name": "stdout",
     "text": [
      "Input Polynomials are:\n"
     ]
    },
    {
     "output_type": "display_data",
     "data": {
      "text/plain": "      2\n-6⋅x⋅y ",
      "text/latex": "\\begin{equation}- 6 x y^{2}\\end{equation}"
     },
     "metadata": {}
    },
    {
     "output_type": "display_data",
     "data": {
      "text/plain": " 3        \nx  - 2⋅x⋅y",
      "text/latex": "\\begin{equation}x^{3} - 2 x y\\end{equation}"
     },
     "metadata": {}
    },
    {
     "output_type": "stream",
     "name": "stdout",
     "text": [
      "Input Polynomials are:\n"
     ]
    },
    {
     "output_type": "display_data",
     "data": {
      "text/plain": " 3        \nx  - 2⋅x⋅y",
      "text/latex": "\\begin{equation}x^{3} - 2 x y\\end{equation}"
     },
     "metadata": {}
    },
    {
     "output_type": "display_data",
     "data": {
      "text/plain": "    2 \n-5⋅x  \n──────\n  6   ",
      "text/latex": "\\begin{equation}- \\frac{5 x^{2}}{6}\\end{equation}"
     },
     "metadata": {}
    },
    {
     "output_type": "stream",
     "name": "stdout",
     "text": [
      "Input Polynomials are:\n"
     ]
    },
    {
     "output_type": "display_data",
     "data": {
      "text/plain": "    2 \n-5⋅x  \n──────\n  6   ",
      "text/latex": "\\begin{equation}- \\frac{5 x^{2}}{6}\\end{equation}"
     },
     "metadata": {}
    },
    {
     "output_type": "display_data",
     "data": {
      "text/plain": "       2\nx - 2⋅y ",
      "text/latex": "\\begin{equation}x - 2 y^{2}\\end{equation}"
     },
     "metadata": {}
    },
    {
     "output_type": "stream",
     "name": "stdout",
     "text": [
      "Input Polynomials are:\n"
     ]
    },
    {
     "output_type": "display_data",
     "data": {
      "text/plain": "       2\nx - 2⋅y ",
      "text/latex": "\\begin{equation}x - 2 y^{2}\\end{equation}"
     },
     "metadata": {}
    },
    {
     "output_type": "display_data",
     "data": {
      "text/plain": "     3    5\n5⋅x⋅y    y \n────── + ──\n  4      2 ",
      "text/latex": "\\begin{equation}\\frac{5 x y^{3}}{4} + \\frac{y^{5}}{2}\\end{equation}"
     },
     "metadata": {}
    },
    {
     "output_type": "stream",
     "name": "stdout",
     "text": [
      "Input Polynomials are:\n"
     ]
    },
    {
     "output_type": "display_data",
     "data": {
      "text/plain": "     3    5\n5⋅x⋅y    y \n────── + ──\n  4      2 ",
      "text/latex": "\\begin{equation}\\frac{5 x y^{3}}{4} + \\frac{y^{5}}{2}\\end{equation}"
     },
     "metadata": {}
    },
    {
     "output_type": "display_data",
     "data": {
      "text/plain": "              3\n  14⋅x⋅y   4⋅y \n- ────── - ────\n    9       9  ",
      "text/latex": "\\begin{equation}- \\frac{14 x y}{9} - \\frac{4 y^{3}}{9}\\end{equation}"
     },
     "metadata": {}
    },
    {
     "output_type": "stream",
     "name": "stdout",
     "text": [
      "Input Polynomials are:\n"
     ]
    },
    {
     "output_type": "display_data",
     "data": {
      "text/plain": "              3\n  14⋅x⋅y   4⋅y \n- ────── - ────\n    9       9  ",
      "text/latex": "\\begin{equation}- \\frac{14 x y}{9} - \\frac{4 y^{3}}{9}\\end{equation}"
     },
     "metadata": {}
    },
    {
     "output_type": "display_data",
     "data": {
      "text/plain": "     2       4\n6⋅x⋅y    12⋅y \n────── + ─────\n  5        35 ",
      "text/latex": "\\begin{equation}\\frac{6 x y^{2}}{5} + \\frac{12 y^{4}}{35}\\end{equation}"
     },
     "metadata": {}
    },
    {
     "output_type": "stream",
     "name": "stdout",
     "text": [
      "Input Polynomials are:\n"
     ]
    },
    {
     "output_type": "display_data",
     "data": {
      "text/plain": "     2       4\n6⋅x⋅y    12⋅y \n────── + ─────\n  5        35 ",
      "text/latex": "\\begin{equation}\\frac{6 x y^{2}}{5} + \\frac{12 y^{4}}{35}\\end{equation}"
     },
     "metadata": {}
    },
    {
     "output_type": "display_data",
     "data": {
      "text/plain": "     5 \n-12⋅y  \n───────\n   5   ",
      "text/latex": "\\begin{equation}- \\frac{12 y^{5}}{5}\\end{equation}"
     },
     "metadata": {}
    },
    {
     "output_type": "stream",
     "name": "stdout",
     "text": [
      "Input Polynomials are:\n"
     ]
    },
    {
     "output_type": "display_data",
     "data": {
      "text/plain": "     5 \n-12⋅y  \n───────\n   5   ",
      "text/latex": "\\begin{equation}- \\frac{12 y^{5}}{5}\\end{equation}"
     },
     "metadata": {}
    },
    {
     "output_type": "display_data",
     "data": {
      "text/plain": "    5\n11⋅y \n─────\n 105 ",
      "text/latex": "\\begin{equation}\\frac{11 y^{5}}{105}\\end{equation}"
     },
     "metadata": {}
    },
    {
     "output_type": "stream",
     "name": "stdout",
     "text": [
      "Input Polynomials are:\n"
     ]
    },
    {
     "output_type": "display_data",
     "data": {
      "text/plain": "    5\n11⋅y \n─────\n 105 ",
      "text/latex": "\\begin{equation}\\frac{11 y^{5}}{105}\\end{equation}"
     },
     "metadata": {}
    },
    {
     "output_type": "display_data",
     "data": {
      "text/plain": "    7\n22⋅y \n─────\n  91 ",
      "text/latex": "\\begin{equation}\\frac{22 y^{7}}{91}\\end{equation}"
     },
     "metadata": {}
    },
    {
     "output_type": "display_data",
     "data": {
      "text/plain": " 3        \nx  - 2⋅x⋅y",
      "text/latex": "\\begin{equation}x^{3} - 2 x y\\end{equation}"
     },
     "metadata": {}
    },
    {
     "output_type": "display_data",
     "data": {
      "text/plain": " 2            2\nx ⋅y + x - 2⋅y ",
      "text/latex": "\\begin{equation}x^{2} y + x - 2 y^{2}\\end{equation}"
     },
     "metadata": {}
    },
    {
     "output_type": "display_data",
     "data": {
      "text/plain": "    2\n-2⋅x ",
      "text/latex": "\\begin{equation}- 2 x^{2}\\end{equation}"
     },
     "metadata": {}
    },
    {
     "output_type": "display_data",
     "data": {
      "text/plain": "-6⋅x⋅y",
      "text/latex": "\\begin{equation}- 6 x y\\end{equation}"
     },
     "metadata": {}
    },
    {
     "output_type": "display_data",
     "data": {
      "text/plain": "      2\n-6⋅x⋅y ",
      "text/latex": "\\begin{equation}- 6 x y^{2}\\end{equation}"
     },
     "metadata": {}
    },
    {
     "output_type": "display_data",
     "data": {
      "text/plain": " 3        \nx  - 2⋅x⋅y",
      "text/latex": "\\begin{equation}x^{3} - 2 x y\\end{equation}"
     },
     "metadata": {}
    },
    {
     "output_type": "display_data",
     "data": {
      "text/plain": "    2 \n-5⋅x  \n──────\n  6   ",
      "text/latex": "\\begin{equation}- \\frac{5 x^{2}}{6}\\end{equation}"
     },
     "metadata": {}
    },
    {
     "output_type": "display_data",
     "data": {
      "text/plain": "       2\nx - 2⋅y ",
      "text/latex": "\\begin{equation}x - 2 y^{2}\\end{equation}"
     },
     "metadata": {}
    },
    {
     "output_type": "display_data",
     "data": {
      "text/plain": "     3    5\n5⋅x⋅y    y \n────── + ──\n  4      2 ",
      "text/latex": "\\begin{equation}\\frac{5 x y^{3}}{4} + \\frac{y^{5}}{2}\\end{equation}"
     },
     "metadata": {}
    },
    {
     "output_type": "display_data",
     "data": {
      "text/plain": "              3\n  14⋅x⋅y   4⋅y \n- ────── - ────\n    9       9  ",
      "text/latex": "\\begin{equation}- \\frac{14 x y}{9} - \\frac{4 y^{3}}{9}\\end{equation}"
     },
     "metadata": {}
    },
    {
     "output_type": "display_data",
     "data": {
      "text/plain": "     2       4\n6⋅x⋅y    12⋅y \n────── + ─────\n  5        35 ",
      "text/latex": "\\begin{equation}\\frac{6 x y^{2}}{5} + \\frac{12 y^{4}}{35}\\end{equation}"
     },
     "metadata": {}
    },
    {
     "output_type": "display_data",
     "data": {
      "text/plain": "     5 \n-12⋅y  \n───────\n   5   ",
      "text/latex": "\\begin{equation}- \\frac{12 y^{5}}{5}\\end{equation}"
     },
     "metadata": {}
    },
    {
     "output_type": "display_data",
     "data": {
      "text/plain": "    5\n11⋅y \n─────\n 105 ",
      "text/latex": "\\begin{equation}\\frac{11 y^{5}}{105}\\end{equation}"
     },
     "metadata": {}
    },
    {
     "output_type": "display_data",
     "data": {
      "text/plain": "    7\n22⋅y \n─────\n  91 ",
      "text/latex": "\\begin{equation}\\frac{22 y^{7}}{91}\\end{equation}"
     },
     "metadata": {}
    }
   ],
   "source": [
    "\n",
    "# For every pair of polynomials in F\n",
    "for pair in pairwise(F):\n",
    "    s = s_polynomial(pair[0], pair[1])\n",
    "    # Calculate all the remainders\n",
    "    r_list = [ div(s, F[i])[1] for i in range(len(F)) ]\n",
    "    # Add the final remainder\n",
    "    r = sum(r_list)/len(r_list)\n",
    "\n",
    "    # If necessary add it back in\n",
    "    if r != 0:\n",
    "        F.append(r)\n",
    "# Print F, which should now be a Groebner Basis\n",
    "for poly in F:\n",
    "    display(poly)"
   ]
  },
  {
   "source": [
    "### Old Work"
   ],
   "cell_type": "markdown",
   "metadata": {}
  },
  {
   "cell_type": "code",
   "execution_count": 251,
   "metadata": {},
   "outputs": [],
   "source": [
    "def poly_prod(F):\n",
    "    product_val = 1\n",
    "    for poly in F:\n",
    "        product_val *= poly\n",
    "    return product_val"
   ]
  },
  {
   "cell_type": "code",
   "execution_count": 252,
   "metadata": {},
   "outputs": [],
   "source": [
    "def remainder_set_div(s, F):\n",
    "    r_list = [ div(s, F[i])[1] for i in range(len(F)) ]\n",
    "    r = sum(r_list)\n",
    "    return r\n"
   ]
  },
  {
   "cell_type": "code",
   "execution_count": 253,
   "metadata": {},
   "outputs": [],
   "source": [
    "def buchberger_criterion(f,g, F):\n",
    "    s = s_polynomial(f, g)\n",
    "    r = remainder_set_div(s, F)\n",
    "    return r"
   ]
  },
  {
   "cell_type": "code",
   "execution_count": 254,
   "metadata": {},
   "outputs": [],
   "source": [
    "r = buchberger_criterion(F[0], F[1], F)\n",
    "if r != 0:\n",
    "    F.append(r)\n"
   ]
  },
  {
   "cell_type": "code",
   "execution_count": 255,
   "metadata": {},
   "outputs": [
    {
     "output_type": "execute_result",
     "data": {
      "text/plain": [
       "⎡ 3           2            2      2⎤\n",
       "⎣x  - 2⋅x⋅y, x ⋅y + x - 2⋅y , -2⋅x ⎦"
      ],
      "text/latex": "\\begin{equation}\\left[ x^{3} - 2 x y, \\  x^{2} y + x - 2 y^{2}, \\  - 2 x^{2}\\right]\\end{equation}"
     },
     "metadata": {},
     "execution_count": 255
    }
   ],
   "source": [
    "F"
   ]
  },
  {
   "source": [
    "So we got back a remainder of $-x^2$, this isn't zero, so we throw it in the bag"
   ],
   "cell_type": "markdown",
   "metadata": {}
  },
  {
   "source": [
    "We haven't tried every combination, so onto the next one:"
   ],
   "cell_type": "markdown",
   "metadata": {}
  },
  {
   "cell_type": "code",
   "execution_count": 256,
   "metadata": {},
   "outputs": [],
   "source": [
    "r = buchberger_criterion(F[0], F[2], F)\n",
    "if r != 0:\n",
    "    F.append(r)\n"
   ]
  },
  {
   "cell_type": "code",
   "execution_count": 257,
   "metadata": {},
   "outputs": [
    {
     "output_type": "execute_result",
     "data": {
      "text/plain": [
       "⎡ 3           2            2      2        ⎤\n",
       "⎣x  - 2⋅x⋅y, x ⋅y + x - 2⋅y , -2⋅x , -6⋅x⋅y⎦"
      ],
      "text/latex": "\\begin{equation}\\left[ x^{3} - 2 x y, \\  x^{2} y + x - 2 y^{2}, \\  - 2 x^{2}, \\  - 6 x y\\right]\\end{equation}"
     },
     "metadata": {},
     "execution_count": 257
    }
   ],
   "source": [
    "F"
   ]
  },
  {
   "source": [
    "This gave a remainder of $-2xy$, so it goes in the bag"
   ],
   "cell_type": "markdown",
   "metadata": {}
  },
  {
   "source": [
    "Now we try the next combination $f_1$ and $f_4$"
   ],
   "cell_type": "markdown",
   "metadata": {}
  },
  {
   "cell_type": "code",
   "execution_count": 258,
   "metadata": {},
   "outputs": [
    {
     "output_type": "execute_result",
     "data": {
      "text/plain": [
       "⎡ 3           2            2      2                2⎤\n",
       "⎣x  - 2⋅x⋅y, x ⋅y + x - 2⋅y , -2⋅x , -6⋅x⋅y, -6⋅x⋅y ⎦"
      ],
      "text/latex": "\\begin{equation}\\left[ x^{3} - 2 x y, \\  x^{2} y + x - 2 y^{2}, \\  - 2 x^{2}, \\  - 6 x y, \\  - 6 x y^{2}\\right]\\end{equation}"
     },
     "metadata": {},
     "execution_count": 258
    }
   ],
   "source": [
    "r = buchberger_criterion(F[0], F[3], F)\n",
    "if r != 0:\n",
    "    F.append(r)\n",
    "F"
   ]
  },
  {
   "source": [
    "So the problem at this step is that diving by the product of F is not what we want"
   ],
   "cell_type": "markdown",
   "metadata": {}
  },
  {
   "cell_type": "code",
   "execution_count": 259,
   "metadata": {},
   "outputs": [
    {
     "output_type": "stream",
     "name": "stdout",
     "text": [
      "(0, -2*x*y**2)\n(0, -2*x*y**2)\n(y/3, 0)\n(1/3, 0)\n"
     ]
    }
   ],
   "source": [
    "print(div(-2*x*y**2, F[1]))\n",
    "print(div(-2*x*y**2, F[2]))\n",
    "print(div(-2*x*y**2, F[3]))\n",
    "print(div(-2*x*y**2, F[4]))"
   ]
  }
 ],
 "metadata": {
  "kernelspec": {
   "display_name": "Python 3",
   "language": "python",
   "name": "python3"
  },
  "language_info": {
   "codemirror_mode": {
    "name": "ipython",
    "version": 3
   },
   "file_extension": ".py",
   "mimetype": "text/x-python",
   "name": "python",
   "nbconvert_exporter": "python",
   "pygments_lexer": "ipython3",
   "version": "3.9.2"
  }
 },
 "nbformat": 4,
 "nbformat_minor": 5
}