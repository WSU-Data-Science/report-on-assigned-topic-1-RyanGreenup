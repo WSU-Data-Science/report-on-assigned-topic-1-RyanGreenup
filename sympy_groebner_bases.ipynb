{
 "cells": [
  {
   "cell_type": "markdown",
   "id": "occasional-appliance",
   "metadata": {},
   "source": [
    "# Buchbergers Algorithm"
   ]
  },
  {
   "cell_type": "markdown",
   "id": "regional-zealand",
   "metadata": {},
   "source": [
    "## Boiler Plate"
   ]
  },
  {
   "source": [
    "First load the Sympy module"
   ],
   "cell_type": "markdown",
   "metadata": {}
  },
  {
   "cell_type": "code",
   "execution_count": 389,
   "id": "northern-cancellation",
   "metadata": {},
   "outputs": [],
   "source": [
    "## Sympy Boiler Plate\n",
    "\n",
    "from __future__ import division\n",
    "from sympy import *\n",
    "x, y, z, t = symbols('x y z t')\n",
    "k, m, n = symbols('k m n', integer=True)\n",
    "f, g, h = symbols('f g h', cls=Function)\n",
    "init_printing()\n",
    "init_printing(use_latex='mathjax', latex_mode='equation')\n",
    "\n",
    "\n",
    "import pyperclip\n",
    "def lx(expr):\n",
    "    pyperclip.copy(latex(expr))\n",
    "    print(expr)\n",
    "\n",
    "import numpy as np\n",
    "import matplotlib as plt"
   ]
  },
  {
   "cell_type": "markdown",
   "id": "affiliated-dublin",
   "metadata": {},
   "source": [
    "## Terminology\n",
    "\n",
    "There are mutlidegree's, leading coefficients, leading monomials and leading terms."
   ]
  },
  {
   "cell_type": "code",
   "execution_count": 390,
   "metadata": {},
   "outputs": [],
   "source": [
    "def f(x, domain = 'QQ'):\n",
    "    return 2+3*x+5*y+7*x*y+11*x**2*y+13*x*y**2+17*x**2*y**2+19*x**2*y**2*z**2\n",
    "    # return 13*x**2+11*x-7\n",
    "def g(x, domain = 'QQ'):\n",
    "    return 2+3*x+5*y+7*x*y+11*x**2*y+13*x*y**2+17*x**2*y**2+19*x*y**2*z**2\n",
    "    # return 13*x**2+11*x-7\n"
   ]
  },
  {
   "cell_type": "code",
   "execution_count": 391,
   "metadata": {},
   "outputs": [
    {
     "output_type": "execute_result",
     "data": {
      "text/plain": [
       "    2  2       2           2  2         2                        \n",
       "17⋅x ⋅y  + 11⋅x ⋅y + 19⋅x⋅y ⋅z  + 13⋅x⋅y  + 7⋅x⋅y + 3⋅x + 5⋅y + 2"
      ],
      "text/latex": "\\begin{equation}17 x^{2} y^{2} + 11 x^{2} y + 19 x y^{2} z^{2} + 13 x y^{2} + 7 x y + 3 x + 5 y + 2\\end{equation}"
     },
     "metadata": {},
     "execution_count": 391
    }
   ],
   "source": [
    "g(x)"
   ]
  },
  {
   "cell_type": "code",
   "execution_count": 392,
   "metadata": {},
   "outputs": [
    {
     "output_type": "execute_result",
     "data": {
      "text/plain": [
       "    2  2  2       2  2       2           2                        \n",
       "19⋅x ⋅y ⋅z  + 17⋅x ⋅y  + 11⋅x ⋅y + 13⋅x⋅y  + 7⋅x⋅y + 3⋅x + 5⋅y + 2"
      ],
      "text/latex": "\\begin{equation}19 x^{2} y^{2} z^{2} + 17 x^{2} y^{2} + 11 x^{2} y + 13 x y^{2} + 7 x y + 3 x + 5 y + 2\\end{equation}"
     },
     "metadata": {},
     "execution_count": 392
    }
   ],
   "source": [
    "f(x)"
   ]
  },
  {
   "source": [
    "Notice how the order is lexical $\\uparrow$"
   ],
   "cell_type": "markdown",
   "metadata": {}
  },
  {
   "source": [
    "The **multidegree** is the largest power ocross all variables"
   ],
   "cell_type": "markdown",
   "metadata": {}
  },
  {
   "cell_type": "code",
   "execution_count": 393,
   "metadata": {},
   "outputs": [
    {
     "output_type": "execute_result",
     "data": {
      "text/plain": [
       "2"
      ],
      "text/latex": "\\begin{equation}2\\end{equation}"
     },
     "metadata": {},
     "execution_count": 393
    }
   ],
   "source": [
    "def multideg(polynomial):\n",
    "    return max(degree_list(polynomial))\n",
    "multideg(f(x))"
   ]
  },
  {
   "source": [
    "Occassionally this will be written as $\\left\\langle 2,2,2\\right\\rangle$"
   ],
   "cell_type": "markdown",
   "metadata": {}
  },
  {
   "source": [
    "The *Leading Coefficient* is the coefficient corresponding to the Leading Monomial"
   ],
   "cell_type": "markdown",
   "metadata": {}
  },
  {
   "cell_type": "code",
   "execution_count": 394,
   "metadata": {},
   "outputs": [
    {
     "output_type": "execute_result",
     "data": {
      "text/plain": [
       "19"
      ],
      "text/latex": "\\begin{equation}19\\end{equation}"
     },
     "metadata": {},
     "execution_count": 394
    }
   ],
   "source": [
    "LC(f(x))\n",
    "# Can also be used as a method\n",
    "# poly(f(x), domain = 'QQ').LC()"
   ]
  },
  {
   "source": [
    "The leading monomial is the corresponding monomial"
   ],
   "cell_type": "markdown",
   "metadata": {}
  },
  {
   "cell_type": "code",
   "execution_count": 395,
   "metadata": {},
   "outputs": [
    {
     "output_type": "execute_result",
     "data": {
      "text/plain": [
       " 2  2  2\n",
       "x ⋅y ⋅z "
      ],
      "text/latex": "\\begin{equation}x^{2} y^{2} z^{2}\\end{equation}"
     },
     "metadata": {},
     "execution_count": 395
    }
   ],
   "source": [
    "# Also known as the initial.\n",
    "LM(f(x))"
   ]
  },
  {
   "source": [
    "The leading term is the largest term, given the order"
   ],
   "cell_type": "markdown",
   "metadata": {}
  },
  {
   "cell_type": "code",
   "execution_count": 396,
   "metadata": {},
   "outputs": [
    {
     "output_type": "execute_result",
     "data": {
      "text/plain": [
       "    2  2  2\n",
       "19⋅x ⋅y ⋅z "
      ],
      "text/latex": "\\begin{equation}19 x^{2} y^{2} z^{2}\\end{equation}"
     },
     "metadata": {},
     "execution_count": 396
    }
   ],
   "source": [
    "LT(f(x))"
   ]
  },
  {
   "cell_type": "markdown",
   "id": "complicated-stopping",
   "metadata": {},
   "source": [
    "## S Polynomial"
   ]
  },
  {
   "source": [
    "The $S$-Polynomial is a polynomial used in Buchberger's Algorithm, given some polynomials:"
   ],
   "cell_type": "markdown",
   "metadata": {}
  },
  {
   "cell_type": "code",
   "execution_count": 397,
   "metadata": {},
   "outputs": [],
   "source": [
    "def f(x, y):\n",
    "    return x**3*y**2-x**2*y**3+x\n",
    "def g(x, y):\n",
    "    return 3*x**4*y+y**2\n",
    "\n",
    "f, g = f(x, y), g(x, y)    "
   ]
  },
  {
   "source": [
    "The Lowest Common Multiple of the leading monomials can be given by:"
   ],
   "cell_type": "markdown",
   "metadata": {}
  },
  {
   "cell_type": "code",
   "execution_count": 398,
   "metadata": {},
   "outputs": [],
   "source": [
    "from sympy.polys.monomials import monomial_mul, monomial_lcm, monomial_divides, term_div"
   ]
  },
  {
   "cell_type": "code",
   "execution_count": 399,
   "metadata": {},
   "outputs": [
    {
     "output_type": "execute_result",
     "data": {
      "text/plain": [
       " 4  2\n",
       "x ⋅y "
      ],
      "text/latex": "\\begin{equation}x^{4} y^{2}\\end{equation}"
     },
     "metadata": {},
     "execution_count": 399
    }
   ],
   "source": [
    "# https://docs.sympy.org/latest/modules/polys/basics.html\n",
    "LMf = LM(f)\n",
    "LMg = LM(g)\n",
    "# LCM12 = monomial_lcm(LMF, LMG) # This fails\n",
    "LCM12 = lcm(LMf, LMg)\n",
    "LCM12\n"
   ]
  },
  {
   "source": [
    "Then the $S$-polymial is given by:"
   ],
   "cell_type": "markdown",
   "metadata": {}
  },
  {
   "cell_type": "code",
   "execution_count": 400,
   "metadata": {},
   "outputs": [
    {
     "output_type": "execute_result",
     "data": {
      "text/plain": [
       "                3\n",
       "   3  3    2   y \n",
       "- x ⋅y  + x  - ──\n",
       "               3 "
      ],
      "text/latex": "\\begin{equation}- x^{3} y^{3} + x^{2} - \\frac{y^{3}}{3}\\end{equation}"
     },
     "metadata": {},
     "execution_count": 400
    }
   ],
   "source": [
    "def s_polynomial(f, g):\n",
    "    LCM_fg = lcm(LM(f), LM(g))\n",
    "    s = LCM_fg*(f/LT(f)-g/LT(g))\n",
    "    return s.expand()\n",
    "s=s_polynomial(f, g)\n",
    "s"
   ]
  },
  {
   "source": [
    "This can be used to determine if a polynomial belongs to a Groebner Bases ($G$) or not, this is known as Buchberger's Criterion. If the remainder of the S polynomial divided by all elements of $F$ is 0, the pair belongs in $G$, if not, the remainder belongs in $G$."
   ],
   "cell_type": "markdown",
   "metadata": {}
  },
  {
   "source": [
    "consider the set of functions:"
   ],
   "cell_type": "markdown",
   "metadata": {}
  },
  {
   "cell_type": "code",
   "execution_count": 401,
   "metadata": {},
   "outputs": [
    {
     "output_type": "execute_result",
     "data": {
      "text/plain": [
       "⎡          2        ⎤\n",
       "⎣2⋅x - y, x  - y - 1⎦"
      ],
      "text/latex": "\\begin{equation}\\left[ 2 x - y, \\  x^{2} - y - 1\\right]\\end{equation}"
     },
     "metadata": {},
     "execution_count": 401
    }
   ],
   "source": [
    "F = [2*x-y, x**2-1-y]\n",
    "F"
   ]
  },
  {
   "source": [
    "To determine if this is a Groebner Basis:"
   ],
   "cell_type": "markdown",
   "metadata": {}
  },
  {
   "cell_type": "code",
   "execution_count": 402,
   "metadata": {},
   "outputs": [
    {
     "output_type": "execute_result",
     "data": {
      "text/plain": [
       "  x⋅y        \n",
       "- ─── + y + 1\n",
       "   2         "
      ],
      "text/latex": "\\begin{equation}- \\frac{x y}{2} + y + 1\\end{equation}"
     },
     "metadata": {},
     "execution_count": 402
    }
   ],
   "source": [
    "s=s_polynomial(F[0], F[1])\n",
    "s"
   ]
  },
  {
   "cell_type": "code",
   "execution_count": 403,
   "metadata": {},
   "outputs": [
    {
     "output_type": "execute_result",
     "data": {
      "text/plain": [
       "  x⋅y        \n",
       "- ─── + y + 1\n",
       "   2         "
      ],
      "text/latex": "\\begin{equation}- \\frac{x y}{2} + y + 1\\end{equation}"
     },
     "metadata": {},
     "execution_count": 403
    }
   ],
   "source": [
    "q,r = div(s,f*g)\n",
    "r"
   ]
  },
  {
   "source": [
    "This is non-zero and so this should be added back to $F$, however we should be more careful to calculate the remainder appropriately:"
   ],
   "cell_type": "markdown",
   "metadata": {}
  },
  {
   "cell_type": "code",
   "execution_count": 404,
   "metadata": {},
   "outputs": [
    {
     "output_type": "stream",
     "name": "stdout",
     "text": [
      "(-y/4, -y**2/4 + y + 1)\n(0, -x*y/2 + y + 1)\n"
     ]
    }
   ],
   "source": [
    "print(div(s, F[0]))\n",
    "print(div(s, F[1]))"
   ]
  },
  {
   "source": [
    "This implies that:\n",
    "\n",
    "$$\n",
    "-\\frac{xy}{2}+y+1 = -\\frac{y}{4} (2x-y) + 0 (x^2-y-1) + (-\\frac{y^2}{4} +y + 1 - \\frac{xy}{2} + y + 1)\n",
    "$$"
   ],
   "cell_type": "markdown",
   "metadata": {}
  },
  {
   "source": [
    "So to calculate the remainder more robustly:"
   ],
   "cell_type": "markdown",
   "metadata": {}
  },
  {
   "cell_type": "code",
   "execution_count": 405,
   "metadata": {},
   "outputs": [
    {
     "output_type": "execute_result",
     "data": {
      "text/plain": [
       "         2          \n",
       "  x⋅y   y           \n",
       "- ─── - ── + 2⋅y + 2\n",
       "   2    4           "
      ],
      "text/latex": "\\begin{equation}- \\frac{x y}{2} - \\frac{y^{2}}{4} + 2 y + 2\\end{equation}"
     },
     "metadata": {},
     "execution_count": 405
    }
   ],
   "source": [
    "r_list = [ div(s, F[i])[1] for i in range(len(F)) ]\n",
    "r = sum(r_list)\n",
    "r"
   ]
  },
  {
   "source": [
    "And adding that back in:"
   ],
   "cell_type": "markdown",
   "metadata": {}
  },
  {
   "cell_type": "code",
   "execution_count": 406,
   "metadata": {},
   "outputs": [],
   "source": [
    "F.append(r)"
   ]
  },
  {
   "source": [
    "Now the Remainder can be calculated again for $f_1$ and $f_3$"
   ],
   "cell_type": "markdown",
   "metadata": {}
  },
  {
   "cell_type": "code",
   "execution_count": 407,
   "metadata": {},
   "outputs": [
    {
     "output_type": "execute_result",
     "data": {
      "text/plain": [
       "   2          \n",
       "- y  + 4⋅y + 4"
      ],
      "text/latex": "\\begin{equation}- y^{2} + 4 y + 4\\end{equation}"
     },
     "metadata": {},
     "execution_count": 407
    }
   ],
   "source": [
    "s=s_polynomial(F[0], F[2])\n",
    "q,r = div(s,f*g)\n",
    "r"
   ]
  },
  {
   "source": [
    "As this is non-zero it should be added back in"
   ],
   "cell_type": "markdown",
   "metadata": {}
  },
  {
   "cell_type": "code",
   "execution_count": 408,
   "metadata": {},
   "outputs": [
    {
     "output_type": "execute_result",
     "data": {
      "text/plain": [
       "⎡                              2                          ⎤\n",
       "⎢          2            x⋅y   y                2          ⎥\n",
       "⎢2⋅x - y, x  - y - 1, - ─── - ── + 2⋅y + 2, - y  + 4⋅y + 4⎥\n",
       "⎣                        2    4                           ⎦"
      ],
      "text/latex": "\\begin{equation}\\left[ 2 x - y, \\  x^{2} - y - 1, \\  - \\frac{x y}{2} - \\frac{y^{2}}{4} + 2 y + 2, \\  - y^{2} + 4 y + 4\\right]\\end{equation}"
     },
     "metadata": {},
     "execution_count": 408
    }
   ],
   "source": [
    "F.append(r)\n",
    "F"
   ]
  },
  {
   "source": [
    "Now comparing $f_1$ and $f_4$"
   ],
   "cell_type": "markdown",
   "metadata": {}
  },
  {
   "cell_type": "code",
   "execution_count": 409,
   "metadata": {},
   "outputs": [
    {
     "output_type": "stream",
     "name": "stdout",
     "text": [
      "[2*x - y, x**2 - y - 1, -x*y/2 - y**2/4 + 2*y + 2, -y**2 + 4*y + 4, 4*x*y + 4*x - y**3/2]\n"
     ]
    }
   ],
   "source": [
    "s=s_polynomial(F[0], F[3])\n",
    "q,r = div(s,f*g)\n",
    "if r!=0:\n",
    "    F.append(r)\n",
    "    print(F)\n",
    "else:\n",
    "    print(\"This pair is a Groebner Basis\")"
   ]
  },
  {
   "source": [
    "Now comparing $f_1$ and $f_5$"
   ],
   "cell_type": "markdown",
   "metadata": {}
  },
  {
   "cell_type": "code",
   "execution_count": 410,
   "metadata": {},
   "outputs": [
    {
     "output_type": "stream",
     "name": "stdout",
     "text": [
      "[2*x - y, x**2 - y - 1, -x*y/2 - y**2/4 + 2*y + 2, -y**2 + 4*y + 4, 4*x*y + 4*x - y**3/2, -x + y**3/8 - y**2/2]\n"
     ]
    }
   ],
   "source": [
    "s=s_polynomial(F[0], F[4])\n",
    "q,r = div(s,f*g)\n",
    "r\n",
    "if r!=0:\n",
    "    F.append(r)\n",
    "    print(F)\n",
    "else:\n",
    "    print(\"This pair is a Groebner Basis\")"
   ]
  },
  {
   "source": [
    "Hmmm, this doesn't seem to be terminating, I'm going to have to put more research into this."
   ],
   "cell_type": "markdown",
   "metadata": {}
  },
  {
   "cell_type": "code",
   "execution_count": 411,
   "metadata": {},
   "outputs": [],
   "source": [
    "f = x**3-2*x*y\n",
    "g = x**2*y+x-2*y**2\n",
    "F = [f, g]"
   ]
  },
  {
   "cell_type": "code",
   "execution_count": 412,
   "metadata": {},
   "outputs": [],
   "source": [
    "def poly_prod(F):\n",
    "    product_val = 1\n",
    "    for poly in F:\n",
    "        product_val *= poly\n",
    "    return product_val"
   ]
  },
  {
   "cell_type": "code",
   "execution_count": 413,
   "metadata": {},
   "outputs": [],
   "source": [
    "def remainder_set_div(s, F):\n",
    "    r_list = [ div(s, F[i])[1] for i in range(len(F)) ]\n",
    "    r = sum(r_list)\n",
    "    return r\n"
   ]
  },
  {
   "cell_type": "code",
   "execution_count": 414,
   "metadata": {},
   "outputs": [],
   "source": [
    "def buchberger_criterion(f,g, F):\n",
    "    s = s_polynomial(f, g)\n",
    "    r = remainder_set_div(s, F)\n",
    "    return r"
   ]
  },
  {
   "cell_type": "code",
   "execution_count": 415,
   "metadata": {},
   "outputs": [],
   "source": [
    "r = buchberger_criterion(F[0], F[1], F)\n",
    "if r != 0:\n",
    "    F.append(r)\n"
   ]
  },
  {
   "cell_type": "code",
   "execution_count": 416,
   "metadata": {},
   "outputs": [
    {
     "output_type": "execute_result",
     "data": {
      "text/plain": [
       "⎡ 3           2            2      2⎤\n",
       "⎣x  - 2⋅x⋅y, x ⋅y + x - 2⋅y , -2⋅x ⎦"
      ],
      "text/latex": "\\begin{equation}\\left[ x^{3} - 2 x y, \\  x^{2} y + x - 2 y^{2}, \\  - 2 x^{2}\\right]\\end{equation}"
     },
     "metadata": {},
     "execution_count": 416
    }
   ],
   "source": [
    "F"
   ]
  },
  {
   "source": [
    "So we got back a remainder of $-x^2$, this isn't zero, so we throw it in the bag"
   ],
   "cell_type": "markdown",
   "metadata": {}
  },
  {
   "source": [
    "We haven't tried every combination, so onto the next one:"
   ],
   "cell_type": "markdown",
   "metadata": {}
  },
  {
   "cell_type": "code",
   "execution_count": 417,
   "metadata": {},
   "outputs": [],
   "source": [
    "r = buchberger_criterion(F[0], F[2], F)\n",
    "if r != 0:\n",
    "    F.append(r)\n"
   ]
  },
  {
   "cell_type": "code",
   "execution_count": 418,
   "metadata": {},
   "outputs": [
    {
     "output_type": "execute_result",
     "data": {
      "text/plain": [
       "⎡ 3           2            2      2        ⎤\n",
       "⎣x  - 2⋅x⋅y, x ⋅y + x - 2⋅y , -2⋅x , -6⋅x⋅y⎦"
      ],
      "text/latex": "\\begin{equation}\\left[ x^{3} - 2 x y, \\  x^{2} y + x - 2 y^{2}, \\  - 2 x^{2}, \\  - 6 x y\\right]\\end{equation}"
     },
     "metadata": {},
     "execution_count": 418
    }
   ],
   "source": [
    "F"
   ]
  },
  {
   "source": [
    "This gave a remainder of $-2xy$, so it goes in the bag"
   ],
   "cell_type": "markdown",
   "metadata": {}
  },
  {
   "source": [
    "Now we try the next combination $f_1$ and $f_4$"
   ],
   "cell_type": "markdown",
   "metadata": {}
  },
  {
   "cell_type": "code",
   "execution_count": 419,
   "metadata": {},
   "outputs": [
    {
     "output_type": "execute_result",
     "data": {
      "text/plain": [
       "⎡ 3           2            2      2                2⎤\n",
       "⎣x  - 2⋅x⋅y, x ⋅y + x - 2⋅y , -2⋅x , -6⋅x⋅y, -6⋅x⋅y ⎦"
      ],
      "text/latex": "\\begin{equation}\\left[ x^{3} - 2 x y, \\  x^{2} y + x - 2 y^{2}, \\  - 2 x^{2}, \\  - 6 x y, \\  - 6 x y^{2}\\right]\\end{equation}"
     },
     "metadata": {},
     "execution_count": 419
    }
   ],
   "source": [
    "r = buchberger_criterion(F[0], F[3], F)\n",
    "if r != 0:\n",
    "    F.append(r)\n",
    "F"
   ]
  },
  {
   "source": [
    "So the problem at this step is that diving by the product of F is not what we want"
   ],
   "cell_type": "markdown",
   "metadata": {}
  },
  {
   "cell_type": "code",
   "execution_count": 421,
   "metadata": {},
   "outputs": [
    {
     "output_type": "stream",
     "name": "stdout",
     "text": [
      "(0, -2*x*y**2)\n(0, -2*x*y**2)\n(y/3, 0)\n(1/3, 0)\n"
     ]
    }
   ],
   "source": [
    "print(div(-2*x*y**2, F[1]))\n",
    "print(div(-2*x*y**2, F[2]))\n",
    "print(div(-2*x*y**2, F[3]))\n",
    "print(div(-2*x*y**2, F[4]))"
   ]
  }
 ],
 "metadata": {
  "kernelspec": {
   "display_name": "Python 3",
   "language": "python",
   "name": "python3"
  },
  "language_info": {
   "codemirror_mode": {
    "name": "ipython",
    "version": 3
   },
   "file_extension": ".py",
   "mimetype": "text/x-python",
   "name": "python",
   "nbconvert_exporter": "python",
   "pygments_lexer": "ipython3",
   "version": "3.9.2"
  }
 },
 "nbformat": 4,
 "nbformat_minor": 5
}