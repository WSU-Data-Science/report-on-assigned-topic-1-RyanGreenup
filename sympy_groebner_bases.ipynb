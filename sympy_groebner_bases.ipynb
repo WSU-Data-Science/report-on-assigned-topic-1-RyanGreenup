{
 "cells": [
  {
   "cell_type": "markdown",
   "id": "occasional-appliance",
   "metadata": {},
   "source": [
    "# Buchbergers Algorithm"
   ]
  },
  {
   "cell_type": "markdown",
   "id": "regional-zealand",
   "metadata": {},
   "source": [
    "## Boiler Plate"
   ]
  },
  {
   "source": [
    "First load the Sympy module"
   ],
   "cell_type": "markdown",
   "metadata": {}
  },
  {
   "cell_type": "code",
   "execution_count": 317,
   "id": "northern-cancellation",
   "metadata": {},
   "outputs": [],
   "source": [
    "## Sympy Boiler Plate\n",
    "\n",
    "from __future__ import division\n",
    "from sympy import *\n",
    "t, x, y, z = symbols('t x y z')  # I believe this order matters, i.e. t<-x1, x <- x2, y <- x3 ...\n",
    "k, m, n = symbols('k m n', integer=True)\n",
    "f, g, h = symbols('f g h', cls=Function)\n",
    "init_printing()\n",
    "init_printing(use_latex='mathjax', latex_mode='equation')\n",
    "\n",
    "\n",
    "\n",
    "import pyperclip\n",
    "def lx(expr):\n",
    "    pyperclip.copy(latex(expr))\n",
    "    print(expr)\n",
    "# NB: See also srepr(), display() and print_mathml()\n",
    "\n",
    "import numpy as np\n",
    "import matplotlib as plt"
   ]
  },
  {
   "cell_type": "markdown",
   "id": "affiliated-dublin",
   "metadata": {},
   "source": [
    "## Terminology\n",
    "\n",
    "There are mutlidegree's, leading coefficients, leading monomials and leading terms."
   ]
  },
  {
   "cell_type": "code",
   "execution_count": 318,
   "metadata": {},
   "outputs": [],
   "source": [
    "def f(x, domain = 'QQ'):\n",
    "    return 2+3*x+5*y+7*x*y+11*x**2*y+13*x*y**2+17*x**2*y**2+19*x**2*y**2*z**2\n",
    "    # return 13*x**2+11*x-7\n",
    "def g(x, domain = 'QQ'):\n",
    "    return 2+3*x+5*y+7*x*y+11*x**2*y+13*x*y**2+17*x**2*y**2+19*x*y**2*z**2\n",
    "    # return 13*x**2+11*x-7\n"
   ]
  },
  {
   "cell_type": "code",
   "execution_count": 319,
   "metadata": {},
   "outputs": [
    {
     "output_type": "stream",
     "name": "stdout",
     "text": [
      "Leading Monomial:\n"
     ]
    },
    {
     "output_type": "display_data",
     "data": {
      "text/plain": " 2  2  2\nx ⋅y ⋅z ",
      "text/latex": "\\begin{equation}x^{2} y^{2} z^{2}\\end{equation}"
     },
     "metadata": {}
    },
    {
     "output_type": "stream",
     "name": "stdout",
     "text": [
      "Leading Coefficient\n"
     ]
    },
    {
     "output_type": "display_data",
     "data": {
      "text/plain": "19",
      "text/latex": "\\begin{equation}19\\end{equation}"
     },
     "metadata": {}
    },
    {
     "output_type": "stream",
     "name": "stdout",
     "text": [
      "Leading Term\n"
     ]
    },
    {
     "output_type": "display_data",
     "data": {
      "text/plain": "    2  2  2\n19⋅x ⋅y ⋅z ",
      "text/latex": "\\begin{equation}19 x^{2} y^{2} z^{2}\\end{equation}"
     },
     "metadata": {}
    }
   ],
   "source": [
    "print(\"Leading Monomial:\")\n",
    "display(LM(f(x)))\n",
    "\n",
    "print(\"Leading Coefficient\")\n",
    "display(LC(f(x)))\n",
    "\n",
    "print(\"Leading Term\")\n",
    "display(LT(f(x)))"
   ]
  },
  {
   "source": [
    "The initial monomial with respect to an ordering is the first monomial returned by `sympy`, I believe that sympy uses lexicographic ordering under the hood, as suggested by the documentation [^spdocsPolySysRef], but I'd need to get a better understanding of the differences between `lex`, `grlex` and `grevlex` to be certain.\n",
    "\n",
    "\n",
    "[^spdocsPolySysRef]: SymPy Development Team. “Polynomials Manipulation Module Reference — SymPy 1.8 Documentation.” Sympy Documentation. Accessed April 13, 2021. https://docs.sympy.org/latest/modules/polys/reference.html."
   ],
   "cell_type": "markdown",
   "metadata": {}
  },
  {
   "cell_type": "code",
   "execution_count": 320,
   "metadata": {},
   "outputs": [
    {
     "output_type": "execute_result",
     "data": {
      "text/plain": [
       "    2  2  2       2  2       2           2                        \n",
       "19⋅x ⋅y ⋅z  + 17⋅x ⋅y  + 11⋅x ⋅y + 13⋅x⋅y  + 7⋅x⋅y + 3⋅x + 5⋅y + 2"
      ],
      "text/latex": "\\begin{equation}19 x^{2} y^{2} z^{2} + 17 x^{2} y^{2} + 11 x^{2} y + 13 x y^{2} + 7 x y + 3 x + 5 y + 2\\end{equation}"
     },
     "metadata": {},
     "execution_count": 320
    }
   ],
   "source": [
    "f(x)"
   ]
  },
  {
   "source": [
    "In this case, the first monomial is $x^2y^2z^2$ and so that is the initial. In practice we can just use the `LT`, the initial is just another way to skin the cat, which is probably why sympy doesn't offer a clear way to extract the initial. [^initVlt].\n",
    "\n",
    "\n",
    "[^initVlt]: If it was necessary to get the initial one option might be to extract the polynomial to a string `str(f(x))` and then use regex `^[A-Za-z0-9*]+(?=[\\ +])` to extract the first term and then take the `LM` of that term to get the initial monomial."
   ],
   "cell_type": "markdown",
   "metadata": {}
  },
  {
   "cell_type": "code",
   "execution_count": 321,
   "metadata": {},
   "outputs": [
    {
     "output_type": "execute_result",
     "data": {
      "text/plain": [
       "    2  2  2       2  2       2           2                        \n",
       "19⋅x ⋅y ⋅z  + 17⋅x ⋅y  + 11⋅x ⋅y + 13⋅x⋅y  + 7⋅x⋅y + 3⋅x + 5⋅y + 2"
      ],
      "text/latex": "\\begin{equation}19 x^{2} y^{2} z^{2} + 17 x^{2} y^{2} + 11 x^{2} y + 13 x y^{2} + 7 x y + 3 x + 5 y + 2\\end{equation}"
     },
     "metadata": {},
     "execution_count": 321
    }
   ],
   "source": [
    "f(x)"
   ]
  },
  {
   "cell_type": "code",
   "execution_count": 322,
   "metadata": {},
   "outputs": [
    {
     "output_type": "execute_result",
     "data": {
      "text/plain": [
       "    2  2       2           2  2         2                        \n",
       "17⋅x ⋅y  + 11⋅x ⋅y + 19⋅x⋅y ⋅z  + 13⋅x⋅y  + 7⋅x⋅y + 3⋅x + 5⋅y + 2"
      ],
      "text/latex": "\\begin{equation}17 x^{2} y^{2} + 11 x^{2} y + 19 x y^{2} z^{2} + 13 x y^{2} + 7 x y + 3 x + 5 y + 2\\end{equation}"
     },
     "metadata": {},
     "execution_count": 322
    }
   ],
   "source": [
    "g(x)"
   ]
  },
  {
   "source": [
    "## Implementing the Algorithm"
   ],
   "cell_type": "markdown",
   "metadata": {}
  },
  {
   "source": [
    "### Set of Polynomials"
   ],
   "cell_type": "markdown",
   "metadata": {}
  },
  {
   "source": [
    "To begin with, we'll implement buchberger's algorithm on a simple polynomial system, the reason for this choice is to see the implementation of the algorithm generally, a *simple* system such as a linear or single variable system, may be more confusing at first, but will be returned to later in order to draw insights."
   ],
   "cell_type": "markdown",
   "metadata": {}
  },
  {
   "source": [
    "So we have our bag of polynomials:"
   ],
   "cell_type": "markdown",
   "metadata": {}
  },
  {
   "cell_type": "code",
   "execution_count": 323,
   "metadata": {},
   "outputs": [
    {
     "output_type": "display_data",
     "data": {
      "text/plain": " 3        \nx  - 2⋅x⋅y",
      "text/latex": "\\begin{equation}x^{3} - 2 x y\\end{equation}"
     },
     "metadata": {}
    },
    {
     "output_type": "display_data",
     "data": {
      "text/plain": " 2            2\nx ⋅y + x - 2⋅y ",
      "text/latex": "\\begin{equation}x^{2} y + x - 2 y^{2}\\end{equation}"
     },
     "metadata": {}
    }
   ],
   "source": [
    "F = [x**3-2*x*y, x**2*y-2*y**2 + x]\n",
    "for poly in F:\n",
    "    display(poly)"
   ]
  },
  {
   "source": [
    "These polynomials are equal to zero and so could also be expressed:"
   ],
   "cell_type": "markdown",
   "metadata": {}
  },
  {
   "source": [
    "\\begin{align}\n",
    "x^3 &= 2xy \\\\\n",
    "  x &=2y^2-x^2y    \n",
    "\\end{align}"
   ],
   "cell_type": "markdown",
   "metadata": {}
  },
  {
   "source": [
    "Now we want our algorithm to give us back:"
   ],
   "cell_type": "markdown",
   "metadata": {}
  },
  {
   "cell_type": "code",
   "execution_count": 324,
   "metadata": {},
   "outputs": [
    {
     "output_type": "execute_result",
     "data": {
      "text/plain": [
       "             ⎛⎡       2   3⎤                           ⎞\n",
       "GroebnerBasis⎝⎣x - 2⋅y , y ⎦, x, y, domain=ℤ, order=lex⎠"
      ],
      "text/latex": "\\begin{equation}GroebnerBasis\\left(\\left( x - 2 y^{2}, \\  y^{3}\\right), \\left( x, \\  y\\right)\\right)\\end{equation}"
     },
     "metadata": {},
     "execution_count": 324
    }
   ],
   "source": [
    "G_out = polys.polytools.groebner(F, x, y, order = 'lex', method = 'buchberger')\n",
    "G_out\n"
   ]
  },
  {
   "source": [
    "Note that the 2nd tupple $\\left(x, y\\right)$ that is printed out refers to the variables, the first tupple is the reduced Groebner Basis, a clearer way to display it would be as a list:"
   ],
   "cell_type": "markdown",
   "metadata": {}
  },
  {
   "cell_type": "code",
   "execution_count": 325,
   "metadata": {},
   "outputs": [
    {
     "output_type": "display_data",
     "data": {
      "text/plain": "⎡       2   3⎤\n⎣x - 2⋅y , y ⎦",
      "text/latex": "\\begin{equation}\\left[ x - 2 y^{2}, \\  y^{3}\\right]\\end{equation}"
     },
     "metadata": {}
    }
   ],
   "source": [
    "\n",
    "G = []\n",
    "for poly in G_out:\n",
    "    G.append(poly)\n",
    "\n",
    "display(G)\n"
   ]
  },
  {
   "source": [
    "and so overall we have:"
   ],
   "cell_type": "markdown",
   "metadata": {}
  },
  {
   "source": [
    "$$\n",
    "\\begin{array}{rcl}\n",
    "x^{3} & = & 2xy\\\\\n",
    "x & = & 2y^{2}-x^{2}y\n",
    "\\end{array}\\implies\\begin{array}{rcl}\n",
    "y^{2} & = & \\frac{1}{2}x\\\\\n",
    "y^{3} & = & 0\n",
    "\\end{array}\n",
    "$$"
   ],
   "cell_type": "markdown",
   "metadata": {}
  },
  {
   "source": [
    "\\begin{align}\n",
    "y^2 &= \\frac{1}{2}x \\\\\n",
    "y^3 &= 0\n",
    "\\end{align}    "
   ],
   "cell_type": "markdown",
   "metadata": {}
  },
  {
   "source": [
    "## S-Polynomial"
   ],
   "cell_type": "markdown",
   "metadata": {}
  },
  {
   "source": [
    "The $S$-Polynomial used to determine whether or not two polynomials belong in the Groebner Basis and it is given by:\n",
    "\n",
    "$$\n",
    "S=\\mathrm{LCM}\\left(\\mathrm{LM}\\left(f\\right),\\mathrm{LM}\\left(g\\right)\\right)\\times\\left(\\frac{f}{\\mathrm{LT}\\left(f\\right)}-\\frac{g}{\\mathrm{LT}\\left(g\\right)}\\right)\n",
    "$$"
   ],
   "cell_type": "markdown",
   "metadata": {}
  },
  {
   "source": [
    "Sympy comes with a function to determine the LCM of polynomials:\n",
    "\n"
   ],
   "cell_type": "markdown",
   "metadata": {}
  },
  {
   "cell_type": "code",
   "execution_count": 326,
   "metadata": {},
   "outputs": [
    {
     "output_type": "execute_result",
     "data": {
      "text/plain": [
       " 3  \n",
       "x ⋅y"
      ],
      "text/latex": "\\begin{equation}x^{3} y\\end{equation}"
     },
     "metadata": {},
     "execution_count": 326
    }
   ],
   "source": [
    "from sympy.polys.monomials import monomial_mul, monomial_lcm, monomial_divides, term_div\n",
    "# https://docs.sympy.org/latest/modules/polys/basics.html\n",
    "LMf = LM(F[0])\n",
    "LMg = LM(F[1])\n",
    "# LCM12 = monomial_lcm(LMF, LMG) # This fails\n",
    "LCM12 = lcm(LMf, LMg)\n",
    "LCM12\n"
   ]
  },
  {
   "source": [
    "and the $s$-polynomial can hence be calculated thusly:"
   ],
   "cell_type": "markdown",
   "metadata": {}
  },
  {
   "cell_type": "code",
   "execution_count": 327,
   "metadata": {},
   "outputs": [
    {
     "output_type": "execute_result",
     "data": {
      "text/plain": [
       "  2\n",
       "-x "
      ],
      "text/latex": "\\begin{equation}- x^{2}\\end{equation}"
     },
     "metadata": {},
     "execution_count": 327
    }
   ],
   "source": [
    "def s_polynomial(f, g):\n",
    "    LCM_fg = lcm(LM(f), LM(g))\n",
    "    s = LCM_fg*(f/LT(f)-g/LT(g))\n",
    "    return s.expand()\n",
    "s=s_polynomial(F[0], F[1])\n",
    "s"
   ]
  },
  {
   "source": [
    "Now we need to divide this $s$ value by all the terms in $F$, write it out in terms of quotients and divisors and then consider the remainder, so for example:"
   ],
   "cell_type": "markdown",
   "metadata": {}
  },
  {
   "cell_type": "code",
   "execution_count": 328,
   "metadata": {},
   "outputs": [
    {
     "output_type": "display_data",
     "data": {
      "text/plain": "⎛     2⎞\n⎝0, -x ⎠",
      "text/latex": "\\begin{equation}\\left( 0, \\  - x^{2}\\right)\\end{equation}"
     },
     "metadata": {}
    },
    {
     "output_type": "display_data",
     "data": {
      "text/plain": "⎛     2⎞\n⎝0, -x ⎠",
      "text/latex": "\\begin{equation}\\left( 0, \\  - x^{2}\\right)\\end{equation}"
     },
     "metadata": {}
    }
   ],
   "source": [
    "display(div(s, F[0]))\n",
    "display(div(s, F[1]))"
   ]
  },
  {
   "source": [
    "\\begin{align*}\n",
    " & -x^{2} & = & 0\\left(2xy\\right) & -x^{2}\\\\\n",
    "+ &  & =\\\\\n",
    " & -x^{2} & = & 0\\left(2y^{2}-x^{2}y\\right) & -x^{2}\\\\\n",
    "\\hline  & -2x^{2} & = & 0\\left(2xy\\right)+0\\left(2y^{2}-x^{2}y\\right) & -2x^{2}\\\\\n",
    "\\implies & r & = & \\mathrm{mean}\\left(r\\in R\\right)\n",
    "\\end{align*}\n"
   ],
   "cell_type": "markdown",
   "metadata": {}
  },
  {
   "source": [
    "And so this remainder value can be calculated, in `sympy`, like so:"
   ],
   "cell_type": "markdown",
   "metadata": {}
  },
  {
   "cell_type": "code",
   "execution_count": 329,
   "metadata": {},
   "outputs": [
    {
     "output_type": "execute_result",
     "data": {
      "text/plain": [
       "  2\n",
       "-x "
      ],
      "text/latex": "\\begin{equation}- x^{2}\\end{equation}"
     },
     "metadata": {},
     "execution_count": 329
    }
   ],
   "source": [
    " def remainder_set_division(s, F):\n",
    "    \"\"\"\n",
    "    return remainder value after dividing s by all terms in F,\n",
    "    For use in BuchBerger's Algorithm using an S-polynomial against the\n",
    "    collection of polynomials\n",
    "\n",
    "    Args:\n",
    "        s (sympy): A sympy polynomial, typically an S-polynomial for \n",
    "        F (list, of sympy): The list of polynomials of concern\n",
    "    \"\"\"    \n",
    "    r_list = [ div(s, F[i])[1] for i in range(len(F)) ]\n",
    "    r = sum(r_list)/len(r_list)\n",
    "    return r\n",
    "\n",
    "r = remainder_set_division(s, F)    \n",
    "r"
   ]
  },
  {
   "source": [
    "Now because this remainder value is non-zero, it belongs to the Groebner Bases and it needs to be added back to $F$ and the process needs to start again."
   ],
   "cell_type": "markdown",
   "metadata": {}
  },
  {
   "cell_type": "code",
   "execution_count": 330,
   "metadata": {},
   "outputs": [
    {
     "output_type": "display_data",
     "data": {
      "text/plain": " 3        \nx  - 2⋅x⋅y",
      "text/latex": "\\begin{equation}x^{3} - 2 x y\\end{equation}"
     },
     "metadata": {}
    },
    {
     "output_type": "display_data",
     "data": {
      "text/plain": " 2            2\nx ⋅y + x - 2⋅y ",
      "text/latex": "\\begin{equation}x^{2} y + x - 2 y^{2}\\end{equation}"
     },
     "metadata": {}
    },
    {
     "output_type": "display_data",
     "data": {
      "text/plain": "  2\n-x ",
      "text/latex": "\\begin{equation}- x^{2}\\end{equation}"
     },
     "metadata": {}
    }
   ],
   "source": [
    "F_0 = F.copy() # Remember to copy lists in Python, like C\n",
    "F.append(r)\n",
    "for poly in F:\n",
    "    display(poly)\n"
   ]
  },
  {
   "source": [
    "### Continue testing values"
   ],
   "cell_type": "markdown",
   "metadata": {}
  },
  {
   "source": [
    "Next compare $f_1$ and the newly added $f_3$:"
   ],
   "cell_type": "markdown",
   "metadata": {}
  },
  {
   "cell_type": "code",
   "execution_count": 331,
   "metadata": {},
   "outputs": [
    {
     "output_type": "stream",
     "name": "stdout",
     "text": [
      "The s polynomial is:\n"
     ]
    },
    {
     "output_type": "display_data",
     "data": {
      "text/plain": "-2⋅x⋅y",
      "text/latex": "\\begin{equation}- 2 x y\\end{equation}"
     },
     "metadata": {}
    },
    {
     "output_type": "stream",
     "name": "stdout",
     "text": [
      "The remainder is:\n"
     ]
    },
    {
     "output_type": "display_data",
     "data": {
      "text/plain": "-2⋅x⋅y",
      "text/latex": "\\begin{equation}- 2 x y\\end{equation}"
     },
     "metadata": {}
    },
    {
     "output_type": "stream",
     "name": "stdout",
     "text": [
      "Add the remainder back in to F\n"
     ]
    }
   ],
   "source": [
    "# Calculate the S-Polynomial\n",
    "s = s_polynomial(F[0], F[2])\n",
    "print(\"The s polynomial is:\")\n",
    "display(s)\n",
    "# calculate the remainder\n",
    "r = remainder_set_division(s, F)    \n",
    "print(\"The remainder is:\")\n",
    "display(r)\n",
    "\n",
    "# Add the remainder back to F\n",
    "if r!=0:\n",
    "    print(\"Add the remainder back in to F\")\n",
    "    F.append(r)\n"
   ]
  },
  {
   "source": [
    "Now we compare $f_1$ with the newly added $f_4$:"
   ],
   "cell_type": "markdown",
   "metadata": {}
  },
  {
   "cell_type": "code",
   "execution_count": 332,
   "metadata": {},
   "outputs": [
    {
     "output_type": "execute_result",
     "data": {
      "text/plain": [
       "      2 \n",
       "-3⋅x⋅y  \n",
       "────────\n",
       "   2    "
      ],
      "text/latex": "\\begin{equation}- \\frac{3 x y^{2}}{2}\\end{equation}"
     },
     "metadata": {},
     "execution_count": 332
    }
   ],
   "source": [
    "s=s_polynomial(x**3-2*x*y, -2*x*y)\n",
    "r = remainder_set_division(s, F)\n",
    "r\n"
   ]
  },
  {
   "source": [
    "Ok , so this value is clearly wrong, let's look at the remainder values:"
   ],
   "cell_type": "markdown",
   "metadata": {}
  },
  {
   "cell_type": "code",
   "execution_count": 333,
   "metadata": {},
   "outputs": [
    {
     "output_type": "display_data",
     "data": {
      "text/plain": "      2\n-2⋅x⋅y ",
      "text/latex": "\\begin{equation}- 2 x y^{2}\\end{equation}"
     },
     "metadata": {}
    },
    {
     "output_type": "stream",
     "name": "stdout",
     "text": [
      "(0, -2*x*y**2)\n(0, -2*x*y**2)\n(0, -2*x*y**2)\n(y, 0)\n"
     ]
    }
   ],
   "source": [
    "display(s)\n",
    "for i in range(len(F)):\n",
    "    print(div(s, F[i]))\n",
    "# div(s, F[0])\n",
    "# div(s, F[1])\n",
    "# div(s, F[2])\n",
    "# div(s, F[0])"
   ]
  },
  {
   "source": [
    "OK, so I think my strategy to calculate the remainder is incorrect because, clearly:\n",
    "\n",
    "$$\n",
    "-2xy^2\n",
    "0 \\times (-2xy^2) +\n",
    "0 \\times (-2xy^2) +\n",
    "0 \\times (-2xy^2) +\n",
    "y\\times \\left(-2xy\\right)\n",
    "(0)\n",
    "$$\n"
   ],
   "cell_type": "markdown",
   "metadata": {}
  },
  {
   "cell_type": "code",
   "execution_count": 334,
   "metadata": {},
   "outputs": [
    {
     "output_type": "display_data",
     "data": {
      "text/plain": " 3        \nx  - 2⋅x⋅y",
      "text/latex": "\\begin{equation}x^{3} - 2 x y\\end{equation}"
     },
     "metadata": {}
    },
    {
     "output_type": "display_data",
     "data": {
      "text/plain": " 2            2\nx ⋅y + x - 2⋅y ",
      "text/latex": "\\begin{equation}x^{2} y + x - 2 y^{2}\\end{equation}"
     },
     "metadata": {}
    },
    {
     "output_type": "display_data",
     "data": {
      "text/plain": "  2\n-x ",
      "text/latex": "\\begin{equation}- x^{2}\\end{equation}"
     },
     "metadata": {}
    },
    {
     "output_type": "display_data",
     "data": {
      "text/plain": "-2⋅x⋅y",
      "text/latex": "\\begin{equation}- 2 x y\\end{equation}"
     },
     "metadata": {}
    }
   ],
   "source": [
    "for poly in F:\n",
    "    display(poly)"
   ]
  },
  {
   "cell_type": "code",
   "execution_count": 343,
   "metadata": {},
   "outputs": [
    {
     "output_type": "execute_result",
     "data": {
      "text/plain": [
       "(y, 0)"
      ],
      "text/latex": "\\begin{equation}\\left( y, \\  0\\right)\\end{equation}"
     },
     "metadata": {},
     "execution_count": 343
    }
   ],
   "source": [
    "div(x*y, x)"
   ]
  },
  {
   "cell_type": "code",
   "execution_count": 335,
   "metadata": {},
   "outputs": [
    {
     "output_type": "stream",
     "name": "stdout",
     "text": [
      "The s polynomial is:\n"
     ]
    },
    {
     "output_type": "display_data",
     "data": {
      "text/plain": "      2\n-2⋅x⋅y ",
      "text/latex": "\\begin{equation}- 2 x y^{2}\\end{equation}"
     },
     "metadata": {}
    },
    {
     "output_type": "stream",
     "name": "stdout",
     "text": [
      "The remainder is:\n"
     ]
    },
    {
     "output_type": "display_data",
     "data": {
      "text/plain": "      2 \n-3⋅x⋅y  \n────────\n   2    ",
      "text/latex": "\\begin{equation}- \\frac{3 x y^{2}}{2}\\end{equation}"
     },
     "metadata": {}
    },
    {
     "output_type": "stream",
     "name": "stdout",
     "text": [
      "Add the remainder back in to F\n"
     ]
    }
   ],
   "source": [
    "# Calculate the S-Polynomial\n",
    "s = s_polynomial(F[0], F[3])\n",
    "print(\"The s polynomial is:\")\n",
    "display(s)\n",
    "# calculate the remainder\n",
    "r = remainder_set_division(s, F)    \n",
    "print(\"The remainder is:\")\n",
    "display(r)\n",
    "\n",
    "# Add the remainder back to F\n",
    "if r!=0:\n",
    "    print(\"Add the remainder back in to F\")\n",
    "    F.append(r)\n"
   ]
  },
  {
   "source": [
    "### Automate the process"
   ],
   "cell_type": "markdown",
   "metadata": {}
  },
  {
   "cell_type": "code",
   "execution_count": 336,
   "metadata": {},
   "outputs": [
    {
     "output_type": "display_data",
     "data": {
      "text/plain": "⎡ 3           2            2    2⎤\n⎣x  - 2⋅x⋅y, x ⋅y + x - 2⋅y , -x ⎦",
      "text/latex": "\\begin{equation}\\left[ x^{3} - 2 x y, \\  x^{2} y + x - 2 y^{2}, \\  - x^{2}\\right]\\end{equation}"
     },
     "metadata": {}
    }
   ],
   "source": [
    "F = [x**3 - 2*x*y, x**2*y + x - 2*y**2, -x**2]\n",
    "display(F)\n"
   ]
  },
  {
   "source": [
    "To return all possible pairs from a set of values in python, the itertools library can be used:"
   ],
   "cell_type": "markdown",
   "metadata": {}
  },
  {
   "cell_type": "code",
   "execution_count": 337,
   "metadata": {},
   "outputs": [
    {
     "output_type": "display_data",
     "data": {
      "text/plain": "⎛ 3           2            2⎞\n⎝x  - 2⋅x⋅y, x ⋅y + x - 2⋅y ⎠",
      "text/latex": "\\begin{equation}\\left( x^{3} - 2 x y, \\  x^{2} y + x - 2 y^{2}\\right)\\end{equation}"
     },
     "metadata": {}
    },
    {
     "output_type": "display_data",
     "data": {
      "text/plain": "⎛ 2            2    2⎞\n⎝x ⋅y + x - 2⋅y , -x ⎠",
      "text/latex": "\\begin{equation}\\left( x^{2} y + x - 2 y^{2}, \\  - x^{2}\\right)\\end{equation}"
     },
     "metadata": {}
    },
    {
     "output_type": "display_data",
     "data": {
      "text/plain": "⎛  2   3        ⎞\n⎝-x , x  - 2⋅x⋅y⎠",
      "text/latex": "\\begin{equation}\\left( - x^{2}, \\  x^{3} - 2 x y\\right)\\end{equation}"
     },
     "metadata": {}
    }
   ],
   "source": [
    "from itertools import tee\n",
    "\n",
    "\n",
    "\n",
    "def pairwise(iterable): # NOTE https://docs.python.org/3/library/itertools.html\n",
    "    \"s -> (s0,s1), (s1,s2), (s2, s3), ...\"\n",
    "    iterable.append(iterable[0]) # I have to add this on to make it work, it's not elegant but :shrug:\n",
    "    a, b = tee(iterable)\n",
    "    next(b, None)\n",
    "    return zip(a, b)\n",
    "\n",
    "\n",
    "list_of_vals = [1, 2, 3, 5, 7, 11, 13, 17, 19]\n",
    "for pair in pairwise(F):\n",
    "    display(pair)"
   ]
  },
  {
   "cell_type": "code",
   "execution_count": 338,
   "metadata": {},
   "outputs": [],
   "source": [
    "f=F[0]\n",
    "g=F[1]\n",
    "s = s_polynomial(f, g)\n",
    "s\n",
    "r_list = [ div(s, F[i])[1] for i in range(len(F)) ]\n",
    "\n",
    "    # Add the final remainder\n",
    "r = sum(r_list)/len(r_list)"
   ]
  },
  {
   "cell_type": "code",
   "execution_count": 339,
   "metadata": {},
   "outputs": [
    {
     "output_type": "stream",
     "name": "stdout",
     "text": [
      "Input Polynomials are:\n"
     ]
    },
    {
     "output_type": "display_data",
     "data": {
      "text/plain": " 3        \nx  - 2⋅x⋅y",
      "text/latex": "\\begin{equation}x^{3} - 2 x y\\end{equation}"
     },
     "metadata": {}
    },
    {
     "output_type": "display_data",
     "data": {
      "text/plain": " 2            2\nx ⋅y + x - 2⋅y ",
      "text/latex": "\\begin{equation}x^{2} y + x - 2 y^{2}\\end{equation}"
     },
     "metadata": {}
    },
    {
     "output_type": "stream",
     "name": "stdout",
     "text": [
      "The remainder is:\n"
     ]
    },
    {
     "output_type": "display_data",
     "data": {
      "text/plain": "  2\n-x ",
      "text/latex": "\\begin{equation}- x^{2}\\end{equation}"
     },
     "metadata": {}
    },
    {
     "output_type": "stream",
     "name": "stdout",
     "text": [
      "Input Polynomials are:\n"
     ]
    },
    {
     "output_type": "display_data",
     "data": {
      "text/plain": " 2            2\nx ⋅y + x - 2⋅y ",
      "text/latex": "\\begin{equation}x^{2} y + x - 2 y^{2}\\end{equation}"
     },
     "metadata": {}
    },
    {
     "output_type": "display_data",
     "data": {
      "text/plain": " 3        \nx  - 2⋅x⋅y",
      "text/latex": "\\begin{equation}x^{3} - 2 x y\\end{equation}"
     },
     "metadata": {}
    },
    {
     "output_type": "stream",
     "name": "stdout",
     "text": [
      "The remainder is:\n"
     ]
    },
    {
     "output_type": "display_data",
     "data": {
      "text/plain": "   2\n3⋅x \n────\n 4  ",
      "text/latex": "\\begin{equation}\\frac{3 x^{2}}{4}\\end{equation}"
     },
     "metadata": {}
    },
    {
     "output_type": "stream",
     "name": "stdout",
     "text": [
      "Input Polynomials are:\n"
     ]
    },
    {
     "output_type": "display_data",
     "data": {
      "text/plain": " 3        \nx  - 2⋅x⋅y",
      "text/latex": "\\begin{equation}x^{3} - 2 x y\\end{equation}"
     },
     "metadata": {}
    },
    {
     "output_type": "display_data",
     "data": {
      "text/plain": "  2\n-x ",
      "text/latex": "\\begin{equation}- x^{2}\\end{equation}"
     },
     "metadata": {}
    },
    {
     "output_type": "stream",
     "name": "stdout",
     "text": [
      "The remainder is:\n"
     ]
    },
    {
     "output_type": "display_data",
     "data": {
      "text/plain": "-2⋅x⋅y",
      "text/latex": "\\begin{equation}- 2 x y\\end{equation}"
     },
     "metadata": {}
    },
    {
     "output_type": "stream",
     "name": "stdout",
     "text": [
      "Input Polynomials are:\n"
     ]
    },
    {
     "output_type": "display_data",
     "data": {
      "text/plain": "  2\n-x ",
      "text/latex": "\\begin{equation}- x^{2}\\end{equation}"
     },
     "metadata": {}
    },
    {
     "output_type": "display_data",
     "data": {
      "text/plain": "   2\n3⋅x \n────\n 4  ",
      "text/latex": "\\begin{equation}\\frac{3 x^{2}}{4}\\end{equation}"
     },
     "metadata": {}
    },
    {
     "output_type": "stream",
     "name": "stdout",
     "text": [
      "Remainder is 0, this pair belongs to Groebner Basis\nInput Polynomials are:\n"
     ]
    },
    {
     "output_type": "display_data",
     "data": {
      "text/plain": "   2\n3⋅x \n────\n 4  ",
      "text/latex": "\\begin{equation}\\frac{3 x^{2}}{4}\\end{equation}"
     },
     "metadata": {}
    },
    {
     "output_type": "display_data",
     "data": {
      "text/plain": "-2⋅x⋅y",
      "text/latex": "\\begin{equation}- 2 x y\\end{equation}"
     },
     "metadata": {}
    },
    {
     "output_type": "stream",
     "name": "stdout",
     "text": [
      "Remainder is 0, this pair belongs to Groebner Basis\nAlgorithm Completed! The Groebner Basis is:\n"
     ]
    },
    {
     "output_type": "display_data",
     "data": {
      "text/plain": " 3        \nx  - 2⋅x⋅y",
      "text/latex": "\\begin{equation}x^{3} - 2 x y\\end{equation}"
     },
     "metadata": {}
    },
    {
     "output_type": "display_data",
     "data": {
      "text/plain": " 2            2\nx ⋅y + x - 2⋅y ",
      "text/latex": "\\begin{equation}x^{2} y + x - 2 y^{2}\\end{equation}"
     },
     "metadata": {}
    },
    {
     "output_type": "display_data",
     "data": {
      "text/plain": " 3        \nx  - 2⋅x⋅y",
      "text/latex": "\\begin{equation}x^{3} - 2 x y\\end{equation}"
     },
     "metadata": {}
    },
    {
     "output_type": "display_data",
     "data": {
      "text/plain": "  2\n-x ",
      "text/latex": "\\begin{equation}- x^{2}\\end{equation}"
     },
     "metadata": {}
    },
    {
     "output_type": "display_data",
     "data": {
      "text/plain": "   2\n3⋅x \n────\n 4  ",
      "text/latex": "\\begin{equation}\\frac{3 x^{2}}{4}\\end{equation}"
     },
     "metadata": {}
    },
    {
     "output_type": "display_data",
     "data": {
      "text/plain": "-2⋅x⋅y",
      "text/latex": "\\begin{equation}- 2 x y\\end{equation}"
     },
     "metadata": {}
    }
   ],
   "source": [
    "F = F_0.copy()\n",
    "\n",
    "# For every pair of polynomials in F\n",
    "for pair in pairwise(F):\n",
    "    # Print the pairs that are being used\n",
    "    print(\"Input Polynomials are:\")\n",
    "    display(pair[0])\n",
    "    display(pair[1])\n",
    "\n",
    "    # Calculate the S Polynomial\n",
    "    s = s_polynomial(pair[0], pair[1])\n",
    "\n",
    "    # Calculate all the remainders\n",
    "    r_list = [ div(s, F[i])[1] for i in range(len(F)) ]\n",
    "\n",
    "    # Add the final remainder\n",
    "    r = sum(r_list)/len(r_list)\n",
    "\n",
    "    # If necessary add it back in\n",
    "    if r != 0: \n",
    "        print(\"The remainder is:\")\n",
    "        display(r)\n",
    "        F.append(r)\n",
    "    else:\n",
    "        print(\"Remainder is 0, this pair belongs to Groebner Basis\")\n",
    "# Print F, which should now be a Groebner Basis\n",
    "print(\"Algorithm Completed! The Groebner Basis is:\")\n",
    "for poly in F:\n",
    "    display(poly)"
   ]
  },
  {
   "cell_type": "code",
   "execution_count": 340,
   "metadata": {},
   "outputs": [
    {
     "output_type": "error",
     "ename": "SyntaxError",
     "evalue": "invalid syntax (<ipython-input-340-6d2ae4931d5a>, line 1)",
     "traceback": [
      "\u001b[0;36m  File \u001b[0;32m\"<ipython-input-340-6d2ae4931d5a>\"\u001b[0;36m, line \u001b[0;32m1\u001b[0m\n\u001b[0;31m    To test if this is indeed a Groebner Basis:\u001b[0m\n\u001b[0m       ^\u001b[0m\n\u001b[0;31mSyntaxError\u001b[0m\u001b[0;31m:\u001b[0m invalid syntax\n"
     ]
    }
   ],
   "source": [
    "To test if this is indeed a Groebner Basis:"
   ]
  },
  {
   "source": [
    "Now would be a good time to stop and look at implementing autoreduction."
   ],
   "cell_type": "markdown",
   "metadata": {}
  },
  {
   "source": [
    "### Old Work"
   ],
   "cell_type": "markdown",
   "metadata": {}
  },
  {
   "cell_type": "code",
   "execution_count": 17,
   "metadata": {},
   "outputs": [],
   "source": [
    "def poly_prod(F):\n",
    "    product_val = 1\n",
    "    for poly in F:\n",
    "        product_val *= poly\n",
    "    return product_val"
   ]
  },
  {
   "cell_type": "code",
   "execution_count": 18,
   "metadata": {},
   "outputs": [],
   "source": [
    "def remainder_set_div(s, F):\n",
    "    r_list = [ div(s, F[i])[1] for i in range(len(F)) ]\n",
    "    r = sum(r_list)\n",
    "    return r\n"
   ]
  },
  {
   "cell_type": "code",
   "execution_count": 19,
   "metadata": {},
   "outputs": [],
   "source": [
    "def buchberger_criterion(f,g, F):\n",
    "    s = s_polynomial(f, g)\n",
    "    r = remainder_set_div(s, F)\n",
    "    return r"
   ]
  },
  {
   "cell_type": "code",
   "execution_count": 20,
   "metadata": {},
   "outputs": [],
   "source": [
    "r = buchberger_criterion(F[0], F[1], F)\n",
    "if r != 0:\n",
    "    F.append(r)\n"
   ]
  },
  {
   "cell_type": "code",
   "execution_count": 21,
   "metadata": {},
   "outputs": [
    {
     "output_type": "execute_result",
     "data": {
      "text/plain": [
       "⎡                                                              2              \n",
       "⎢ 3           2            2    2   3           3          -4⋅x           2  1\n",
       "⎢x  - 2⋅x⋅y, x ⋅y + x - 2⋅y , -x , x  - 2⋅x⋅y, x  - 2⋅x⋅y, ──────, x - 2⋅y , ─\n",
       "⎣                                                            5                \n",
       "\n",
       "           3               3       2       4      3      3      4       5     \n",
       "2⋅x⋅y   4⋅y     3⋅x⋅y   5⋅y   4⋅x⋅y    25⋅y   -7⋅y    5⋅y   25⋅y   125⋅y      \n",
       "───── + ────, - ───── - ────, ────── + ─────, ──────, ────, ─────, ──────, - 1\n",
       " 7       7        2      12     3        81     3      99    648    702       \n",
       "\n",
       "           ⎤\n",
       "   2      4⎥\n",
       "1⋅x  - 4⋅y ⎥\n",
       "           ⎦"
      ],
      "text/latex": "\\begin{equation}\\left[ x^{3} - 2 x y, \\  x^{2} y + x - 2 y^{2}, \\  - x^{2}, \\  x^{3} - 2 x y, \\  x^{3} - 2 x y, \\  - \\frac{4 x^{2}}{5}, \\  x - 2 y^{2}, \\  \\frac{12 x y}{7} + \\frac{4 y^{3}}{7}, \\  - \\frac{3 x y}{2} - \\frac{5 y^{3}}{12}, \\  \\frac{4 x y^{2}}{3} + \\frac{25 y^{4}}{81}, \\  - \\frac{7 y^{3}}{3}, \\  \\frac{5 y^{3}}{99}, \\  \\frac{25 y^{4}}{648}, \\  \\frac{125 y^{5}}{702}, \\  - 11 x^{2} - 4 y^{4}\\right]\\end{equation}"
     },
     "metadata": {},
     "execution_count": 21
    }
   ],
   "source": [
    "F"
   ]
  },
  {
   "source": [
    "So we got back a remainder of $-x^2$, this isn't zero, so we throw it in the bag"
   ],
   "cell_type": "markdown",
   "metadata": {}
  },
  {
   "source": [
    "We haven't tried every combination, so onto the next one:"
   ],
   "cell_type": "markdown",
   "metadata": {}
  },
  {
   "cell_type": "code",
   "execution_count": 22,
   "metadata": {},
   "outputs": [],
   "source": [
    "r = buchberger_criterion(F[0], F[2], F)\n",
    "if r != 0:\n",
    "    F.append(r)\n"
   ]
  },
  {
   "cell_type": "code",
   "execution_count": 23,
   "metadata": {},
   "outputs": [
    {
     "output_type": "execute_result",
     "data": {
      "text/plain": [
       "⎡                                                              2              \n",
       "⎢ 3           2            2    2   3           3          -4⋅x           2  1\n",
       "⎢x  - 2⋅x⋅y, x ⋅y + x - 2⋅y , -x , x  - 2⋅x⋅y, x  - 2⋅x⋅y, ──────, x - 2⋅y , ─\n",
       "⎣                                                            5                \n",
       "\n",
       "           3               3       2       4      3      3      4       5     \n",
       "2⋅x⋅y   4⋅y     3⋅x⋅y   5⋅y   4⋅x⋅y    25⋅y   -7⋅y    5⋅y   25⋅y   125⋅y      \n",
       "───── + ────, - ───── - ────, ────── + ─────, ──────, ────, ─────, ──────, - 1\n",
       " 7       7        2      12     3        81     3      99    648    702       \n",
       "\n",
       "                           3⎤\n",
       "   2      4            25⋅y ⎥\n",
       "1⋅x  - 4⋅y , -24⋅x⋅y - ─────⎥\n",
       "                         9  ⎦"
      ],
      "text/latex": "\\begin{equation}\\left[ x^{3} - 2 x y, \\  x^{2} y + x - 2 y^{2}, \\  - x^{2}, \\  x^{3} - 2 x y, \\  x^{3} - 2 x y, \\  - \\frac{4 x^{2}}{5}, \\  x - 2 y^{2}, \\  \\frac{12 x y}{7} + \\frac{4 y^{3}}{7}, \\  - \\frac{3 x y}{2} - \\frac{5 y^{3}}{12}, \\  \\frac{4 x y^{2}}{3} + \\frac{25 y^{4}}{81}, \\  - \\frac{7 y^{3}}{3}, \\  \\frac{5 y^{3}}{99}, \\  \\frac{25 y^{4}}{648}, \\  \\frac{125 y^{5}}{702}, \\  - 11 x^{2} - 4 y^{4}, \\  - 24 x y - \\frac{25 y^{3}}{9}\\right]\\end{equation}"
     },
     "metadata": {},
     "execution_count": 23
    }
   ],
   "source": [
    "F"
   ]
  },
  {
   "source": [
    "This gave a remainder of $-2xy$, so it goes in the bag"
   ],
   "cell_type": "markdown",
   "metadata": {}
  },
  {
   "source": [
    "Now we try the next combination $f_1$ and $f_4$"
   ],
   "cell_type": "markdown",
   "metadata": {}
  },
  {
   "cell_type": "code",
   "execution_count": 24,
   "metadata": {},
   "outputs": [
    {
     "output_type": "execute_result",
     "data": {
      "text/plain": [
       "⎡                                                              2              \n",
       "⎢ 3           2            2    2   3           3          -4⋅x           2  1\n",
       "⎢x  - 2⋅x⋅y, x ⋅y + x - 2⋅y , -x , x  - 2⋅x⋅y, x  - 2⋅x⋅y, ──────, x - 2⋅y , ─\n",
       "⎣                                                            5                \n",
       "\n",
       "           3               3       2       4      3      3      4       5     \n",
       "2⋅x⋅y   4⋅y     3⋅x⋅y   5⋅y   4⋅x⋅y    25⋅y   -7⋅y    5⋅y   25⋅y   125⋅y      \n",
       "───── + ────, - ───── - ────, ────── + ─────, ──────, ────, ─────, ──────, - 1\n",
       " 7       7        2      12     3        81     3      99    648    702       \n",
       "\n",
       "                           3⎤\n",
       "   2      4            25⋅y ⎥\n",
       "1⋅x  - 4⋅y , -24⋅x⋅y - ─────⎥\n",
       "                         9  ⎦"
      ],
      "text/latex": "\\begin{equation}\\left[ x^{3} - 2 x y, \\  x^{2} y + x - 2 y^{2}, \\  - x^{2}, \\  x^{3} - 2 x y, \\  x^{3} - 2 x y, \\  - \\frac{4 x^{2}}{5}, \\  x - 2 y^{2}, \\  \\frac{12 x y}{7} + \\frac{4 y^{3}}{7}, \\  - \\frac{3 x y}{2} - \\frac{5 y^{3}}{12}, \\  \\frac{4 x y^{2}}{3} + \\frac{25 y^{4}}{81}, \\  - \\frac{7 y^{3}}{3}, \\  \\frac{5 y^{3}}{99}, \\  \\frac{25 y^{4}}{648}, \\  \\frac{125 y^{5}}{702}, \\  - 11 x^{2} - 4 y^{4}, \\  - 24 x y - \\frac{25 y^{3}}{9}\\right]\\end{equation}"
     },
     "metadata": {},
     "execution_count": 24
    }
   ],
   "source": [
    "r = buchberger_criterion(F[0], F[3], F)\n",
    "if r != 0:\n",
    "    F.append(r)\n",
    "F"
   ]
  },
  {
   "source": [
    "So the problem at this step is that diving by the product of F is not what we want"
   ],
   "cell_type": "markdown",
   "metadata": {}
  },
  {
   "cell_type": "code",
   "execution_count": 25,
   "metadata": {},
   "outputs": [
    {
     "output_type": "stream",
     "name": "stdout",
     "text": [
      "(0, -2*x*y**2)\n(0, -2*x*y**2)\n(0, -2*x*y**2)\n(0, -2*x*y**2)\n"
     ]
    }
   ],
   "source": [
    "print(div(-2*x*y**2, F[1]))\n",
    "print(div(-2*x*y**2, F[2]))\n",
    "print(div(-2*x*y**2, F[3]))\n",
    "print(div(-2*x*y**2, F[4]))"
   ]
  }
 ],
 "metadata": {
  "kernelspec": {
   "display_name": "Python 3",
   "language": "python",
   "name": "python3"
  },
  "language_info": {
   "codemirror_mode": {
    "name": "ipython",
    "version": 3
   },
   "file_extension": ".py",
   "mimetype": "text/x-python",
   "name": "python",
   "nbconvert_exporter": "python",
   "pygments_lexer": "ipython3",
   "version": "3.9.2"
  }
 },
 "nbformat": 4,
 "nbformat_minor": 5
}