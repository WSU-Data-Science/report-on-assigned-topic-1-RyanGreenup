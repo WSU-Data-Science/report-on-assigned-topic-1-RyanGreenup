{
 "cells": [
  {
   "cell_type": "markdown",
   "id": "occasional-appliance",
   "metadata": {},
   "source": [
    "# Buchbergers Algorithm"
   ]
  },
  {
   "cell_type": "markdown",
   "id": "regional-zealand",
   "metadata": {},
   "source": [
    "## Boiler Plate"
   ]
  },
  {
   "cell_type": "markdown",
   "id": "robust-subdivision",
   "metadata": {},
   "source": [
    "First load the Sympy module"
   ]
  },
  {
   "cell_type": "code",
   "execution_count": 2,
   "id": "northern-cancellation",
   "metadata": {},
   "outputs": [],
   "source": [
    "## Sympy Boiler Plate\n",
    "\n",
    "from __future__ import division\n",
    "from sympy import *\n",
    "t, x, y, z = symbols('t x y z')  # I believe this order matters, i.e. t<-x1, x <- x2, y <- x3 ...\n",
    "k, m, n = symbols('k m n', integer=True)\n",
    "f, g, h = symbols('f g h', cls=Function)\n",
    "init_printing()\n",
    "init_printing(use_latex='mathjax', latex_mode='equation')\n",
    "\n",
    "\n",
    "\n",
    "import pyperclip\n",
    "def lx(expr):\n",
    "    pyperclip.copy(latex(expr))\n",
    "    print(expr)\n",
    "# NB: See also srepr(), display() and print_mathml()\n",
    "\n",
    "import numpy as np\n",
    "import matplotlib as plt"
   ]
  },
  {
   "cell_type": "markdown",
   "id": "affiliated-dublin",
   "metadata": {},
   "source": [
    "## Terminology\n",
    "\n",
    "There are mutlidegree's, leading coefficients, leading monomials and leading terms."
   ]
  },
  {
   "cell_type": "code",
   "execution_count": 3,
   "id": "satisfactory-original",
   "metadata": {},
   "outputs": [],
   "source": [
    "def f(x, domain = 'QQ'):\n",
    "    return 2+3*x+5*y+7*x*y+11*x**2*y+13*x*y**2+17*x**2*y**2+19*x**2*y**2*z**2\n",
    "    # return 13*x**2+11*x-7\n",
    "def g(x, domain = 'QQ'):\n",
    "    return 2+3*x+5*y+7*x*y+11*x**2*y+13*x*y**2+17*x**2*y**2+19*x*y**2*z**2\n",
    "    # return 13*x**2+11*x-7\n"
   ]
  },
  {
   "cell_type": "code",
   "execution_count": 4,
   "id": "theoretical-league",
   "metadata": {},
   "outputs": [
    {
     "output_type": "stream",
     "name": "stdout",
     "text": [
      "Leading Monomial:\n"
     ]
    },
    {
     "output_type": "display_data",
     "data": {
      "text/plain": " 2  2  2\nx ⋅y ⋅z ",
      "text/latex": "\\begin{equation}x^{2} y^{2} z^{2}\\end{equation}"
     },
     "metadata": {}
    },
    {
     "output_type": "stream",
     "name": "stdout",
     "text": [
      "Leading Coefficient\n"
     ]
    },
    {
     "output_type": "display_data",
     "data": {
      "text/plain": "19",
      "text/latex": "\\begin{equation}19\\end{equation}"
     },
     "metadata": {}
    },
    {
     "output_type": "stream",
     "name": "stdout",
     "text": [
      "Leading Term\n"
     ]
    },
    {
     "output_type": "display_data",
     "data": {
      "text/plain": "    2  2  2\n19⋅x ⋅y ⋅z ",
      "text/latex": "\\begin{equation}19 x^{2} y^{2} z^{2}\\end{equation}"
     },
     "metadata": {}
    }
   ],
   "source": [
    "print(\"Leading Monomial:\")\n",
    "display(LM(f(x)))\n",
    "\n",
    "print(\"Leading Coefficient\")\n",
    "display(LC(f(x)))\n",
    "\n",
    "print(\"Leading Term\")\n",
    "display(LT(f(x)))"
   ]
  },
  {
   "cell_type": "markdown",
   "id": "pressing-homeless",
   "metadata": {},
   "source": [
    "The initial monomial with respect to an ordering is the first monomial returned by `sympy`, I believe that sympy uses lexicographic ordering under the hood, as suggested by the documentation [^spdocsPolySysRef], but I'd need to get a better understanding of the differences between `lex`, `grlex` and `grevlex` to be certain.\n",
    "\n",
    "\n",
    "[^spdocsPolySysRef]: SymPy Development Team. “Polynomials Manipulation Module Reference — SymPy 1.8 Documentation.” Sympy Documentation. Accessed April 13, 2021. https://docs.sympy.org/latest/modules/polys/reference.html."
   ]
  },
  {
   "cell_type": "code",
   "execution_count": 5,
   "id": "medium-possession",
   "metadata": {},
   "outputs": [
    {
     "output_type": "execute_result",
     "data": {
      "text/plain": [
       "    2  2  2       2  2       2           2                        \n",
       "19⋅x ⋅y ⋅z  + 17⋅x ⋅y  + 11⋅x ⋅y + 13⋅x⋅y  + 7⋅x⋅y + 3⋅x + 5⋅y + 2"
      ],
      "text/latex": "\\begin{equation}19 x^{2} y^{2} z^{2} + 17 x^{2} y^{2} + 11 x^{2} y + 13 x y^{2} + 7 x y + 3 x + 5 y + 2\\end{equation}"
     },
     "metadata": {},
     "execution_count": 5
    }
   ],
   "source": [
    "f(x)"
   ]
  },
  {
   "cell_type": "markdown",
   "id": "incomplete-adolescent",
   "metadata": {},
   "source": [
    "In this case, the first monomial is $x^2y^2z^2$ and so that is the initial. In practice we can just use the `LT`, the initial is just another way to skin the cat, which is probably why sympy doesn't offer a clear way to extract the initial. [^initVlt].\n",
    "\n",
    "\n",
    "[^initVlt]: If it was necessary to get the initial one option might be to extract the polynomial to a string `str(f(x))` and then use regex `^[A-Za-z0-9*]+(?=[\\ +])` to extract the first term and then take the `LM` of that term to get the initial monomial."
   ]
  },
  {
   "cell_type": "code",
   "execution_count": 6,
   "id": "electoral-disclaimer",
   "metadata": {},
   "outputs": [
    {
     "output_type": "execute_result",
     "data": {
      "text/plain": [
       "    2  2  2       2  2       2           2                        \n",
       "19⋅x ⋅y ⋅z  + 17⋅x ⋅y  + 11⋅x ⋅y + 13⋅x⋅y  + 7⋅x⋅y + 3⋅x + 5⋅y + 2"
      ],
      "text/latex": "\\begin{equation}19 x^{2} y^{2} z^{2} + 17 x^{2} y^{2} + 11 x^{2} y + 13 x y^{2} + 7 x y + 3 x + 5 y + 2\\end{equation}"
     },
     "metadata": {},
     "execution_count": 6
    }
   ],
   "source": [
    "f(x)"
   ]
  },
  {
   "cell_type": "code",
   "execution_count": 7,
   "id": "alone-accommodation",
   "metadata": {},
   "outputs": [
    {
     "output_type": "execute_result",
     "data": {
      "text/plain": [
       "    2  2       2           2  2         2                        \n",
       "17⋅x ⋅y  + 11⋅x ⋅y + 19⋅x⋅y ⋅z  + 13⋅x⋅y  + 7⋅x⋅y + 3⋅x + 5⋅y + 2"
      ],
      "text/latex": "\\begin{equation}17 x^{2} y^{2} + 11 x^{2} y + 19 x y^{2} z^{2} + 13 x y^{2} + 7 x y + 3 x + 5 y + 2\\end{equation}"
     },
     "metadata": {},
     "execution_count": 7
    }
   ],
   "source": [
    "g(x)"
   ]
  },
  {
   "cell_type": "markdown",
   "id": "lovely-tourist",
   "metadata": {},
   "source": [
    "## Implementing the Algorithm"
   ]
  },
  {
   "cell_type": "markdown",
   "id": "charming-strike",
   "metadata": {},
   "source": [
    "### Set of Polynomials"
   ]
  },
  {
   "cell_type": "markdown",
   "id": "married-madrid",
   "metadata": {},
   "source": [
    "To begin with, we'll implement buchberger's algorithm on a simple polynomial system, the reason for this choice is to see the implementation of the algorithm generally, a *simple* system such as a linear or single variable system, may be more confusing at first, but will be returned to later in order to draw insights."
   ]
  },
  {
   "cell_type": "markdown",
   "id": "atlantic-spider",
   "metadata": {},
   "source": [
    "So we have our bag of polynomials:"
   ]
  },
  {
   "cell_type": "code",
   "execution_count": 8,
   "id": "latter-robin",
   "metadata": {},
   "outputs": [
    {
     "output_type": "display_data",
     "data": {
      "text/plain": " 3        \nx  - 2⋅x⋅y",
      "text/latex": "\\begin{equation}x^{3} - 2 x y\\end{equation}"
     },
     "metadata": {}
    },
    {
     "output_type": "display_data",
     "data": {
      "text/plain": " 2            2\nx ⋅y + x - 2⋅y ",
      "text/latex": "\\begin{equation}x^{2} y + x - 2 y^{2}\\end{equation}"
     },
     "metadata": {}
    }
   ],
   "source": [
    "F = [x**3-2*x*y, x**2*y-2*y**2 + x]\n",
    "for poly in F:\n",
    "    display(poly)"
   ]
  },
  {
   "cell_type": "markdown",
   "id": "objective-interview",
   "metadata": {},
   "source": [
    "These polynomials are equal to zero and so could also be expressed:"
   ]
  },
  {
   "cell_type": "markdown",
   "id": "ambient-retreat",
   "metadata": {},
   "source": [
    "\\begin{align}\n",
    "x^3 &= 2xy \\\\\n",
    "  x &=2y^2-x^2y    \n",
    "\\end{align}"
   ]
  },
  {
   "cell_type": "markdown",
   "id": "greatest-indian",
   "metadata": {},
   "source": [
    "Now we want our algorithm to give us back:"
   ]
  },
  {
   "cell_type": "code",
   "execution_count": 9,
   "id": "working-harvest",
   "metadata": {},
   "outputs": [
    {
     "output_type": "execute_result",
     "data": {
      "text/plain": [
       "             ⎛⎡       2   3⎤                           ⎞\n",
       "GroebnerBasis⎝⎣x - 2⋅y , y ⎦, x, y, domain=ℤ, order=lex⎠"
      ],
      "text/latex": "\\begin{equation}GroebnerBasis\\left(\\left( x - 2 y^{2}, \\  y^{3}\\right), \\left( x, \\  y\\right)\\right)\\end{equation}"
     },
     "metadata": {},
     "execution_count": 9
    }
   ],
   "source": [
    "G_out = polys.polytools.groebner(F, x, y, order = 'lex', method = 'buchberger')\n",
    "G_out\n"
   ]
  },
  {
   "cell_type": "markdown",
   "id": "logical-knowing",
   "metadata": {},
   "source": [
    "Note that the 2nd tupple $\\left(x, y\\right)$ that is printed out refers to the variables, the first tupple is the reduced Groebner Basis, a clearer way to display it would be as a list:"
   ]
  },
  {
   "cell_type": "code",
   "execution_count": 10,
   "id": "compact-hostel",
   "metadata": {},
   "outputs": [
    {
     "output_type": "display_data",
     "data": {
      "text/plain": "⎡       2   3⎤\n⎣x - 2⋅y , y ⎦",
      "text/latex": "\\begin{equation}\\left[ x - 2 y^{2}, \\  y^{3}\\right]\\end{equation}"
     },
     "metadata": {}
    }
   ],
   "source": [
    "\n",
    "G = []\n",
    "for poly in G_out:\n",
    "    G.append(poly)\n",
    "\n",
    "display(G)\n"
   ]
  },
  {
   "cell_type": "markdown",
   "id": "crucial-disabled",
   "metadata": {},
   "source": [
    "and so overall we have:"
   ]
  },
  {
   "cell_type": "markdown",
   "id": "white-karma",
   "metadata": {},
   "source": [
    "$$\n",
    "\\begin{array}{rcl}\n",
    "x^{3} & = & 2xy\\\\\n",
    "x & = & 2y^{2}-x^{2}y\n",
    "\\end{array}\\implies\\begin{array}{rcl}\n",
    "y^{2} & = & \\frac{1}{2}x\\\\\n",
    "y^{3} & = & 0\n",
    "\\end{array}\n",
    "$$"
   ]
  },
  {
   "cell_type": "markdown",
   "id": "suitable-african",
   "metadata": {},
   "source": [
    "\\begin{align}\n",
    "y^2 &= \\frac{1}{2}x \\\\\n",
    "y^3 &= 0\n",
    "\\end{align}    "
   ]
  },
  {
   "cell_type": "markdown",
   "id": "historic-welsh",
   "metadata": {},
   "source": [
    "## S-Polynomial"
   ]
  },
  {
   "cell_type": "markdown",
   "id": "willing-diversity",
   "metadata": {},
   "source": [
    "The $S$-Polynomial used to determine whether or not two polynomials belong in the Groebner Basis and it is given by:\n",
    "\n",
    "$$\n",
    "S=\\mathrm{LCM}\\left(\\mathrm{LM}\\left(f\\right),\\mathrm{LM}\\left(g\\right)\\right)\\times\\left(\\frac{f}{\\mathrm{LT}\\left(f\\right)}-\\frac{g}{\\mathrm{LT}\\left(g\\right)}\\right)\n",
    "$$"
   ]
  },
  {
   "cell_type": "markdown",
   "id": "representative-enemy",
   "metadata": {},
   "source": [
    "Sympy comes with a function to determine the LCM of polynomials:\n",
    "\n"
   ]
  },
  {
   "cell_type": "code",
   "execution_count": 11,
   "id": "still-front",
   "metadata": {},
   "outputs": [
    {
     "output_type": "execute_result",
     "data": {
      "text/plain": [
       " 3  \n",
       "x ⋅y"
      ],
      "text/latex": "\\begin{equation}x^{3} y\\end{equation}"
     },
     "metadata": {},
     "execution_count": 11
    }
   ],
   "source": [
    "from sympy.polys.monomials import monomial_mul, monomial_lcm, monomial_divides, term_div\n",
    "# https://docs.sympy.org/latest/modules/polys/basics.html\n",
    "LMf = LM(F[0])\n",
    "LMg = LM(F[1])\n",
    "# LCM12 = monomial_lcm(LMF, LMG) # This fails\n",
    "LCM12 = lcm(LMf, LMg)\n",
    "LCM12\n"
   ]
  },
  {
   "cell_type": "markdown",
   "id": "sweet-depth",
   "metadata": {},
   "source": [
    "and the $s$-polynomial can hence be calculated thusly:"
   ]
  },
  {
   "cell_type": "code",
   "execution_count": 12,
   "id": "statewide-thesaurus",
   "metadata": {},
   "outputs": [
    {
     "output_type": "execute_result",
     "data": {
      "text/plain": [
       "  2\n",
       "-x "
      ],
      "text/latex": "\\begin{equation}- x^{2}\\end{equation}"
     },
     "metadata": {},
     "execution_count": 12
    }
   ],
   "source": [
    "def s_polynomial(f, g):\n",
    "    LCM_fg = lcm(LM(f), LM(g))\n",
    "    s = LCM_fg*(f/LT(f)-g/LT(g))\n",
    "    return s.expand()\n",
    "s=s_polynomial(F[0], F[1])\n",
    "s"
   ]
  },
  {
   "cell_type": "markdown",
   "id": "intimate-offset",
   "metadata": {},
   "source": [
    "Now we need to divide this $s$ value by all the terms in $F$, write it out in terms of quotients and divisors and then consider the remainder, so for example:"
   ]
  },
  {
   "cell_type": "code",
   "execution_count": 410,
   "id": "fluid-summer",
   "metadata": {},
   "outputs": [
    {
     "data": {
      "text/latex": [
       "\\begin{equation}\\left( 0, \\  - x^{2}\\right)\\end{equation}"
      ],
      "text/plain": [
       "⎛     2⎞\n",
       "⎝0, -x ⎠"
      ]
     },
     "metadata": {},
     "output_type": "display_data"
    },
    {
     "data": {
      "text/latex": [
       "\\begin{equation}\\left( 0, \\  - x^{2}\\right)\\end{equation}"
      ],
      "text/plain": [
       "⎛     2⎞\n",
       "⎝0, -x ⎠"
      ]
     },
     "metadata": {},
     "output_type": "display_data"
    }
   ],
   "source": [
    "display(div(s, F[0]))\n",
    "display(div(s, F[1]))"
   ]
  },
  {
   "cell_type": "markdown",
   "id": "egyptian-federal",
   "metadata": {},
   "source": [
    "\\begin{align*}\n",
    " & -x^{2} & = & 0\\left(2xy\\right) & -x^{2}\\\\\n",
    "+ &  & =\\\\\n",
    " & -x^{2} & = & 0\\left(2y^{2}-x^{2}y\\right) & -x^{2}\\\\\n",
    "\\hline  & -2x^{2} & = & 0\\left(2xy\\right)+0\\left(2y^{2}-x^{2}y\\right) & -2x^{2}\\\\\n",
    "\\implies & r & = & \\mathrm{mean}\\left(r\\in R\\right)\n",
    "\\end{align*}\n"
   ]
  },
  {
   "cell_type": "markdown",
   "id": "material-ensemble",
   "metadata": {},
   "source": [
    "And so this remainder value can be calculated, in `sympy`, like so:"
   ]
  },
  {
   "cell_type": "code",
   "execution_count": 411,
   "id": "difficult-musician",
   "metadata": {},
   "outputs": [
    {
     "data": {
      "text/latex": [
       "\\begin{equation}- x^{2}\\end{equation}"
      ],
      "text/plain": [
       "  2\n",
       "-x "
      ]
     },
     "execution_count": 411,
     "metadata": {},
     "output_type": "execute_result"
    }
   ],
   "source": [
    " def remainder_set_division(s, F):\n",
    "    \"\"\"\n",
    "    return remainder value after dividing s by all terms in F,\n",
    "    For use in BuchBerger's Algorithm using an S-polynomial against the\n",
    "    collection of polynomials\n",
    "\n",
    "    Args:\n",
    "        s (sympy): A sympy polynomial, typically an S-polynomial for \n",
    "        F (list, of sympy): The list of polynomials of concern\n",
    "    \"\"\"    \n",
    "    r_list = [ div(s, F[i])[1] for i in range(len(F)) ]\n",
    "    r = sum(r_list)/len(r_list)\n",
    "    return r\n",
    "\n",
    "r = remainder_set_division(s, F)    \n",
    "r"
   ]
  },
  {
   "cell_type": "markdown",
   "id": "foreign-principle",
   "metadata": {},
   "source": [
    "Now because this remainder value is non-zero, it belongs to the Groebner Bases and it needs to be added back to $F$ and the process needs to start again."
   ]
  },
  {
   "cell_type": "code",
   "execution_count": 412,
   "id": "stone-rocket",
   "metadata": {},
   "outputs": [
    {
     "data": {
      "text/latex": [
       "\\begin{equation}x^{3} - 2 x y\\end{equation}"
      ],
      "text/plain": [
       " 3        \n",
       "x  - 2⋅x⋅y"
      ]
     },
     "metadata": {},
     "output_type": "display_data"
    },
    {
     "data": {
      "text/latex": [
       "\\begin{equation}x^{2} y + x - 2 y^{2}\\end{equation}"
      ],
      "text/plain": [
       " 2            2\n",
       "x ⋅y + x - 2⋅y "
      ]
     },
     "metadata": {},
     "output_type": "display_data"
    },
    {
     "data": {
      "text/latex": [
       "\\begin{equation}- x^{2}\\end{equation}"
      ],
      "text/plain": [
       "  2\n",
       "-x "
      ]
     },
     "metadata": {},
     "output_type": "display_data"
    }
   ],
   "source": [
    "F_0 = F.copy() # Remember to copy lists in Python, like C\n",
    "F.append(r)\n",
    "for poly in F:\n",
    "    display(poly)\n"
   ]
  },
  {
   "cell_type": "markdown",
   "id": "normal-formula",
   "metadata": {},
   "source": [
    "### Continue testing values"
   ]
  },
  {
   "cell_type": "markdown",
   "id": "preceding-laser",
   "metadata": {},
   "source": [
    "Next compare $f_1$ and the newly added $f_3$:"
   ]
  },
  {
   "cell_type": "code",
   "execution_count": 413,
   "id": "undefined-lobby",
   "metadata": {},
   "outputs": [
    {
     "name": "stdout",
     "output_type": "stream",
     "text": [
      "The s polynomial is:\n"
     ]
    },
    {
     "data": {
      "text/latex": [
       "\\begin{equation}- 2 x y\\end{equation}"
      ],
      "text/plain": [
       "-2⋅x⋅y"
      ]
     },
     "metadata": {},
     "output_type": "display_data"
    },
    {
     "name": "stdout",
     "output_type": "stream",
     "text": [
      "The remainder is:\n"
     ]
    },
    {
     "data": {
      "text/latex": [
       "\\begin{equation}- 2 x y\\end{equation}"
      ],
      "text/plain": [
       "-2⋅x⋅y"
      ]
     },
     "metadata": {},
     "output_type": "display_data"
    },
    {
     "name": "stdout",
     "output_type": "stream",
     "text": [
      "Add the remainder back in to F\n"
     ]
    }
   ],
   "source": [
    "# Calculate the S-Polynomial\n",
    "s = s_polynomial(F[0], F[2])\n",
    "print(\"The s polynomial is:\")\n",
    "display(s)\n",
    "# calculate the remainder\n",
    "r = remainder_set_division(s, F)    \n",
    "print(\"The remainder is:\")\n",
    "display(r)\n",
    "\n",
    "# Add the remainder back to F\n",
    "if r!=0:\n",
    "    print(\"Add the remainder back in to F\")\n",
    "    F.append(r)\n"
   ]
  },
  {
   "cell_type": "markdown",
   "id": "packed-aside",
   "metadata": {},
   "source": [
    "Now we compare $f_1$ with the newly added $f_4$:"
   ]
  },
  {
   "cell_type": "code",
   "execution_count": 414,
   "id": "sustainable-helmet",
   "metadata": {},
   "outputs": [
    {
     "data": {
      "text/latex": [
       "\\begin{equation}- \\frac{3 x y^{2}}{2}\\end{equation}"
      ],
      "text/plain": [
       "      2 \n",
       "-3⋅x⋅y  \n",
       "────────\n",
       "   2    "
      ]
     },
     "execution_count": 414,
     "metadata": {},
     "output_type": "execute_result"
    }
   ],
   "source": [
    "s=s_polynomial(x**3-2*x*y, -2*x*y)\n",
    "r = remainder_set_division(s, F)\n",
    "r\n"
   ]
  },
  {
   "cell_type": "markdown",
   "id": "lyric-jefferson",
   "metadata": {},
   "source": [
    "Ok , so this value is clearly wrong, let's look at the remainder values:"
   ]
  },
  {
   "cell_type": "code",
   "execution_count": 415,
   "id": "random-pilot",
   "metadata": {},
   "outputs": [
    {
     "data": {
      "text/latex": [
       "\\begin{equation}- 2 x y^{2}\\end{equation}"
      ],
      "text/plain": [
       "      2\n",
       "-2⋅x⋅y "
      ]
     },
     "metadata": {},
     "output_type": "display_data"
    },
    {
     "name": "stdout",
     "output_type": "stream",
     "text": [
      "(0, -2*x*y**2)\n",
      "(0, -2*x*y**2)\n",
      "(0, -2*x*y**2)\n",
      "(y, 0)\n"
     ]
    }
   ],
   "source": [
    "display(s)\n",
    "for i in range(len(F)):\n",
    "    print(div(s, F[i]))\n",
    "# div(s, F[0])\n",
    "# div(s, F[1])\n",
    "# div(s, F[2])\n",
    "# div(s, F[0])"
   ]
  },
  {
   "cell_type": "markdown",
   "id": "unknown-portrait",
   "metadata": {},
   "source": [
    "OK, so I think my strategy to calculate the remainder is incorrect because, clearly:\n",
    "\n",
    "$$\n",
    "-2xy^2 = \n",
    "0 \\times (-2xy^2) +\n",
    "0 \\times (-2xy^2) +\n",
    "0 \\times (-2xy^2) +\n",
    "y\\times \\left(-2xy\\right)\n",
    "(0)\n",
    "$$\n"
   ]
  },
  {
   "source": [
    "What if I tried multiplying?"
   ],
   "cell_type": "markdown",
   "metadata": {}
  },
  {
   "cell_type": "code",
   "execution_count": null,
   "metadata": {},
   "outputs": [],
   "source": []
  },
  {
   "cell_type": "code",
   "execution_count": null,
   "metadata": {},
   "outputs": [],
   "source": [
    "# the division algorithm, returns the quotient and remainder\n",
    "# Taken from https://stackoverflow.com/questions/62002479/trying-to-write-the-division-algorithm-in-sympy-which-apparently-has-its-own-tru\n",
    "\n",
    "def DivAlg(F,g):   \n",
    "    n = len(F)\n",
    "    Q = [0]*4\n",
    "    r = f   # remainder\n",
    "\n",
    "    while max([polynomial_degree(f) for f in F]) <= degree(r) and r!=0:\n",
    "        if degree(g) <= degree(r)\n",
    "    while (r != 0) & (degree(g) <= degree(r)):\n",
    "        q = q + LT(r)/LT(g) \n",
    "        r = r - expand(( LT(r)/LT(g)) * g) # the expand command is necessary!\n",
    "\n",
    "    return [q,r]"
   ]
  },
  {
   "cell_type": "code",
   "execution_count": 94,
   "metadata": {},
   "outputs": [
    {
     "output_type": "execute_result",
     "data": {
      "text/plain": [
       "⎡ 3           2            2⎤\n",
       "⎣x  - 2⋅x⋅y, x ⋅y + x - 2⋅y ⎦"
      ],
      "text/latex": "\\begin{equation}\\left[ x^{3} - 2 x y, \\  x^{2} y + x - 2 y^{2}\\right]\\end{equation}"
     },
     "metadata": {},
     "execution_count": 94
    }
   ],
   "source": [
    "F"
   ]
  },
  {
   "cell_type": "code",
   "execution_count": null,
   "metadata": {},
   "outputs": [],
   "source": []
  },
  {
   "cell_type": "code",
   "execution_count": 22,
   "metadata": {},
   "outputs": [],
   "source": [
    "# the division algorithm, returns the quotient and remainder\n",
    "# Taken from https://stackoverflow.com/questions/62002479/trying-to-write-the-division-algorithm-in-sympy-which-apparently-has-its-own-tru\n",
    "\n",
    "def DivAlg(f,g):   \n",
    "    q = 0   # quotient\n",
    "    r = f   # remainder\n",
    "\n",
    "    while (r != 0) & (degree(g) <= degree(r)):\n",
    "        q = q + LT(r)/LT(g) \n",
    "        r = r - expand(( LT(r)/LT(g)) * g) # the expand command is necessary!\n",
    "\n",
    "    return [q,r]"
   ]
  },
  {
   "cell_type": "code",
   "execution_count": 24,
   "metadata": {},
   "outputs": [
    {
     "output_type": "execute_result",
     "data": {
      "text/plain": [
       "⎡    2⎤\n",
       "⎣0, x ⎦"
      ],
      "text/latex": "\\begin{equation}\\left[ 0, \\  x^{2}\\right]\\end{equation}"
     },
     "metadata": {},
     "execution_count": 24
    }
   ],
   "source": [
    "DivAlg(x**2, x**3)"
   ]
  },
  {
   "cell_type": "code",
   "execution_count": 58,
   "metadata": {},
   "outputs": [
    {
     "output_type": "display_data",
     "data": {
      "text/plain": "   3  2    3      2             4       2\n5⋅x ⋅y  + x  + 3⋅x  + 7⋅x + 13⋅y  + 11⋅y ",
      "text/latex": "\\begin{equation}5 x^{3} y^{2} + x^{3} + 3 x^{2} + 7 x + 13 y^{4} + 11 y^{2}\\end{equation}"
     },
     "metadata": {}
    }
   ],
   "source": [
    "coeff   = [1, 3, 5, 7, 11, 13]\n",
    "support = [x**3, x**2, x**3*y**2, x, y**2, y**4] \n",
    "\n",
    "terms   = [coeff[i]*support[i] for i in range(6)]\n",
    "polynomial = sum(terms)\n",
    "\n",
    "display(polynomial)"
   ]
  },
  {
   "cell_type": "code",
   "execution_count": 59,
   "metadata": {},
   "outputs": [
    {
     "output_type": "execute_result",
     "data": {
      "text/plain": [
       "⎡ 3  2   3   2      4   2⎤\n",
       "⎣x ⋅y , x , x , x, y , y ⎦"
      ],
      "text/latex": "\\begin{equation}\\left[ x^{3} y^{2}, \\  x^{3}, \\  x^{2}, \\  x, \\  y^{4}, \\  y^{2}\\right]\\end{equation}"
     },
     "metadata": {},
     "execution_count": 59
    }
   ],
   "source": [
    "# First get back the monomials from a polynomial\n",
    "f = polynomial\n",
    "monomials = [m/LC(m) for m in f.as_ordered_terms()]\n",
    "monomials"
   ]
  },
  {
   "cell_type": "code",
   "execution_count": 75,
   "metadata": {},
   "outputs": [
    {
     "output_type": "execute_result",
     "data": {
      "text/plain": [
       "⎡⎧ 3   2⎫  ⎧ 3⎫  ⎧ 2⎫         ⎧ 4⎫  ⎧ 2⎫⎤\n",
       "⎢⎨x , y ⎬, ⎨x ⎬, ⎨x ⎬, set(), ⎨y ⎬, ⎨y ⎬⎥\n",
       "⎣⎩      ⎭  ⎩  ⎭  ⎩  ⎭         ⎩  ⎭  ⎩  ⎭⎦"
      ],
      "text/latex": "\\begin{equation}\\left[ \\left\\{x^{3}, y^{2}\\right\\}, \\  \\left\\{x^{3}\\right\\}, \\  \\left\\{x^{2}\\right\\}, \\  \\left\\{\\right\\}, \\  \\left\\{y^{4}\\right\\}, \\  \\left\\{y^{2}\\right\\}\\right]\\end{equation}"
     },
     "metadata": {},
     "execution_count": 75
    }
   ],
   "source": [
    "m = monomials[0]\n",
    "sets=[m.atoms(Pow) for m in monomials]\n",
    "sets"
   ]
  },
  {
   "cell_type": "code",
   "execution_count": 92,
   "metadata": {},
   "outputs": [
    {
     "output_type": "display_data",
     "data": {
      "text/plain": "'Polynomial is'"
     },
     "metadata": {}
    },
    {
     "output_type": "display_data",
     "data": {
      "text/plain": "   3  2    3      2             4       2\n5⋅x ⋅y  + x  + 3⋅x  + 7⋅x + 13⋅y  + 11⋅y ",
      "text/latex": "\\begin{equation}5 x^{3} y^{2} + x^{3} + 3 x^{2} + 7 x + 13 y^{4} + 11 y^{2}\\end{equation}"
     },
     "metadata": {}
    },
    {
     "output_type": "display_data",
     "data": {
      "text/plain": "'Degrees of each Monomial:'"
     },
     "metadata": {}
    },
    {
     "output_type": "display_data",
     "data": {
      "text/plain": "[5, 3, 2, 0, 4, 2]",
      "text/latex": "\\begin{equation}\\left[ 5, \\  3, \\  2, \\  0, \\  4, \\  2\\right]\\end{equation}"
     },
     "metadata": {}
    },
    {
     "output_type": "display_data",
     "data": {
      "text/plain": "'Degree of the Polynomial:'"
     },
     "metadata": {}
    },
    {
     "output_type": "display_data",
     "data": {
      "text/plain": "5",
      "text/latex": "\\begin{equation}5\\end{equation}"
     },
     "metadata": {}
    }
   ],
   "source": [
    "def monomial_degrees(polynomial):\n",
    "    # Break the polynomial into a list of monomials\n",
    "    monomials = [m/LC(m) for m in f.as_ordered_terms()]\n",
    "\n",
    "    # Break the monomial into a list of sets of the variables that compose each monomial\n",
    "    sets=[m.atoms(Pow) for m in monomials]\n",
    "\n",
    "    # Break each variable into exponents and add up the degree of each monomial\n",
    "    monomial_degrees = []\n",
    "    for set in sets:\n",
    "        degree = 0\n",
    "        for var in set:\n",
    "            exponent = var.as_base_exp()[1]\n",
    "            degree += exponent\n",
    "        monomial_degrees.append(degree)\n",
    "    \n",
    "    return monomial_degrees\n",
    "\n",
    "def polynomial_degree(f):\n",
    "    return max(monomial_degrees(f))\n",
    "\n",
    "display(\n",
    "    \"Polynomial is\",\n",
    "    polynomial,\n",
    "    \"Degrees of each Monomial:\",\n",
    "    monomial_degrees(polynomial),\n",
    "    \"Degree of the Polynomial:\",\n",
    "    polynomial_degree(polynomial)\n",
    ")"
   ]
  },
  {
   "cell_type": "code",
   "execution_count": 73,
   "metadata": {},
   "outputs": [
    {
     "output_type": "execute_result",
     "data": {
      "text/plain": [
       "[3, 2]"
      ],
      "text/latex": "\\begin{equation}\\left[ 3, \\  2\\right]\\end{equation}"
     },
     "metadata": {},
     "execution_count": 73
    }
   ],
   "source": [
    "expr=m\n",
    "[z.as_base_exp()[1] for z in expr.atoms(Pow)]\n"
   ]
  },
  {
   "cell_type": "code",
   "execution_count": 70,
   "metadata": {},
   "outputs": [
    {
     "output_type": "error",
     "ename": "NameError",
     "evalue": "name 'sympy' is not defined",
     "traceback": [
      "\u001b[0;31m---------------------------------------------------------------------------\u001b[0m",
      "\u001b[0;31mNameError\u001b[0m                                 Traceback (most recent call last)",
      "\u001b[0;32m<ipython-input-70-b423a7e6d51b>\u001b[0m in \u001b[0;36m<module>\u001b[0;34m\u001b[0m\n\u001b[1;32m      1\u001b[0m \u001b[0mexpr\u001b[0m\u001b[0;34m=\u001b[0m\u001b[0mm\u001b[0m\u001b[0;34m\u001b[0m\u001b[0;34m\u001b[0m\u001b[0m\n\u001b[0;32m----> 2\u001b[0;31m \u001b[0mmin\u001b[0m\u001b[0;34m(\u001b[0m\u001b[0;34m(\u001b[0m\u001b[0mz\u001b[0m\u001b[0;34m.\u001b[0m\u001b[0mas_base_exp\u001b[0m\u001b[0;34m(\u001b[0m\u001b[0;34m)\u001b[0m\u001b[0;34m[\u001b[0m\u001b[0;36m1\u001b[0m\u001b[0;34m]\u001b[0m \u001b[0;32mfor\u001b[0m \u001b[0mz\u001b[0m \u001b[0;32min\u001b[0m \u001b[0mexpr\u001b[0m\u001b[0;34m.\u001b[0m\u001b[0matoms\u001b[0m\u001b[0;34m(\u001b[0m\u001b[0msympy\u001b[0m\u001b[0;34m.\u001b[0m\u001b[0mPow\u001b[0m\u001b[0;34m)\u001b[0m\u001b[0;34m)\u001b[0m\u001b[0;34m,\u001b[0m \u001b[0mdefault\u001b[0m\u001b[0;34m=\u001b[0m\u001b[0;36m1\u001b[0m\u001b[0;34m)\u001b[0m\u001b[0;34m\u001b[0m\u001b[0;34m\u001b[0m\u001b[0m\n\u001b[0m",
      "\u001b[0;31mNameError\u001b[0m: name 'sympy' is not defined"
     ]
    }
   ],
   "source": [
    "expr=m\n",
    "min((z.as_base_exp()[1] for z in expr.atoms(sympy.Pow)), default=1)\n"
   ]
  },
  {
   "cell_type": "code",
   "execution_count": 41,
   "metadata": {},
   "outputs": [
    {
     "output_type": "execute_result",
     "data": {
      "text/plain": [
       "6"
      ],
      "text/latex": "\\begin{equation}6\\end{equation}"
     },
     "metadata": {},
     "execution_count": 41
    }
   ],
   "source": [
    "q = polynomial.as_ordered_terms()\n",
    "q\n",
    "3+3"
   ]
  },
  {
   "cell_type": "code",
   "execution_count": 32,
   "metadata": {},
   "outputs": [
    {
     "output_type": "error",
     "ename": "SyntaxError",
     "evalue": "positional argument follows keyword argument (<ipython-input-32-cf54514f01e7>, line 1)",
     "traceback": [
      "\u001b[0;36m  File \u001b[0;32m\"<ipython-input-32-cf54514f01e7>\"\u001b[0;36m, line \u001b[0;32m1\u001b[0m\n\u001b[0;31m    degree(x**2*y**3+x**5, gen=x, y, z)\u001b[0m\n\u001b[0m                                      ^\u001b[0m\n\u001b[0;31mSyntaxError\u001b[0m\u001b[0;31m:\u001b[0m positional argument follows keyword argument\n"
     ]
    }
   ],
   "source": [
    "degree(x**2*y**3+x**5)"
   ]
  },
  {
   "cell_type": "code",
   "execution_count": 19,
   "metadata": {},
   "outputs": [
    {
     "output_type": "execute_result",
     "data": {
      "text/plain": [
       "    0.5\n",
       "⎛ 4⎞   \n",
       "⎝x ⎠   "
      ],
      "text/latex": "\\begin{equation}\\left(x^{4}\\right)^{0.5}\\end{equation}"
     },
     "metadata": {},
     "execution_count": 19
    }
   ],
   "source": [
    " def remainder_set_division(s, F):\n",
    "    \"\"\"\n",
    "    return remainder value after dividing s by all terms in F,\n",
    "    For use in BuchBerger's Algorithm using an S-polynomial against the\n",
    "    collection of polynomials\n",
    "\n",
    "    Args:\n",
    "        s (sympy): A sympy polynomial, typically an S-polynomial for \n",
    "        F (list, of sympy): The list of polynomials of concern\n",
    "    \"\"\"    \n",
    "    r_list = [ div(s, F[i])[1] for i in range(len(F)) ]\n",
    "    r = prod(r_list)**(1/len(r_list))\n",
    "    return r.expand().doit()\n",
    "\n",
    "r = remainder_set_division(s, F)    \n",
    "r.doit()"
   ]
  },
  {
   "cell_type": "code",
   "execution_count": 427,
   "id": "answering-blame",
   "metadata": {},
   "outputs": [
    {
     "data": {
      "text/latex": [
       "\\begin{equation}\\left( 0, \\  0\\right)\\end{equation}"
      ],
      "text/plain": [
       "(0, 0)"
      ]
     },
     "execution_count": 427,
     "metadata": {},
     "output_type": "execute_result"
    }
   ],
   "source": [
    "div(s, prod(F))"
   ]
  },
  {
   "cell_type": "code",
   "execution_count": 14,
   "metadata": {},
   "outputs": [
    {
     "output_type": "execute_result",
     "data": {
      "text/plain": [
       "⎛13⋅x   ⎞\n",
       "⎜────, 0⎟\n",
       "⎝ 4     ⎠"
      ],
      "text/latex": "\\begin{equation}\\left( \\frac{13 x}{4}, \\  0\\right)\\end{equation}"
     },
     "metadata": {},
     "execution_count": 14
    }
   ],
   "source": [
    "div(13*x*y, 4*y)"
   ]
  },
  {
   "cell_type": "code",
   "execution_count": 417,
   "id": "offensive-deadline",
   "metadata": {},
   "outputs": [
    {
     "data": {
      "text/latex": [
       "\\begin{equation}\\left( \\left\\lfloor{- \\frac{2 x y^{2}}{x^{3} - 2 x y}}\\right\\rfloor, \\  x \\left(- 2 y^{2}\\bmod{x^{2} - 2 y}\\right)\\right)\\end{equation}"
      ],
      "text/plain": [
       "⎛⎢       2  ⎥                          ⎞\n",
       "⎜⎢ -2⋅x⋅y   ⎥    ⎛⎛    2⎞      2      ⎞⎟\n",
       "⎜⎢──────────⎥, x⋅⎝⎝-2⋅y ⎠ mod x  - 2⋅y⎠⎟\n",
       "⎜⎢ 3        ⎥                          ⎟\n",
       "⎝⎣x  - 2⋅x⋅y⎦                          ⎠"
      ]
     },
     "execution_count": 417,
     "metadata": {},
     "output_type": "execute_result"
    }
   ],
   "source": [
    "divmod(s, F[0])"
   ]
  },
  {
   "cell_type": "code",
   "execution_count": 418,
   "id": "consistent-murray",
   "metadata": {},
   "outputs": [
    {
     "data": {
      "text/latex": [
       "\\begin{equation}\\left( y, \\  0\\right)\\end{equation}"
      ],
      "text/plain": [
       "(y, 0)"
      ]
     },
     "execution_count": 418,
     "metadata": {},
     "output_type": "execute_result"
    }
   ],
   "source": [
    "div(x*y, x)"
   ]
  },
  {
   "cell_type": "code",
   "execution_count": null,
   "metadata": {},
   "outputs": [],
   "source": [
    " def remainder_set_division(s, F):\n",
    "    \"\"\"\n",
    "    return remainder value after dividing s by all terms in F,\n",
    "    For use in BuchBerger's Algorithm using an S-polynomial against the\n",
    "    collection of polynomials\n",
    "\n",
    "    Args:\n",
    "        s (sympy): A sympy polynomial, typically an S-polynomial for \n",
    "        F (list, of sympy): The list of polynomials of concern\n",
    "    \"\"\"    \n",
    "    r_list = [ div(s, F[i])[1] for i in range(len(F)) ]\n",
    "    r = sum(r_list)/len(r_list)\n",
    "    return r\n",
    "\n",
    "r = remainder_set_division(s, F)    \n",
    "r"
   ]
  },
  {
   "cell_type": "code",
   "execution_count": 419,
   "id": "classified-polyester",
   "metadata": {},
   "outputs": [
    {
     "name": "stdout",
     "output_type": "stream",
     "text": [
      "The s polynomial is:\n"
     ]
    },
    {
     "data": {
      "text/latex": [
       "\\begin{equation}- 2 x y^{2}\\end{equation}"
      ],
      "text/plain": [
       "      2\n",
       "-2⋅x⋅y "
      ]
     },
     "metadata": {},
     "output_type": "display_data"
    },
    {
     "name": "stdout",
     "output_type": "stream",
     "text": [
      "The remainder is:\n"
     ]
    },
    {
     "data": {
      "text/latex": [
       "\\begin{equation}- \\frac{3 x y^{2}}{2}\\end{equation}"
      ],
      "text/plain": [
       "      2 \n",
       "-3⋅x⋅y  \n",
       "────────\n",
       "   2    "
      ]
     },
     "metadata": {},
     "output_type": "display_data"
    },
    {
     "name": "stdout",
     "output_type": "stream",
     "text": [
      "Add the remainder back in to F\n"
     ]
    }
   ],
   "source": [
    "# Calculate the S-Polynomial\n",
    "s = s_polynomial(F[0], F[3])\n",
    "print(\"The s polynomial is:\")\n",
    "display(s)\n",
    "# calculate the remainder\n",
    "r = remainder_set_division(s, F)    \n",
    "print(\"The remainder is:\")\n",
    "display(r)\n",
    "\n",
    "# Add the remainder back to F\n",
    "if r!=0:\n",
    "    print(\"Add the remainder back in to F\")\n",
    "    F.append(r)\n"
   ]
  },
  {
   "cell_type": "markdown",
   "id": "indian-partner",
   "metadata": {},
   "source": [
    "### Automate the process"
   ]
  },
  {
   "cell_type": "code",
   "execution_count": 420,
   "id": "integrated-niagara",
   "metadata": {},
   "outputs": [
    {
     "data": {
      "text/latex": [
       "\\begin{equation}\\left[ x^{3} - 2 x y, \\  x^{2} y + x - 2 y^{2}, \\  - x^{2}\\right]\\end{equation}"
      ],
      "text/plain": [
       "⎡ 3           2            2    2⎤\n",
       "⎣x  - 2⋅x⋅y, x ⋅y + x - 2⋅y , -x ⎦"
      ]
     },
     "metadata": {},
     "output_type": "display_data"
    }
   ],
   "source": [
    "F = [x**3 - 2*x*y, x**2*y + x - 2*y**2, -x**2]\n",
    "display(F)\n"
   ]
  },
  {
   "cell_type": "markdown",
   "id": "fatal-survey",
   "metadata": {},
   "source": [
    "To return all possible pairs from a set of values in python, the itertools library can be used:"
   ]
  },
  {
   "cell_type": "code",
   "execution_count": 421,
   "id": "orange-bacteria",
   "metadata": {},
   "outputs": [
    {
     "data": {
      "text/latex": [
       "\\begin{equation}\\left( x^{3} - 2 x y, \\  x^{2} y + x - 2 y^{2}\\right)\\end{equation}"
      ],
      "text/plain": [
       "⎛ 3           2            2⎞\n",
       "⎝x  - 2⋅x⋅y, x ⋅y + x - 2⋅y ⎠"
      ]
     },
     "metadata": {},
     "output_type": "display_data"
    },
    {
     "data": {
      "text/latex": [
       "\\begin{equation}\\left( x^{2} y + x - 2 y^{2}, \\  - x^{2}\\right)\\end{equation}"
      ],
      "text/plain": [
       "⎛ 2            2    2⎞\n",
       "⎝x ⋅y + x - 2⋅y , -x ⎠"
      ]
     },
     "metadata": {},
     "output_type": "display_data"
    },
    {
     "data": {
      "text/latex": [
       "\\begin{equation}\\left( - x^{2}, \\  x^{3} - 2 x y\\right)\\end{equation}"
      ],
      "text/plain": [
       "⎛  2   3        ⎞\n",
       "⎝-x , x  - 2⋅x⋅y⎠"
      ]
     },
     "metadata": {},
     "output_type": "display_data"
    }
   ],
   "source": [
    "from itertools import tee\n",
    "\n",
    "\n",
    "\n",
    "def pairwise(iterable): # NOTE https://docs.python.org/3/library/itertools.html\n",
    "    \"s -> (s0,s1), (s1,s2), (s2, s3), ...\"\n",
    "    iterable.append(iterable[0]) # I have to add this on to make it work, it's not elegant but :shrug:\n",
    "    a, b = tee(iterable)\n",
    "    next(b, None)\n",
    "    return zip(a, b)\n",
    "\n",
    "\n",
    "list_of_vals = [1, 2, 3, 5, 7, 11, 13, 17, 19]\n",
    "for pair in pairwise(F):\n",
    "    display(pair)"
   ]
  },
  {
   "cell_type": "code",
   "execution_count": 422,
   "id": "nearby-engineer",
   "metadata": {},
   "outputs": [],
   "source": [
    "f=F[0]\n",
    "g=F[1]\n",
    "s = s_polynomial(f, g)\n",
    "s\n",
    "r_list = [ div(s, F[i])[1] for i in range(len(F)) ]\n",
    "\n",
    "    # Add the final remainder\n",
    "r = sum(r_list)/len(r_list)"
   ]
  },
  {
   "cell_type": "code",
   "execution_count": 423,
   "id": "purple-sheep",
   "metadata": {},
   "outputs": [
    {
     "name": "stdout",
     "output_type": "stream",
     "text": [
      "Input Polynomials are:\n"
     ]
    },
    {
     "data": {
      "text/latex": [
       "\\begin{equation}x^{3} - 2 x y\\end{equation}"
      ],
      "text/plain": [
       " 3        \n",
       "x  - 2⋅x⋅y"
      ]
     },
     "metadata": {},
     "output_type": "display_data"
    },
    {
     "data": {
      "text/latex": [
       "\\begin{equation}x^{2} y + x - 2 y^{2}\\end{equation}"
      ],
      "text/plain": [
       " 2            2\n",
       "x ⋅y + x - 2⋅y "
      ]
     },
     "metadata": {},
     "output_type": "display_data"
    },
    {
     "name": "stdout",
     "output_type": "stream",
     "text": [
      "The remainder is:\n"
     ]
    },
    {
     "data": {
      "text/latex": [
       "\\begin{equation}- x^{2}\\end{equation}"
      ],
      "text/plain": [
       "  2\n",
       "-x "
      ]
     },
     "metadata": {},
     "output_type": "display_data"
    },
    {
     "name": "stdout",
     "output_type": "stream",
     "text": [
      "Input Polynomials are:\n"
     ]
    },
    {
     "data": {
      "text/latex": [
       "\\begin{equation}x^{2} y + x - 2 y^{2}\\end{equation}"
      ],
      "text/plain": [
       " 2            2\n",
       "x ⋅y + x - 2⋅y "
      ]
     },
     "metadata": {},
     "output_type": "display_data"
    },
    {
     "data": {
      "text/latex": [
       "\\begin{equation}x^{3} - 2 x y\\end{equation}"
      ],
      "text/plain": [
       " 3        \n",
       "x  - 2⋅x⋅y"
      ]
     },
     "metadata": {},
     "output_type": "display_data"
    },
    {
     "name": "stdout",
     "output_type": "stream",
     "text": [
      "The remainder is:\n"
     ]
    },
    {
     "data": {
      "text/latex": [
       "\\begin{equation}\\frac{3 x^{2}}{4}\\end{equation}"
      ],
      "text/plain": [
       "   2\n",
       "3⋅x \n",
       "────\n",
       " 4  "
      ]
     },
     "metadata": {},
     "output_type": "display_data"
    },
    {
     "name": "stdout",
     "output_type": "stream",
     "text": [
      "Input Polynomials are:\n"
     ]
    },
    {
     "data": {
      "text/latex": [
       "\\begin{equation}x^{3} - 2 x y\\end{equation}"
      ],
      "text/plain": [
       " 3        \n",
       "x  - 2⋅x⋅y"
      ]
     },
     "metadata": {},
     "output_type": "display_data"
    },
    {
     "data": {
      "text/latex": [
       "\\begin{equation}- x^{2}\\end{equation}"
      ],
      "text/plain": [
       "  2\n",
       "-x "
      ]
     },
     "metadata": {},
     "output_type": "display_data"
    },
    {
     "name": "stdout",
     "output_type": "stream",
     "text": [
      "The remainder is:\n"
     ]
    },
    {
     "data": {
      "text/latex": [
       "\\begin{equation}- 2 x y\\end{equation}"
      ],
      "text/plain": [
       "-2⋅x⋅y"
      ]
     },
     "metadata": {},
     "output_type": "display_data"
    },
    {
     "name": "stdout",
     "output_type": "stream",
     "text": [
      "Input Polynomials are:\n"
     ]
    },
    {
     "data": {
      "text/latex": [
       "\\begin{equation}- x^{2}\\end{equation}"
      ],
      "text/plain": [
       "  2\n",
       "-x "
      ]
     },
     "metadata": {},
     "output_type": "display_data"
    },
    {
     "data": {
      "text/latex": [
       "\\begin{equation}\\frac{3 x^{2}}{4}\\end{equation}"
      ],
      "text/plain": [
       "   2\n",
       "3⋅x \n",
       "────\n",
       " 4  "
      ]
     },
     "metadata": {},
     "output_type": "display_data"
    },
    {
     "name": "stdout",
     "output_type": "stream",
     "text": [
      "Remainder is 0, this pair belongs to Groebner Basis\n",
      "Input Polynomials are:\n"
     ]
    },
    {
     "data": {
      "text/latex": [
       "\\begin{equation}\\frac{3 x^{2}}{4}\\end{equation}"
      ],
      "text/plain": [
       "   2\n",
       "3⋅x \n",
       "────\n",
       " 4  "
      ]
     },
     "metadata": {},
     "output_type": "display_data"
    },
    {
     "data": {
      "text/latex": [
       "\\begin{equation}- 2 x y\\end{equation}"
      ],
      "text/plain": [
       "-2⋅x⋅y"
      ]
     },
     "metadata": {},
     "output_type": "display_data"
    },
    {
     "name": "stdout",
     "output_type": "stream",
     "text": [
      "Remainder is 0, this pair belongs to Groebner Basis\n",
      "Algorithm Completed! The Groebner Basis is:\n"
     ]
    },
    {
     "data": {
      "text/latex": [
       "\\begin{equation}x^{3} - 2 x y\\end{equation}"
      ],
      "text/plain": [
       " 3        \n",
       "x  - 2⋅x⋅y"
      ]
     },
     "metadata": {},
     "output_type": "display_data"
    },
    {
     "data": {
      "text/latex": [
       "\\begin{equation}x^{2} y + x - 2 y^{2}\\end{equation}"
      ],
      "text/plain": [
       " 2            2\n",
       "x ⋅y + x - 2⋅y "
      ]
     },
     "metadata": {},
     "output_type": "display_data"
    },
    {
     "data": {
      "text/latex": [
       "\\begin{equation}x^{3} - 2 x y\\end{equation}"
      ],
      "text/plain": [
       " 3        \n",
       "x  - 2⋅x⋅y"
      ]
     },
     "metadata": {},
     "output_type": "display_data"
    },
    {
     "data": {
      "text/latex": [
       "\\begin{equation}- x^{2}\\end{equation}"
      ],
      "text/plain": [
       "  2\n",
       "-x "
      ]
     },
     "metadata": {},
     "output_type": "display_data"
    },
    {
     "data": {
      "text/latex": [
       "\\begin{equation}\\frac{3 x^{2}}{4}\\end{equation}"
      ],
      "text/plain": [
       "   2\n",
       "3⋅x \n",
       "────\n",
       " 4  "
      ]
     },
     "metadata": {},
     "output_type": "display_data"
    },
    {
     "data": {
      "text/latex": [
       "\\begin{equation}- 2 x y\\end{equation}"
      ],
      "text/plain": [
       "-2⋅x⋅y"
      ]
     },
     "metadata": {},
     "output_type": "display_data"
    }
   ],
   "source": [
    "F = F_0.copy()\n",
    "\n",
    "# For every pair of polynomials in F\n",
    "for pair in pairwise(F):\n",
    "    # Print the pairs that are being used\n",
    "    print(\"Input Polynomials are:\")\n",
    "    display(pair[0])\n",
    "    display(pair[1])\n",
    "\n",
    "    # Calculate the S Polynomial\n",
    "    s = s_polynomial(pair[0], pair[1])\n",
    "\n",
    "    # Calculate all the remainders\n",
    "    r_list = [ div(s, F[i])[1] for i in range(len(F)) ]\n",
    "\n",
    "    # Add the final remainder\n",
    "    r = sum(r_list)/len(r_list)\n",
    "\n",
    "    # If necessary add it back in\n",
    "    if r != 0: \n",
    "        print(\"The remainder is:\")\n",
    "        display(r)\n",
    "        F.append(r)\n",
    "    else:\n",
    "        print(\"Remainder is 0, this pair belongs to Groebner Basis\")\n",
    "# Print F, which should now be a Groebner Basis\n",
    "print(\"Algorithm Completed! The Groebner Basis is:\")\n",
    "for poly in F:\n",
    "    display(poly)"
   ]
  },
  {
   "cell_type": "code",
   "execution_count": 424,
   "id": "australian-rugby",
   "metadata": {},
   "outputs": [
    {
     "ename": "SyntaxError",
     "evalue": "invalid syntax (<ipython-input-424-6d2ae4931d5a>, line 1)",
     "output_type": "error",
     "traceback": [
      "\u001b[0;36m  File \u001b[0;32m\"<ipython-input-424-6d2ae4931d5a>\"\u001b[0;36m, line \u001b[0;32m1\u001b[0m\n\u001b[0;31m    To test if this is indeed a Groebner Basis:\u001b[0m\n\u001b[0m       ^\u001b[0m\n\u001b[0;31mSyntaxError\u001b[0m\u001b[0;31m:\u001b[0m invalid syntax\n"
     ]
    }
   ],
   "source": [
    "To test if this is indeed a Groebner Basis:"
   ]
  },
  {
   "cell_type": "markdown",
   "id": "plastic-screen",
   "metadata": {},
   "source": [
    "Now would be a good time to stop and look at implementing autoreduction."
   ]
  },
  {
   "cell_type": "markdown",
   "id": "electoral-parts",
   "metadata": {},
   "source": [
    "### Old Work"
   ]
  },
  {
   "cell_type": "code",
   "execution_count": 17,
   "id": "proprietary-information",
   "metadata": {},
   "outputs": [],
   "source": [
    "def poly_prod(F):\n",
    "    product_val = 1\n",
    "    for poly in F:\n",
    "        product_val *= poly\n",
    "    return product_val"
   ]
  },
  {
   "cell_type": "code",
   "execution_count": 18,
   "id": "structured-ceiling",
   "metadata": {},
   "outputs": [],
   "source": [
    "def remainder_set_div(s, F):\n",
    "    r_list = [ div(s, F[i])[1] for i in range(len(F)) ]\n",
    "    r = sum(r_list)\n",
    "    return r\n"
   ]
  },
  {
   "cell_type": "code",
   "execution_count": 19,
   "id": "concrete-notification",
   "metadata": {},
   "outputs": [],
   "source": [
    "def buchberger_criterion(f,g, F):\n",
    "    s = s_polynomial(f, g)\n",
    "    r = remainder_set_div(s, F)\n",
    "    return r"
   ]
  },
  {
   "cell_type": "code",
   "execution_count": 20,
   "id": "subtle-phenomenon",
   "metadata": {},
   "outputs": [],
   "source": [
    "r = buchberger_criterion(F[0], F[1], F)\n",
    "if r != 0:\n",
    "    F.append(r)\n"
   ]
  },
  {
   "cell_type": "code",
   "execution_count": 21,
   "id": "weird-scroll",
   "metadata": {},
   "outputs": [
    {
     "data": {
      "text/latex": [
       "\\begin{equation}\\left[ x^{3} - 2 x y, \\  x^{2} y + x - 2 y^{2}, \\  - x^{2}, \\  x^{3} - 2 x y, \\  x^{3} - 2 x y, \\  - \\frac{4 x^{2}}{5}, \\  x - 2 y^{2}, \\  \\frac{12 x y}{7} + \\frac{4 y^{3}}{7}, \\  - \\frac{3 x y}{2} - \\frac{5 y^{3}}{12}, \\  \\frac{4 x y^{2}}{3} + \\frac{25 y^{4}}{81}, \\  - \\frac{7 y^{3}}{3}, \\  \\frac{5 y^{3}}{99}, \\  \\frac{25 y^{4}}{648}, \\  \\frac{125 y^{5}}{702}, \\  - 11 x^{2} - 4 y^{4}\\right]\\end{equation}"
      ],
      "text/plain": [
       "⎡                                                              2              \n",
       "⎢ 3           2            2    2   3           3          -4⋅x           2  1\n",
       "⎢x  - 2⋅x⋅y, x ⋅y + x - 2⋅y , -x , x  - 2⋅x⋅y, x  - 2⋅x⋅y, ──────, x - 2⋅y , ─\n",
       "⎣                                                            5                \n",
       "\n",
       "           3               3       2       4      3      3      4       5     \n",
       "2⋅x⋅y   4⋅y     3⋅x⋅y   5⋅y   4⋅x⋅y    25⋅y   -7⋅y    5⋅y   25⋅y   125⋅y      \n",
       "───── + ────, - ───── - ────, ────── + ─────, ──────, ────, ─────, ──────, - 1\n",
       " 7       7        2      12     3        81     3      99    648    702       \n",
       "\n",
       "           ⎤\n",
       "   2      4⎥\n",
       "1⋅x  - 4⋅y ⎥\n",
       "           ⎦"
      ]
     },
     "execution_count": 21,
     "metadata": {},
     "output_type": "execute_result"
    }
   ],
   "source": [
    "F"
   ]
  },
  {
   "cell_type": "markdown",
   "id": "suitable-blank",
   "metadata": {},
   "source": [
    "So we got back a remainder of $-x^2$, this isn't zero, so we throw it in the bag"
   ]
  },
  {
   "cell_type": "markdown",
   "id": "authorized-kenya",
   "metadata": {},
   "source": [
    "We haven't tried every combination, so onto the next one:"
   ]
  },
  {
   "cell_type": "code",
   "execution_count": 22,
   "id": "final-logic",
   "metadata": {},
   "outputs": [],
   "source": [
    "r = buchberger_criterion(F[0], F[2], F)\n",
    "if r != 0:\n",
    "    F.append(r)\n"
   ]
  },
  {
   "cell_type": "code",
   "execution_count": 23,
   "id": "cathedral-experience",
   "metadata": {},
   "outputs": [
    {
     "data": {
      "text/latex": [
       "\\begin{equation}\\left[ x^{3} - 2 x y, \\  x^{2} y + x - 2 y^{2}, \\  - x^{2}, \\  x^{3} - 2 x y, \\  x^{3} - 2 x y, \\  - \\frac{4 x^{2}}{5}, \\  x - 2 y^{2}, \\  \\frac{12 x y}{7} + \\frac{4 y^{3}}{7}, \\  - \\frac{3 x y}{2} - \\frac{5 y^{3}}{12}, \\  \\frac{4 x y^{2}}{3} + \\frac{25 y^{4}}{81}, \\  - \\frac{7 y^{3}}{3}, \\  \\frac{5 y^{3}}{99}, \\  \\frac{25 y^{4}}{648}, \\  \\frac{125 y^{5}}{702}, \\  - 11 x^{2} - 4 y^{4}, \\  - 24 x y - \\frac{25 y^{3}}{9}\\right]\\end{equation}"
      ],
      "text/plain": [
       "⎡                                                              2              \n",
       "⎢ 3           2            2    2   3           3          -4⋅x           2  1\n",
       "⎢x  - 2⋅x⋅y, x ⋅y + x - 2⋅y , -x , x  - 2⋅x⋅y, x  - 2⋅x⋅y, ──────, x - 2⋅y , ─\n",
       "⎣                                                            5                \n",
       "\n",
       "           3               3       2       4      3      3      4       5     \n",
       "2⋅x⋅y   4⋅y     3⋅x⋅y   5⋅y   4⋅x⋅y    25⋅y   -7⋅y    5⋅y   25⋅y   125⋅y      \n",
       "───── + ────, - ───── - ────, ────── + ─────, ──────, ────, ─────, ──────, - 1\n",
       " 7       7        2      12     3        81     3      99    648    702       \n",
       "\n",
       "                           3⎤\n",
       "   2      4            25⋅y ⎥\n",
       "1⋅x  - 4⋅y , -24⋅x⋅y - ─────⎥\n",
       "                         9  ⎦"
      ]
     },
     "execution_count": 23,
     "metadata": {},
     "output_type": "execute_result"
    }
   ],
   "source": [
    "F"
   ]
  },
  {
   "cell_type": "markdown",
   "id": "automatic-collection",
   "metadata": {},
   "source": [
    "This gave a remainder of $-2xy$, so it goes in the bag"
   ]
  },
  {
   "cell_type": "markdown",
   "id": "neither-australian",
   "metadata": {},
   "source": [
    "Now we try the next combination $f_1$ and $f_4$"
   ]
  },
  {
   "cell_type": "code",
   "execution_count": 24,
   "id": "prerequisite-executive",
   "metadata": {},
   "outputs": [
    {
     "data": {
      "text/latex": [
       "\\begin{equation}\\left[ x^{3} - 2 x y, \\  x^{2} y + x - 2 y^{2}, \\  - x^{2}, \\  x^{3} - 2 x y, \\  x^{3} - 2 x y, \\  - \\frac{4 x^{2}}{5}, \\  x - 2 y^{2}, \\  \\frac{12 x y}{7} + \\frac{4 y^{3}}{7}, \\  - \\frac{3 x y}{2} - \\frac{5 y^{3}}{12}, \\  \\frac{4 x y^{2}}{3} + \\frac{25 y^{4}}{81}, \\  - \\frac{7 y^{3}}{3}, \\  \\frac{5 y^{3}}{99}, \\  \\frac{25 y^{4}}{648}, \\  \\frac{125 y^{5}}{702}, \\  - 11 x^{2} - 4 y^{4}, \\  - 24 x y - \\frac{25 y^{3}}{9}\\right]\\end{equation}"
      ],
      "text/plain": [
       "⎡                                                              2              \n",
       "⎢ 3           2            2    2   3           3          -4⋅x           2  1\n",
       "⎢x  - 2⋅x⋅y, x ⋅y + x - 2⋅y , -x , x  - 2⋅x⋅y, x  - 2⋅x⋅y, ──────, x - 2⋅y , ─\n",
       "⎣                                                            5                \n",
       "\n",
       "           3               3       2       4      3      3      4       5     \n",
       "2⋅x⋅y   4⋅y     3⋅x⋅y   5⋅y   4⋅x⋅y    25⋅y   -7⋅y    5⋅y   25⋅y   125⋅y      \n",
       "───── + ────, - ───── - ────, ────── + ─────, ──────, ────, ─────, ──────, - 1\n",
       " 7       7        2      12     3        81     3      99    648    702       \n",
       "\n",
       "                           3⎤\n",
       "   2      4            25⋅y ⎥\n",
       "1⋅x  - 4⋅y , -24⋅x⋅y - ─────⎥\n",
       "                         9  ⎦"
      ]
     },
     "execution_count": 24,
     "metadata": {},
     "output_type": "execute_result"
    }
   ],
   "source": [
    "r = buchberger_criterion(F[0], F[3], F)\n",
    "if r != 0:\n",
    "    F.append(r)\n",
    "F"
   ]
  },
  {
   "cell_type": "markdown",
   "id": "present-racing",
   "metadata": {},
   "source": [
    "So the problem at this step is that diving by the product of F is not what we want"
   ]
  },
  {
   "cell_type": "code",
   "execution_count": 25,
   "id": "executed-commissioner",
   "metadata": {},
   "outputs": [
    {
     "name": "stdout",
     "output_type": "stream",
     "text": [
      "(0, -2*x*y**2)\n",
      "(0, -2*x*y**2)\n",
      "(0, -2*x*y**2)\n",
      "(0, -2*x*y**2)\n"
     ]
    }
   ],
   "source": [
    "print(div(-2*x*y**2, F[1]))\n",
    "print(div(-2*x*y**2, F[2]))\n",
    "print(div(-2*x*y**2, F[3]))\n",
    "print(div(-2*x*y**2, F[4]))"
   ]
  }
 ],
 "metadata": {
  "kernelspec": {
   "display_name": "Python 3",
   "language": "python",
   "name": "python3"
  },
  "language_info": {
   "codemirror_mode": {
    "name": "ipython",
    "version": 3
   },
   "file_extension": ".py",
   "mimetype": "text/x-python",
   "name": "python",
   "nbconvert_exporter": "python",
   "pygments_lexer": "ipython3",
   "version": "3.9.3-final"
  }
 },
 "nbformat": 4,
 "nbformat_minor": 5
}