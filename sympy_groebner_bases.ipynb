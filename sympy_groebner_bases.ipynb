{
 "cells": [
  {
   "cell_type": "markdown",
   "id": "occasional-appliance",
   "metadata": {},
   "source": [
    "# Buchbergers Algorithm"
   ]
  },
  {
   "cell_type": "markdown",
   "id": "regional-zealand",
   "metadata": {},
   "source": [
    "## Boiler Plate"
   ]
  },
  {
   "source": [
    "First load the Sympy module"
   ],
   "cell_type": "markdown",
   "metadata": {}
  },
  {
   "cell_type": "code",
   "execution_count": 12,
   "id": "northern-cancellation",
   "metadata": {},
   "outputs": [],
   "source": [
    "## Sympy Boiler Plate\n",
    "\n",
    "from __future__ import division\n",
    "from sympy import *\n",
    "t, x, y, z = symbols('t x y z')  # I believe this order matters, i.e. t<-x1, x <- x2, y <- x3 ...\n",
    "k, m, n = symbols('k m n', integer=True)\n",
    "f, g, h = symbols('f g h', cls=Function)\n",
    "init_printing()\n",
    "init_printing(use_latex='mathjax', latex_mode='equation')\n",
    "\n",
    "\n",
    "\n",
    "import pyperclip\n",
    "def lx(expr):\n",
    "    pyperclip.copy(latex(expr))\n",
    "    print(expr)\n",
    "# NB: See also srepr(), display() and print_mathml()\n",
    "\n",
    "import numpy as np\n",
    "import matplotlib as plt"
   ]
  },
  {
   "cell_type": "markdown",
   "id": "affiliated-dublin",
   "metadata": {},
   "source": [
    "## Terminology\n",
    "\n",
    "There are mutlidegree's, leading coefficients, leading monomials and leading terms."
   ]
  },
  {
   "cell_type": "code",
   "execution_count": 116,
   "metadata": {},
   "outputs": [],
   "source": [
    "def f(x, domain = 'QQ'):\n",
    "    return 2+3*x+5*y+7*x*y+11*x**2*y+13*x*y**2+17*x**2*y**2+19*x**2*y**2*z**2\n",
    "    # return 13*x**2+11*x-7\n",
    "def g(x, domain = 'QQ'):\n",
    "    return 2+3*x+5*y+7*x*y+11*x**2*y+13*x*y**2+17*x**2*y**2+19*x*y**2*z**2\n",
    "    # return 13*x**2+11*x-7\n"
   ]
  },
  {
   "cell_type": "code",
   "execution_count": 117,
   "metadata": {},
   "outputs": [
    {
     "output_type": "stream",
     "name": "stdout",
     "text": [
      "Leading Monomial:\n"
     ]
    },
    {
     "output_type": "display_data",
     "data": {
      "text/plain": " 2  2  2\nx ⋅y ⋅z ",
      "text/latex": "\\begin{equation}x^{2} y^{2} z^{2}\\end{equation}"
     },
     "metadata": {}
    },
    {
     "output_type": "stream",
     "name": "stdout",
     "text": [
      "Leading Coefficient\n"
     ]
    },
    {
     "output_type": "display_data",
     "data": {
      "text/plain": "19",
      "text/latex": "\\begin{equation}19\\end{equation}"
     },
     "metadata": {}
    },
    {
     "output_type": "stream",
     "name": "stdout",
     "text": [
      "Leading Term\n"
     ]
    },
    {
     "output_type": "display_data",
     "data": {
      "text/plain": "    2  2  2\n19⋅x ⋅y ⋅z ",
      "text/latex": "\\begin{equation}19 x^{2} y^{2} z^{2}\\end{equation}"
     },
     "metadata": {}
    }
   ],
   "source": [
    "print(\"Leading Monomial:\")\n",
    "display(LM(f(x)))\n",
    "\n",
    "print(\"Leading Coefficient\")\n",
    "display(LC(f(x)))\n",
    "\n",
    "print(\"Leading Term\")\n",
    "display(LT(f(x)))"
   ]
  },
  {
   "source": [
    "The initial monomial with respect to an ordering is the first monomial returned by `sympy`, I believe that sympy uses lexicographic ordering under the hood, as suggested by the documentation [^spdocsPolySysRef], but I'd need to get a better understanding of the differences between `lex`, `grlex` and `grevlex` to be certain.\n",
    "\n",
    "\n",
    "[^spdocsPolySysRef]: SymPy Development Team. “Polynomials Manipulation Module Reference — SymPy 1.8 Documentation.” Sympy Documentation. Accessed April 13, 2021. https://docs.sympy.org/latest/modules/polys/reference.html."
   ],
   "cell_type": "markdown",
   "metadata": {}
  },
  {
   "cell_type": "code",
   "execution_count": 118,
   "metadata": {},
   "outputs": [
    {
     "output_type": "execute_result",
     "data": {
      "text/plain": [
       "    2  2  2       2  2       2           2                        \n",
       "19⋅x ⋅y ⋅z  + 17⋅x ⋅y  + 11⋅x ⋅y + 13⋅x⋅y  + 7⋅x⋅y + 3⋅x + 5⋅y + 2"
      ],
      "text/latex": "\\begin{equation}19 x^{2} y^{2} z^{2} + 17 x^{2} y^{2} + 11 x^{2} y + 13 x y^{2} + 7 x y + 3 x + 5 y + 2\\end{equation}"
     },
     "metadata": {},
     "execution_count": 118
    }
   ],
   "source": [
    "f(x)"
   ]
  },
  {
   "source": [
    "In this case, the first monomial is $x^2y^2z^2$ and so that is the initial. In practice we can just use the `LT`, the initial is just another way to skin the cat, which is probably why sympy doesn't offer a clear way to extract the initial. [^initVlt].\n",
    "\n",
    "\n",
    "[^initVlt]: If it was necessary to get the initial one option might be to extract the polynomial to a string `str(f(x))` and then use regex `^[A-Za-z0-9*]+(?=[\\ +])` to extract the first term and then take the `LM` of that term to get the initial monomial."
   ],
   "cell_type": "markdown",
   "metadata": {}
  },
  {
   "cell_type": "code",
   "execution_count": 119,
   "metadata": {},
   "outputs": [
    {
     "output_type": "execute_result",
     "data": {
      "text/plain": [
       "    2  2  2       2  2       2           2                        \n",
       "19⋅x ⋅y ⋅z  + 17⋅x ⋅y  + 11⋅x ⋅y + 13⋅x⋅y  + 7⋅x⋅y + 3⋅x + 5⋅y + 2"
      ],
      "text/latex": "\\begin{equation}19 x^{2} y^{2} z^{2} + 17 x^{2} y^{2} + 11 x^{2} y + 13 x y^{2} + 7 x y + 3 x + 5 y + 2\\end{equation}"
     },
     "metadata": {},
     "execution_count": 119
    }
   ],
   "source": [
    "f(x)"
   ]
  },
  {
   "cell_type": "code",
   "execution_count": 120,
   "metadata": {},
   "outputs": [
    {
     "output_type": "execute_result",
     "data": {
      "text/plain": [
       "    2  2       2           2  2         2                        \n",
       "17⋅x ⋅y  + 11⋅x ⋅y + 19⋅x⋅y ⋅z  + 13⋅x⋅y  + 7⋅x⋅y + 3⋅x + 5⋅y + 2"
      ],
      "text/latex": "\\begin{equation}17 x^{2} y^{2} + 11 x^{2} y + 19 x y^{2} z^{2} + 13 x y^{2} + 7 x y + 3 x + 5 y + 2\\end{equation}"
     },
     "metadata": {},
     "execution_count": 120
    }
   ],
   "source": [
    "g(x)"
   ]
  },
  {
   "source": [
    "## Implementing the Algorithm"
   ],
   "cell_type": "markdown",
   "metadata": {}
  },
  {
   "source": [
    "### Set of Polynomials"
   ],
   "cell_type": "markdown",
   "metadata": {}
  },
  {
   "source": [
    "To begin with, we'll implement buchberger's algorithm on a simple polynomial system, the reason for this choice is to see the implementation of the algorithm generally, a *simple* system such as a linear or single variable system, may be more confusing at first, but will be returned to later in order to draw insights."
   ],
   "cell_type": "markdown",
   "metadata": {}
  },
  {
   "source": [
    "So we have our bag of polynomials:"
   ],
   "cell_type": "markdown",
   "metadata": {}
  },
  {
   "cell_type": "code",
   "execution_count": 126,
   "metadata": {},
   "outputs": [
    {
     "output_type": "display_data",
     "data": {
      "text/plain": " 3        \nx  - 2⋅x⋅y",
      "text/latex": "\\begin{equation}x^{3} - 2 x y\\end{equation}"
     },
     "metadata": {}
    },
    {
     "output_type": "display_data",
     "data": {
      "text/plain": " 2            2\nx ⋅y + x - 2⋅y ",
      "text/latex": "\\begin{equation}x^{2} y + x - 2 y^{2}\\end{equation}"
     },
     "metadata": {}
    }
   ],
   "source": [
    "F = [x**3-2*x*y, x**2*y-2*y**2 + x]\n",
    "for poly in F:\n",
    "    display(poly)"
   ]
  },
  {
   "source": [
    "These polynomials are equal to zero and so could also be expressed:"
   ],
   "cell_type": "markdown",
   "metadata": {}
  },
  {
   "source": [
    "\\begin{align}\n",
    "x^3 &= 2xy \\\\\n",
    "  x &=2y^2-x^2y    \n",
    "\\end{align}"
   ],
   "cell_type": "markdown",
   "metadata": {}
  },
  {
   "source": [
    "Now we want our algorithm to give us back:"
   ],
   "cell_type": "markdown",
   "metadata": {}
  },
  {
   "cell_type": "code",
   "execution_count": 124,
   "metadata": {},
   "outputs": [
    {
     "output_type": "execute_result",
     "data": {
      "text/plain": [
       "             ⎛⎡       2   3⎤                           ⎞\n",
       "GroebnerBasis⎝⎣x - 2⋅y , y ⎦, x, y, domain=ℤ, order=lex⎠"
      ],
      "text/latex": "\\begin{equation}GroebnerBasis\\left(\\left( x - 2 y^{2}, \\  y^{3}\\right), \\left( x, \\  y\\right)\\right)\\end{equation}"
     },
     "metadata": {},
     "execution_count": 124
    }
   ],
   "source": [
    "G_out = polys.polytools.groebner(F, x, y, order = 'lex', method = 'buchberger')\n",
    "G_out\n"
   ]
  },
  {
   "source": [
    "Note that the 2nd tupple $\\left(x, y\\right)$ that is printed out refers to the variables, the first tupple is the reduced Groebner Basis, a clearer way to display it would be as a list:"
   ],
   "cell_type": "markdown",
   "metadata": {}
  },
  {
   "cell_type": "code",
   "execution_count": 125,
   "metadata": {},
   "outputs": [
    {
     "output_type": "display_data",
     "data": {
      "text/plain": "⎡       2   3⎤\n⎣x - 2⋅y , y ⎦",
      "text/latex": "\\begin{equation}\\left[ x - 2 y^{2}, \\  y^{3}\\right]\\end{equation}"
     },
     "metadata": {}
    }
   ],
   "source": [
    "\n",
    "G = []\n",
    "for poly in G_out:\n",
    "    G.append(poly)\n",
    "\n",
    "display(G)\n"
   ]
  },
  {
   "source": [
    "and so overall we have:"
   ],
   "cell_type": "markdown",
   "metadata": {}
  },
  {
   "source": [
    "$$\n",
    "\\begin{array}{rcl}\n",
    "x^{3} & = & 2xy\\\\\n",
    "x & = & 2y^{2}-x^{2}y\n",
    "\\end{array}\\implies\\begin{array}{rcl}\n",
    "y^{2} & = & \\frac{1}{2}x\\\\\n",
    "y^{3} & = & 0\n",
    "\\end{array}\n",
    "$$"
   ],
   "cell_type": "markdown",
   "metadata": {}
  },
  {
   "source": [
    "\\begin{align}\n",
    "y^2 &= \\frac{1}{2}x \\\\\n",
    "y^3 &= 0\n",
    "\\end{align}    "
   ],
   "cell_type": "markdown",
   "metadata": {}
  },
  {
   "source": [
    "## S-Polynomial"
   ],
   "cell_type": "markdown",
   "metadata": {}
  },
  {
   "source": [
    "The $S$-Polynomial used to determine whether or not two polynomials belong in the Groebner Basis and it is given by:\n",
    "\n",
    "$$\n",
    "S=\\mathrm{LCM}\\left(\\mathrm{LM}\\left(f\\right),\\mathrm{LM}\\left(g\\right)\\right)\\times\\left(\\frac{f}{\\mathrm{LT}\\left(f\\right)}-\\frac{g}{\\mathrm{LT}\\left(g\\right)}\\right)\n",
    "$$"
   ],
   "cell_type": "markdown",
   "metadata": {}
  },
  {
   "source": [
    "Sympy comes with a function to determine the LCM of polynomials:\n",
    "\n"
   ],
   "cell_type": "markdown",
   "metadata": {}
  },
  {
   "cell_type": "code",
   "execution_count": 142,
   "metadata": {},
   "outputs": [
    {
     "output_type": "execute_result",
     "data": {
      "text/plain": [
       " 3  \n",
       "x ⋅y"
      ],
      "text/latex": "\\begin{equation}x^{3} y\\end{equation}"
     },
     "metadata": {},
     "execution_count": 142
    }
   ],
   "source": [
    "from sympy.polys.monomials import monomial_mul, monomial_lcm, monomial_divides, term_div\n",
    "# https://docs.sympy.org/latest/modules/polys/basics.html\n",
    "LMf = LM(F[0])\n",
    "LMg = LM(F[1])\n",
    "# LCM12 = monomial_lcm(LMF, LMG) # This fails\n",
    "LCM12 = lcm(LMf, LMg)\n",
    "LCM12\n"
   ]
  },
  {
   "source": [
    "and the $s$-polynomial can hence be calculated thusly:"
   ],
   "cell_type": "markdown",
   "metadata": {}
  },
  {
   "cell_type": "code",
   "execution_count": 145,
   "metadata": {},
   "outputs": [
    {
     "output_type": "execute_result",
     "data": {
      "text/plain": [
       "  2\n",
       "-x "
      ],
      "text/latex": "\\begin{equation}- x^{2}\\end{equation}"
     },
     "metadata": {},
     "execution_count": 145
    }
   ],
   "source": [
    "def s_polynomial(f, g):\n",
    "    LCM_fg = lcm(LM(f), LM(g))\n",
    "    s = LCM_fg*(f/LT(f)-g/LT(g))\n",
    "    return s.expand()\n",
    "s=s_polynomial(F[0], F[1])\n",
    "s"
   ]
  },
  {
   "source": [
    "Now we need to divide this $s$ value by all the terms in $F$, write it out in terms of quotients and divisors and then consider the remainder, so for example:"
   ],
   "cell_type": "markdown",
   "metadata": {}
  },
  {
   "cell_type": "code",
   "execution_count": 146,
   "metadata": {},
   "outputs": [
    {
     "output_type": "display_data",
     "data": {
      "text/plain": "⎛     2⎞\n⎝0, -x ⎠",
      "text/latex": "\\begin{equation}\\left( 0, \\  - x^{2}\\right)\\end{equation}"
     },
     "metadata": {}
    },
    {
     "output_type": "display_data",
     "data": {
      "text/plain": "⎛     2⎞\n⎝0, -x ⎠",
      "text/latex": "\\begin{equation}\\left( 0, \\  - x^{2}\\right)\\end{equation}"
     },
     "metadata": {}
    }
   ],
   "source": [
    "display(div(s, F[0]))\n",
    "display(div(s, F[1]))"
   ]
  },
  {
   "source": [
    "\\begin{align*}\n",
    " & -x^{2} & = & 0\\left(2xy\\right) & -x^{2}\\\\\n",
    "+ &  & =\\\\\n",
    " & -x^{2} & = & 0\\left(2y^{2}-x^{2}y\\right) & -x^{2}\\\\\n",
    "\\hline  & -2x^{2} & = & 0\\left(2xy\\right)+0\\left(2y^{2}-x^{2}y\\right) & -2x^{2}\\\\\n",
    "\\implies & r & = & \\mathrm{mean}\\left(r\\in R\\right)\n",
    "\\end{align*}\n"
   ],
   "cell_type": "markdown",
   "metadata": {}
  },
  {
   "source": [
    "And so this remainder value can be calculated, in `sympy`, like so:"
   ],
   "cell_type": "markdown",
   "metadata": {}
  },
  {
   "cell_type": "code",
   "execution_count": 148,
   "metadata": {},
   "outputs": [
    {
     "output_type": "execute_result",
     "data": {
      "text/plain": [
       "  2\n",
       "-x "
      ],
      "text/latex": "\\begin{equation}- x^{2}\\end{equation}"
     },
     "metadata": {},
     "execution_count": 148
    }
   ],
   "source": [
    "r_list = [ div(s, F[i])[1] for i in range(len(F)) ]\n",
    "r = sum(r_list)/len(r_list)\n",
    "r"
   ]
  },
  {
   "source": [
    "Now because this remainder value is non-zero, it belongs to the Groebner Bases and it needs to be added back to $F$ and the process needs to start again."
   ],
   "cell_type": "markdown",
   "metadata": {}
  },
  {
   "source": [
    "### Continue testing values"
   ],
   "cell_type": "markdown",
   "metadata": {}
  },
  {
   "cell_type": "code",
   "execution_count": null,
   "metadata": {},
   "outputs": [],
   "source": [
    "The value"
   ]
  },
  {
   "cell_type": "code",
   "execution_count": null,
   "metadata": {},
   "outputs": [],
   "source": []
  },
  {
   "cell_type": "code",
   "execution_count": null,
   "metadata": {},
   "outputs": [],
   "source": [
    "Note that we have to average the values, because:"
   ]
  },
  {
   "cell_type": "code",
   "execution_count": null,
   "metadata": {},
   "outputs": [],
   "source": [
    "Hmmm, this is't right, should this maybe be"
   ]
  },
  {
   "cell_type": "code",
   "execution_count": null,
   "metadata": {},
   "outputs": [],
   "source": []
  },
  {
   "cell_type": "code",
   "execution_count": 5,
   "metadata": {},
   "outputs": [
    {
     "output_type": "display_data",
     "data": {
      "text/plain": "    2    2       2  2       2           2                        \n19⋅t ⋅y⋅z  + 17⋅y ⋅z  + 11⋅y ⋅z + 13⋅y⋅z  + 7⋅y⋅z + 3⋅y + 5⋅z + 2",
      "text/latex": "\\begin{equation}19 t^{2} y z^{2} + 17 y^{2} z^{2} + 11 y^{2} z + 13 y z^{2} + 7 y z + 3 y + 5 z + 2\\end{equation}"
     },
     "metadata": {}
    }
   ],
   "source": [
    "display(g(x))"
   ]
  },
  {
   "cell_type": "code",
   "execution_count": 430,
   "metadata": {},
   "outputs": [
    {
     "output_type": "execute_result",
     "data": {
      "text/plain": [
       "\"Add(Mul(Integer(17), Pow(Symbol('x'), Integer(2)), Pow(Symbol('y'), Integer(2))), Mul(Integer(11), Pow(Symbol('x'), Integer(2)), Symbol('y')), Mul(Integer(19), Symbol('x'), Pow(Symbol('y'), Integer(2)), Pow(Symbol('z'), Integer(2))), Mul(Integer(13), Symbol('x'), Pow(Symbol('y'), Integer(2))), Mul(Integer(7), Symbol('x'), Symbol('y')), Mul(Integer(3), Symbol('x')), Mul(Integer(5), Symbol('y')), Integer(2))\""
      ]
     },
     "metadata": {},
     "execution_count": 430
    }
   ],
   "source": [
    "srepr(g(x))"
   ]
  },
  {
   "cell_type": "code",
   "execution_count": 431,
   "metadata": {},
   "outputs": [
    {
     "output_type": "stream",
     "name": "stdout",
     "text": [
      "    2  2       2           2  2         2                        \n17⋅x ⋅y  + 11⋅x ⋅y + 19⋅x⋅y ⋅z  + 13⋅x⋅y  + 7⋅x⋅y + 3⋅x + 5⋅y + 2\n"
     ]
    }
   ],
   "source": [
    "pprint(g(x))"
   ]
  },
  {
   "cell_type": "code",
   "execution_count": 392,
   "metadata": {},
   "outputs": [
    {
     "output_type": "execute_result",
     "data": {
      "text/plain": [
       "    2  2  2       2  2       2           2                        \n",
       "19⋅x ⋅y ⋅z  + 17⋅x ⋅y  + 11⋅x ⋅y + 13⋅x⋅y  + 7⋅x⋅y + 3⋅x + 5⋅y + 2"
      ],
      "text/latex": "\\begin{equation}19 x^{2} y^{2} z^{2} + 17 x^{2} y^{2} + 11 x^{2} y + 13 x y^{2} + 7 x y + 3 x + 5 y + 2\\end{equation}"
     },
     "metadata": {},
     "execution_count": 392
    }
   ],
   "source": [
    "f(x)"
   ]
  },
  {
   "source": [
    "Notice how the order is lexical $\\uparrow$"
   ],
   "cell_type": "markdown",
   "metadata": {}
  },
  {
   "source": [
    "The **multidegree** is the largest power ocross all variables"
   ],
   "cell_type": "markdown",
   "metadata": {}
  },
  {
   "cell_type": "code",
   "execution_count": 393,
   "metadata": {},
   "outputs": [
    {
     "output_type": "execute_result",
     "data": {
      "text/plain": [
       "2"
      ],
      "text/latex": "\\begin{equation}2\\end{equation}"
     },
     "metadata": {},
     "execution_count": 393
    }
   ],
   "source": [
    "def multideg(polynomial):\n",
    "    return max(degree_list(polynomial))\n",
    "multideg(f(x))"
   ]
  },
  {
   "source": [
    "Occassionally this will be written as $\\left\\langle 2,2,2\\right\\rangle$"
   ],
   "cell_type": "markdown",
   "metadata": {}
  },
  {
   "source": [
    "The *Leading Coefficient* is the coefficient corresponding to the Leading Monomial"
   ],
   "cell_type": "markdown",
   "metadata": {}
  },
  {
   "cell_type": "code",
   "execution_count": 394,
   "metadata": {},
   "outputs": [
    {
     "output_type": "execute_result",
     "data": {
      "text/plain": [
       "19"
      ],
      "text/latex": "\\begin{equation}19\\end{equation}"
     },
     "metadata": {},
     "execution_count": 394
    }
   ],
   "source": [
    "LC(f(x))\n",
    "# Can also be used as a method\n",
    "# poly(f(x), domain = 'QQ').LC()"
   ]
  },
  {
   "source": [
    "The leading monomial is the corresponding monomial"
   ],
   "cell_type": "markdown",
   "metadata": {}
  },
  {
   "cell_type": "code",
   "execution_count": 395,
   "metadata": {},
   "outputs": [
    {
     "output_type": "execute_result",
     "data": {
      "text/plain": [
       " 2  2  2\n",
       "x ⋅y ⋅z "
      ],
      "text/latex": "\\begin{equation}x^{2} y^{2} z^{2}\\end{equation}"
     },
     "metadata": {},
     "execution_count": 395
    }
   ],
   "source": [
    "# Also known as the initial.\n",
    "LM(f(x))"
   ]
  },
  {
   "source": [
    "The leading term is the largest term, given the order"
   ],
   "cell_type": "markdown",
   "metadata": {}
  },
  {
   "cell_type": "code",
   "execution_count": 396,
   "metadata": {},
   "outputs": [
    {
     "output_type": "execute_result",
     "data": {
      "text/plain": [
       "    2  2  2\n",
       "19⋅x ⋅y ⋅z "
      ],
      "text/latex": "\\begin{equation}19 x^{2} y^{2} z^{2}\\end{equation}"
     },
     "metadata": {},
     "execution_count": 396
    }
   ],
   "source": [
    "LT(f(x))"
   ]
  },
  {
   "cell_type": "markdown",
   "id": "complicated-stopping",
   "metadata": {},
   "source": [
    "## S Polynomial"
   ]
  },
  {
   "source": [
    "The $S$-Polynomial is a polynomial used in Buchberger's Algorithm, given some polynomials:"
   ],
   "cell_type": "markdown",
   "metadata": {}
  },
  {
   "cell_type": "code",
   "execution_count": 397,
   "metadata": {},
   "outputs": [],
   "source": [
    "def f(x, y):\n",
    "    return x**3*y**2-x**2*y**3+x\n",
    "def g(x, y):\n",
    "    return 3*x**4*y+y**2\n",
    "\n",
    "f, g = f(x, y), g(x, y)    "
   ]
  },
  {
   "source": [
    "The Lowest Common Multiple of the leading monomials can be given by:"
   ],
   "cell_type": "markdown",
   "metadata": {}
  },
  {
   "cell_type": "code",
   "execution_count": 398,
   "metadata": {},
   "outputs": [],
   "source": []
  },
  {
   "cell_type": "code",
   "execution_count": 399,
   "metadata": {},
   "outputs": [
    {
     "output_type": "execute_result",
     "data": {
      "text/plain": [
       " 4  2\n",
       "x ⋅y "
      ],
      "text/latex": "\\begin{equation}x^{4} y^{2}\\end{equation}"
     },
     "metadata": {},
     "execution_count": 399
    }
   ],
   "source": [
    "from sympy.polys.monomials import monomial_mul, monomial_lcm, monomial_divides, term_div\n",
    "# https://docs.sympy.org/latest/modules/polys/basics.html\n",
    "LMf = LM(f)\n",
    "LMg = LM(g)\n",
    "# LCM12 = monomial_lcm(LMF, LMG) # This fails\n",
    "LCM12 = lcm(LMf, LMg)\n",
    "LCM12\n"
   ]
  },
  {
   "source": [
    "Then the $S$-polymial is given by:"
   ],
   "cell_type": "markdown",
   "metadata": {}
  },
  {
   "cell_type": "code",
   "execution_count": 400,
   "metadata": {},
   "outputs": [
    {
     "output_type": "execute_result",
     "data": {
      "text/plain": [
       "                3\n",
       "   3  3    2   y \n",
       "- x ⋅y  + x  - ──\n",
       "               3 "
      ],
      "text/latex": "\\begin{equation}- x^{3} y^{3} + x^{2} - \\frac{y^{3}}{3}\\end{equation}"
     },
     "metadata": {},
     "execution_count": 400
    }
   ],
   "source": [
    "def s_polynomial(f, g):\n",
    "    LCM_fg = lcm(LM(f), LM(g))\n",
    "    s = LCM_fg*(f/LT(f)-g/LT(g))\n",
    "    return s.expand()\n",
    "s=s_polynomial(f, g)\n",
    "s"
   ]
  },
  {
   "source": [
    "This can be used to determine if a polynomial belongs to a Groebner Bases ($G$) or not, this is known as Buchberger's Criterion. If the remainder of the S polynomial divided by all elements of $F$ is 0, the pair belongs in $G$, if not, the remainder belongs in $G$."
   ],
   "cell_type": "markdown",
   "metadata": {}
  },
  {
   "source": [
    "consider the set of functions:"
   ],
   "cell_type": "markdown",
   "metadata": {}
  },
  {
   "cell_type": "code",
   "execution_count": 401,
   "metadata": {},
   "outputs": [
    {
     "output_type": "execute_result",
     "data": {
      "text/plain": [
       "⎡          2        ⎤\n",
       "⎣2⋅x - y, x  - y - 1⎦"
      ],
      "text/latex": "\\begin{equation}\\left[ 2 x - y, \\  x^{2} - y - 1\\right]\\end{equation}"
     },
     "metadata": {},
     "execution_count": 401
    }
   ],
   "source": [
    "F = [2*x-y, x**2-1-y]\n",
    "F"
   ]
  },
  {
   "source": [
    "To determine if this is a Groebner Basis:"
   ],
   "cell_type": "markdown",
   "metadata": {}
  },
  {
   "cell_type": "code",
   "execution_count": 402,
   "metadata": {},
   "outputs": [
    {
     "output_type": "execute_result",
     "data": {
      "text/plain": [
       "  x⋅y        \n",
       "- ─── + y + 1\n",
       "   2         "
      ],
      "text/latex": "\\begin{equation}- \\frac{x y}{2} + y + 1\\end{equation}"
     },
     "metadata": {},
     "execution_count": 402
    }
   ],
   "source": [
    "s=s_polynomial(F[0], F[1])\n",
    "s"
   ]
  },
  {
   "cell_type": "code",
   "execution_count": 403,
   "metadata": {},
   "outputs": [
    {
     "output_type": "execute_result",
     "data": {
      "text/plain": [
       "  x⋅y        \n",
       "- ─── + y + 1\n",
       "   2         "
      ],
      "text/latex": "\\begin{equation}- \\frac{x y}{2} + y + 1\\end{equation}"
     },
     "metadata": {},
     "execution_count": 403
    }
   ],
   "source": [
    "q,r = div(s,f*g)\n",
    "r"
   ]
  },
  {
   "source": [
    "This is non-zero and so this should be added back to $F$, however we should be more careful to calculate the remainder appropriately:"
   ],
   "cell_type": "markdown",
   "metadata": {}
  },
  {
   "cell_type": "code",
   "execution_count": 404,
   "metadata": {},
   "outputs": [
    {
     "output_type": "stream",
     "name": "stdout",
     "text": [
      "(-y/4, -y**2/4 + y + 1)\n(0, -x*y/2 + y + 1)\n"
     ]
    }
   ],
   "source": [
    "print(div(s, F[0]))\n",
    "print(div(s, F[1]))"
   ]
  },
  {
   "source": [
    "This implies that:\n",
    "\n",
    "$$\n",
    "-\\frac{xy}{2}+y+1 = -\\frac{y}{4} (2x-y) + 0 (x^2-y-1) + (-\\frac{y^2}{4} +y + 1 - \\frac{xy}{2} + y + 1)\n",
    "$$"
   ],
   "cell_type": "markdown",
   "metadata": {}
  },
  {
   "source": [
    "So to calculate the remainder more robustly:"
   ],
   "cell_type": "markdown",
   "metadata": {}
  },
  {
   "cell_type": "code",
   "execution_count": 405,
   "metadata": {},
   "outputs": [
    {
     "output_type": "execute_result",
     "data": {
      "text/plain": [
       "         2          \n",
       "  x⋅y   y           \n",
       "- ─── - ── + 2⋅y + 2\n",
       "   2    4           "
      ],
      "text/latex": "\\begin{equation}- \\frac{x y}{2} - \\frac{y^{2}}{4} + 2 y + 2\\end{equation}"
     },
     "metadata": {},
     "execution_count": 405
    }
   ],
   "source": [
    "r_list = [ div(s, F[i])[1] for i in range(len(F)) ]\n",
    "r = sum(r_list)\n",
    "r"
   ]
  },
  {
   "source": [
    "And adding that back in:"
   ],
   "cell_type": "markdown",
   "metadata": {}
  },
  {
   "cell_type": "code",
   "execution_count": 406,
   "metadata": {},
   "outputs": [],
   "source": [
    "F.append(r)"
   ]
  },
  {
   "source": [
    "Now the Remainder can be calculated again for $f_1$ and $f_3$"
   ],
   "cell_type": "markdown",
   "metadata": {}
  },
  {
   "cell_type": "code",
   "execution_count": 407,
   "metadata": {},
   "outputs": [
    {
     "output_type": "execute_result",
     "data": {
      "text/plain": [
       "   2          \n",
       "- y  + 4⋅y + 4"
      ],
      "text/latex": "\\begin{equation}- y^{2} + 4 y + 4\\end{equation}"
     },
     "metadata": {},
     "execution_count": 407
    }
   ],
   "source": [
    "s=s_polynomial(F[0], F[2])\n",
    "q,r = div(s,f*g)\n",
    "r"
   ]
  },
  {
   "source": [
    "As this is non-zero it should be added back in"
   ],
   "cell_type": "markdown",
   "metadata": {}
  },
  {
   "cell_type": "code",
   "execution_count": 408,
   "metadata": {},
   "outputs": [
    {
     "output_type": "execute_result",
     "data": {
      "text/plain": [
       "⎡                              2                          ⎤\n",
       "⎢          2            x⋅y   y                2          ⎥\n",
       "⎢2⋅x - y, x  - y - 1, - ─── - ── + 2⋅y + 2, - y  + 4⋅y + 4⎥\n",
       "⎣                        2    4                           ⎦"
      ],
      "text/latex": "\\begin{equation}\\left[ 2 x - y, \\  x^{2} - y - 1, \\  - \\frac{x y}{2} - \\frac{y^{2}}{4} + 2 y + 2, \\  - y^{2} + 4 y + 4\\right]\\end{equation}"
     },
     "metadata": {},
     "execution_count": 408
    }
   ],
   "source": [
    "F.append(r)\n",
    "F"
   ]
  },
  {
   "source": [
    "Now comparing $f_1$ and $f_4$"
   ],
   "cell_type": "markdown",
   "metadata": {}
  },
  {
   "cell_type": "code",
   "execution_count": 409,
   "metadata": {},
   "outputs": [
    {
     "output_type": "stream",
     "name": "stdout",
     "text": [
      "[2*x - y, x**2 - y - 1, -x*y/2 - y**2/4 + 2*y + 2, -y**2 + 4*y + 4, 4*x*y + 4*x - y**3/2]\n"
     ]
    }
   ],
   "source": [
    "s=s_polynomial(F[0], F[3])\n",
    "q,r = div(s,f*g)\n",
    "if r!=0:\n",
    "    F.append(r)\n",
    "    print(F)\n",
    "else:\n",
    "    print(\"This pair is a Groebner Basis\")"
   ]
  },
  {
   "source": [
    "Now comparing $f_1$ and $f_5$"
   ],
   "cell_type": "markdown",
   "metadata": {}
  },
  {
   "cell_type": "code",
   "execution_count": 410,
   "metadata": {},
   "outputs": [
    {
     "output_type": "stream",
     "name": "stdout",
     "text": [
      "[2*x - y, x**2 - y - 1, -x*y/2 - y**2/4 + 2*y + 2, -y**2 + 4*y + 4, 4*x*y + 4*x - y**3/2, -x + y**3/8 - y**2/2]\n"
     ]
    }
   ],
   "source": [
    "s=s_polynomial(F[0], F[4])\n",
    "q,r = div(s,f*g)\n",
    "r\n",
    "if r!=0:\n",
    "    F.append(r)\n",
    "    print(F)\n",
    "else:\n",
    "    print(\"This pair is a Groebner Basis\")"
   ]
  },
  {
   "source": [
    "Hmmm, this doesn't seem to be terminating, I'm going to have to put more research into this."
   ],
   "cell_type": "markdown",
   "metadata": {}
  },
  {
   "cell_type": "code",
   "execution_count": 411,
   "metadata": {},
   "outputs": [],
   "source": [
    "f = x**3-2*x*y\n",
    "g = x**2*y+x-2*y**2\n",
    "F = [f, g]"
   ]
  },
  {
   "cell_type": "code",
   "execution_count": 412,
   "metadata": {},
   "outputs": [],
   "source": [
    "def poly_prod(F):\n",
    "    product_val = 1\n",
    "    for poly in F:\n",
    "        product_val *= poly\n",
    "    return product_val"
   ]
  },
  {
   "cell_type": "code",
   "execution_count": 413,
   "metadata": {},
   "outputs": [],
   "source": [
    "def remainder_set_div(s, F):\n",
    "    r_list = [ div(s, F[i])[1] for i in range(len(F)) ]\n",
    "    r = sum(r_list)\n",
    "    return r\n"
   ]
  },
  {
   "cell_type": "code",
   "execution_count": 414,
   "metadata": {},
   "outputs": [],
   "source": [
    "def buchberger_criterion(f,g, F):\n",
    "    s = s_polynomial(f, g)\n",
    "    r = remainder_set_div(s, F)\n",
    "    return r"
   ]
  },
  {
   "cell_type": "code",
   "execution_count": 415,
   "metadata": {},
   "outputs": [],
   "source": [
    "r = buchberger_criterion(F[0], F[1], F)\n",
    "if r != 0:\n",
    "    F.append(r)\n"
   ]
  },
  {
   "cell_type": "code",
   "execution_count": 416,
   "metadata": {},
   "outputs": [
    {
     "output_type": "execute_result",
     "data": {
      "text/plain": [
       "⎡ 3           2            2      2⎤\n",
       "⎣x  - 2⋅x⋅y, x ⋅y + x - 2⋅y , -2⋅x ⎦"
      ],
      "text/latex": "\\begin{equation}\\left[ x^{3} - 2 x y, \\  x^{2} y + x - 2 y^{2}, \\  - 2 x^{2}\\right]\\end{equation}"
     },
     "metadata": {},
     "execution_count": 416
    }
   ],
   "source": [
    "F"
   ]
  },
  {
   "source": [
    "So we got back a remainder of $-x^2$, this isn't zero, so we throw it in the bag"
   ],
   "cell_type": "markdown",
   "metadata": {}
  },
  {
   "source": [
    "We haven't tried every combination, so onto the next one:"
   ],
   "cell_type": "markdown",
   "metadata": {}
  },
  {
   "cell_type": "code",
   "execution_count": 417,
   "metadata": {},
   "outputs": [],
   "source": [
    "r = buchberger_criterion(F[0], F[2], F)\n",
    "if r != 0:\n",
    "    F.append(r)\n"
   ]
  },
  {
   "cell_type": "code",
   "execution_count": 418,
   "metadata": {},
   "outputs": [
    {
     "output_type": "execute_result",
     "data": {
      "text/plain": [
       "⎡ 3           2            2      2        ⎤\n",
       "⎣x  - 2⋅x⋅y, x ⋅y + x - 2⋅y , -2⋅x , -6⋅x⋅y⎦"
      ],
      "text/latex": "\\begin{equation}\\left[ x^{3} - 2 x y, \\  x^{2} y + x - 2 y^{2}, \\  - 2 x^{2}, \\  - 6 x y\\right]\\end{equation}"
     },
     "metadata": {},
     "execution_count": 418
    }
   ],
   "source": [
    "F"
   ]
  },
  {
   "source": [
    "This gave a remainder of $-2xy$, so it goes in the bag"
   ],
   "cell_type": "markdown",
   "metadata": {}
  },
  {
   "source": [
    "Now we try the next combination $f_1$ and $f_4$"
   ],
   "cell_type": "markdown",
   "metadata": {}
  },
  {
   "cell_type": "code",
   "execution_count": 419,
   "metadata": {},
   "outputs": [
    {
     "output_type": "execute_result",
     "data": {
      "text/plain": [
       "⎡ 3           2            2      2                2⎤\n",
       "⎣x  - 2⋅x⋅y, x ⋅y + x - 2⋅y , -2⋅x , -6⋅x⋅y, -6⋅x⋅y ⎦"
      ],
      "text/latex": "\\begin{equation}\\left[ x^{3} - 2 x y, \\  x^{2} y + x - 2 y^{2}, \\  - 2 x^{2}, \\  - 6 x y, \\  - 6 x y^{2}\\right]\\end{equation}"
     },
     "metadata": {},
     "execution_count": 419
    }
   ],
   "source": [
    "r = buchberger_criterion(F[0], F[3], F)\n",
    "if r != 0:\n",
    "    F.append(r)\n",
    "F"
   ]
  },
  {
   "source": [
    "So the problem at this step is that diving by the product of F is not what we want"
   ],
   "cell_type": "markdown",
   "metadata": {}
  },
  {
   "cell_type": "code",
   "execution_count": 421,
   "metadata": {},
   "outputs": [
    {
     "output_type": "stream",
     "name": "stdout",
     "text": [
      "(0, -2*x*y**2)\n(0, -2*x*y**2)\n(y/3, 0)\n(1/3, 0)\n"
     ]
    }
   ],
   "source": [
    "print(div(-2*x*y**2, F[1]))\n",
    "print(div(-2*x*y**2, F[2]))\n",
    "print(div(-2*x*y**2, F[3]))\n",
    "print(div(-2*x*y**2, F[4]))"
   ]
  }
 ],
 "metadata": {
  "kernelspec": {
   "display_name": "Python 3",
   "language": "python",
   "name": "python3"
  },
  "language_info": {
   "codemirror_mode": {
    "name": "ipython",
    "version": 3
   },
   "file_extension": ".py",
   "mimetype": "text/x-python",
   "name": "python",
   "nbconvert_exporter": "python",
   "pygments_lexer": "ipython3",
   "version": "3.9.2"
  }
 },
 "nbformat": 4,
 "nbformat_minor": 5
}