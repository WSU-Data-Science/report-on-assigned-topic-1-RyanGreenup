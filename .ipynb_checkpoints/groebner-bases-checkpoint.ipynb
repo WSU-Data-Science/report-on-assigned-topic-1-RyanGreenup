{
 "cells": [
  {
   "cell_type": "markdown",
   "id": "tested-campbell",
   "metadata": {},
   "source": [
    "# Groebner Bases"
   ]
  },
  {
   "cell_type": "markdown",
   "id": "divine-acquisition",
   "metadata": {},
   "source": [
    "## Introduction\n",
    "\n",
    "The topic of Gröbner Bases, is primarily concerned with solutions of  systems of\n",
    "polynomial equations. \n",
    "\n",
    "In order to drive examples the *Sympy* package will be used:"
   ]
  },
  {
   "cell_type": "code",
   "execution_count": 3,
   "id": "quarterly-youth",
   "metadata": {},
   "outputs": [],
   "source": [
    "## Sympy Boiler Plate\n",
    "from __future__ import division\n",
    "from sympy import *\n",
    "t, x, y, z = symbols('t x y z')  # I believe this order matters, i.e. t<-x1, x <- x2, y <- x3 ...\n",
    "k, m, n = symbols('k m n', integer=True)\n",
    "f, g, h = symbols('f g h', cls=Function)\n",
    "init_printing()\n",
    "init_printing(use_latex='mathjax', latex_mode='equation')\n",
    "\n",
    "## Quick Copy LaTeX\n",
    "import pyperclip\n",
    "def lx(expr):\n",
    "    pyperclip.copy(latex(expr))\n",
    "    print(expr)\n",
    "# NB: See also srepr(), display() and print_mathml()\n",
    "\n",
    "## 3d Plotting\n",
    "from sympy import symbols\n",
    "from sympy.plotting import plot3d\n",
    "from sympy.plotting import plot\n",
    "\n",
    "## typical things\n",
    "import numpy as np\n",
    "import matplotlib as plt\n",
    "import pandas as pd\n",
    "\n"
   ]
  },
  {
   "cell_type": "markdown",
   "id": "administrative-durham",
   "metadata": {},
   "source": [
    "### Motivation\n",
    "\n",
    "In order to motivate this topic, consider the following parable."
   ]
  },
  {
   "cell_type": "markdown",
   "id": "addressed-brick",
   "metadata": {},
   "source": [
    "There exists a shop front in a foreign land with a big sign on the front that reads *Algebraic Geometry Pty. Ltd.*, this workshop is manned by an old mathematician who spends his days working on polynomials. \n",
    "\n",
    "One day an engineer walks into this shop with a canvas bag, filled with polynomials and spreads them out over the counter. The engineer looks to the old man and says \"I have these polynomials but I don't quite know what to do with them, can you help?\". The old man, without saying a word, scoops up the polynomials and places them on his scales. These scales are not ordinary scales, they don't measure weight but instead provide all the possible mutual solutions to the equations placed on them, this is known as **the variety** of the set.\n",
    "\n",
    "This old man is quite skilled and just by looking at the variety he is able to consider all the infinitely many sets of polynomial functions that would lead to the same variety, this is known as the **ideal of the variety** and the trick of his craft is to be able to pick out which one of those sets of polynomials is the most *useful*. "
   ]
  },
  {
   "cell_type": "markdown",
   "id": "backed-radius",
   "metadata": {},
   "source": [
    "In this case, however, the engineer has provided a non-linear system of polynomials and so being able to choose which set of functions to return is more challenging.\n",
    "\n",
    "In order to do this, the old man takes the bag of polynomials into the back of his shop and uses a machine known as *Buchberger's Algorithm*, this machine sucks up polynomials from the bag and manipulates them to form new polynomials which belong to a set known as the Groebner Basis, the machine then sifts through those new polynomials and removes any duplicates, this is known as the Reduced Groebner Basis.\n",
    "\n",
    "When the old man returns to the engineer with this new collection of polynomials, the engineer is very happy with them because they can now be used to draw insights about the system generally."
   ]
  },
  {
   "cell_type": "markdown",
   "id": "wooden-burlington",
   "metadata": {},
   "source": [
    "### Discussion"
   ]
  },
  {
   "cell_type": "markdown",
   "id": "exposed-penalty",
   "metadata": {},
   "source": [
    "What this analogy hopes to convey is that a Groebner basis is a system of polynomials that can be derived from a pre-existing sytem, by using Buchberger's Algorithm. This Groebner Basis will share the same solutions as the pre-existing set of functions and in that sense will be equivalent to it, but it will be more descriptive of the solutions. For example in linear algebra a system might be:\n",
    "\n",
    "\\begin{align}\n",
    "2x + 3y - 5  &= 0 \\\\\n",
    "7x + 9y + 11 &= 0\n",
    "\\end{align}"
   ]
  },
  {
   "cell_type": "markdown",
   "id": "passive-arizona",
   "metadata": {},
   "source": [
    "And in that case the Groebner Basis would just be the solution:"
   ]
  },
  {
   "cell_type": "code",
   "execution_count": 4,
   "id": "committed-kennedy",
   "metadata": {},
   "outputs": [
    {
     "data": {
      "text/latex": [
       "\\begin{equation}x - 4\\end{equation}"
      ],
      "text/plain": [
       "x - 4"
      ]
     },
     "metadata": {},
     "output_type": "display_data"
    },
    {
     "data": {
      "text/latex": [
       "\\begin{equation}3 y + 13\\end{equation}"
      ],
      "text/plain": [
       "3⋅y + 13"
      ]
     },
     "metadata": {},
     "output_type": "display_data"
    }
   ],
   "source": [
    "F = [2*x + 3*y + 5, 7*x + 9*y + 11]\n",
    "G = polys.polytools.groebner(F, x, y, order = 'lex', method = 'buchberger')\n",
    "for poly in G:\n",
    "    display(poly)"
   ]
  },
  {
   "cell_type": "markdown",
   "id": "passing-saturday",
   "metadata": {},
   "source": [
    "If the system was non-linear and single-variable the Groebner Basis would simply be the *Greatest Common Divisor* (*GCD*):"
   ]
  },
  {
   "cell_type": "code",
   "execution_count": 5,
   "id": "generous-environment",
   "metadata": {},
   "outputs": [
    {
     "data": {
      "text/latex": [
       "\\begin{equation}x^{3} + 3\\end{equation}"
      ],
      "text/plain": [
       " 3    \n",
       "x  + 3"
      ]
     },
     "metadata": {},
     "output_type": "display_data"
    }
   ],
   "source": [
    "# Initial Set\n",
    "F = [\n",
    "    (x**3 + 3)   * (x-1)*(x+2 )*(x+3 )*(x+5 ),\n",
    "    (x**3 + 3)   * (x-7)*(x+11)*(x+13)*(x+17)\n",
    "     ]\n",
    "# Groebner Basis     \n",
    "G = polys.polytools.groebner(F, x, y, order = 'lex', method = 'buchberger')\n",
    "\n",
    "# Print solution\n",
    "for poly in G:\n",
    "    display(poly)"
   ]
  },
  {
   "cell_type": "markdown",
   "id": "occasional-tackle",
   "metadata": {},
   "source": [
    "But the motivating example here is a non-linear system in multiple variables, this is more challenging to solve and the *useful solution* is significantly less clear, a relatively simple example, however, is the intersection of two parabaloids:"
   ]
  },
  {
   "cell_type": "code",
   "execution_count": 6,
   "id": "extended-briefs",
   "metadata": {},
   "outputs": [
    {
     "name": "stdout",
     "output_type": "stream",
     "text": [
      "Problem:\n",
      "\n",
      "\n"
     ]
    },
    {
     "data": {
      "text/latex": [
       "\\begin{equation}x^{2} + y^{2} - 1\\end{equation}"
      ],
      "text/plain": [
       " 2    2    \n",
       "x  + y  - 1"
      ]
     },
     "metadata": {},
     "output_type": "display_data"
    },
    {
     "data": {
      "text/latex": [
       "\\begin{equation}- x^{2} - y^{2} + 1\\end{equation}"
      ],
      "text/plain": [
       "   2    2    \n",
       "- x  - y  + 1"
      ]
     },
     "metadata": {},
     "output_type": "display_data"
    },
    {
     "name": "stdout",
     "output_type": "stream",
     "text": [
      "\n",
      "\n",
      "Solution:\n",
      "\n",
      "\n"
     ]
    },
    {
     "data": {
      "text/latex": [
       "\\begin{equation}x^{2} + y^{2} - 1\\end{equation}"
      ],
      "text/plain": [
       " 2    2    \n",
       "x  + y  - 1"
      ]
     },
     "metadata": {},
     "output_type": "display_data"
    }
   ],
   "source": [
    "# Initial Set\n",
    "F = [x**2-y**2+y**3, y**2-x**2+y]     \n",
    "F = [x**2+y**2-1, -x**2-y**2+1 ]     \n",
    "\n",
    "# Groebner Basis     \n",
    "G = polys.polytools.groebner(F, x, y, order = 'lex', method = 'buchberger')\n",
    "\n",
    "print(\"Problem:\\n\\n\")\n",
    "# Print system\n",
    "for poly in F:\n",
    "    display(poly)\n",
    "\n",
    "print(\"\\n\\nSolution:\\n\\n\")\n",
    "# Print solution\n",
    "for poly in G:\n",
    "    display(poly)\n"
   ]
  },
  {
   "cell_type": "code",
   "execution_count": 7,
   "id": "blocked-korean",
   "metadata": {},
   "outputs": [],
   "source": [
    "import plotly.graph_objects as go\n",
    "import numpy as np\n",
    "\n",
    "def f1(x, y):\n",
    "    return x**2+y**2-10\n",
    "\n",
    "def f2(x, y):\n",
    "    return -x**2-y**2+10\n",
    "\n",
    "def g1(x, y):\n",
    "    return x*y+y**2-10\n",
    "\n",
    "m = 5\n",
    "n = 5\n",
    "\n",
    "zf1 = np.ndarray([2*m, 2*n])\n",
    "zf2 = np.ndarray([2*m, 2*n])\n",
    "zg1 = np.ndarray([2*m, 2*n])\n",
    "# zg2 = np.ndarray([m, n])\n",
    "\n",
    "for j in range(-m, m):\n",
    "    for i in range(-n, n):\n",
    "        zf1[m+i, n+j] = -f1(i, j)\n",
    "        zf2[m+i, n+j] = -f2(i, j)\n",
    "        zg1[m+i, n+j] = g1(i, j)\n",
    "        # zg2[i, j] = g2(i, j)"
   ]
  },
  {
   "cell_type": "code",
   "execution_count": 8,
   "id": "impossible-better",
   "metadata": {},
   "outputs": [
    {
     "data": {
      "application/vnd.plotly.v1+json": {
       "config": {
        "plotlyServerURL": "https://plot.ly"
       },
       "data": [
        {
         "colorscale": [
          [
           0,
           "rgb(247,251,255)"
          ],
          [
           0.125,
           "rgb(222,235,247)"
          ],
          [
           0.25,
           "rgb(198,219,239)"
          ],
          [
           0.375,
           "rgb(158,202,225)"
          ],
          [
           0.5,
           "rgb(107,174,214)"
          ],
          [
           0.625,
           "rgb(66,146,198)"
          ],
          [
           0.75,
           "rgb(33,113,181)"
          ],
          [
           0.875,
           "rgb(8,81,156)"
          ],
          [
           1,
           "rgb(8,48,107)"
          ]
         ],
         "opacity": 0.8,
         "showscale": false,
         "type": "surface",
         "z": [
          [
           -40,
           -31,
           -24,
           -19,
           -16,
           -15,
           -16,
           -19,
           -24,
           -31
          ],
          [
           -31,
           -22,
           -15,
           -10,
           -7,
           -6,
           -7,
           -10,
           -15,
           -22
          ],
          [
           -24,
           -15,
           -8,
           -3,
           0,
           1,
           0,
           -3,
           -8,
           -15
          ],
          [
           -19,
           -10,
           -3,
           2,
           5,
           6,
           5,
           2,
           -3,
           -10
          ],
          [
           -16,
           -7,
           0,
           5,
           8,
           9,
           8,
           5,
           0,
           -7
          ],
          [
           -15,
           -6,
           1,
           6,
           9,
           10,
           9,
           6,
           1,
           -6
          ],
          [
           -16,
           -7,
           0,
           5,
           8,
           9,
           8,
           5,
           0,
           -7
          ],
          [
           -19,
           -10,
           -3,
           2,
           5,
           6,
           5,
           2,
           -3,
           -10
          ],
          [
           -24,
           -15,
           -8,
           -3,
           0,
           1,
           0,
           -3,
           -8,
           -15
          ],
          [
           -31,
           -22,
           -15,
           -10,
           -7,
           -6,
           -7,
           -10,
           -15,
           -22
          ]
         ]
        },
        {
         "colorscale": [
          [
           0,
           "rgb(255,245,240)"
          ],
          [
           0.125,
           "rgb(254,224,210)"
          ],
          [
           0.25,
           "rgb(252,187,161)"
          ],
          [
           0.375,
           "rgb(252,146,114)"
          ],
          [
           0.5,
           "rgb(251,106,74)"
          ],
          [
           0.625,
           "rgb(239,59,44)"
          ],
          [
           0.75,
           "rgb(203,24,29)"
          ],
          [
           0.875,
           "rgb(165,15,21)"
          ],
          [
           1,
           "rgb(103,0,13)"
          ]
         ],
         "opacity": 0.7,
         "showscale": false,
         "type": "surface",
         "z": [
          [
           40,
           31,
           24,
           19,
           16,
           15,
           16,
           19,
           24,
           31
          ],
          [
           31,
           22,
           15,
           10,
           7,
           6,
           7,
           10,
           15,
           22
          ],
          [
           24,
           15,
           8,
           3,
           0,
           -1,
           0,
           3,
           8,
           15
          ],
          [
           19,
           10,
           3,
           -2,
           -5,
           -6,
           -5,
           -2,
           3,
           10
          ],
          [
           16,
           7,
           0,
           -5,
           -8,
           -9,
           -8,
           -5,
           0,
           7
          ],
          [
           15,
           6,
           -1,
           -6,
           -9,
           -10,
           -9,
           -6,
           -1,
           6
          ],
          [
           16,
           7,
           0,
           -5,
           -8,
           -9,
           -8,
           -5,
           0,
           7
          ],
          [
           19,
           10,
           3,
           -2,
           -5,
           -6,
           -5,
           -2,
           3,
           10
          ],
          [
           24,
           15,
           8,
           3,
           0,
           -1,
           0,
           3,
           8,
           15
          ],
          [
           31,
           22,
           15,
           10,
           7,
           6,
           7,
           10,
           15,
           22
          ]
         ]
        }
       ],
       "layout": {
        "template": {
         "data": {
          "bar": [
           {
            "error_x": {
             "color": "#2a3f5f"
            },
            "error_y": {
             "color": "#2a3f5f"
            },
            "marker": {
             "line": {
              "color": "#E5ECF6",
              "width": 0.5
             }
            },
            "type": "bar"
           }
          ],
          "barpolar": [
           {
            "marker": {
             "line": {
              "color": "#E5ECF6",
              "width": 0.5
             }
            },
            "type": "barpolar"
           }
          ],
          "carpet": [
           {
            "aaxis": {
             "endlinecolor": "#2a3f5f",
             "gridcolor": "white",
             "linecolor": "white",
             "minorgridcolor": "white",
             "startlinecolor": "#2a3f5f"
            },
            "baxis": {
             "endlinecolor": "#2a3f5f",
             "gridcolor": "white",
             "linecolor": "white",
             "minorgridcolor": "white",
             "startlinecolor": "#2a3f5f"
            },
            "type": "carpet"
           }
          ],
          "choropleth": [
           {
            "colorbar": {
             "outlinewidth": 0,
             "ticks": ""
            },
            "type": "choropleth"
           }
          ],
          "contour": [
           {
            "colorbar": {
             "outlinewidth": 0,
             "ticks": ""
            },
            "colorscale": [
             [
              0,
              "#0d0887"
             ],
             [
              0.1111111111111111,
              "#46039f"
             ],
             [
              0.2222222222222222,
              "#7201a8"
             ],
             [
              0.3333333333333333,
              "#9c179e"
             ],
             [
              0.4444444444444444,
              "#bd3786"
             ],
             [
              0.5555555555555556,
              "#d8576b"
             ],
             [
              0.6666666666666666,
              "#ed7953"
             ],
             [
              0.7777777777777778,
              "#fb9f3a"
             ],
             [
              0.8888888888888888,
              "#fdca26"
             ],
             [
              1,
              "#f0f921"
             ]
            ],
            "type": "contour"
           }
          ],
          "contourcarpet": [
           {
            "colorbar": {
             "outlinewidth": 0,
             "ticks": ""
            },
            "type": "contourcarpet"
           }
          ],
          "heatmap": [
           {
            "colorbar": {
             "outlinewidth": 0,
             "ticks": ""
            },
            "colorscale": [
             [
              0,
              "#0d0887"
             ],
             [
              0.1111111111111111,
              "#46039f"
             ],
             [
              0.2222222222222222,
              "#7201a8"
             ],
             [
              0.3333333333333333,
              "#9c179e"
             ],
             [
              0.4444444444444444,
              "#bd3786"
             ],
             [
              0.5555555555555556,
              "#d8576b"
             ],
             [
              0.6666666666666666,
              "#ed7953"
             ],
             [
              0.7777777777777778,
              "#fb9f3a"
             ],
             [
              0.8888888888888888,
              "#fdca26"
             ],
             [
              1,
              "#f0f921"
             ]
            ],
            "type": "heatmap"
           }
          ],
          "heatmapgl": [
           {
            "colorbar": {
             "outlinewidth": 0,
             "ticks": ""
            },
            "colorscale": [
             [
              0,
              "#0d0887"
             ],
             [
              0.1111111111111111,
              "#46039f"
             ],
             [
              0.2222222222222222,
              "#7201a8"
             ],
             [
              0.3333333333333333,
              "#9c179e"
             ],
             [
              0.4444444444444444,
              "#bd3786"
             ],
             [
              0.5555555555555556,
              "#d8576b"
             ],
             [
              0.6666666666666666,
              "#ed7953"
             ],
             [
              0.7777777777777778,
              "#fb9f3a"
             ],
             [
              0.8888888888888888,
              "#fdca26"
             ],
             [
              1,
              "#f0f921"
             ]
            ],
            "type": "heatmapgl"
           }
          ],
          "histogram": [
           {
            "marker": {
             "colorbar": {
              "outlinewidth": 0,
              "ticks": ""
             }
            },
            "type": "histogram"
           }
          ],
          "histogram2d": [
           {
            "colorbar": {
             "outlinewidth": 0,
             "ticks": ""
            },
            "colorscale": [
             [
              0,
              "#0d0887"
             ],
             [
              0.1111111111111111,
              "#46039f"
             ],
             [
              0.2222222222222222,
              "#7201a8"
             ],
             [
              0.3333333333333333,
              "#9c179e"
             ],
             [
              0.4444444444444444,
              "#bd3786"
             ],
             [
              0.5555555555555556,
              "#d8576b"
             ],
             [
              0.6666666666666666,
              "#ed7953"
             ],
             [
              0.7777777777777778,
              "#fb9f3a"
             ],
             [
              0.8888888888888888,
              "#fdca26"
             ],
             [
              1,
              "#f0f921"
             ]
            ],
            "type": "histogram2d"
           }
          ],
          "histogram2dcontour": [
           {
            "colorbar": {
             "outlinewidth": 0,
             "ticks": ""
            },
            "colorscale": [
             [
              0,
              "#0d0887"
             ],
             [
              0.1111111111111111,
              "#46039f"
             ],
             [
              0.2222222222222222,
              "#7201a8"
             ],
             [
              0.3333333333333333,
              "#9c179e"
             ],
             [
              0.4444444444444444,
              "#bd3786"
             ],
             [
              0.5555555555555556,
              "#d8576b"
             ],
             [
              0.6666666666666666,
              "#ed7953"
             ],
             [
              0.7777777777777778,
              "#fb9f3a"
             ],
             [
              0.8888888888888888,
              "#fdca26"
             ],
             [
              1,
              "#f0f921"
             ]
            ],
            "type": "histogram2dcontour"
           }
          ],
          "mesh3d": [
           {
            "colorbar": {
             "outlinewidth": 0,
             "ticks": ""
            },
            "type": "mesh3d"
           }
          ],
          "parcoords": [
           {
            "line": {
             "colorbar": {
              "outlinewidth": 0,
              "ticks": ""
             }
            },
            "type": "parcoords"
           }
          ],
          "pie": [
           {
            "automargin": true,
            "type": "pie"
           }
          ],
          "scatter": [
           {
            "marker": {
             "colorbar": {
              "outlinewidth": 0,
              "ticks": ""
             }
            },
            "type": "scatter"
           }
          ],
          "scatter3d": [
           {
            "line": {
             "colorbar": {
              "outlinewidth": 0,
              "ticks": ""
             }
            },
            "marker": {
             "colorbar": {
              "outlinewidth": 0,
              "ticks": ""
             }
            },
            "type": "scatter3d"
           }
          ],
          "scattercarpet": [
           {
            "marker": {
             "colorbar": {
              "outlinewidth": 0,
              "ticks": ""
             }
            },
            "type": "scattercarpet"
           }
          ],
          "scattergeo": [
           {
            "marker": {
             "colorbar": {
              "outlinewidth": 0,
              "ticks": ""
             }
            },
            "type": "scattergeo"
           }
          ],
          "scattergl": [
           {
            "marker": {
             "colorbar": {
              "outlinewidth": 0,
              "ticks": ""
             }
            },
            "type": "scattergl"
           }
          ],
          "scattermapbox": [
           {
            "marker": {
             "colorbar": {
              "outlinewidth": 0,
              "ticks": ""
             }
            },
            "type": "scattermapbox"
           }
          ],
          "scatterpolar": [
           {
            "marker": {
             "colorbar": {
              "outlinewidth": 0,
              "ticks": ""
             }
            },
            "type": "scatterpolar"
           }
          ],
          "scatterpolargl": [
           {
            "marker": {
             "colorbar": {
              "outlinewidth": 0,
              "ticks": ""
             }
            },
            "type": "scatterpolargl"
           }
          ],
          "scatterternary": [
           {
            "marker": {
             "colorbar": {
              "outlinewidth": 0,
              "ticks": ""
             }
            },
            "type": "scatterternary"
           }
          ],
          "surface": [
           {
            "colorbar": {
             "outlinewidth": 0,
             "ticks": ""
            },
            "colorscale": [
             [
              0,
              "#0d0887"
             ],
             [
              0.1111111111111111,
              "#46039f"
             ],
             [
              0.2222222222222222,
              "#7201a8"
             ],
             [
              0.3333333333333333,
              "#9c179e"
             ],
             [
              0.4444444444444444,
              "#bd3786"
             ],
             [
              0.5555555555555556,
              "#d8576b"
             ],
             [
              0.6666666666666666,
              "#ed7953"
             ],
             [
              0.7777777777777778,
              "#fb9f3a"
             ],
             [
              0.8888888888888888,
              "#fdca26"
             ],
             [
              1,
              "#f0f921"
             ]
            ],
            "type": "surface"
           }
          ],
          "table": [
           {
            "cells": {
             "fill": {
              "color": "#EBF0F8"
             },
             "line": {
              "color": "white"
             }
            },
            "header": {
             "fill": {
              "color": "#C8D4E3"
             },
             "line": {
              "color": "white"
             }
            },
            "type": "table"
           }
          ]
         },
         "layout": {
          "annotationdefaults": {
           "arrowcolor": "#2a3f5f",
           "arrowhead": 0,
           "arrowwidth": 1
          },
          "autotypenumbers": "strict",
          "coloraxis": {
           "colorbar": {
            "outlinewidth": 0,
            "ticks": ""
           }
          },
          "colorscale": {
           "diverging": [
            [
             0,
             "#8e0152"
            ],
            [
             0.1,
             "#c51b7d"
            ],
            [
             0.2,
             "#de77ae"
            ],
            [
             0.3,
             "#f1b6da"
            ],
            [
             0.4,
             "#fde0ef"
            ],
            [
             0.5,
             "#f7f7f7"
            ],
            [
             0.6,
             "#e6f5d0"
            ],
            [
             0.7,
             "#b8e186"
            ],
            [
             0.8,
             "#7fbc41"
            ],
            [
             0.9,
             "#4d9221"
            ],
            [
             1,
             "#276419"
            ]
           ],
           "sequential": [
            [
             0,
             "#0d0887"
            ],
            [
             0.1111111111111111,
             "#46039f"
            ],
            [
             0.2222222222222222,
             "#7201a8"
            ],
            [
             0.3333333333333333,
             "#9c179e"
            ],
            [
             0.4444444444444444,
             "#bd3786"
            ],
            [
             0.5555555555555556,
             "#d8576b"
            ],
            [
             0.6666666666666666,
             "#ed7953"
            ],
            [
             0.7777777777777778,
             "#fb9f3a"
            ],
            [
             0.8888888888888888,
             "#fdca26"
            ],
            [
             1,
             "#f0f921"
            ]
           ],
           "sequentialminus": [
            [
             0,
             "#0d0887"
            ],
            [
             0.1111111111111111,
             "#46039f"
            ],
            [
             0.2222222222222222,
             "#7201a8"
            ],
            [
             0.3333333333333333,
             "#9c179e"
            ],
            [
             0.4444444444444444,
             "#bd3786"
            ],
            [
             0.5555555555555556,
             "#d8576b"
            ],
            [
             0.6666666666666666,
             "#ed7953"
            ],
            [
             0.7777777777777778,
             "#fb9f3a"
            ],
            [
             0.8888888888888888,
             "#fdca26"
            ],
            [
             1,
             "#f0f921"
            ]
           ]
          },
          "colorway": [
           "#636efa",
           "#EF553B",
           "#00cc96",
           "#ab63fa",
           "#FFA15A",
           "#19d3f3",
           "#FF6692",
           "#B6E880",
           "#FF97FF",
           "#FECB52"
          ],
          "font": {
           "color": "#2a3f5f"
          },
          "geo": {
           "bgcolor": "white",
           "lakecolor": "white",
           "landcolor": "#E5ECF6",
           "showlakes": true,
           "showland": true,
           "subunitcolor": "white"
          },
          "hoverlabel": {
           "align": "left"
          },
          "hovermode": "closest",
          "mapbox": {
           "style": "light"
          },
          "paper_bgcolor": "white",
          "plot_bgcolor": "#E5ECF6",
          "polar": {
           "angularaxis": {
            "gridcolor": "white",
            "linecolor": "white",
            "ticks": ""
           },
           "bgcolor": "#E5ECF6",
           "radialaxis": {
            "gridcolor": "white",
            "linecolor": "white",
            "ticks": ""
           }
          },
          "scene": {
           "xaxis": {
            "backgroundcolor": "#E5ECF6",
            "gridcolor": "white",
            "gridwidth": 2,
            "linecolor": "white",
            "showbackground": true,
            "ticks": "",
            "zerolinecolor": "white"
           },
           "yaxis": {
            "backgroundcolor": "#E5ECF6",
            "gridcolor": "white",
            "gridwidth": 2,
            "linecolor": "white",
            "showbackground": true,
            "ticks": "",
            "zerolinecolor": "white"
           },
           "zaxis": {
            "backgroundcolor": "#E5ECF6",
            "gridcolor": "white",
            "gridwidth": 2,
            "linecolor": "white",
            "showbackground": true,
            "ticks": "",
            "zerolinecolor": "white"
           }
          },
          "shapedefaults": {
           "line": {
            "color": "#2a3f5f"
           }
          },
          "ternary": {
           "aaxis": {
            "gridcolor": "white",
            "linecolor": "white",
            "ticks": ""
           },
           "baxis": {
            "gridcolor": "white",
            "linecolor": "white",
            "ticks": ""
           },
           "bgcolor": "#E5ECF6",
           "caxis": {
            "gridcolor": "white",
            "linecolor": "white",
            "ticks": ""
           }
          },
          "title": {
           "x": 0.05
          },
          "xaxis": {
           "automargin": true,
           "gridcolor": "white",
           "linecolor": "white",
           "ticks": "",
           "title": {
            "standoff": 15
           },
           "zerolinecolor": "white",
           "zerolinewidth": 2
          },
          "yaxis": {
           "automargin": true,
           "gridcolor": "white",
           "linecolor": "white",
           "ticks": "",
           "title": {
            "standoff": 15
           },
           "zerolinecolor": "white",
           "zerolinewidth": 2
          }
         }
        }
       }
      },
      "text/html": [
       "<div>                            <div id=\"ed87a294-97b1-4314-b86c-643ecb5ec4af\" class=\"plotly-graph-div\" style=\"height:525px; width:100%;\"></div>            <script type=\"text/javascript\">                require([\"plotly\"], function(Plotly) {                    window.PLOTLYENV=window.PLOTLYENV || {};                                    if (document.getElementById(\"ed87a294-97b1-4314-b86c-643ecb5ec4af\")) {                    Plotly.newPlot(                        \"ed87a294-97b1-4314-b86c-643ecb5ec4af\",                        [{\"colorscale\": [[0.0, \"rgb(247,251,255)\"], [0.125, \"rgb(222,235,247)\"], [0.25, \"rgb(198,219,239)\"], [0.375, \"rgb(158,202,225)\"], [0.5, \"rgb(107,174,214)\"], [0.625, \"rgb(66,146,198)\"], [0.75, \"rgb(33,113,181)\"], [0.875, \"rgb(8,81,156)\"], [1.0, \"rgb(8,48,107)\"]], \"opacity\": 0.8, \"showscale\": false, \"type\": \"surface\", \"z\": [[-40.0, -31.0, -24.0, -19.0, -16.0, -15.0, -16.0, -19.0, -24.0, -31.0], [-31.0, -22.0, -15.0, -10.0, -7.0, -6.0, -7.0, -10.0, -15.0, -22.0], [-24.0, -15.0, -8.0, -3.0, 0.0, 1.0, 0.0, -3.0, -8.0, -15.0], [-19.0, -10.0, -3.0, 2.0, 5.0, 6.0, 5.0, 2.0, -3.0, -10.0], [-16.0, -7.0, 0.0, 5.0, 8.0, 9.0, 8.0, 5.0, 0.0, -7.0], [-15.0, -6.0, 1.0, 6.0, 9.0, 10.0, 9.0, 6.0, 1.0, -6.0], [-16.0, -7.0, 0.0, 5.0, 8.0, 9.0, 8.0, 5.0, 0.0, -7.0], [-19.0, -10.0, -3.0, 2.0, 5.0, 6.0, 5.0, 2.0, -3.0, -10.0], [-24.0, -15.0, -8.0, -3.0, 0.0, 1.0, 0.0, -3.0, -8.0, -15.0], [-31.0, -22.0, -15.0, -10.0, -7.0, -6.0, -7.0, -10.0, -15.0, -22.0]]}, {\"colorscale\": [[0.0, \"rgb(255,245,240)\"], [0.125, \"rgb(254,224,210)\"], [0.25, \"rgb(252,187,161)\"], [0.375, \"rgb(252,146,114)\"], [0.5, \"rgb(251,106,74)\"], [0.625, \"rgb(239,59,44)\"], [0.75, \"rgb(203,24,29)\"], [0.875, \"rgb(165,15,21)\"], [1.0, \"rgb(103,0,13)\"]], \"opacity\": 0.7, \"showscale\": false, \"type\": \"surface\", \"z\": [[40.0, 31.0, 24.0, 19.0, 16.0, 15.0, 16.0, 19.0, 24.0, 31.0], [31.0, 22.0, 15.0, 10.0, 7.0, 6.0, 7.0, 10.0, 15.0, 22.0], [24.0, 15.0, 8.0, 3.0, 0.0, -1.0, 0.0, 3.0, 8.0, 15.0], [19.0, 10.0, 3.0, -2.0, -5.0, -6.0, -5.0, -2.0, 3.0, 10.0], [16.0, 7.0, 0.0, -5.0, -8.0, -9.0, -8.0, -5.0, 0.0, 7.0], [15.0, 6.0, -1.0, -6.0, -9.0, -10.0, -9.0, -6.0, -1.0, 6.0], [16.0, 7.0, 0.0, -5.0, -8.0, -9.0, -8.0, -5.0, 0.0, 7.0], [19.0, 10.0, 3.0, -2.0, -5.0, -6.0, -5.0, -2.0, 3.0, 10.0], [24.0, 15.0, 8.0, 3.0, 0.0, -1.0, 0.0, 3.0, 8.0, 15.0], [31.0, 22.0, 15.0, 10.0, 7.0, 6.0, 7.0, 10.0, 15.0, 22.0]]}],                        {\"template\": {\"data\": {\"bar\": [{\"error_x\": {\"color\": \"#2a3f5f\"}, \"error_y\": {\"color\": \"#2a3f5f\"}, \"marker\": {\"line\": {\"color\": \"#E5ECF6\", \"width\": 0.5}}, \"type\": \"bar\"}], \"barpolar\": [{\"marker\": {\"line\": {\"color\": \"#E5ECF6\", \"width\": 0.5}}, \"type\": \"barpolar\"}], \"carpet\": [{\"aaxis\": {\"endlinecolor\": \"#2a3f5f\", \"gridcolor\": \"white\", \"linecolor\": \"white\", \"minorgridcolor\": \"white\", \"startlinecolor\": \"#2a3f5f\"}, \"baxis\": {\"endlinecolor\": \"#2a3f5f\", \"gridcolor\": \"white\", \"linecolor\": \"white\", \"minorgridcolor\": \"white\", \"startlinecolor\": \"#2a3f5f\"}, \"type\": \"carpet\"}], \"choropleth\": [{\"colorbar\": {\"outlinewidth\": 0, \"ticks\": \"\"}, \"type\": \"choropleth\"}], \"contour\": [{\"colorbar\": {\"outlinewidth\": 0, \"ticks\": \"\"}, \"colorscale\": [[0.0, \"#0d0887\"], [0.1111111111111111, \"#46039f\"], [0.2222222222222222, \"#7201a8\"], [0.3333333333333333, \"#9c179e\"], [0.4444444444444444, \"#bd3786\"], [0.5555555555555556, \"#d8576b\"], [0.6666666666666666, \"#ed7953\"], [0.7777777777777778, \"#fb9f3a\"], [0.8888888888888888, \"#fdca26\"], [1.0, \"#f0f921\"]], \"type\": \"contour\"}], \"contourcarpet\": [{\"colorbar\": {\"outlinewidth\": 0, \"ticks\": \"\"}, \"type\": \"contourcarpet\"}], \"heatmap\": [{\"colorbar\": {\"outlinewidth\": 0, \"ticks\": \"\"}, \"colorscale\": [[0.0, \"#0d0887\"], [0.1111111111111111, \"#46039f\"], [0.2222222222222222, \"#7201a8\"], [0.3333333333333333, \"#9c179e\"], [0.4444444444444444, \"#bd3786\"], [0.5555555555555556, \"#d8576b\"], [0.6666666666666666, \"#ed7953\"], [0.7777777777777778, \"#fb9f3a\"], [0.8888888888888888, \"#fdca26\"], [1.0, \"#f0f921\"]], \"type\": \"heatmap\"}], \"heatmapgl\": [{\"colorbar\": {\"outlinewidth\": 0, \"ticks\": \"\"}, \"colorscale\": [[0.0, \"#0d0887\"], [0.1111111111111111, \"#46039f\"], [0.2222222222222222, \"#7201a8\"], [0.3333333333333333, \"#9c179e\"], [0.4444444444444444, \"#bd3786\"], [0.5555555555555556, \"#d8576b\"], [0.6666666666666666, \"#ed7953\"], [0.7777777777777778, \"#fb9f3a\"], [0.8888888888888888, \"#fdca26\"], [1.0, \"#f0f921\"]], \"type\": \"heatmapgl\"}], \"histogram\": [{\"marker\": {\"colorbar\": {\"outlinewidth\": 0, \"ticks\": \"\"}}, \"type\": \"histogram\"}], \"histogram2d\": [{\"colorbar\": {\"outlinewidth\": 0, \"ticks\": \"\"}, \"colorscale\": [[0.0, \"#0d0887\"], [0.1111111111111111, \"#46039f\"], [0.2222222222222222, \"#7201a8\"], [0.3333333333333333, \"#9c179e\"], [0.4444444444444444, \"#bd3786\"], [0.5555555555555556, \"#d8576b\"], [0.6666666666666666, \"#ed7953\"], [0.7777777777777778, \"#fb9f3a\"], [0.8888888888888888, \"#fdca26\"], [1.0, \"#f0f921\"]], \"type\": \"histogram2d\"}], \"histogram2dcontour\": [{\"colorbar\": {\"outlinewidth\": 0, \"ticks\": \"\"}, \"colorscale\": [[0.0, \"#0d0887\"], [0.1111111111111111, \"#46039f\"], [0.2222222222222222, \"#7201a8\"], [0.3333333333333333, \"#9c179e\"], [0.4444444444444444, \"#bd3786\"], [0.5555555555555556, \"#d8576b\"], [0.6666666666666666, \"#ed7953\"], [0.7777777777777778, \"#fb9f3a\"], [0.8888888888888888, \"#fdca26\"], [1.0, \"#f0f921\"]], \"type\": \"histogram2dcontour\"}], \"mesh3d\": [{\"colorbar\": {\"outlinewidth\": 0, \"ticks\": \"\"}, \"type\": \"mesh3d\"}], \"parcoords\": [{\"line\": {\"colorbar\": {\"outlinewidth\": 0, \"ticks\": \"\"}}, \"type\": \"parcoords\"}], \"pie\": [{\"automargin\": true, \"type\": \"pie\"}], \"scatter\": [{\"marker\": {\"colorbar\": {\"outlinewidth\": 0, \"ticks\": \"\"}}, \"type\": \"scatter\"}], \"scatter3d\": [{\"line\": {\"colorbar\": {\"outlinewidth\": 0, \"ticks\": \"\"}}, \"marker\": {\"colorbar\": {\"outlinewidth\": 0, \"ticks\": \"\"}}, \"type\": \"scatter3d\"}], \"scattercarpet\": [{\"marker\": {\"colorbar\": {\"outlinewidth\": 0, \"ticks\": \"\"}}, \"type\": \"scattercarpet\"}], \"scattergeo\": [{\"marker\": {\"colorbar\": {\"outlinewidth\": 0, \"ticks\": \"\"}}, \"type\": \"scattergeo\"}], \"scattergl\": [{\"marker\": {\"colorbar\": {\"outlinewidth\": 0, \"ticks\": \"\"}}, \"type\": \"scattergl\"}], \"scattermapbox\": [{\"marker\": {\"colorbar\": {\"outlinewidth\": 0, \"ticks\": \"\"}}, \"type\": \"scattermapbox\"}], \"scatterpolar\": [{\"marker\": {\"colorbar\": {\"outlinewidth\": 0, \"ticks\": \"\"}}, \"type\": \"scatterpolar\"}], \"scatterpolargl\": [{\"marker\": {\"colorbar\": {\"outlinewidth\": 0, \"ticks\": \"\"}}, \"type\": \"scatterpolargl\"}], \"scatterternary\": [{\"marker\": {\"colorbar\": {\"outlinewidth\": 0, \"ticks\": \"\"}}, \"type\": \"scatterternary\"}], \"surface\": [{\"colorbar\": {\"outlinewidth\": 0, \"ticks\": \"\"}, \"colorscale\": [[0.0, \"#0d0887\"], [0.1111111111111111, \"#46039f\"], [0.2222222222222222, \"#7201a8\"], [0.3333333333333333, \"#9c179e\"], [0.4444444444444444, \"#bd3786\"], [0.5555555555555556, \"#d8576b\"], [0.6666666666666666, \"#ed7953\"], [0.7777777777777778, \"#fb9f3a\"], [0.8888888888888888, \"#fdca26\"], [1.0, \"#f0f921\"]], \"type\": \"surface\"}], \"table\": [{\"cells\": {\"fill\": {\"color\": \"#EBF0F8\"}, \"line\": {\"color\": \"white\"}}, \"header\": {\"fill\": {\"color\": \"#C8D4E3\"}, \"line\": {\"color\": \"white\"}}, \"type\": \"table\"}]}, \"layout\": {\"annotationdefaults\": {\"arrowcolor\": \"#2a3f5f\", \"arrowhead\": 0, \"arrowwidth\": 1}, \"autotypenumbers\": \"strict\", \"coloraxis\": {\"colorbar\": {\"outlinewidth\": 0, \"ticks\": \"\"}}, \"colorscale\": {\"diverging\": [[0, \"#8e0152\"], [0.1, \"#c51b7d\"], [0.2, \"#de77ae\"], [0.3, \"#f1b6da\"], [0.4, \"#fde0ef\"], [0.5, \"#f7f7f7\"], [0.6, \"#e6f5d0\"], [0.7, \"#b8e186\"], [0.8, \"#7fbc41\"], [0.9, \"#4d9221\"], [1, \"#276419\"]], \"sequential\": [[0.0, \"#0d0887\"], [0.1111111111111111, \"#46039f\"], [0.2222222222222222, \"#7201a8\"], [0.3333333333333333, \"#9c179e\"], [0.4444444444444444, \"#bd3786\"], [0.5555555555555556, \"#d8576b\"], [0.6666666666666666, \"#ed7953\"], [0.7777777777777778, \"#fb9f3a\"], [0.8888888888888888, \"#fdca26\"], [1.0, \"#f0f921\"]], \"sequentialminus\": [[0.0, \"#0d0887\"], [0.1111111111111111, \"#46039f\"], [0.2222222222222222, \"#7201a8\"], [0.3333333333333333, \"#9c179e\"], [0.4444444444444444, \"#bd3786\"], [0.5555555555555556, \"#d8576b\"], [0.6666666666666666, \"#ed7953\"], [0.7777777777777778, \"#fb9f3a\"], [0.8888888888888888, \"#fdca26\"], [1.0, \"#f0f921\"]]}, \"colorway\": [\"#636efa\", \"#EF553B\", \"#00cc96\", \"#ab63fa\", \"#FFA15A\", \"#19d3f3\", \"#FF6692\", \"#B6E880\", \"#FF97FF\", \"#FECB52\"], \"font\": {\"color\": \"#2a3f5f\"}, \"geo\": {\"bgcolor\": \"white\", \"lakecolor\": \"white\", \"landcolor\": \"#E5ECF6\", \"showlakes\": true, \"showland\": true, \"subunitcolor\": \"white\"}, \"hoverlabel\": {\"align\": \"left\"}, \"hovermode\": \"closest\", \"mapbox\": {\"style\": \"light\"}, \"paper_bgcolor\": \"white\", \"plot_bgcolor\": \"#E5ECF6\", \"polar\": {\"angularaxis\": {\"gridcolor\": \"white\", \"linecolor\": \"white\", \"ticks\": \"\"}, \"bgcolor\": \"#E5ECF6\", \"radialaxis\": {\"gridcolor\": \"white\", \"linecolor\": \"white\", \"ticks\": \"\"}}, \"scene\": {\"xaxis\": {\"backgroundcolor\": \"#E5ECF6\", \"gridcolor\": \"white\", \"gridwidth\": 2, \"linecolor\": \"white\", \"showbackground\": true, \"ticks\": \"\", \"zerolinecolor\": \"white\"}, \"yaxis\": {\"backgroundcolor\": \"#E5ECF6\", \"gridcolor\": \"white\", \"gridwidth\": 2, \"linecolor\": \"white\", \"showbackground\": true, \"ticks\": \"\", \"zerolinecolor\": \"white\"}, \"zaxis\": {\"backgroundcolor\": \"#E5ECF6\", \"gridcolor\": \"white\", \"gridwidth\": 2, \"linecolor\": \"white\", \"showbackground\": true, \"ticks\": \"\", \"zerolinecolor\": \"white\"}}, \"shapedefaults\": {\"line\": {\"color\": \"#2a3f5f\"}}, \"ternary\": {\"aaxis\": {\"gridcolor\": \"white\", \"linecolor\": \"white\", \"ticks\": \"\"}, \"baxis\": {\"gridcolor\": \"white\", \"linecolor\": \"white\", \"ticks\": \"\"}, \"bgcolor\": \"#E5ECF6\", \"caxis\": {\"gridcolor\": \"white\", \"linecolor\": \"white\", \"ticks\": \"\"}}, \"title\": {\"x\": 0.05}, \"xaxis\": {\"automargin\": true, \"gridcolor\": \"white\", \"linecolor\": \"white\", \"ticks\": \"\", \"title\": {\"standoff\": 15}, \"zerolinecolor\": \"white\", \"zerolinewidth\": 2}, \"yaxis\": {\"automargin\": true, \"gridcolor\": \"white\", \"linecolor\": \"white\", \"ticks\": \"\", \"title\": {\"standoff\": 15}, \"zerolinecolor\": \"white\", \"zerolinewidth\": 2}}}},                        {\"responsive\": true}                    ).then(function(){\n",
       "                            \n",
       "var gd = document.getElementById('ed87a294-97b1-4314-b86c-643ecb5ec4af');\n",
       "var x = new MutationObserver(function (mutations, observer) {{\n",
       "        var display = window.getComputedStyle(gd).display;\n",
       "        if (!display || display === 'none') {{\n",
       "            console.log([gd, 'removed!']);\n",
       "            Plotly.purge(gd);\n",
       "            observer.disconnect();\n",
       "        }}\n",
       "}});\n",
       "\n",
       "// Listen for the removal of the full notebook cells\n",
       "var notebookContainer = gd.closest('#notebook-container');\n",
       "if (notebookContainer) {{\n",
       "    x.observe(notebookContainer, {childList: true});\n",
       "}}\n",
       "\n",
       "// Listen for the clearing of the current output cell\n",
       "var outputEl = gd.closest('.output');\n",
       "if (outputEl) {{\n",
       "    x.observe(outputEl, {childList: true});\n",
       "}}\n",
       "\n",
       "                        })                };                });            </script>        </div>"
      ]
     },
     "metadata": {},
     "output_type": "display_data"
    }
   ],
   "source": [
    "fig = go.Figure(data=[\n",
    "    go.Surface(z=zf1, opacity=0.8, colorscale='Blues', showscale=False),\n",
    "    go.Surface(z=zf2, showscale=False, opacity=0.7, colorscale='Reds')\n",
    "])\n",
    "\n",
    "fig.show()\n"
   ]
  },
  {
   "cell_type": "code",
   "execution_count": 9,
   "id": "vulnerable-parks",
   "metadata": {},
   "outputs": [
    {
     "data": {
      "image/png": "[encoded data removed]",
      "text/plain": [
       "<Figure size 432x288 with 1 Axes>"
      ]
     },
     "metadata": {
      "needs_background": "light"
     },
     "output_type": "display_data"
    },
    {
     "data": {
      "text/plain": [
       "<sympy.plotting.plot.Plot at 0x7f7ddc0e1d00>"
      ]
     },
     "execution_count": 9,
     "metadata": {},
     "output_type": "execute_result"
    }
   ],
   "source": [
    "# plot3d(F[0], F[1])\n",
    "# plot3d(G[0])\n",
    "plot(sqrt(10-x**2), -sqrt(10-x**2))"
   ]
  },
  {
   "cell_type": "markdown",
   "id": "stainless-beatles",
   "metadata": {},
   "source": [
    "## Investigation Summary\n",
    "\n",
    "Much of the theory of Groebner Basis is approached from the perspective of an algebraist, this has the unfourtunate consequence of significantly limiting the accessibility of the topic. Fortunately this approach is not required in order to gain a broad understanding of the theory and applications of Groebner Basis.\n",
    "\n",
    "My advice to anybody initially approaching this topic would be to focus first on implementing *Buchberger's Algorithm* using *Python* with *Sympy*. This algorithm is a reasonably straight forward approach to find solutions for a system of polynomial equations, similar in some ways to the Euclidean Algorithm to find GCD's. Finding resources that plainly explain this algorithm, however, can also be quite challenging, my recommendation, would be to refer to the following resources for guidance:\n",
    "\n",
    "-   Lectures 14 and 15 of Andreas Schulz OCW Integer Programming Course\n",
    "    <sup>  [@andreasschulzIntegerProgrammingCombinatorial]  </sup>\n",
    "\n",
    "-   Chapters 1-2 of *Ideals, Varieties and Algorithms*\n",
    "    <sup>  [@coxIdealsVarietiesAlgorithms1997]  </sup>\n",
    "\n",
    "-   Lecture 15 of Judy Holdenner's course on Algebraic Geometry\n",
    "    <sup>  [@judyholdenerAlgebraicGeometry2013]  </sup>\n",
    "\n",
    "-   Lecture 14 of Pablo Parrilo's course on Algebraic Techniques\n",
    "    <sup>  [@pabloparriloAlgebraicTechniquesSemidefinite]  </sup>\n",
    "\n",
    "-   The *Sympy* source code for:\n",
    "\n",
    "    -   `polys.roebnertools`\n",
    "        <sup>  [@sympydevelopmentteamSympyPolysGroebnertools]  </sup>\n",
    "\n",
    "    -   `solvers.polysys` <sup>  [@sympydevelopmentteamSympySolversPolysys]  </sup>\n",
    "\n",
    "-   The *Sympy* documentation for *Polynomial Manipulation*\n",
    "    <sup>  [@sympydevelopmentteamGrobnerBasesTheir2021]  </sup>\n",
    "\n",
    "\n",
    "Unfortunately these resources were not\n",
    "known to me until very late in the investigation and upon reflection it's clear to me that approaching this topic from the perspective of abstract algebra is a very inefficient approach and I would strongly recommend against it. I hope that this\n",
    "report can serve as a guide for others who pick up this topic such that\n",
    "they can come to broadly understand core concepts and practical applications\n",
    "    quickly without wasting time on abstract concepts that are often poorly\n",
    "    explained in the literature.\n",
    "\n",
    "\n",
    "Although *Sympy* is probably not the best tool for studying commutative\n",
    "algebra specifically (and the implementation may not be battle tested\n",
    "either, see e.g. <sup>  [@WrongGroebnerBasis]  </sup>), the simple and accessible\n",
    "nature of *Sympy* made it's documentation by far the most valuable\n",
    "resource for grappling with this topic.\n",
    "\n",
    "An extension to this investigation would be to:\n",
    "\n",
    "-   Try and implement Buchberger's Algorithm from scratch using\n",
    "    functions and iterations in *Python* in order to return a Reduced\n",
    "    Groebner Basis\n",
    "\n",
    "    -   See Definition 4 of <sup>  [@coxIdealsVarietiesAlgorithms1997 §7]  </sup>\n",
    "\n",
    "-   Try to demonstrate, in good detail, the relationship between the\n",
    "    Euclidean Algorithm and Buchberger's Algorithm\n",
    "\n",
    "    -   See <sup>  [@coxIdealsVarietiesAlgorithms1997 p. 95]  </sup>\n",
    "\n",
    "-   Try to implement Buchberger's Algorithm using *Normal Selection\n",
    "    Strategy* <sup>  [@hibiGrobnerBasesStatistics2014 §3.1.2]  </sup>, see also\n",
    "    <sup>  [@sympydevelopmentteamSympyPolysGroebnertools; @prof.berndsturmfelsIntroductionGrobnerBases2017]  </sup>."
   ]
  },
  {
   "cell_type": "markdown",
   "id": "arbitrary-wrestling",
   "metadata": {},
   "source": [
    "### Further Resources\n",
    "\n",
    "The following resources may be useful as reference material, but I would\n",
    "suggest against using these as any sort of primary material for the topic:\n",
    "\n",
    "1.  Judson, T. W., & Open Textbook Library, Abstract algebra theory and\n",
    "    applications <sup>  [@judsonAbstractAlgebraTheory2016]  </sup>\n",
    "\n",
    "2.  Howlett, R., An undergraduate course in Abstract Algebra: Course\n",
    "    notes for MATH3002 <sup>  [@roberthowlettUndergraduateCourseAbstract]  </sup>\n",
    "\n",
    "3.  Lee, G., Abstract Algebra <sup>  [@gregoryleeAbstractAlgebra2018]  </sup>\n",
    "\n",
    "4.  Grillet, P. A., Abstract Algebra <sup>  [@grilletAbstractAlgebra2007]  </sup>\n",
    "\n",
    "5.  Hibi, T., Grobner Bases: Statistics and Software Systems\n",
    "    <sup>  [@hibiGrobnerBasesStatistics2014]  </sup>\n",
    "\n",
    "6.  Adams, W. W., & Loustaunau, P., An introduction to Gröbner bases\n",
    "    <sup>  [@adamsIntroductionGrobnerBases1994]  </sup>\n",
    "\n",
    "7.  Nicodemi, O., Sutherland, M. A., & Towsley, G. W., An introduction\n",
    "    to abstract algebra with notes to the future teacher\n",
    "    <sup>  [@nicodemiIntroductionAbstractAlgebra2007a]  </sup>\n",
    "\n",
    "Further material that I haven't had a chance to look throughA: includes:\n",
    "\n",
    "-   Becker, T., Weispfenning, V., & Kredel, H., Gröbner bases: a\n",
    "    computational approach to commutative algebra\n",
    "    <sup>  [@beckerGrobnerBasesComputational1993]  </sup>"
   ]
  },
  {
   "cell_type": "markdown",
   "id": "developed-visitor",
   "metadata": {},
   "source": [
    "## Introduction\n",
    "\n",
    "A Groebner Basis is a set of polynomials that spans the solution space\n",
    "of another set of polynomials, they are of interest to us because they\n",
    "are useful for solving systems of polynomial equations and provide a\n",
    "generalized theory that shows the relationships between:\n",
    "\n",
    "-   Polynomial Long Division with multiple variables and divisors, see\n",
    "    e.g. <sup>  [@coxIdealsVarietiesAlgorithms1997 §3]  </sup>\n",
    "\n",
    "-   The Division Algorithm see e.g.<sup> [@coxIdealsVarietiesAlgorithms1997\n",
    "    §3] </sup>and <sup>  [@nicodemiIntroductionAbstractAlgebra2007a]  </sup>\n",
    "\n",
    "-   The LCM and GCD <sup>  [@coxIdealsVarietiesAlgorithms1997 §2.6]  </sup>\n",
    "\n",
    "-   The Euclidean Algorithm and Gaussian Elimination\n",
    "\n",
    "    -   Both of which provide output that are special cases of Groebner\n",
    "        Bases.\n",
    "\n",
    "The theory of Groebner Bases even provides a framework to re-express the\n",
    "Fundamental Theorem of Algebra\n",
    "<sup>  [@prof.berndsturmfelsIntroductionGrobnerBases2017]  </sup> ."
   ]
  },
  {
   "cell_type": "markdown",
   "id": "existing-cornwall",
   "metadata": {},
   "source": [
    "## Polynomials ##\n",
    "\n",
    "Let $K$ be some field (typically $\\mathbb{Q}, \\mathbb{R},\n",
    "\\mathbb{C}$, this is discussed in greater detail below)\n",
    "\n",
    "### Monomials ###\n",
    "\n",
    "A *monomial* in the variables $x_1, x_2, \\ldots x_n$ is given by:\n",
    "<sup>  [@hibiGrobnerBasesStatistics2014 p. 3]  </sup>\n",
    "\n",
    "\\begin{align}\n",
    "   \\prod^n_{i=1} \\left[ x_i^{a_i} \\right] = x_1^{1_1} \\cdot x_2^{a_2} \\cdot\n",
    "   x_3^{a_3} \\ldots x_n^{a_n} \\quad : a \\in \\mathbb{Z^+}\n",
    "\\end{align}\n",
    "\n",
    "Note however that $a$ must be a non-negative integer\n",
    "<sup>  [@e.h.connellElementsAbstractLinear2001 p. 48]  </sup>\n",
    "\n",
    "#### Degree ####\n",
    "\n",
    "The degree is given by the sum of the exponents, so:\n",
    "\n",
    "\n",
    "$$\n",
    "\\mathrm{deg}\\left(   \\prod^n_{i=1} \\left[ x_i^{a_i} \\right]   \\right) = \\sum^{n}_{i= 1}   \\left[ a_i \\right] \n",
    "$$\n",
    "\n",
    "\n",
    "### Terms ###\n",
    "\n",
    "A term is a monomial with a non-zero coefficient, so for example:\n",
    "\n",
    "\n",
    "$$\n",
    "17 \\cdot x_1^3 \\cdot x_2^5 \\cdot x_3^{13}\n",
    "$$\n",
    "\n",
    "\n",
    "Is a term with degree 21 $(3+5+13)$ and a coefficient of 17.\n",
    "\n",
    "### Polynomials ###\n",
    "\n",
    "A polynomial is a finite sum of terms, the degree of which is defined to\n",
    "be the maximum degree of any of the terms.\n",
    "\n",
    "#### Exception ####\n",
    "\n",
    "The polynomial:\n",
    "\n",
    "\n",
    "$$\n",
    "f = 0\n",
    "$$\n",
    "\n",
    "\n",
    "Has an undefined degree. Terms only have a **non-zero** coefficient,\n",
    "hence $0$ doesn't have any terms and so the definition of degree doesn't\n",
    "work for it.\n",
    "\n",
    "Whereas $f=c, \\quad \\exists c \\in \\mathbb{C}$ does have 1 term, for\n",
    "which the degree is 0.\n",
    "\n",
    "##### Support of a polynomial #####\n",
    "\n",
    "The support of a polynomial $f$ is the set of monomials appearing in\n",
    "$f$, e.g. for the following 6th degree polynomial in 2 variables, the\n",
    "support of that polynomial is given by:\n",
    "\n",
    "\n",
    "$$\n",
    "f(x) = x^2+3x^3+4y \\implies \\mathrm{supp}\\left(f\\right) =\n",
    "     \\left\\{x^2, 3x^3, 4y\\right\\}\n",
    "$$\n",
    "\n",
    "\n",
    "The initial of the support $\\mathrm{in}_{\\prec}\\left(f\\right)$ is the\n",
    "polynomial with the highest ranking with respect to some ordering of the\n",
    "monomials (see §) <sup>  [@hibiGrobnerBasesStatistics2014 1.1.5]  </sup>.\n",
    "\n",
    "So for example a polynomial could be formed by:\n",
    "<!--- See also https://stackoverflow.com/a/50565805 --->\n"
   ]
  },
  {
   "cell_type": "code",
   "execution_count": 10,
   "id": "retired-flower",
   "metadata": {},
   "outputs": [
    {
     "data": {
      "text/latex": [
       "\\begin{equation}5 x^{3} y^{2} + x^{3} + 3 x^{2} + 7 x + 13 y^{4} + 11 y^{2}\\end{equation}"
      ],
      "text/plain": [
       "   3  2    3      2             4       2\n",
       "5⋅x ⋅y  + x  + 3⋅x  + 7⋅x + 13⋅y  + 11⋅y "
      ]
     },
     "metadata": {},
     "output_type": "display_data"
    }
   ],
   "source": [
    "coeff   = [1, 3, 5, 7, 11, 13]\n",
    "support = [x**3, x**2, x**3*y**2, x, y**2, y**4] \n",
    "\n",
    "terms   = [coeff[i]*support[i] for i in range(6)]\n",
    "polynomial = sum(terms)\n",
    "\n",
    "display(polynomial)"
   ]
  },
  {
   "cell_type": "markdown",
   "id": "postal-stewart",
   "metadata": {},
   "source": [
    "The degree of which would be given by 5, corresponding to the monomial $x^3y^2$:"
   ]
  },
  {
   "cell_type": "markdown",
   "id": "green-interval",
   "metadata": {},
   "source": [
    "Extracting the degree from a polynomial using Sympy is somewhat more challenging, it is however useful for later:"
   ]
  },
  {
   "cell_type": "code",
   "execution_count": 11,
   "id": "communist-completion",
   "metadata": {},
   "outputs": [
    {
     "data": {
      "text/plain": [
       "'Polynomial is'"
      ]
     },
     "metadata": {},
     "output_type": "display_data"
    },
    {
     "data": {
      "text/latex": [
       "\\begin{equation}5 x^{3} y^{2} + x^{3} + 3 x^{2} + 7 x + 13 y^{4} + 11 y^{2}\\end{equation}"
      ],
      "text/plain": [
       "   3  2    3      2             4       2\n",
       "5⋅x ⋅y  + x  + 3⋅x  + 7⋅x + 13⋅y  + 11⋅y "
      ]
     },
     "metadata": {},
     "output_type": "display_data"
    },
    {
     "data": {
      "text/plain": [
       "'Degrees of each Monomial:'"
      ]
     },
     "metadata": {},
     "output_type": "display_data"
    },
    {
     "data": {
      "text/latex": [
       "\\begin{equation}\\left[ 5, \\  3, \\  2, \\  0, \\  4, \\  2\\right]\\end{equation}"
      ],
      "text/plain": [
       "[5, 3, 2, 0, 4, 2]"
      ]
     },
     "metadata": {},
     "output_type": "display_data"
    },
    {
     "data": {
      "text/plain": [
       "'Degree of the Polynomial:'"
      ]
     },
     "metadata": {},
     "output_type": "display_data"
    },
    {
     "data": {
      "text/latex": [
       "\\begin{equation}5\\end{equation}"
      ],
      "text/plain": [
       "5"
      ]
     },
     "metadata": {},
     "output_type": "display_data"
    }
   ],
   "source": [
    "def monomial_degrees(f):\n",
    "    # Break the polynomial into a list of monomials\n",
    "    monomials = [m/LC(m) for m in f.as_ordered_terms()]\n",
    "\n",
    "    # Break the monomial into a list of sets of the variables that compose each monomial\n",
    "    sets=[m.atoms(Pow) for m in monomials]\n",
    "\n",
    "    # Break each variable into exponents and add up the degree of each monomial\n",
    "    monomial_degrees = []\n",
    "    for set in sets:\n",
    "        degree = 0\n",
    "        for var in set:\n",
    "            exponent = var.as_base_exp()[1]\n",
    "            degree += exponent\n",
    "        monomial_degrees.append(degree)\n",
    "    \n",
    "    return monomial_degrees\n",
    "\n",
    "def polynomial_degree(f):\n",
    "    return max(monomial_degrees(f))\n",
    "    \n",
    "display(\n",
    "    \"Polynomial is\",\n",
    "    polynomial,\n",
    "    \"Degrees of each Monomial:\",\n",
    "    monomial_degrees(polynomial),\n",
    "    \"Degree of the Polynomial:\",\n",
    "    polynomial_degree(polynomial)\n",
    ")\n",
    "\n"
   ]
  },
  {
   "cell_type": "markdown",
   "id": "instructional-spectrum",
   "metadata": {},
   "source": [
    "\n",
    "#### Other Terminology\n",
    "\n",
    "The following terms are commonly used:\n",
    "<sup>  [@coxIdealsVarietiesAlgorithms1997 §2.2]  </sup>\n",
    "\n",
    "-   The $\\mathrm{multidegree}\\left(f\\right)$, is the largest power of\n",
    "    any variable of any monomial in a polynomial\n",
    "\n",
    "-   The Leading coefficient $\\mathrm{LC}\\left(f\\right)$ is the term\n",
    "    corresponding to the monomial containing the variable that\n",
    "    corresponds to the multidegree\n",
    "\n",
    "    - It appesars, however, that the usage of this term by Sympy and <sup>[@coxIdealsVarietiesAlgorithms1997 §2.2]</sup> is inconsistent, the relevance of this is currently unclear to me <sup>#TODO</sup>\n",
    "    \n",
    "-   The Leading monomial $\\mathrm{LM}\\left(f\\right)$ is the monomial\n",
    "    corresponding containing the variable that corresponds to the\n",
    "    multidegree\n",
    "\n",
    "-   The Leading term $\\mathrm{LT}\\left(f\\right)$ is the product of the\n",
    "    leading coefficient and the leading monomial\n",
    "\n",
    "So for example, in the polynomial:\n",
    "\n",
    "\n",
    "$$\n",
    "f= 4x^2y^2 + 3x^3 + 7xy\n",
    "$$\n",
    "\n",
    "\n",
    "-   The initial is $4x^2y^2$\n",
    "\n",
    "-   The Leading Coefficient is 3\n",
    "\n",
    "-   The Leading Monomial is $x^3$\n",
    "\n",
    "-   The Leading Term [^2] is $x^3$\n",
    "\n",
    "#### Homogenous Polynomial\n",
    "\n",
    "If all terms of a polynomial have an equal degree (say $\\exists q\n",
    "     \\in \\mathbb{N}$ Then that polynomial is said to be a *homogenous\n",
    "polynomiial of degree $q$*, e.g.\n",
    "\n",
    "\n",
    "$$\n",
    "x_1^{3}\\cdot x_2^{4} \\cdot x_3^{2} + x_1^{6}\\cdot x_5^{2} \\cdot x_7\n",
    "$$\n",
    "\n",
    "\n",
    "is a homogenous polynomial of degree 7.\n",
    "\n",
    "##### Example\n",
    "Consider the polynomial from before:"
   ]
  },
  {
   "cell_type": "code",
   "execution_count": 12,
   "id": "speaking-procurement",
   "metadata": {},
   "outputs": [
    {
     "name": "stdout",
     "output_type": "stream",
     "text": [
      "The polynomial is:\n"
     ]
    },
    {
     "data": {
      "text/latex": [
       "\\begin{equation}5 x^{3} y^{2} + x^{3} + 3 x^{2} + 7 x + 13 y^{4} + 11 y^{2}\\end{equation}"
      ],
      "text/plain": [
       "   3  2    3      2             4       2\n",
       "5⋅x ⋅y  + x  + 3⋅x  + 7⋅x + 13⋅y  + 11⋅y "
      ]
     },
     "metadata": {},
     "output_type": "display_data"
    },
    {
     "name": "stdout",
     "output_type": "stream",
     "text": [
      "The multidegree is given by:\n"
     ]
    },
    {
     "ename": "NameError",
     "evalue": "name 'degrees' is not defined",
     "output_type": "error",
     "traceback": [
      "\u001b[0;31m---------------------------------------------------------------------------\u001b[0m",
      "\u001b[0;31mNameError\u001b[0m                                 Traceback (most recent call last)",
      "\u001b[0;32m<ipython-input-12-f67862e51f6b>\u001b[0m in \u001b[0;36m<module>\u001b[0;34m\u001b[0m\n\u001b[1;32m      4\u001b[0m \u001b[0mprint\u001b[0m\u001b[0;34m(\u001b[0m\u001b[0;34m\"The multidegree is given by:\"\u001b[0m\u001b[0;34m)\u001b[0m\u001b[0;34m\u001b[0m\u001b[0;34m\u001b[0m\u001b[0m\n\u001b[1;32m      5\u001b[0m \u001b[0mmulti_degrees\u001b[0m    \u001b[0;34m=\u001b[0m \u001b[0;34m[\u001b[0m\u001b[0mdegree\u001b[0m\u001b[0;34m(\u001b[0m\u001b[0mpolynomial\u001b[0m\u001b[0;34m,\u001b[0m \u001b[0mvar\u001b[0m\u001b[0;34m)\u001b[0m \u001b[0;32mfor\u001b[0m \u001b[0mvar\u001b[0m \u001b[0;32min\u001b[0m \u001b[0;34m[\u001b[0m\u001b[0mx\u001b[0m\u001b[0;34m,\u001b[0m\u001b[0my\u001b[0m\u001b[0;34m,\u001b[0m\u001b[0mz\u001b[0m\u001b[0;34m]\u001b[0m\u001b[0;34m]\u001b[0m\u001b[0;34m\u001b[0m\u001b[0;34m\u001b[0m\u001b[0m\n\u001b[0;32m----> 6\u001b[0;31m \u001b[0mmulti_degree_val\u001b[0m \u001b[0;34m=\u001b[0m \u001b[0mmax\u001b[0m\u001b[0;34m(\u001b[0m\u001b[0mdegrees\u001b[0m\u001b[0;34m)\u001b[0m\u001b[0;34m\u001b[0m\u001b[0;34m\u001b[0m\u001b[0m\n\u001b[0m\u001b[1;32m      7\u001b[0m \u001b[0mprint\u001b[0m\u001b[0;34m(\u001b[0m\u001b[0mmulti_degree_val\u001b[0m\u001b[0;34m)\u001b[0m\u001b[0;34m\u001b[0m\u001b[0;34m\u001b[0m\u001b[0m\n\u001b[1;32m      8\u001b[0m \u001b[0;34m\u001b[0m\u001b[0m\n",
      "\u001b[0;31mNameError\u001b[0m: name 'degrees' is not defined"
     ]
    }
   ],
   "source": [
    "print(\"The polynomial is:\")\n",
    "display(polynomial)\n",
    "\n",
    "print(\"The multidegree is given by:\")\n",
    "multi_degrees    = [degree(polynomial, var) for var in [x,y,z]]\n",
    "multi_degree_val = max(degrees)\n",
    "print(multi_degree_val)\n",
    "\n",
    "print(\"The Leading Term is given by:\")\n",
    "display(LT(polynomial))\n",
    "\n",
    "\n",
    "print(\"The Leading Coefficient is given by:\")\n",
    "# lc = Poly(LT(polynomial)).coeffs()[0]\n",
    "display(LC(polynomial))\n",
    "\n",
    "print(\"The Leading Monomial is given by:\")\n",
    "display(LM(polynomial))\n"
   ]
  },
  {
   "cell_type": "markdown",
   "id": "deluxe-rapid",
   "metadata": {},
   "source": [
    "#### The Polynomial Ring\n",
    "\n",
    "Let $K\\left[x_1, x_2, x_3, \\ldots x_n\\right]=K\\left[\\mathbf{X}_n\\right]$\n",
    "denote the set of all polynomials in the variables\n",
    "$x_1, x_2, x_3, \\ldots x_n$ with coefficients in some field $K$.\n",
    "\n",
    "If $f$ and $g$ are polynomials from $K\\left[x_1, x_2, x_3,\n",
    "     \\ldots x_n\\right]$ with addition and multiplication defined in the\n",
    "ordinary way (i.e. just normal algebra), then $K\\left[x_1,\n",
    "     x_2, x_3, \\ldots x_n\\right]$ forms an algebraic structure known as\n",
    "a Ring.\n",
    "\n",
    "Readers may be familiar with the axioms of a vector space, for which the\n",
    "set of polynomials $K\\left[x_1, x_2, x_3, \\ldots x_n \\right]$ [^todo1] of degree  $\\leq n$ also\n",
    "satisfies <sup>  [@larsonElementaryLinearAlgebra1991a §4.4]  </sup>, a ring structure\n",
    "is much the same concept, it's a set with specific characteristics. One\n",
    "of the main differences is that while a vector space requires a scalar\n",
    "multiplicative identity, a ring structure does not.\n",
    "\n",
    "On the other hand not all vector spaces are necessarily rings because\n",
    "they are not necessarily closed under multiplication (although defining\n",
    "multiplication by element-wise product would remedy this), see\n",
    "§[9.1.1.4](#sec:orgb572ffe){reference-type=\"ref\"\n",
    "reference=\"sec:orgb572ffe\"} for more information.\n",
    "\n",
    "[^todo1]: Would this need to be over a field? or would coefficients in a ring be sufficient for the set of polynomials to be a vector space?\n"
   ]
  },
  {
   "cell_type": "markdown",
   "id": "connected-sigma",
   "metadata": {},
   "source": [
    "## Ideals and Varieties ##\n"
   ]
  },
  {
   "cell_type": "markdown",
   "id": "assured-tunisia",
   "metadata": {},
   "source": [
    "### Affine Space ###\n",
    "\n",
    "The affine $n$-space of some field $K$ is given by:\n",
    "<sup>  [@coxIdealsVarietiesAlgorithms1997 §1.1]  </sup>\n",
    "\n",
    "\n",
    "$$\n",
    "K^n=\\left\\{\\left(a_1, a_2, a_3, \\ldots, a_n \\right) \\mid a_i \\in K, \\forall i \\in \\mathbb{Z}^+\\right\\}\n",
    "$$\n",
    "\n",
    "\n",
    "For example if $K$ was given by $\\mathbb{R}$ the resulting affine\n",
    "$2$-space would be the *Cartesian Plane*.\n",
    "\n"
   ]
  },
  {
   "cell_type": "markdown",
   "id": "arranged-region",
   "metadata": {},
   "source": [
    "### Zero Point ###\n",
    "\n",
    "The zero-point of some function $f\\in K\\left[\\mathbf{X}_n\\right]$ is a\n",
    "point in $K^n$: <sup>  [@hibiGrobnerBasesStatistics2014]  </sup>\n",
    "\n",
    "\n",
    "$$\n",
    "\\begin{aligned}\n",
    "      f\\left( a_1, a_2, a_3 \\ldots a_n \\right) =0\n",
    ".\\end{aligned}\n",
    "$$\n",
    "\n",
    "\n",
    "These points are often referred to as roots\n",
    "<sup>  [@judsonAbstractAlgebraTheory2016 §17.2]  </sup>, however this is usually in the\n",
    "context of equations more broadly rather than functions specifically.\n",
    "<sup>  [@82645]  </sup>\n",
    "\n"
   ]
  },
  {
   "cell_type": "markdown",
   "id": "chemical-mercury",
   "metadata": {},
   "source": [
    "### Variety ###\n",
    "\n",
    "Consider a set of functions $F=\\left\\{ f_{1},f_{2},f_{3},\\ldots\n",
    "   f_{s}\\right\\}$, the variety of this set of functions is denoted\n",
    "$\\mathbf{V}\\left(F\\right)$ and is the set of all zero-points of all the\n",
    "functions:\n",
    "\n",
    "\n",
    "$$\n",
    "\\boldsymbol{V}\\left(F\\right)=\\left\\{ \\left(a_{1},a_{2},a_{3},\\ldots a_{n}\\right)\\in K^{n}\\mid f_{i}\\left(a_{1},a_{2},a_{3},\\ldots a_{n}\\right),\\forall i\\in\\mathbb{Z}^{+}<s\\right\\}\n",
    "$$\n",
    "\n",
    "\n",
    "The convention is that all functions in $F$ are set to be equal to 0,\n",
    "and if this convention is taken, the variety of that set is the set of\n",
    "solutions corresponding to that set of equations.\n",
    "\n"
   ]
  },
  {
   "cell_type": "markdown",
   "id": "completed-encyclopedia",
   "metadata": {},
   "source": [
    "#### Example ####\n",
    "\n",
    "Consider for example the set $\\left\\{ -y+x^{2}-1,-y+1\\right\\}$, the\n",
    "solution to this system can be found by substitution:\n",
    "\n",
    "\n",
    "$$\n",
    "\\begin{aligned}\n",
    "    -y + x^{2}-1    &=0=-y+1 \\\\\n",
    "    x^{2}-1 &=y=1 \\\\\n",
    "    x^{2}   &=2   \\\\\n",
    "    x   &=\\pm\\sqrt{2}\\end{aligned}\n",
    "$$\n",
    "\n",
    "\n",
    "and so:\n",
    "\n",
    "\n",
    "$$\n",
    "\\boldsymbol{V}\\left(\\left\\{ -y+x^{2}-1,-y+1\\right\\}\\right)=\\left\\{ \\left(-\\sqrt{2},1\\right),\\left(\\sqrt{2},1\\right)\\right\\}\n",
    "$$\n",
    "\n",
    "\n"
   ]
  },
  {
   "cell_type": "markdown",
   "id": "increasing-fetish",
   "metadata": {},
   "source": [
    "In this case $(\\sqrt{2}, 1)$ would be a zero point, but the set, altogether, would be the variety."
   ]
  },
  {
   "cell_type": "markdown",
   "id": "institutional-detail",
   "metadata": {},
   "source": [
    "The variety can also be an infinite set, consider for $x^2-3y+y^2$, which has the set:"
   ]
  },
  {
   "cell_type": "code",
   "execution_count": null,
   "id": "governmental-grammar",
   "metadata": {},
   "outputs": [],
   "source": [
    "variety = solve(x**2-3*y+y**2)\n",
    "display(variety)\n",
    "# solve(polynomial)  # This solution is comically long but not a great example"
   ]
  },
  {
   "cell_type": "markdown",
   "id": "verbal-ottawa",
   "metadata": {},
   "source": [
    "### Ideals ###\n",
    "\n",
    "Ideals are a set with a particularly convenient property, given\n",
    "functions $f,g\\in K\\left[\\mathbf{X}_n\\right]$, a subring\n",
    "$I\\subset K\\left[\\textbf{X}\\right]$ is said to be an ideal if it is\n",
    "closed under addition and admits other functions under multiplication:\n",
    "<sup>  [@hibiGrobnerBasesStatistics2014 §1.1.3]  </sup>\n",
    "\n",
    "1.  $f\\in I \\land g \\in I \\implies f+g \\in I$\n",
    "\n",
    "2.  $f\\in I \\land g \\in k\\left[ \\textbf{X} \\right] \\implies gf \\in I$\n",
    "\n",
    "So for example, $\\left\\{0\\right\\}$ is an ideal of the polynomial ring in\n",
    "all variables, and as a matter of fact $0\\in I$ for all ideals of\n",
    "polynomial rings in all variables.\n",
    "\n",
    "A subring is a subset that is itself a ring, so $I$ would be a subset\n",
    "that is closed under addition and multiplication and contains an\n",
    "additive identity (i.e. $0 \\in I$). [^3] As a matter of fact it can be\n",
    "shown that:\n",
    "\n",
    "-   $0\\in I$\n",
    "\n",
    "-   $\\left\\{0\\right\\}$ is an ideal\n",
    "\n",
    "for all ideals in all variables and that is an ideal (because otherwise\n",
    "the result would not be admitted to $I$).\n",
    "\n"
   ]
  },
  {
   "cell_type": "markdown",
   "id": "rental-spyware",
   "metadata": {},
   "source": [
    "#### Example ####\n",
    "\n",
    "Let $R = \\mathbb{Z}$ and $I=2\\mathbb{Z}$, the set of $\\mathbb{Z}$ is a\n",
    "commutative ring with unity, $2\\mathbb{Z}\n",
    "    \\subset \\mathbb{Z}$ is:\n",
    "\n",
    "1.  $2\\mathbb{Z} \\neq \\emptyset$\n",
    "\n",
    "2.  closed under multiplication and addition\n",
    "\n",
    "3.  admits any other integer under multiplication (i.e. even $\\times$\n",
    "    anything is even)\n",
    "\n"
   ]
  },
  {
   "cell_type": "markdown",
   "id": "productive-quarter",
   "metadata": {},
   "source": [
    "### Ideals and Varieties ###\n",
    "\n",
    "If we have a variety of $V \\subset K^n$, we denote, $I\\left( V \\right)$\n",
    "as the set of all polynomials $f_i\\in k\\left[ \\textbf{X} \\right]$ :\n",
    "<sup>  [@hibiGrobnerBasesStatistics2014 §1.1.3]  </sup>\n",
    "\n",
    "\n",
    "$$\n",
    "\\begin{aligned}\n",
    "      f_i\\left( a_1, a_2, a_3, \\ldots a_n \\right) =0, \\quad \\forall \\left( a_1, a_2, a_3, \\ldots a_n \\right) \\in V\n",
    ".\\end{aligned}\n",
    "$$\n",
    "\n",
    "\n",
    "this set of functions satisfies the properties of an ideal and is known\n",
    "as the ideal of $V$ <sup>  [@coxIdealsVarietiesAlgorithms1997]  </sup>.\n",
    "\n",
    "In other words, the ideal of the variety of a set of functions,\n",
    "$I\\left( \\mathbf{V}\\left(F\\right) \\right)$, is the set of polynomials,\n",
    "that have the same zero-points as the simultaneous zero points of all\n",
    "functions in $F$.\n",
    "\n"
   ]
  },
  {
   "cell_type": "markdown",
   "id": "immediate-organization",
   "metadata": {},
   "source": [
    "#### Example\n",
    "Consider the linear system from before:\n",
    "\n",
    "\\begin{align}\n",
    "2x + 3y - 5  &= 0 \\\\\n",
    "7x + 9y + 11 &= 0\n",
    "\\end{align}\n",
    "\n",
    "One alternative set of functions that share the solution space have already been found (the Groebner Basis with respect to lexical ordering):\n",
    "\n",
    "\\begin{align}\n",
    "x - 4 = 0 \\\\\n",
    "3 y + 13 = 0\n",
    "\\end{align}\n",
    "\n",
    "to find other equations that satisfy this property, they can just be multiplied by other values, e.g.:\n",
    "\n",
    "\n",
    "\\begin{alignat}{2}\n",
    "7 &\\times  (x - 4    )&= 0 \\\\\n",
    "9 &\\times (3 y + 13) &= 0\n",
    "\\end{alignat}\n",
    "\n",
    "This would also work with polynomials\n",
    "\n",
    "\\begin{alignat}{2}\n",
    "x*2 &\\times  (x - 4    )&= 0 \\\\\n",
    "x*3 &\\times (3 y + 13) &= 0\n",
    "\\end{alignat}"
   ]
  },
  {
   "cell_type": "markdown",
   "id": "owned-colony",
   "metadata": {},
   "source": [
    "Returning to the previous example of $\\left\\{x^2-3y+y^2\\right\\}$, other functions with the same solution space could be *generated* just by multiplying through by other elements of $k[\\mathbf{X_n}]$:"
   ]
  },
  {
   "cell_type": "code",
   "execution_count": null,
   "id": "spread-juvenile",
   "metadata": {},
   "outputs": [],
   "source": []
  },
  {
   "cell_type": "markdown",
   "id": "proper-edinburgh",
   "metadata": {},
   "source": [
    "Indeed this close relationship between ideal sets and solutions is the very reason that this set of infinitely many functions is known as the *ideal of the variety* and these properties lead to concept of *generating ideals*."
   ]
  },
  {
   "cell_type": "markdown",
   "id": "advance-perth",
   "metadata": {},
   "source": [
    "### Generating Ideals ###\n",
    "\n",
    "The ideal generated by $F$ is:\n",
    "\n",
    "\n",
    "$$\n",
    "\\left\\langle F\\right\\rangle =\\left\\{\n",
    "    p_{1}f_{1}+p_{2}f_{2}+p_{3}f_{3}+\\ldots p_{n}f_{n}\\mid f_{i}\\in\n",
    "    F,p_{i}\\in K\\left[\\boldsymbol{X}\\right],\\forall\n",
    "    i\\in\\mathbb{Z}^{+}\\right\\}\n",
    "$$\n",
    "\n",
    "\n",
    "and is the set of all the linear combinations\n",
    "of elements in $F$ with polynomials in $K\\left[\\mathbf{X}_n\\right]$,\n",
    "another way to phrase it would be that $\\left\\langle F\\right\\rangle$ is\n",
    "the set of polynomial consequences of $F$\n",
    "<sup>  [@coxIdealsVarietiesAlgorithms1997 p. 30]  </sup>.\n",
    "\n",
    "Such a set satisfies the properties of an ideal and is a subset of the\n",
    "functions that share the zero-points with $F$:\n",
    "<sup>  [@coxIdealsVarietiesAlgorithms1997 p. 34]  </sup>\n",
    "\n",
    "\n",
    "$$\n",
    "\\left\\langle F \\right\\rangle \\subseteq\n",
    "    I\\left(\\boldsymbol{V}\\left(F\\right)\\right)\n",
    "$$\n",
    "\n",
    "\n",
    "\n",
    "If some **finite** set of polynomials $F$, can generate an ideal $I$, it\n",
    "is said that $I$ is finitely generated and that $F$ is a basis for $I$.\n",
    "\n"
   ]
  },
  {
   "cell_type": "markdown",
   "id": "wrong-detector",
   "metadata": {},
   "source": [
    "#### Example\n",
    "\n",
    "Returning to the previous example of $x^2-3y+y^2$, other functions with the same solution space could be *generated* just by multiplying through by other elements of $k[\\mathbf{X_n}]$:"
   ]
  },
  {
   "cell_type": "code",
   "execution_count": null,
   "id": "answering-earthquake",
   "metadata": {},
   "outputs": [],
   "source": [
    "eg_poly = x**2 - 3*y + y**2\n",
    "display(solve(eg_poly))\n",
    "display(solve(eg_poly * x))\n",
    "display(solve(eg_poly * x*y**2))\n",
    "display(solve(eg_poly * x**3  ))\n",
    "display(solve(eg_poly * x**7))"
   ]
  },
  {
   "cell_type": "markdown",
   "id": "macro-examination",
   "metadata": {},
   "source": [
    "Likewise each of those functions can be shown to be generated by the solution $x-\\sqrt{y(3-y)}$"
   ]
  },
  {
   "cell_type": "markdown",
   "id": "sublime-vacuum",
   "metadata": {},
   "source": [
    "\n",
    "Every ideal in $K\\left[\\mathbf{X}_n\\right]$ is finitely generated\n",
    "<sup>  [@coxIdealsVarietiesAlgorithms1997 p. 77]  </sup>, this is known as *Hilbert's\n",
    "Basis Theorem*, this is important because it means we if we had an\n",
    "algorithm that involved taking different polynomials from such a basis,\n",
    "that algorithm would eventually end.\n",
    "\n",
    "If two sets are bases of the same ideal, they will have the same\n",
    "variety, i.e. if two sets can generate the same set of functions,\n",
    "they'll have the same solutions (assuming that the set of functions is\n",
    "an ideal), this also implies\n",
    "\n"
   ]
  },
  {
   "cell_type": "markdown",
   "id": "minute-stanford",
   "metadata": {},
   "source": [
    "#### Initial Ideal ####\n",
    "\n",
    "The initial ideal:\n",
    "\n",
    "\n",
    "$$\n",
    "\\left\\langle\n",
    "  \\mathrm{in}_{\\prec}\\left(I\\right)\\right\\rangle =\\left\\langle\n",
    "  \\left\\{ \\mathrm{in}_{\\prec}\\left(f\\right):0\\neq f\\in I\\right\\}\n",
    "  \\right\\rangle\n",
    "$$\n",
    "\n",
    "\n",
    "is generated by infinitely many monomials, namely the initial monomials,\n",
    "for the infinitely many polynomials in the ideal I.\n",
    "<sup>  [@hibiGrobnerBasesStatistics2014 §1.1.5]  </sup>\n",
    "\n",
    "It's common also to see a similar definition for the ideal generated by\n",
    "the leading terms is denoted $\\left\\langle\n",
    "  \\mathrm{LT}\\left(f\\right)\\right\\rangle$\n",
    "<sup>  [@coxIdealsVarietiesAlgorithms1997 §2.5]  </sup>.\n",
    "\n"
   ]
  },
  {
   "cell_type": "markdown",
   "id": "objective-march",
   "metadata": {},
   "source": [
    "#### Comparison with Linear Algebra ####\n",
    "\n",
    "If $S$ is some set of vectors such that every vector subspace $V$\n",
    "can be written as a linear combination of the elements of $S$, is is said\n",
    "that $S$ spans $V$, so for example\n",
    "$S=\\left\\{ \\left\\langle 1,0\\right\\rangle ,\\left\\langle\n",
    "    0,1\\right\\rangle \\right\\}$ spans $\\mathbb{R}^2$ or\n",
    "$S=\\left\\{1, x, x^2\\right\\}$ spans $P_2$.\n",
    "\n",
    "Ideals for rings are similar in nature to vector subspaces and normal\n",
    "subgroups. It's worth drawing attention to the fact that that the term\n",
    "basis in the context of an ideal (which could be more accurately called\n",
    "a generating set <sup>  [@sturmfelsSolvingSystemsPolynomial2002]  </sup>) is quite\n",
    "different from a linear basis <sup>  [@coxIdealsVarietiesAlgorithms1997 p. 35]  </sup>.\n",
    "\n",
    "In linear algebra a basis spans and is linearly independent, the basis\n",
    "of an ideal however only spans, there is no independence, for example:\n",
    "\n",
    "\n",
    "$$\n",
    "\\begin{aligned}\n",
    "  f_{1}\\left(x,y\\right)=y\\quad  \\quad & \\vec{v}_{1}=\\left\\langle 0,1\\right\\rangle \\\\\n",
    "  f_{2}\\left(x,y\\right)=x \\quad \\quad & \\vec{v}_{2}=\\left\\langle\n",
    "  1,0\\right\\rangle \\end{aligned}\n",
    "$$\n",
    "\n",
    "\n",
    "Linear independence is generally satisfied if linear combination is\n",
    "equal to zero, only if the multiplying terms are zero, i.e. $f_1$ and\n",
    "$f_2$ are linearly independent only if:\n",
    "\n",
    "\n",
    "$$\n",
    "\\begin{aligned}\n",
    "  0 & =a\\left\\langle 0,1\\right\\rangle +b\\left\\langle 1,0\\right\\rangle ,\\quad\\forall a,b\\in\\mathbb{R}\\\\\n",
    "  & =\\left\\langle a,b\\right\\rangle \\\\\n",
    "  & \\implies a=b=0\\end{aligned}\n",
    "$$\n",
    "\n",
    "\n",
    "This clearly doesn't work for polynomials, however, because setting\n",
    "$g_{i}=x$ and $g_{j}=-y$ satisfies such an equation.\n",
    "\n",
    "\n",
    "$$\n",
    "0=g_{i}y+g_{j}x,\\quad\\not\\!\\!\\!\\implies g_i=g_j=0, \\quad \\forall g_{i}g_{j}\\in\n",
    "    k\\left[\\mathbf{X}\\right]\n",
    "$$\n",
    "\n",
    "\n",
    "So linear independence doesn't have a lot of meaning with polynomials,\n",
    "it's only the spanning property that is meaningful.\n",
    "\n"
   ]
  },
  {
   "cell_type": "markdown",
   "id": "identified-collapse",
   "metadata": {},
   "source": [
    "## Initials and Leading Monomials ##\n"
   ]
  },
  {
   "cell_type": "markdown",
   "id": "right-given",
   "metadata": {},
   "source": [
    "### Monomial Ordering ###\n",
    "\n",
    "Monomials are ordered by degree, e.g. $x \\prec x^2$ or $xyz\n",
    "   \\prec x^2yz$, however in many variables it isn't always clear which\n",
    "order should be chosen, for example the following monomials have the\n",
    "same degree and if they are ordered by the value on first variable:\n",
    "\n",
    "\n",
    "$$\n",
    "xy^3 \\prec x^2yz\n",
    "$$\n",
    "\n",
    "\n",
    "If however they are ordered by trying to minimize the last variable:\n",
    "\n",
    "\n",
    "$$\n",
    "x^2yz \\prec xy^3\n",
    "$$\n",
    "\n",
    "\n",
    "Recall from polynomial long division that the first term in a polynomial is\n",
    "important to the algorithm, for a similar reason it is necessary to\n",
    "decide before hand on an ordering, and generally in this report the\n",
    "lexicographic order (i.e. alphabetical) will be used.\n",
    "\n",
    "The specifics of monomial ordering are not as crucial as many texts make it out to be and so further\n",
    "discussion appears further below.\n",
    " \n",
    "Changing the monomial order can lead to different, albeit equivalent, Gröbner Bases, however, in simple scenarios these different bases will not usually be required anyway and so I would advise readers new to this topic not to spend too much time on the details of different ordering systems.\n"
   ]
  },
  {
   "cell_type": "markdown",
   "id": "convenient-aurora",
   "metadata": {},
   "source": [
    "## Groebner Bases ##\n",
    "\n",
    "A finite subset $G$ of an ideal $I$ is a Grobner Basis, (with respect to\n",
    "some term order $\\prec$, if:\n",
    "<sup>  [@berndsturmfelsIntroductionGrobnerBases2017a; @hibiGrobnerBasesStatistics2014]  </sup>\n",
    "\n",
    "\n",
    "$$\n",
    "\\left\\{ \\mathrm{in}_{\\prec}\\left(g\\right)\\mid g\\in G\\right\\}\n",
    "$$\n",
    "\n",
    "\n",
    "generates $\\left\\{ \\mathrm{in}_{\\prec}\\left(I\\right)\\right\\}$\n",
    "\n",
    "It's common also to see this definition reformulated with respect to\n",
    "leading terms as opposed to initial monomials, in which case $G$ is said\n",
    "to be a Groebner Bases if: <sup>  [@coxIdealsVarietiesAlgorithms1997 2.5]  </sup>\n",
    "\n",
    "\n",
    "$$\n",
    "\\mathrm{LT}\\left(I\\right)=\\left\\langle \\mathrm{LT}\\left(g_{1}\\right),\\mathrm{LT}\\left(g_{2}\\right),\\mathrm{LT}\\left(g_{3}\\right),\\ldots\\mathrm{LT}\\left(g_{n}\\right)\\right\\rangle\n",
    "$$\n",
    "\n",
    "<!---\n",
    " So in words, if the leading terms of the finite elements of a set can generate the infinitely many leading terms of an ideal, that set is a Groebner Basis of that ideal.\n",
    " --->\n",
    "\n",
    "So in words, if the leading terms of the finite elements of a set can generate the leading terms of the infinitely many functions that have the same solutions, that set is a Groebner Basis of the system.\n",
    "\n",
    "\n",
    "there are many such generating sets, we can add any element to G to get\n",
    "another Groebner Basis, so in practice we will be more concerned with\n",
    "reduced Groebner Basis. Note also that even though the leading term is\n",
    "different from the initial monomial, either can be used to define a\n",
    "Groebner Bases, however it is not yet clear to me if the Groebner Bases\n",
    "will depend on the monomial ordering $\\prec$ only if the initial is used\n",
    "to define it.\n",
    "\n",
    "The variety of a set of functions depends only on the ideal of $F$, if\n",
    "two sets generate the same ideal they have the same variety and if $G$\n",
    "is a Grobner Basis for F, then $V(G)=V(F)$.\n",
    "\n",
    "The reason we care about a Groebner Bases more generally is because the\n",
    "set tends to provide more information of the solution space.\n",
    "\n"
   ]
  },
  {
   "cell_type": "markdown",
   "id": "vulnerable-spell",
   "metadata": {},
   "source": [
    "## Buchberger's Criterion ##\n",
    "\n",
    "$G$ is a Groebner basis, if and only if, every $S$-polynomial formed by\n",
    "any two pairs from $G$ has a remainder of 0, where the S-polynomial is\n",
    "given by: <sup>  [@coxIdealsVarietiesAlgorithms1997 §2.6]  </sup>\n",
    "\n",
    "\n",
    "$$\n",
    "S\\left(f,g\\right)=\\mathrm{lcm}\\left(\\mathrm{LM}\\left(f\\right),\\mathrm{LM}\\left(g\\right)\\right)\\times\\left(\\frac{f}{\\mathrm{LT}\\left(f\\right)}-\\frac{g}{\\mathrm{LT}\\left(g\\right)}\\right)\n",
    "$$\n",
    "\n",
    "The remainder that we are concerned with is:\n",
    "\n",
    "\n",
    "$$\n",
    "r = {\\overline{S(f,g)}^{_G}} = S(f,g) \\mod \\prod_{g\\in G} \\left(G \\right)\n",
    "$$\n",
    "\n",
    "\n"
   ]
  },
  {
   "cell_type": "markdown",
   "id": "outer-mortgage",
   "metadata": {},
   "source": [
    "## Buchberger's Algorithm ##\n",
    "\n",
    "Buchberger's Algorithm takes a set of polynomials, $F$ and eventually\n",
    "returns another set $G$ which is a Groebner Bases.\n",
    "\n",
    "To do this the algorithm tests every pair of polynomials in F with the\n",
    "criterion above, if the remainder for any pair is non zero, it is placed\n",
    "into $F$ as another polynomial. Once every combination has been\n",
    "considered, the original set $F$ will be a Groebner Basis.\n",
    "\n"
   ]
  },
  {
   "cell_type": "markdown",
   "id": "proved-classics",
   "metadata": {},
   "source": [
    "### Reduced Groebner Basis ###\n",
    "\n",
    "A reduced Groebner Basis is a Groebner Basis that has needless\n",
    "polynomials discarded, I have not had time to investigate these yet.\n",
    "\n"
   ]
  },
  {
   "cell_type": "markdown",
   "id": "short-circuit",
   "metadata": {},
   "source": [
    "### Example ###\n",
    "\n",
    "I have not been able to successfully implment Buchberger's Algorithm on systems of equations yet, see the end of this document for working that has been implemented, I have, however, been able to reproduce an example from <sup> [@andreasschulzIntegerProgrammingCombinatorial]</sup> which is provided below:\n",
    "\n"
   ]
  },
  {
   "cell_type": "code",
   "execution_count": null,
   "id": "optical-alexandria",
   "metadata": {},
   "outputs": [],
   "source": [
    "F0 = [x**3-2*x*y, x**2*y-2*y**2 + x]\n",
    "F = F0.copy()\n",
    "for poly in F:\n",
    "    display(poly)"
   ]
  },
  {
   "cell_type": "markdown",
   "id": "backed-burton",
   "metadata": {},
   "source": [
    "These polynomials are equal to zero and so could also be expressed:"
   ]
  },
  {
   "cell_type": "markdown",
   "id": "smooth-admission",
   "metadata": {},
   "source": [
    "\\begin{align}\n",
    "x^3 &= 2xy \\\\\n",
    "  x &=2y^2-x^2y    \n",
    "\\end{align}"
   ]
  },
  {
   "cell_type": "markdown",
   "id": "coated-expense",
   "metadata": {},
   "source": [
    "The Groebner Basis that we hope to solve is:"
   ]
  },
  {
   "cell_type": "code",
   "execution_count": null,
   "id": "distant-helping",
   "metadata": {},
   "outputs": [],
   "source": [
    "G_out = polys.polytools.groebner(F, x, y, order = 'lex', method = 'buchberger')\n",
    "G = []\n",
    "\n",
    "for poly in G_out:\n",
    "    G.append(poly)\n",
    "    display(poly)\n"
   ]
  },
  {
   "cell_type": "markdown",
   "id": "interior-water",
   "metadata": {},
   "source": [
    "and so overall we have:"
   ]
  },
  {
   "cell_type": "markdown",
   "id": "short-forty",
   "metadata": {},
   "source": [
    "$$\n",
    "\\begin{array}{rcl}\n",
    "x^{3} & = & 2xy\\\\\n",
    "x & = & 2y^{2}-x^{2}y\n",
    "\\end{array}\\implies\\begin{array}{rcl}\n",
    "y^{2} & = & \\frac{1}{2}x\\\\\n",
    "y^{3} & = & 0\n",
    "\\end{array}\n",
    "$$"
   ]
  },
  {
   "cell_type": "markdown",
   "id": "exclusive-terrorist",
   "metadata": {},
   "source": [
    "The $S$-Polynomial used to determine whether or not two polynomials belong in the Groebner Basis and it is given by:\n"
   ]
  },
  {
   "cell_type": "code",
   "execution_count": null,
   "id": "bridal-democracy",
   "metadata": {},
   "outputs": [],
   "source": [
    "def s_polynomial(f, g):\n",
    "    LCM_fg = lcm(LM(f), LM(g))\n",
    "    s = LCM_fg*(f/LT(f)-g/LT(g))\n",
    "    return s.expand()\n",
    "s=s_polynomial(F[0], F[1])\n",
    "s"
   ]
  },
  {
   "cell_type": "markdown",
   "id": "decimal-integration",
   "metadata": {},
   "source": [
    "Now we need to divide this $s$ value by all the terms in $F$, write it out in terms of quotients and divisors and then consider the remainder, so for example:"
   ]
  },
  {
   "cell_type": "code",
   "execution_count": null,
   "id": "loved-timothy",
   "metadata": {},
   "outputs": [],
   "source": [
    "display(div(s, F[0]))\n",
    "display(div(s, F[1]))"
   ]
  },
  {
   "cell_type": "markdown",
   "id": "flush-wyoming",
   "metadata": {},
   "source": [
    "\\begin{align*}\n",
    " & -x^{2} & = & 0\\left(2xy\\right) & -x^{2}\\\\\n",
    "+ &  & =\\\\\n",
    " & -x^{2} & = & 0\\left(2y^{2}-x^{2}y\\right) & -x^{2}\\\\\n",
    "\\hline  & -2x^{2} & = & 0\\left(2xy\\right)+0\\left(2y^{2}-x^{2}y\\right) & -2x^{2}\\\\\n",
    "\\implies & r & = & \\mathrm{\\begin{cases}\n",
    "\\mathrm{mean}\\left(r\\in R\\right) & 0\\not\\in R\\\\\n",
    "0 & 0\\in R\n",
    "\\end{cases}}\n",
    "\\end{align*}\n"
   ]
  },
  {
   "cell_type": "markdown",
   "id": "difficult-cruise",
   "metadata": {},
   "source": [
    "And so this remainder value can be calculated, in `sympy`, like so:"
   ]
  },
  {
   "cell_type": "code",
   "execution_count": null,
   "id": "successful-beverage",
   "metadata": {},
   "outputs": [],
   "source": [
    " def remainder_set_division(s, F):\n",
    "    \"\"\"\n",
    "    return remainder value after dividing s by all terms in F,\n",
    "    For use in BuchBerger's Algorithm using an S-polynomial against the\n",
    "    collection of polynomials\n",
    "\n",
    "    Args:\n",
    "        s (sympy): A sympy polynomial, typically an S-polynomial for \n",
    "        F (list, of sympy): The list of polynomials of concern\n",
    "    \"\"\"    \n",
    "    # Calculate all the remainders\n",
    "    r_list = [ div(s, F[i])[1] for i in range(len(F)) ]\n",
    "\n",
    "    # If one of those remainders is 0, then we should get back 0\n",
    "    if 0 in r_list:\n",
    "        return 0\n",
    "    else:\n",
    "    # Otherwise average all the remainders to get the overall\n",
    "        r = sum(r_list)/len(r_list)\n",
    "        return r\n",
    "\n",
    "r = remainder_set_division(s, F)    \n",
    "r"
   ]
  },
  {
   "cell_type": "markdown",
   "id": "valuable-concrete",
   "metadata": {},
   "source": [
    "Now because this remainder value is non-zero, it belongs to the Groebner Bases and it needs to be added back to $F$ and the process needs to start again."
   ]
  },
  {
   "cell_type": "code",
   "execution_count": null,
   "id": "competent-drilling",
   "metadata": {},
   "outputs": [],
   "source": [
    "F_0 = F.copy() # Remember to copy lists in Python, like C\n",
    "F.append(r)\n",
    "for poly in F:\n",
    "    display(poly)\n"
   ]
  },
  {
   "cell_type": "markdown",
   "id": "shaped-gateway",
   "metadata": {},
   "source": [
    "Next compare $f_1$ and the newly added $f_3$:"
   ]
  },
  {
   "cell_type": "code",
   "execution_count": null,
   "id": "aging-yellow",
   "metadata": {},
   "outputs": [],
   "source": [
    "# Calculate the S-Polynomial\n",
    "s = s_polynomial(F[0], F[2])\n",
    "print(\"The s polynomial is:\")\n",
    "display(s)\n",
    "# calculate the remainder\n",
    "r = remainder_set_division(s, F)    \n",
    "print(\"The remainder is:\")\n",
    "display(r)\n",
    "\n",
    "# Add the remainder back to F\n",
    "if r!=0:\n",
    "    print(\"Add the remainder back in to F\")\n",
    "    F.append(r)\n"
   ]
  },
  {
   "cell_type": "markdown",
   "id": "european-introduction",
   "metadata": {},
   "source": [
    "Now we compare $f_1$ with the newly added $f_4$:"
   ]
  },
  {
   "cell_type": "code",
   "execution_count": null,
   "id": "ignored-crest",
   "metadata": {},
   "outputs": [],
   "source": [
    "# Calculate the S-Polynomial\n",
    "s = s_polynomial(F[0], F[3])\n",
    "print(\"The s polynomial is:\")\n",
    "display(s)\n",
    "# calculate the remainder\n",
    "r = remainder_set_division(s, F)    \n",
    "print(\"The remainder is:\")\n",
    "display(r)\n",
    "\n",
    "# Add the remainder back to F\n",
    "if r!=0:\n",
    "    print(\"Add the remainder back in to F\")\n",
    "    F.append(r)\n"
   ]
  },
  {
   "cell_type": "markdown",
   "id": "confident-mineral",
   "metadata": {},
   "source": [
    "This remainder is 0, hence this pair of functions belongs to the Gröbner Basis"
   ]
  },
  {
   "cell_type": "markdown",
   "id": "played-ethiopia",
   "metadata": {},
   "source": [
    "Next compare $f_2$ with $f_3$"
   ]
  },
  {
   "cell_type": "code",
   "execution_count": null,
   "id": "recent-revelation",
   "metadata": {},
   "outputs": [],
   "source": [
    "# Calculate the S-Polynomial\n",
    "s = s_polynomial(F[1], F[2])\n",
    "print(\"The s polynomial is:\")\n",
    "display(s)\n",
    "# calculate the remainder\n",
    "r = remainder_set_division(s, F)    \n",
    "print(\"The remainder is:\")\n",
    "display(r)\n",
    "\n",
    "# Add the remainder back to F\n",
    "if r!=0:\n",
    "    print(\"Add the remainder back in to F\")\n",
    "    F.append(r)\n"
   ]
  },
  {
   "cell_type": "markdown",
   "id": "animal-selection",
   "metadata": {},
   "source": [
    "Next compare  $\\left( f_1,f_4 \\right), \\left( f_2, f_4 \\right), \\left( f_3, f_4 \\right)$:\n"
   ]
  },
  {
   "cell_type": "code",
   "execution_count": null,
   "id": "trying-matter",
   "metadata": {},
   "outputs": [],
   "source": [
    "for pair in [(0, 3), (1, 3), (2, 3)]:\n",
    "    # Calculate the S-Polynomial\n",
    "    s = s_polynomial(F[pair[0]], F[pair[1]])\n",
    "    \n",
    "    # calculate the remainder\n",
    "    r = remainder_set_division(s, F)    \n",
    "    print(\"The remainder of the s polynomial upon division with F is:\")\n",
    "    display(r)\n",
    "\n",
    "# Add the remainder back to F\n",
    "if r!=0:\n",
    "    print(\"Add the remainder back in to F\")\n",
    "    F.append(r)\n"
   ]
  },
  {
   "cell_type": "markdown",
   "id": "union-alpha",
   "metadata": {},
   "source": [
    "And hence the Gröbner Basis is given by:"
   ]
  },
  {
   "cell_type": "code",
   "execution_count": null,
   "id": "satisfied-county",
   "metadata": {},
   "outputs": [],
   "source": [
    "for poly in F:\n",
    "    display(poly)"
   ]
  },
  {
   "cell_type": "markdown",
   "id": "frozen-lambda",
   "metadata": {},
   "source": [
    "This has yet to be reduced, which is a part of the reason that it does not match the Gröbner Basis produced by Sympy earlier, however the absence of a $y^3$ term in this basis is not something I can yet explain."
   ]
  },
  {
   "cell_type": "markdown",
   "id": "juvenile-pittsburgh",
   "metadata": {},
   "source": [
    "## Abstract Algebra ##\n",
    "\n",
    "The following are concepts that are *nice to have* in understanding the\n",
    "topic, but are not strictly necessary to get a broad understanding of\n",
    "the topic.\n",
    "\n",
    "They were investigated early on because more accessible resources\n",
    "(e.g.\n",
    "<sup>  [@coxIdealsVarietiesAlgorithms1997; @andreasschulzIntegerProgrammingCombinatorial; @sympydevelopmentteamSympyPolysGroebnertools]  </sup>)\n",
    "had not yet been uncovered.\n",
    "\n"
   ]
  },
  {
   "cell_type": "markdown",
   "id": "aboriginal-breakfast",
   "metadata": {},
   "source": [
    "### Background ###\n",
    "\n"
   ]
  },
  {
   "cell_type": "markdown",
   "id": "vocational-nitrogen",
   "metadata": {},
   "source": [
    "#### Algebra ####\n",
    "\n"
   ]
  },
  {
   "cell_type": "markdown",
   "id": "several-oasis",
   "metadata": {},
   "source": [
    "##### Relations #####\n",
    "\n",
    "A relation on a set $A$ is a subset $R$ of the Cartesian product:\n",
    "\n",
    "\n",
    "$$\n",
    "A\\times A=\\left\\{ \\left(a,b\\right):\\enspace a,b\\in A\\right\\}\n",
    "$$\n",
    "\n",
    "\n",
    "If $(a,b)\\in R$ it is written that $a\\enspace R \\enspace b$.\n",
    "\n"
   ]
  },
  {
   "cell_type": "markdown",
   "id": "global-techno",
   "metadata": {},
   "source": [
    "###### Example ######\n",
    "\n",
    "The example most relevant to the theory of Groebner bases [^4] is the\n",
    "`<` relation. If we had the set $A = \\left\\{ 1,\\ 2,\\ 3 \\right\\}$\n",
    "\n",
    "The cartesian product would be:\n",
    "\n",
    "\n",
    "$$\n",
    "\\begin{aligned}\n",
    "A\\times A=\\Bigg\\{   &\\left(1,1\\right),\\left(1,\\ 2\\right),\\left(1,3\\right), \\\\\n",
    "            &\\left(2,1\\right),\\left(2,2\\right),\\left(2,3\\right), \\\\\n",
    "            &\\left(3,\\\n",
    "1\\right),\\left(3,2\\right),\\left(3,3\\right)\\quad\\Bigg\\}\\end{aligned}\n",
    "$$\n",
    "\n",
    "\n",
    "The set corresponding to the relation \\< would be:\n",
    "\n",
    "$\\left\\{ \\left( 1,2 \\right),\\ \\left( 1,3 \\right),\\ \\left( 2,3 \\right) \\right\\}$\n",
    "\n",
    "and so it is said that:\n",
    "\n",
    "-   $1<2$\n",
    "\n",
    "-   $1<3$\n",
    "\n",
    "-   $2<3$\n",
    "\n"
   ]
  },
  {
   "cell_type": "markdown",
   "id": "numerous-model",
   "metadata": {},
   "source": [
    "###### Types of Relations ######\n",
    "\n",
    "-   **Reflexive** relations are relations where\n",
    "\n",
    "    -   $\\ \\forall\\ a \\in A, a\\enspace R \\enspace a$\n",
    "\n",
    "-   **Symmetric** relations are such that\n",
    "\n",
    "    -   $\\forall\\ a,b \\in A, a\\ R\\ b \\Rightarrow b\\ R\\ a$\n",
    "\n",
    "-   **Transitive** relations are such that\n",
    "\n",
    "    -   $a\\ R\\ b \\land \\ \\ b\\ R\\ c \\Rightarrow \\ a\\ R\\ c$\n",
    "\n",
    "        -   $\\forall\\ a,b,c \\in A$\n",
    "\n",
    "If all of these are satisfied, the relation is said to be *an\n",
    "equivalence relation*.\n",
    "\n"
   ]
  },
  {
   "cell_type": "markdown",
   "id": "worst-union",
   "metadata": {},
   "source": [
    "###### Why? ######\n",
    "\n",
    "Although this might seem needlessly pedantic, the algorithm we hope to\n",
    "use to find solutions to systems of polynomial equations, Buchberger's\n",
    "Algorithm, require us to decide on a way to order polynomials, for\n",
    "example in a quadratic equation it's pretty straight forward:\n",
    "\n",
    "\n",
    "$$\n",
    "f(x) = ax^2 + bx +c\n",
    "$$\n",
    "\n",
    "\n",
    "But for multiple variables it gets confusing, for example we could order\n",
    "the terms by degree, but if multiple terms are of the same degree then\n",
    "we could make sure that the left most variable has an exponent that is\n",
    "descending, or, we could try and make sure that the right most term is\n",
    "ascending:\n",
    "\n",
    "\n",
    "$$\n",
    "\\begin{aligned}\n",
    " f\\left(w,x,y,z\\right)  &=wz+xy \\\\\n",
    "             &=xy+wz\\end{aligned}\n",
    "$$\n",
    "\n",
    "\n",
    "This is already pretty confusing so having a firm definition of ordering\n",
    "is important.\n",
    "\n"
   ]
  },
  {
   "cell_type": "markdown",
   "id": "unable-raise",
   "metadata": {},
   "source": [
    "##### Congruence #####\n",
    "\n"
   ]
  },
  {
   "cell_type": "markdown",
   "id": "written-public",
   "metadata": {},
   "source": [
    "###### Equivalence Classes ######\n",
    "\n",
    "The set of all elements of $A$ that satisfy the relation for $a$ is said\n",
    "to be the /equivalence class of $a$ with respect to $R$:\n",
    "\n",
    "\n",
    "$$\n",
    "\\left\\lbrack a \\right\\rbrack_{R} = \\left\\lbrack a \\right\\rbrack = \\left\\{ b \\in A:b\\ R\\ a \\right\\}\n",
    "$$\n",
    "\n",
    "\n",
    "So returning to the example from\n",
    "§[9.1.1.1.1](#sec:orga52d81f){reference-type=\"ref\"\n",
    "reference=\"sec:orga52d81f\"}, we would have:\n",
    "\n",
    "-   $[1]_<=\\emptyset$\n",
    "\n",
    "-   $[2]_<=\\left\\{1\\right\\}$\n",
    "\n",
    "-   $[3]_<=\\left\\{1, 2\\right\\}$\n",
    "\n"
   ]
  },
  {
   "cell_type": "markdown",
   "id": "composed-blink",
   "metadata": {},
   "source": [
    "##### Congruence Modulo $n$\n",
    "\n",
    "It is said that $a$ and $b$ are *congruent modulo $n$* if\n",
    "$n\\mid \\left(a-b\\right)$ and it is written:\n",
    "\n",
    "$$\n",
    "a\\equiv b \\pmod{n}\n",
    "$$\n",
    "\n",
    " It is common to see $\\mathrm{mod}$ used as an operator:\n",
    "\n",
    "$$\n",
    "a \\mod b = r\n",
    "$$\n",
    "\n",
    "The congruence class of $a$ modulo $n$ is expressed $\\left[a\\right]_n$\n",
    "and is the equivalence class of $a$ whereby the relation is congruence\n",
    "in modulo $n$:\n",
    "\n",
    "$$\n",
    "\\left\\lbrack a \\right\\rbrack_{n} = \\{ b\\mathbb{\\in Z\\ :}b \\equiv a\\ \\left( \\text{mod\\ n} \\right)\\}\n",
    "$$\n",
    "\n"
   ]
  },
  {
   "cell_type": "markdown",
   "id": "protecting-fiber",
   "metadata": {},
   "source": [
    "###### Example\n",
    "Clock time is a congruence class, for example 11 O'clock + 3 hours =\n",
    "2 PM:\n",
    "\n",
    "$$\n",
    "\\left[11\\right]_{12}+\\left[3\\right]_{12}=\\left[2\\right]_{12}\n",
    "$$\n",
    "\n",
    "Another example could be binary:\n",
    "\n",
    "$$\n",
    "\\left[1\\right]_{2}+\\left[3\\right]_{2}=\\left[0\\right]_{2}\n",
    "$$\n",
    "\n",
    "See also <sup>  [@roberthowlettUndergraduateCourseAbstract §4c]  </sup>\n",
    "\n"
   ]
  },
  {
   "cell_type": "markdown",
   "id": "characteristic-exclusion",
   "metadata": {},
   "source": [
    "###### Congruence generalised with Groups\n",
    "If $G$ is a group and $H$ a subgroup, if we have:\n",
    "\n",
    "$$\n",
    "a^{-1}b \\in H\n",
    "$$\n",
    "\n",
    "then it is said:\n",
    "\n",
    "$$\n",
    "a \\equiv b \\pmod{H}\n",
    "$$\n",
    "\n",
    "the use of $\"\\equiv\"$ is appropariate because the relationship is:\n",
    "\n",
    "  -   reflexive\n",
    "  -   symmetric\n",
    "  -   transitive\n",
    "\n",
    "and is hence an equivalence class.\n",
    "\n",
    "consider for example:\n",
    "\n",
    "$$\n",
    "12 \\mathbb{Z} \\leqslant \\mathbb{Z}\n",
    "$$\n",
    "\n",
    "so we have 5-17 $\\in$ 12\n",
    "    \n",
    "So we write:\n",
    "\n",
    "$$\n",
    "5 \\equiv 17 \\pmod{12\\mathbb{Z}}\n",
    "$$\n",
    "\n",
    "See <sup>  [@gregoryleeAbstractAlgebra2018 §3.7]  </sup>.\n",
    "\n"
   ]
  },
  {
   "cell_type": "markdown",
   "id": "written-reporter",
   "metadata": {},
   "source": [
    "###### Congruence Modulo an Ideal\n",
    "\n",
    "Congruence can be extended to an ideal on\n",
    "any ring structure, that's why we needed to generalise this\n",
    "structure, in order to use these theoryies.\n",
    "\n",
    "congruence modulo an ideal is\n",
    "\n",
    "If I is an ideal in a ring R\n",
    "\n",
    "$$\n",
    "a\\equiv b\\pmod{I}\\iff a-b\\in I\n",
    "$$\n",
    "\n",
    "The use of justified because this is an equivalence relation\n",
    "\n",
    "The equivalence class is the set of all elements that satisfy that\n",
    "relation for $a$:\n",
    "\n",
    "$$\n",
    "\\begin{aligned}\n",
    "          \\forall a \\in A,& \\\\\n",
    "                          &\\left[ a \\right]_R = \\left[ a \\right] = \\left\\{b \\in A : b r a \\right\\}\n",
    "    .\\end{aligned}\n",
    "$$\n",
    "\n",
    "So in the context of congruence:\n",
    "\n",
    "$$\n",
    "\\begin{aligned}\n",
    "          \\forall a \\in G &\\\\\n",
    "                         & \\left[ a \\right] = \\left\\{b\\in G : b\\equiv a \\pmod{H}\\right\\} \n",
    "    .\\end{aligned}\n",
    "$$\n",
    "\n",
    "if we wanted to find $b$ :\n",
    "\n",
    "$$\n",
    "\\begin{aligned}\n",
    "          b &\\equiv a \\pmod{H}\\\\\n",
    "          a^{-1}b &\\in H \\\\\n",
    "          a^{-1}b &= h, \\quad \\exists h \\in H \\\\\n",
    "          b &= ah\n",
    "    .\\end{aligned}\n",
    "$$\n",
    "\n",
    "So we have:\n",
    "\n",
    "$$\n",
    "\\begin{aligned}\n",
    "          \\left[ a \\right] = \\left\\{ah : h \\in H\\right\\} \n",
    "    .\\end{aligned}\n",
    "$$\n",
    "\n",
    "This is known as the left coset [@judsonAbstractAlgebraTheory2016\n",
    "§6.1]. The left cosets of $H$ in $G$ partition G:\n",
    "<sup>  [@gregoryleeAbstractAlgebra2018 §3.3]  </sup>\n",
    "    \n",
    "  1.  Each $a\\in G$ is in onlyone left coset, which is $aH$\n",
    "  2.  $aH \\cap bH = \\emptyset$ or $aH=bH$\n",
    "    \n",
    "This can be used to show:\n",
    "\n",
    "$$\n",
    "\\begin{aligned}\n",
    "          H \\leq G \\implies \\left\\lvert H \\right\\rvert \\mid \\left\\lvert G \\right\\rvert\n",
    "    .\\end{aligned}\n",
    "$$\n",
    "\n",
    "this is known as Lagranges Theorem. [@gregoryleeAbstractAlgebra2018\n",
    "§3.7]\n",
    "    \n"
   ]
  },
  {
   "cell_type": "markdown",
   "id": "copyrighted-softball",
   "metadata": {},
   "source": [
    "###### Normal Subgroups \n",
    "        label=\"sec:org9dc7199\"}\n",
    "    \n",
    "A normal subgroup is a subgroup $N \\leq G$ :\n",
    "\n",
    "$$\n",
    "\\begin{aligned}\n",
    "              aN= Na \\quad \\forall a \\in G\n",
    "        .\\end{aligned}\n",
    "$$\n",
    "\n",
    "This is not so strict as to require all elements be commutative\n",
    "(although commutative groups are of course normal)\n",
    "\n"
   ]
  },
  {
   "cell_type": "markdown",
   "id": "executed-installation",
   "metadata": {},
   "source": [
    "###### Congruence Classes for Polynomials\n",
    "If $f$ and $g$ are in an ideal $I$, then [@coxIdealsVarietiesAlgorithms1997 p. 240]:\n",
    "\n",
    "$$\n",
    "f-g \\in I \\implies f \\equiv g \\pmod{I}\n",
    "$$\n"
   ]
  },
  {
   "cell_type": "markdown",
   "id": "administrative-organic",
   "metadata": {},
   "source": [
    "##### Groups #####\n",
    "\n",
    "A set $G$ is a group, if there in a binary operation, $\\star$, defined\n",
    "on that set such that:\n",
    "\n",
    "1.  The binary operation is closed on the set\n",
    "    \n",
    "$$\n",
    "a,b \\in G \\implies a\\star b \\in G\n",
    "$$\n",
    "\n",
    "\n",
    "2.  The binary operation is associative\n",
    "\n",
    "    \n",
    "$$\n",
    "a,b,c \\in G \\implies a\\star (b\\star c) = (a\\star b)\\star c\n",
    "$$\n",
    "\n",
    "\n",
    "3.  There is an element that doesn't do anything under the binary\n",
    "    operation, this is known as an identity element, for example 1 is an\n",
    "    identity element to the multiplication operation.\n",
    "\n",
    "    \n",
    "$$\n",
    "\\begin{aligned}\n",
    "    \\exists e \\in G:&\\\\\n",
    "            & a\\star e = e \\star a = a\\end{aligned}\n",
    "$$\n",
    "\n",
    "\n",
    "4.  Every element has an inverse\n",
    "\n",
    "    \n",
    "$$\n",
    "\\begin{aligned}\n",
    "      \\forall a \\in G,\\enspace \\exists a^{-1} \\in G:    &\\\\\n",
    "                               & a\\star a^{-1} = e\\end{aligned}\n",
    "$$\n",
    "\n",
    "\n",
    "    -   For operations that are additive in nature, it is common to use\n",
    "        the notation: $-a$ <sup>  [@gregoryleeAbstractAlgebra2018 §3.3]  </sup>\n",
    "\n",
    "5.  If the binary operation is also commutative, the group is said to be\n",
    "    abelian:\n",
    "\n",
    "    \n",
    "$$\n",
    "\\begin{aligned}\n",
    "    \\forall a,b \\in G,& \\nonumber \\\\\n",
    "            & a \\star b = b \\star a \\iff G \\text{ is abelian.} \\end{aligned}\n",
    "$$\n",
    "\n",
    "\n"
   ]
  },
  {
   "cell_type": "markdown",
   "id": "limiting-reference",
   "metadata": {},
   "source": [
    "###### Example ######\n",
    "\n",
    "An example of a group is a set of all matrices of a given size under\n",
    "addition, this can be seen because:\n",
    "\n",
    "1.  Adding matrices gives back matrices of the same size,\n",
    "\n",
    "2.  Introducing brackets in addition doesn't change the result\n",
    "\n",
    "3.  A matrix with all 0's is an identity\n",
    "\n",
    "4.  Any matrix $\\mathbf{A}$ has an inverse (namely $-\\mathbf{A}$)\n",
    "\n",
    "This example would also be an abelian group because addition is\n",
    "commutative.\n",
    "\n",
    "Note that if the operation was matrix multiplication, $\\cdot$ (denoted\n",
    "as `%%` in ***R*** <sup>  [@rcoreteamLanguageEnvironmentStatistical2020]  </sup>), only\n",
    "square matrices with a non-zero determinant (e.g.\n",
    "$\\left\\lvert\\mathbf{A}\\right\\rvert \\neq 0$) could be a group. This is\n",
    "because the matrix would need to be invertible. [^5]\n",
    "\n"
   ]
  },
  {
   "cell_type": "markdown",
   "id": "british-suggestion",
   "metadata": {},
   "source": [
    "###### But Why? ######\n",
    "\n",
    "The reason groups are interesting is because many natural structures can\n",
    "be described by a set and a binary operation, obvious examples are sets\n",
    "of numbers, vectors, matrices and equations, but more generally Group\n",
    "theory can be used to describe puzzles like *Rubik's Cube*\n",
    "<sup>  [@joynerAdventuresGroupTheory2002]  </sup>, chemical structures\n",
    "<sup>  [@GroupTheoryIts2013]  </sup> and has been used in the theory of quantum\n",
    "mechanics <sup>  [@tinkhamGroupTheoryQuantum2003]. [^6]  </sup>\n",
    "\n"
   ]
  },
  {
   "cell_type": "markdown",
   "id": "potential-purse",
   "metadata": {},
   "source": [
    "##### Rings #####\n",
    "\n",
    "\n",
    "\n",
    "Rings are an abelian group under addition $+$, with a second binary\n",
    "operation that corresponds to multiplication $\\times$, this operatuion\n",
    "must be closed, associative and distributive, but there is no need for\n",
    "an inverse or identity <sup>  [@gregoryleeAbstractAlgebra2018 §8.1]  </sup>. So a ring\n",
    "structure is a set $\\mathcal{R}$, with two closed binary operations,\n",
    "that satisfies the following axioms of a ring\n",
    "<sup>  [@nicodemiIntroductionAbstractAlgebra2007a §§2.4-2.6]  </sup>:\n",
    "\n",
    "1.  Associativity of Addition\n",
    "\n",
    "    $\\left( \\forall a,b,c \\in \\mathcal{R} \\right) \\left( a+ b \\right) +  c = a +  \\left(  b +  c    \\right)$\n",
    "\n",
    "1.  Commutativity of Addition\n",
    "\n",
    "    $\\left( \\forall a,b \\in \\mathcal{R}  \\right) a +  b = b +  a$\n",
    "\n",
    "2.  Additive Elements Exist\n",
    "\n",
    "    $\\left( \\forall a \\in \\mathcal{R} \\right) \\wedge \\left( \\exists 0 \\in \\mathcal{R} \\right) a +  0= 0 +  a =  a$\n",
    "\n",
    "3.  Additive Inverse Exists\n",
    "\n",
    "    $\\left( \\forall a \\in \\mathcal{R} \\right)\\wedge \\left( \\exists b \\in \\mathcal{R} \\right) a +  b =  b +  a = 0$\n",
    "\n",
    "    -   This can be equivalently expressed:\n",
    "\n",
    "    $\\left( \\forall a \\in \\mathcal{R} \\right)\\wedge \\left( \\exists \\left( - a\\right)\\in \\mathcal{R} \\right) a +  \\left( - a \\right) = \\left( - a \\right) +  a = 0$\n",
    "\n",
    "4.  Associativity of Multiplication\n",
    "\n",
    "    $\\left( \\forall a,b,c, \\in \\mathcal{R} \\right)\\left( a \\cdot  b \\right)\\cdot c = a \\cdot  \\left( b \\cdot  c \\right)$\n",
    "\n",
    "5.  Distributivity of Multiplication over Addition\n",
    "\n",
    "    -   $\\left( \\forall a,b,c, \\in \\mathcal{R} \\right) \\left( a\\cdot  \\left( b+ c \\right)=  \\left( a \\cdot   b  \\right) +  \\left( a \\cdot   c  \\right) \\right)$,\n",
    "        AND\n",
    "\n",
    "    -   $\\left( \\forall a,b,c, \\in \\mathcal{R} \\right)\\left( a +  b \\right)\\cdot   c = \\left( a \\cdot   c  \\right)+  \\left( b \\cdot   c \\right)$\n"
   ]
  },
  {
   "cell_type": "markdown",
   "id": "accredited-truck",
   "metadata": {},
   "source": [
    "###### Further Axioms ######\n",
    "\n",
    "Other conditions that correspond to different classes of rings are:\n",
    "\n",
    "1.  Commutativity of Multiplication\n",
    "\n",
    "    -   A ring that satisfies this property is called a **commutative\n",
    "        ring**\n",
    "\n",
    "        $\\left( \\forall a,b \\in \\mathcal{R} \\right) a \\cdot  b = b \\cdot  a$\n",
    "\n",
    "2.  Existence of a Multiplicative Identity Element (A ring with Unity)\n",
    "\n",
    "    -   A ring that satisfies this property is called a **ring with\n",
    "        identity** or\n",
    "\n",
    "    equivalently a **ring with unity** (the multiplicative identity,\n",
    "    often denoted by $1$, is called the **unity** of the ring.\n",
    "\n",
    "    $\\left( \\exists 1 \\in \\mathcal{R} \\right) \\left( \\forall a \\in \\mathcal{R} \\right) 1 \\cdot  a = a \\cdot  1 = a$\n",
    "\n"
   ]
  },
  {
   "cell_type": "markdown",
   "id": "indie-render",
   "metadata": {},
   "source": [
    "###### Example ######\n",
    "\n",
    "An obvious example of a ring is the set of all integers $\\mathbb{Z}$\n",
    "with the ordinary meaning of addition and multiplication, another example is a `numpy` array that contains 0 where multiplication is defined by `*` (an ordinary vector is not a ring unless multiplication is carefully defined).\n",
    "\n",
    "A more insightful example would be a congruence class, for example\n",
    "$\\mathbb{Z}_{12}$, this satisfies the axioms of a ring, but some values\n",
    "are zero divisors. If two elements of a ring multiply to give 0, those\n",
    "values are said to be zero divisors, for example 3 and 4 are zero\n",
    "divisors in $\\mathbb{Z}_{12}$:\n",
    "\n",
    "\n",
    "$$\n",
    "\\left[3\\right]_{12}\\times\\left[4\\right]_{12}=\\left[0\\right]_{12}\n",
    "$$\n",
    "\n",
    "\n",
    "An element that has an inverse is said to be a unit, for example:\n",
    "\n",
    "\n",
    "$$\n",
    "\\left[2\\right]_{9}\\times\\left[5\\right]_{9}=\\left[1\\right]_{9}\n",
    "$$\n",
    " An\n",
    "element can't both be a unit and a zero divisor, because one multiplies\n",
    "to give 0 and the other to give 1, however, in many algebraic structures\n",
    "(e.g. $\\mathbb{Q}, \\mathbb{R}$ or $\\mathbb{C}$) every element has a\n",
    "multiplicative inverse, and this motivates the next algebraic structure.\n",
    "\n",
    "\n",
    "\n"
   ]
  },
  {
   "cell_type": "markdown",
   "id": "smoking-medicaid",
   "metadata": {},
   "source": [
    "##### Integral Domains #####\n",
    "\n",
    "An integral domain is a commutative ring with identity that has no zero\n",
    "divisors.\n",
    "\n"
   ]
  },
  {
   "cell_type": "markdown",
   "id": "changed-watson",
   "metadata": {},
   "source": [
    "###### Example ######\n",
    "\n",
    "The obvious example of an integral domain is $\\mathbb{Z}$, but any\n",
    "$\\mathbb{Z}_p$ where $p$ is a prime number, will also be an integral\n",
    "domain.\n",
    "\n",
    "Another example is the set of all polynomials with real coefficients,\n",
    "this will be explored in greater detail below, but for the moment\n",
    "observe that this algebraic structure conforms to the axioms of a ring\n",
    "and has no zero divisors.\n",
    "\n",
    "It can be clearly seen that the set of polynomials has no zero divisors\n",
    "because:\n",
    "\n",
    "\n",
    "$$\n",
    "\\begin{aligned}\n",
    "f \\times g &= 0 \\\\\n",
    "&\\implies f = 0 \\lor g = 0 \\ \\\\\\end{aligned}\n",
    "$$\n",
    "\n",
    "\n",
    "in either case $f$ or $g$ is not a non-zero divisor.\n",
    "\n",
    "Note however that not every element of the polynomials has an inverse,\n",
    "for example the function $f(x)=x$ would have an inverse\n",
    "$f^{-1}(x)=\\frac{1}{x}$, but this is not a polynomial.\n",
    "\n",
    "This leads to the final algebraic structure that will be introduced\n",
    "here. [^7]\n",
    "\n"
   ]
  },
  {
   "cell_type": "markdown",
   "id": "committed-telescope",
   "metadata": {},
   "source": [
    "##### Fields #####\n",
    "\n",
    "A field is a commutative ring with identity in which all non-zero\n",
    "elements are units.\n",
    "\n",
    "Because every element of a field is a unit, it implies that every\n",
    "element is not a zero-divisor, and so hence a field is:\n",
    "\n",
    "-   a special case of an integral domain, which is in turn\n",
    "\n",
    "-   a special case of a ring, which is in turn\n",
    "\n",
    "-   a special case of a group.\n",
    "\n"
   ]
  },
  {
   "cell_type": "markdown",
   "id": "together-tablet",
   "metadata": {},
   "source": [
    "##### Rings and Integral Domains #####\n",
    "\n",
    "It seems that the reason the theory of Groebner Bases is concerned with\n",
    "the ring of polynomials over a field is related to the irreducibility of\n",
    "the polynomial, see generally <sup>  [@EquivalenceDefinitionsIrreducible]  </sup>.\n",
    "\n",
    "Note also that the Ring of polynomials over an integral domain (a\n",
    "property satisfied also by a field) is more accurately an integral\n",
    "domain\n",
    "<sup>  [@sympydevelopmentteamBasicFunctionalityModule; @RingPolynomialForms]  </sup>,\n",
    "not merely a ring.\n",
    "\n"
   ]
  },
  {
   "cell_type": "markdown",
   "id": "united-little",
   "metadata": {},
   "source": [
    "###### Why aren't Polynomials fields ######\n",
    "\n",
    "A field is an integral domain, for which every element has an inverse,\n",
    "so consider some function, say $g(x)=x$, if the set of polynomials was a\n",
    "field, there would have to exist some $f(x)$ such that:\n",
    "\n",
    "\n",
    "$$\n",
    "x \\cdot f(x) = 1\n",
    "$$\n",
    "\n",
    "\n",
    "however if we evaluate this at $x=0$\n",
    "\n",
    "\n",
    "$$\n",
    "0 \\cdot f(0) = 1\n",
    "$$\n",
    "\n",
    "\n",
    "well... this clearly doesn't work, so it's clear that this $f(x)$\n",
    "doesn't exist and so the set of polynomials is not a field, see\n",
    "generally <sup>  [@billdubuqueAbstractAlgebraWhy]  </sup>\n",
    "\n",
    "One might wonder if there's a good reason why $f(x)=\\frac{1}{x}$ isn't\n",
    "considered a polynomial, notwithstanding the fact that it doesn't quite\n",
    "fix this example with 0:\n",
    "\n",
    "-   All polynomials over the real numbers are continuous, that would\n",
    "    make this membership inconvenient.\n",
    "\n",
    "    -   On the other hand there are discontinuities of arbitrary\n",
    "        polynomials over certain fields, what's a good example of a such\n",
    "        a field though?\n",
    "\n",
    "The easy and uninformative answer is that $\\frac{1}{x}$ does not have\n",
    "positive indices, outright violating the definition.\n",
    "\n"
   ]
  },
  {
   "cell_type": "markdown",
   "id": "neither-examination",
   "metadata": {},
   "source": [
    "#### Vector Spaces ####\n",
    "\n",
    "The ring of polynomials over a field $K$:\n",
    "\n",
    "\n",
    "$$\n",
    "K\\left[x_1, x_2, x_3, \\ldots, x_n\\right]\n",
    "$$\n",
    "\n",
    "\n",
    "is a $n$-vector space with a basis given by the set of all power\n",
    "products:\n",
    "\n",
    "\n",
    "$$\n",
    "\\left\\{x_1^{\\beta_1}, x_2^{\\beta_2}, x_3^{\\beta_3}, \\ldots x_n^{\\beta_n} \\right\\}\n",
    "$$\n",
    "\n",
    "\n"
   ]
  },
  {
   "cell_type": "markdown",
   "id": "educational-bachelor",
   "metadata": {},
   "source": [
    "##### Basis #####\n",
    "\n",
    "A basis is a set of vectors that <sup>  [@axlerLinearAlgebraDone2014 p. 39]  </sup>\n",
    "are:\n",
    "\n",
    "-   Linearly independent\n",
    "\n",
    "-   Spans an $n$-dimensional vector space??\n",
    "\n"
   ]
  },
  {
   "cell_type": "markdown",
   "id": "turkish-snowboard",
   "metadata": {},
   "source": [
    "###### Linear Independence ######\n",
    "\n",
    "a set of vectors are linearly independent if:\n",
    "\n",
    "\n",
    "$$\n",
    "a_{1}v_{1}+a_{2}v_{2}+a_{3}v_{3}\\ldots=0 \\iff a_{1}=a_{2}=a_{3}=\\ldots=a_{m}\n",
    "$$\n",
    "\n",
    "\n"
   ]
  },
  {
   "cell_type": "markdown",
   "id": "northern-milton",
   "metadata": {},
   "source": [
    "###### Span ######\n",
    "\n",
    "The span of a set of vectors, is the set of all possible linear\n",
    "combinations of those vectors.\n",
    "\n",
    "So for example: \n",
    "$$\n",
    "\\begin{aligned}\n",
    "\\mathbb{R}^2&=\\mathrm{span}\\left( \\left\\{\\left(0,1\\right), \\left(1, 0\\right)\\right\\}  \\right)\\\\\n",
    "        &=\\mathrm{span}\\left( \\left\\{\\left(0,2\\right), \\left(2, 0\\right)\\right\\}  \\right)\\\\\n",
    "        &=\\mathrm{span}\\left( \\left\\{\\left(1,1\\right), \\left(1, -1\\right)\\right\\}  \\right)\\\\\\end{aligned}\n",
    "$$\n",
    "\n",
    "\n",
    "To visualize this in $\\mathbb{R}^2$, imagine that by varying the scaling\n",
    "value of each vector, any point on $\\mathbb{R}^2$ can be reached.\n",
    "\n"
   ]
  },
  {
   "cell_type": "markdown",
   "id": "stuffed-territory",
   "metadata": {},
   "source": [
    "##### Vectors #####\n",
    "\n",
    "A ring with unity is a vector space, however a vector space only needs\n",
    "to be closed under scalar multiplication. This means vector spaces are\n",
    "not necessarily rings unless the multiplication operation is closed, an\n",
    "example of a closed vector multiplication is element-wise\n",
    "multiplication, this is known as the hadamard product (think like\n",
    "mutliplying 'numpy' arrays.)\n",
    "\n"
   ]
  },
  {
   "cell_type": "markdown",
   "id": "organized-optimum",
   "metadata": {},
   "source": [
    "### Monomial Orders ###\n",
    "\n",
    "[groebner bases of a system of\n",
    "equations](20210406222024-groebner_bases_of_a_system_of_equations.org) A\n",
    "partial order on a set is a relation $R$:\n",
    "\n",
    "-   $x R x$\n",
    "\n",
    "    -   reflexivity\n",
    "\n",
    "-   $x R y \\land y R x \\implies x = y$\n",
    "\n",
    "    -   Antisymmetry\n",
    "\n",
    "-   $x R y \\land y R z \\implies x R z$\n",
    "\n",
    "    -   Transitivity\n",
    "\n",
    "So for example, the set of integers has $\\leq$ as a relation such that\n",
    "$n_1\\in \\mathbb{Z}:$\n",
    "\n",
    "-   $n\\leq n$\n",
    "\n",
    "-   $n_1\\leq n_2 \\land n_2 \\leq n_1 \\implies n_1=n_2$\n",
    "\n",
    "-   $n_1\\leq n_2 \\land n_2 \\leq n_3 \\implies n_1\\leq n_3$\n",
    "\n",
    "A partially ordered set is one with a relation that is a partial order.\n",
    "\n",
    "-   partial order\n",
    "\n",
    "    -   a relation\n",
    "\n",
    "-   partially ordered set\n",
    "\n",
    "    -   a set\n",
    "\n",
    "A total order is a partial order such that $\\forall x,y$ either $x R y$\n",
    "or $y R x$, the obvious example is $<$, consider for example\n",
    "$\\mathbb{C}$, this has a partial order if the the modulus is considered,\n",
    "it's only a partial order because, e.g.\n",
    "$\\left\\lvert i+i \\right\\rvert= \\left\\lvert i-i \\right\\rvert$. not all\n",
    "sets will have a partial ordering, e.g. the somewhat contrived example\n",
    "has no (at least obvious) partial order.\n",
    "\n",
    "\n",
    "$$\n",
    "\\left\\{\\square, \\triangle, \\sqrt{-1} x^{e^x} \\right\\} \n",
    ".\n",
    "$$\n",
    "\n",
    "\n",
    "$k\\left[ \\mathbf{X} \\right]$ is a polynomial ring in $n$ variables and\n",
    "$\\mathcal{M}_n$ is the set of amonomials in the variables\n",
    "$x_1, x_2, x_3, \\ldots x_n$.\n",
    "\n",
    "A monomial order on $k\\left[ \\mathbf{X} \\right]$ is a total order on\n",
    "$\\prec$ on $\\mathcal{M}_n$:\n",
    "\n",
    "1.  $i \\prec u, \\quad \\forall 1\\in u\\in \\mathcal{M}_n$\n",
    "\n",
    "2.  $u, v\\in \\mathcal{M}_n \\land u \\prec v \\implies uw \\prec vw, \\forall w \\in \\mathcal{M}_n$\n",
    "\n"
   ]
  },
  {
   "cell_type": "markdown",
   "id": "pleasant-settle",
   "metadata": {},
   "source": [
    "##### Lexical monomial order #####\n",
    "\n",
    "Let:\n",
    "\n",
    "\n",
    "$$\n",
    "\\begin{aligned}\n",
    "     u &= x_1^{a_1} x_2^{a_2} x_3^{a_3} \\ldots x_n^{a_n} \\\\\n",
    "     v &= x_1^{b_1} x_2^{b_2} x_3^{b_3} \\ldots x_n^{b_n}\n",
    " .\\end{aligned}\n",
    "$$\n",
    " The lexicographic order on\n",
    "$k\\left( \\mathbf{X} \\right)$ is given by the total order\n",
    "$<_{\\mathrm{lex}}$ on $\\mathcal{M}_n$ by setting:\n",
    "\n",
    "\n",
    "$$\n",
    "\\begin{aligned}\n",
    "     u <_{\\mathrm{lex}} v\n",
    " .\\end{aligned}\n",
    "$$\n",
    "\n",
    "\n",
    "if:\n",
    "\n",
    "1.  $\\sum^{n}_{i=1}\\left[ a_i  \\right] \\leq \\sum^{n}_{i=1}\\left[ b_i  \\right]$\n",
    "\n",
    "2.  the leftmost non-zero term in the following vector is positive:\n",
    "\n",
    "    -   b~1~-a~1~, b~2~-a~2~, b~3~-a~3~ ...b~n~-a~n~\n",
    "\n",
    "Reverse lexicographic is:\n",
    "\n",
    "1.  $\\sum^{n}_{i=1}\\left[ a_i  \\right] \\leq \\sum^{n}_{i=1}\\left[ b_i  \\right]$\n",
    "\n",
    "2.  the **rightmost** non-zero term in the following vector is\n",
    "    **negative**:\n",
    "\n",
    "    -   b~1~-a~1~, b~2~-a~2~, b~3~-a~3~ ...b~n~-a~n~\n",
    "\n",
    "These should be combined into one statement $\\uparrow$\n",
    "\n",
    "So for example consider: \n",
    "$$\n",
    "x_1x_4-x_2x_3\n",
    " .\n",
    "$$\n",
    "\n",
    "\n",
    "by lexicographic we have\n",
    "\n",
    "\n",
    "$$\n",
    "x_2x_3\\prec x_1x_4\n",
    " .\n",
    "$$\n",
    "\n",
    "\n",
    "because the leftmost entry is positive in the vector described before:\n",
    "\n",
    "\n",
    "$$\n",
    "\\left\\langle 1, -1, -1, 1\\right \\rangle\n",
    " .\n",
    "$$\n",
    "\n",
    "\n",
    "by reverse lexicographic we have\n",
    "\n",
    "\n",
    "$$\n",
    "x_1x_4 \\prec x_2x_3\n",
    " .\n",
    "$$\n",
    "\n",
    "\n",
    "because the **rightmost** entry is **negative** in the vector described\n",
    "before:\n",
    "\n",
    "\n",
    "$$\n",
    "\\left\\langle -1, 1, 1, -1\\right \\rangle\n",
    " .\n",
    "$$\n",
    "\n",
    "\n",
    "This may be discussed more in the org mode note.\n",
    "\n",
    "an interesting property that comes back in the buchberger algorithm and\n",
    "polynomial long division is:\n",
    "\n",
    "\n",
    "$$\n",
    "\\mathrm{in}_{\\prec}\\left( f \\cdot g \\right) = \\mathrm{in}_{\\prec}\\left( f \\right) \\mathrm{in}_{\\prec}\\left( g \\right) \n",
    " .\n",
    "$$\n",
    "\n",
    "\n"
   ]
  },
  {
   "cell_type": "markdown",
   "id": "latter-albany",
   "metadata": {},
   "source": [
    "##### Colloquial #####\n",
    "\n"
   ]
  },
  {
   "cell_type": "markdown",
   "id": "nearby-establishment",
   "metadata": {},
   "source": [
    "###### Lexicographic ######\n",
    "\n",
    "The highest variable is so expensive that it makes the entire monomial\n",
    "expensive.\n",
    "\n"
   ]
  },
  {
   "cell_type": "markdown",
   "id": "clear-treasure",
   "metadata": {},
   "source": [
    "###### Reverse Lexicographic ######\n",
    "\n",
    "The lowest variable is so chap that it makes the entire monomial cheap.\n",
    "\n"
   ]
  },
  {
   "cell_type": "markdown",
   "id": "mexican-layout",
   "metadata": {},
   "source": [
    "### Dickson's Lemma ###\n",
    "\n"
   ]
  },
  {
   "cell_type": "markdown",
   "id": "middle-jamaica",
   "metadata": {},
   "source": [
    "#### Divisors\n",
    "\n",
    "For *monomials*:\n",
    "\n",
    "- $u = \\prod^n_{i=1}\\left[ x_i^a   \\right]  a \\in \\mathbb{Z^+}$\n",
    "- $v= \\prod^n_{i=1}\\left[ x_i^b \\right]  b \\in \\mathbb{Z^+}$\n",
    "\n",
    "$u$ is said to divide $v$ if\n",
    "$a_i \\leq b_i \\quad \\forall i \\in \\left[ 1, n \\right]$\n",
    "\n"
   ]
  },
  {
   "cell_type": "markdown",
   "id": "fuzzy-romance",
   "metadata": {},
   "source": [
    "##### Example #####\n",
    "\n",
    "Consider:\n",
    "\n",
    "-   $u = x^2y^3z^5$\n",
    "\n",
    "-   $v = x^1y^2z^3$\n",
    "\n",
    "In this case $v \\mid u$ because:\n",
    "\n",
    "\n",
    "$$\n",
    "\\begin{aligned}\n",
    "      1 &< 2 \\\\\n",
    "      2 &< 3 \\\\\n",
    "      3 &< 5 \\\\\n",
    "      \\ \\\\\n",
    "      \\frac{u}{v} &= \\frac{x^2}{x^1} \\cdot \\frac{y^3}{y^2} \\cdot  \\frac{z^5}{z^3}\n",
    ".\\end{aligned}\n",
    "$$\n",
    "\n",
    "\n"
   ]
  },
  {
   "cell_type": "markdown",
   "id": "nominated-passing",
   "metadata": {},
   "source": [
    "#### Minimal Element ####\n",
    "\n",
    "let $\\mathcal{M}_n$ be the set of a all monomials in the variables\n",
    "$x_1, x_2, x_3, \\ldots x_n$ and $M \\subset \\mathcal{M}_n$ be a nonempty\n",
    "subset thereof.\n",
    "\n",
    "The following condition describes a minimal element $u\\in M$:\n",
    "\n",
    "\n",
    "$$\n",
    "\\left(v \\in M \\land v \\mid u\\right) \\implies v = u\n",
    "$$\n",
    "\n",
    "\n",
    "In other words, $u$ is a minimal element if the only way that $v\n",
    "    \\mid u$ is if $v = u$.\n",
    "\n"
   ]
  },
  {
   "cell_type": "markdown",
   "id": "incomplete-encounter",
   "metadata": {},
   "source": [
    "##### Example #####\n",
    "\n",
    "Consider $\\mathcal{M}_2$:\n",
    "\n",
    "\n",
    "$$\n",
    "\\begin{aligned}\n",
    "{3}\n",
    "  \\mathcal{M}_2 &= \\{&x  y, &x  y^2, &x  y^3, \\ldots         \\\\\n",
    "                &    &      &x^2y,   &x^2y^2, x^2y^3, \\ldots \\\\\n",
    "                &    &      &x^3y,   &x^3y^2, x^3y^3, \\ldots \\\\\n",
    "                &    &      & \\vdots &                       \\\\\n",
    "          \\}\\end{aligned}\n",
    "$$\n",
    "\n",
    "\n",
    "and let's have the subset $M = \\left\\{ x^2y, x^2y^2, x^2y^3 \\ldots\n",
    "     \\right\\}$, the minimum elements are:\n",
    "\n",
    "\n",
    "$$\n",
    "\\left\\{x^2y\\right\\}\n",
    "$$\n",
    "\n",
    "\n",
    "clearly $\\left\\lvert M \\right\\rvert = \\infty$, however this number of mi\n",
    "um elements will always be finite, this is known as **Dickson's Lemma**.\n",
    "\n"
   ]
  },
  {
   "cell_type": "markdown",
   "id": "received-shore",
   "metadata": {},
   "source": [
    "#### Dickson's Lemma ####\n",
    "\n",
    "> *Dickson's Lemma is the main result needed to prove the termination of\n",
    "> Buchberger's algorithm for computing Groebner basis of polynomial\n",
    "> ideals* <sup>  [@martin-mateosFormalProofDickson2003]  </sup>.\n",
    "\n",
    "Let\n",
    "\n",
    "-   $\\mathcal{M}_n$ be the set of all monomials in variables\n",
    "    $x_1, x_2, x_3 \\ldots x_n$.\n",
    "\n",
    "-   $M$ be a nonempty subset of $\\mathcal{M}_n$\n",
    "\n",
    "> *The set of minimal elements of a nonempty subset $M \\subset\n",
    ">     \\mathcal{M}_n$ is at most finite.*\n",
    "\n",
    "This intuitively makes sense, one can't have an infinite number of\n",
    "minimums, otherwise they wouldn't be minimums, the proof is rather involved though.\n",
    "\n"
   ]
  },
  {
   "cell_type": "markdown",
   "id": "elegant-magnitude",
   "metadata": {},
   "source": [
    "##### In one Variable #####\n",
    "\n",
    "By definition, a monomial is raised to the power of a non-zero integer,\n",
    "in a single variable monomial the smallest index will correspond to the\n",
    "minimal element (by the definition of the minimal element) and hence the\n",
    "existence of a minimum element in implies the existence of a minimum\n",
    "element in $M\\subset \\mathcal{M}_n$.\n",
    "\n"
   ]
  },
  {
   "cell_type": "markdown",
   "id": "common-screen",
   "metadata": {},
   "source": [
    "##### In Two Variables #####\n",
    "\n",
    "Assume that there is an infinite number of minimal elements:\n",
    "\n",
    "\n",
    "$$\n",
    "\\begin{aligned}\n",
    "      u_1 &= x^{a_1}y^{b_1} \\\\\n",
    "      u_2 &= x^{a_2}y^{b_2} \\\\\n",
    "      u_3 &= x^{a_3}y^{b_3} \\\\\n",
    "      u_4 &= x^{a_4}y^{b_4} \\\\\n",
    "      u_5 &= x^{a_5}y^{b_5} \\\\\n",
    "      \\ldots \\nonumber\\end{aligned}\n",
    "$$\n",
    " Let's order the values by the\n",
    "first exponential such that $a_1 \\leq a_2 \\leq a_3 \\ldots$.\n",
    "\n",
    "If $a_i=a_{i+1}$, then either:\n",
    "\n",
    "-   $u_1 = u_{i+1}$\n",
    "\n",
    "    -   We can't have this because set's do not contain repeated\n",
    "        elements.\n",
    "\n",
    "-   $y^{b_i} \\neq y^{b_{i+1}}$\n",
    "\n",
    "    -   But this would mean that either $u_i$ or $u_{i+1}$ is not a\n",
    "        minimal element, so this can't occur either.\n",
    "\n",
    "This means that each $a_i$ must be different and so:\n",
    "\n",
    "\n",
    "$$\n",
    "\\begin{aligned}\n",
    "a_i < a_2 < a_3 \\ldots\\end{aligned}\n",
    "$$\n",
    "\n",
    "\n",
    "If $u_i | u_{i+1}$ one of them is not a minimal element and so we must\n",
    "have $b_i > b_{i+1}$, hence $b_i > b_2 > b_3 \\ldots$.\n",
    "\n",
    "This means that $b_i$ represents an upper bound for the number of\n",
    "different minimal elements, hence the number of minimal elements must be\n",
    "finite.\n",
    "\n"
   ]
  },
  {
   "cell_type": "markdown",
   "id": "south-vertex",
   "metadata": {},
   "source": [
    "##### In $n$ variables[induction]{.smallcaps} #####\n",
    "\n",
    "If the number of minimal elements is finite for $M_n \\subset\n",
    "     \\mathcal{M}_n$ we would expect $M_{n+1}$ to be finite as well,\n",
    "adding an extra variable should not make the number of minimal elements\n",
    "infinite because the integers in the index will still behave as an upper\n",
    "bound.\n",
    "\n",
    "I need to formalise this as per [@hibiGrobnerBasesStatistics2014\n",
    "§1.1.2].\n",
    "\n",
    "\n"
   ]
  },
  {
   "cell_type": "markdown",
   "id": "pharmaceutical-clearance",
   "metadata": {},
   "source": [
    "## Footnotes\n",
    "\n",
    "[^2]: This also lines up with `sympy`'s `LT()` function, beware not to\n",
    "    confuse the initial with the leading term, different algorithms or\n",
    "    ways to calculate an $S$-polynomial seem to use either and it\n",
    "    doesn't appear to matter, I'm not sure why yet, but I am fairly confident that there is a\n",
    "    difference between the initial monomial and the leading term.\n",
    "\n",
    "[^3]: It would also be sufficient to show that the $I$ is closed under\n",
    "    both addition and subtraction [@judsonAbstractAlgebraTheory2016\n",
    "    §16.1]\n",
    "\n",
    "[^4]: Relevant because we need to decide on an ordering relation in\n",
    "    order to use Buchberger's algorithm, which is needed to find a\n",
    "    Groebner Basis.\n",
    "\n",
    "[^5]: although the element-wise product, $\\odot$, would not present this\n",
    "    issue.\n",
    "\n",
    "[^6]: See generally this <sup>  [@19328]  </sup> *Stack Exchange Discussion*.\n",
    "\n",
    "[^7]: It could be insightful to contrast and compare other algebraic structures,\n",
    "    for example polynomials can also be considered as vectors, see e.g.\n",
    "    <sup>  [@larsonElementaryLinearAlgebra1991a]  </sup>, as a matter of fact all\n",
    "    vector spaces are rings if multiplication is defined element-wise by\n",
    "    the *Hadamard product* ($\\odot$), this could be an interesting\n",
    "    relationship to investigate further.\n"
   ]
  },
  {
   "cell_type": "markdown",
   "id": "completed-switch",
   "metadata": {},
   "source": [
    "## Attempts at Implementing Buchberger's Algorithm"
   ]
  },
  {
   "cell_type": "markdown",
   "id": "nutritional-pickup",
   "metadata": {},
   "source": [
    "## Automating the Process"
   ]
  },
  {
   "cell_type": "markdown",
   "id": "limited-welsh",
   "metadata": {},
   "source": [
    "Returning to the system of polynomials from earier (due to the fact that a worked solution has been provided)"
   ]
  },
  {
   "cell_type": "code",
   "execution_count": null,
   "id": "daily-forum",
   "metadata": {},
   "outputs": [],
   "source": [
    "F = [x**3-2*x*y, x**2*y-2*y**2 + x]\n",
    "for poly in F:\n",
    "    display(poly)"
   ]
  },
  {
   "cell_type": "markdown",
   "id": "vocal-david",
   "metadata": {},
   "source": [
    "To get all the possible pairs for the $S$-Polynomial a function will need to be defined:"
   ]
  },
  {
   "cell_type": "code",
   "execution_count": null,
   "id": "prerequisite-receiver",
   "metadata": {},
   "outputs": [],
   "source": [
    "import itertools\n",
    "def pairwise(F):\n",
    "    # All possible pairs\n",
    "    pairs = list(itertools.combinations(F, 2))\n",
    "    # Make pairs sets so order doesn't matter (e.g. {f,g} == {g,f})\n",
    "    pairs = [set(pair) for pair in pairs]\n",
    "    return pairs\n",
    "    \n",
    "def list_intersection(u, v):\n",
    "    return [i for i in u if i in v]\n",
    "    \n",
    "def list_complement(u,v):\n",
    "    return [i for i in u if i not in v]\n",
    "\n",
    "\n",
    "pairwise(F)    "
   ]
  },
  {
   "cell_type": "markdown",
   "id": "independent-cathedral",
   "metadata": {},
   "source": [
    "Implementing the algorithm should look something like this, however this does not terminate:"
   ]
  },
  {
   "cell_type": "code",
   "execution_count": null,
   "id": "analyzed-soccer",
   "metadata": {},
   "outputs": [],
   "source": [
    "F_0 = [x**3-2*x*y, x**2*y-2*y**2 + x]\n",
    "F = F_0.copy()\n",
    "pairs = pairwise(F)\n",
    "pairs_done = [ ]"
   ]
  },
  {
   "cell_type": "code",
   "execution_count": null,
   "id": "endangered-excess",
   "metadata": {},
   "outputs": [],
   "source": [
    "count = 0\n",
    "limit = 5\n",
    "# For every pair of polynomials in F\n",
    "while len(pairs) > 0:\n",
    "    # Just use the first pair, we'll drop it later\n",
    "    print(len(pairs))\n",
    "    pair = pairs.pop()\n",
    "\n",
    "    # Print the pairs that are being used\n",
    "    print(\"Input Polynomials are:\")\n",
    "    f = pair.pop()\n",
    "    g = pair.pop()\n",
    "    display(f, g)\n",
    "\n",
    "    # Calculate the S Polynomial\n",
    "    s = s_polynomial(f, g)\n",
    "    print(\"The S-Polynomial is:\")\n",
    "    display(s)\n",
    "\n",
    "    # Calculate the overall remainder\n",
    "    r = remainder_set_division(s, F)\n",
    "    \n",
    "    if r != 0: \n",
    "        print(\"The remainder is appended back to F:\")\n",
    "        display(r)\n",
    "        F.append(r)\n",
    "        pairs_done.append(pair)\n",
    "        pairs = list_complement(pairwise(F), pairs_done)\n",
    "    else:\n",
    "        print(\"Remainder is 0, this pair belongs to Groebner Basis\")\n",
    "    \n",
    "    count += 1\n",
    "    if count > limit:\n",
    "        break\n",
    "\n",
    "    print(\"\\n---\\n\")\n",
    "print(\"\\n---\\n---\\n\")\n",
    "# Print F, which should now be a Groebner Basis\n",
    "print(\"Algorithm Completed! (or timed out) The Groebner Basis is:\")\n",
    "for poly in F:\n",
    "    display(poly)"
   ]
  },
  {
   "cell_type": "markdown",
   "id": "enabling-virus",
   "metadata": {},
   "source": [
    "It seems that it may be necessary to implement autoreduction as a part of the algorithm, but I haven't figured that out yet, so I'll investigate simpler systems."
   ]
  },
  {
   "cell_type": "markdown",
   "id": "legislative-slope",
   "metadata": {},
   "source": [
    "### Linear System"
   ]
  },
  {
   "cell_type": "markdown",
   "id": "quick-jamaica",
   "metadata": {},
   "source": [
    "Consider the linear system:\n",
    "\n",
    "\\begin{align}\n",
    "3x+2y &= 6 \\\\\n",
    "7x+3y &=5\n",
    "\\end{align}"
   ]
  },
  {
   "cell_type": "markdown",
   "id": "eastern-cooler",
   "metadata": {},
   "source": [
    "In order to solve the linear system consider the $S$ polynomial of $f_1$ and $f_2$:"
   ]
  },
  {
   "cell_type": "code",
   "execution_count": null,
   "id": "average-insulation",
   "metadata": {},
   "outputs": [],
   "source": [
    "F = [3*x+2*y-6, 7*x+3*y-5]\n",
    "s=s_polynomial(F[0], F[1])\n",
    "s"
   ]
  },
  {
   "cell_type": "code",
   "execution_count": null,
   "id": "short-audio",
   "metadata": {},
   "outputs": [],
   "source": [
    "# Calculate the S-Polynomial\n",
    "s = s_polynomial(F[0], F[1])\n",
    "print(\"The s polynomial is:\")\n",
    "display(s)\n",
    "# calculate the remainder\n",
    "r = remainder_set_division(s, F)    \n",
    "print(\"The remainder is:\")\n",
    "display(r)\n",
    "\n",
    "# Add the remainder back to F\n",
    "if r!=0:\n",
    "    print(\"Add the remainder back in to F\")\n",
    "    F.append(r)\n"
   ]
  },
  {
   "cell_type": "markdown",
   "id": "green-breakfast",
   "metadata": {},
   "source": [
    "Now this get's added back in and so it is necessary to consider $\\left( f_1,f_3 \\right) , \\left( f_2, f_3 \\right)$"
   ]
  },
  {
   "cell_type": "code",
   "execution_count": null,
   "id": "residential-blake",
   "metadata": {},
   "outputs": [],
   "source": [
    "for pair in [(0, 2), (1, 2)]:\n",
    "    print(pair)\n",
    "    # Calculate the S-Polynomial\n",
    "    s = s_polynomial(F[pair[0]], F[pair[1]])\n",
    "    \n",
    "    # calculate the remainder\n",
    "    r = remainder_set_division(s, F)    \n",
    "    print(\"The remainder of the s polynomial upon division with F is:\")\n",
    "    display(r)\n",
    "\n",
    "    # Add the remainder back to F\n",
    "    if r!=0:\n",
    "        print(\"Add the remainder back in to F\")\n",
    "        F.append(r)\n"
   ]
  },
  {
   "cell_type": "markdown",
   "id": "facial-information",
   "metadata": {},
   "source": [
    "It is now necessary to consider $\\left( f_1, f_4 \\right) , \\left( f_2, f_4 \\right) , \\left( f_3,f_4 \\right)$:"
   ]
  },
  {
   "cell_type": "code",
   "execution_count": null,
   "id": "unlimited-fountain",
   "metadata": {},
   "outputs": [],
   "source": [
    "for pair in [(0, 3), (1, 3), (2, 3)]:\n",
    "    print(\" [\",pair[0]+1, pair[1]+1, \"]\")"
   ]
  },
  {
   "cell_type": "code",
   "execution_count": null,
   "id": "increasing-certification",
   "metadata": {},
   "outputs": [],
   "source": [
    "for pair in [(0, 3), (1, 3), (2, 3)]:\n",
    "    print(pair)\n",
    "    # Calculate the S-Polynomial\n",
    "    s = s_polynomial(F[pair[0]], F[pair[1]])\n",
    "    \n",
    "    # calculate the remainder\n",
    "    r = remainder_set_division(s, F)    \n",
    "    print(\"The remainder of the s polynomial upon division with F is:\")\n",
    "    display(r)\n",
    "\n",
    "    # Add the remainder back to F\n",
    "    if r!=0:\n",
    "        print(\"Add the remainder back in to F\")\n",
    "        F.append(r)\n"
   ]
  },
  {
   "cell_type": "markdown",
   "id": "serial-savings",
   "metadata": {},
   "source": [
    "It is now necessary to consider $\\left( f_1, f_5 \\right) , \\left( f_2, f_5 \\right) , \\left( f_3, f_5 \\right) , \\left( f_4, f_5 \\right)$"
   ]
  },
  {
   "cell_type": "code",
   "execution_count": null,
   "id": "turkish-footage",
   "metadata": {},
   "outputs": [],
   "source": [
    "for pair in [(0, 4), (1, 4), (2, 4), (3, 4)]:\n",
    "    print(pair)\n",
    "    # Calculate the S-Polynomial\n",
    "    s = s_polynomial(F[pair[0]], F[pair[1]])\n",
    "    \n",
    "    # calculate the remainder\n",
    "    r = remainder_set_division(s, F)    \n",
    "    print(\"The remainder of the s polynomial upon division with F is:\")\n",
    "    display(r)\n",
    "\n",
    "    # Add the remainder back to F\n",
    "    if r!=0:\n",
    "        print(\"Add the remainder back in to F\")\n",
    "        F.append(r)\n"
   ]
  },
  {
   "cell_type": "markdown",
   "id": "polar-stick",
   "metadata": {},
   "source": [
    "And now at this point I think I probably need to go back to the drawing board, as it stands the candidate for the Groebner Basis is:"
   ]
  },
  {
   "cell_type": "code",
   "execution_count": null,
   "id": "historical-rover",
   "metadata": {},
   "outputs": [],
   "source": [
    "for poly in F:\n",
    "    display(poly)"
   ]
  },
  {
   "cell_type": "markdown",
   "id": "middle-malta",
   "metadata": {},
   "source": [
    "Which certainly does not seem right at all."
   ]
  },
  {
   "cell_type": "markdown",
   "id": "impaired-intervention",
   "metadata": {},
   "source": [
    "## References \n",
    "\n",
    "```bibtex\n",
    "@ONLINE{82645,\n",
    "  AUTHOR = {(https://math.stackexchange.com/users/5887/ilya), Ilya},\n",
    "  URL = {https://math.stackexchange.com/q/82645},\n",
    "  EPRINT = {https://math.stackexchange.com/q/82645},\n",
    "  HOWPUBLISHED = {Mathematics Stack Exchange},\n",
    "  TITLE = {Root or Zero...Which to Use When?},\n",
    "}\n",
    "\n",
    "@BOOK{adamsIntroductionGrobnerBases1994,\n",
    "  AUTHOR = {Adams, William W. and Loustaunau, Philippe},\n",
    "  LOCATION = {Providence, R.I},\n",
    "  PUBLISHER = {American Mathematical Society},\n",
    "  DATE = {1994},\n",
    "  ISBN = {978-0-8218-3804-4},\n",
    "  KEYWORDS = {Gröbner bases},\n",
    "  NUMBER = {v. 3},\n",
    "  PAGETOTAL = {289},\n",
    "  SERIES = {Graduate Studies in Mathematics},\n",
    "  TITLE = {An Introduction to {{Gröbner}} Bases},\n",
    "}\n",
    "\n",
    "@ONLINE{19328,\n",
    "  AUTHOR = {{Alex B.}},\n",
    "  URL = {https://math.stackexchange.com/q/19328},\n",
    "  EPRINT = {https://math.stackexchange.com/q/19328},\n",
    "  HOWPUBLISHED = {Mathematics Stack Exchange},\n",
    "  TITLE = {Why Should We Care about Groups at All?},\n",
    "}\n",
    "\n",
    "@ONLINE{andreasschulzIntegerProgrammingCombinatorial,\n",
    "  ABSTRACT = {The course is a comprehensive introduction to the theory, algorithms and applications of integer optimization and is organized in four parts: formulations and relaxations, algebra and geometry of integer optimization, algorithms for integer optimization, and extensions of integer optimization.},\n",
    "  AUTHOR = {{Andreas Schulz}},\n",
    "  ORGANIZATION = {MIT OpenCourseWare},\n",
    "  URL = {https://ocw.mit.edu/courses/sloan-school-of-management/15-083j-integer-programming-and-combinatorial-optimization-fall-2009/},\n",
    "  FILE = {/home/ryan/Zotero/storage/L4YBT428/15-083j-fall-2009.zip;/home/ryan/Zotero/storage/LVWBWABH/andreasschulzIntegerProgrammingCombinatorial.pdf;/home/ryan/Zotero/storage/YBMJ6ZJP/15-083j-integer-programming-and-combinatorial-optimization-fall-2009.html},\n",
    "  LANGID = {english},\n",
    "  TITLE = {Integer {{Programming}} and {{Combinatorial Optimization}}},\n",
    "  URLDATE = {2021-04-08},\n",
    "}\n",
    "\n",
    "@BOOK{axlerLinearAlgebraDone2014,\n",
    "  AUTHOR = {Axler, Sheldon},\n",
    "  LOCATION = {New York},\n",
    "  PUBLISHER = {Springer},\n",
    "  DATE = {2014},\n",
    "  ISBN = {978-3-319-11079-0},\n",
    "  TITLE = {Linear Algebra Done Right},\n",
    "}\n",
    "\n",
    "@BOOK{beckerGrobnerBasesComputational1993,\n",
    "  AUTHOR = {Becker, Thomas and Weispfenning, Volker and Kredel, Heinz},\n",
    "  LOCATION = {New York},\n",
    "  PUBLISHER = {Springer-Verlag},\n",
    "  DATE = {1993},\n",
    "  ISBN = {978-0-387-97971-7 978-3-540-97971-5},\n",
    "  KEYWORDS = {Algebra,Data processing,Gröbner bases},\n",
    "  NUMBER = {141},\n",
    "  PAGETOTAL = {574},\n",
    "  SERIES = {Graduate Texts in Mathematics},\n",
    "  SHORTTITLE = {Gröbner Bases},\n",
    "  TITLE = {Gröbner Bases: A Computational Approach to Commutative Algebra},\n",
    "}\n",
    "\n",
    "@VIDEO{berndsturmfelsIntroductionGrobnerBases2017a,\n",
    "  ABSTRACT = {Using Grobner bases to perform Gaussian elimination on non-linear systems, apply the Euclidean algorithm to multivariate systems and run the Simplex algorithm in a minimisation problem.},\n",
    "  EDITOR = {{Bernd Sturmfels}},\n",
    "  URL = {https://www.youtube.com/watch?v=TNO5WuxuNak},\n",
    "  DATE = {2017-01-21},\n",
    "  EDITORTYPE = {director},\n",
    "  TITLE = {Introduction to {{Grobner Bases}} - {{Prof}}. {{Bernd Sturmfels}}},\n",
    "  URLDATE = {2021-04-12},\n",
    "}\n",
    "\n",
    "@ONLINE{billdubuqueAbstractAlgebraWhy,\n",
    "  AUTHOR = {{Bill Dubuque}},\n",
    "  ORGANIZATION = {Mathematics Stack Exchange},\n",
    "  URL = {https://math.stackexchange.com/a/2523},\n",
    "  FILE = {/home/ryan/Zotero/storage/EXPAEFUF/why-cant-the-polynomial-ring-be-a-field.html},\n",
    "  TITLE = {Abstract Algebra - {{Why}} Can't the {{Polynomial Ring}} Be a {{Field}}?},\n",
    "  URLDATE = {2021-04-12},\n",
    "}\n",
    "\n",
    "@BOOK{coxIdealsVarietiesAlgorithms1997,\n",
    "  AUTHOR = {Cox, David A. and Little, John B. and O'Shea, Donal},\n",
    "  LOCATION = {New York},\n",
    "  PUBLISHER = {Springer},\n",
    "  DATE = {1997},\n",
    "  EDITION = {2nd ed},\n",
    "  ISBN = {978-0-387-94680-1},\n",
    "  KEYWORDS = {Commutative algebra,Data processing,Geometry; Algebraic},\n",
    "  PAGETOTAL = {536},\n",
    "  SERIES = {Undergraduate Texts in Mathematics},\n",
    "  SHORTTITLE = {Ideals, Varieties, and Algorithms},\n",
    "  TITLE = {Ideals, Varieties, and Algorithms: An Introduction to Computational Algebraic Geometry and Commutative Algebra: With 91 Illustrations},\n",
    "}\n",
    "\n",
    "@BOOK{e.h.connellElementsAbstractLinear2001,\n",
    "  AUTHOR = {{E. H. Connell}},\n",
    "  PUBLISHER = {University of Miami},\n",
    "  URL = {http://www.math.miami.edu/~ec/book/},\n",
    "  DATE = {2001-03-30},\n",
    "  TITLE = {Elements of {{Abstract}} and {{Linear Algebra}}},\n",
    "}\n",
    "\n",
    "@ONLINE{EquivalenceDefinitionsIrreducible,\n",
    "  URL = {https://proofwiki.org/wiki/Equivalence_of_Definitions_of_Irreducible_Polynomial_over_Field},\n",
    "  FILE = {/home/ryan/Zotero/storage/4QIAYSA5/Equivalence_of_Definitions_of_Irreducible_Polynomial_over_Field.html},\n",
    "  TITLE = {Equivalence of {{Definitions}} of {{Irreducible Polynomial}} over {{Field}} - {{ProofWiki}}},\n",
    "  URLDATE = {2021-04-12},\n",
    "}\n",
    "\n",
    "@BOOK{gregoryleeAbstractAlgebra2018,\n",
    "  AUTHOR = {{Gregory Lee}},\n",
    "  LOCATION = {New York, NY},\n",
    "  PUBLISHER = {Springer Berlin Heidelberg},\n",
    "  DATE = {2018},\n",
    "  ISBN = {978-3-319-77648-4},\n",
    "  TITLE = {Abstract Algebra},\n",
    "}\n",
    "\n",
    "@BOOK{grilletAbstractAlgebra2007,\n",
    "  AUTHOR = {Grillet, Pierre A.},\n",
    "  LOCATION = {New York, NY},\n",
    "  PUBLISHER = {Springer},\n",
    "  ANNOTATION = {OCLC: 255964387},\n",
    "  DATE = {2007},\n",
    "  EDITION = {2. ed},\n",
    "  FILE = {/home/ryan/Zotero/storage/YN5U3F5G/grilletAbstractAlgebra2007.pdf},\n",
    "  ISBN = {978-0-387-71568-1 978-0-387-71567-4},\n",
    "  LANGID = {english},\n",
    "  NUMBER = {242},\n",
    "  PAGETOTAL = {669},\n",
    "  SERIES = {Graduate Texts in Mathematics},\n",
    "  TITLE = {Abstract Algebra},\n",
    "}\n",
    "\n",
    "@ONLINE{GroupTheoryIts2013,\n",
    "  ORGANIZATION = {Chemistry LibreTexts},\n",
    "  URL = {https://chem.libretexts.org/Bookshelves/Physical_and_Theoretical_Chemistry_Textbook_Maps/Supplemental_Modules_(Physical_and_Theoretical_Chemistry)/Group_Theory/Group_Theory_and_its_Application_to_Chemistry},\n",
    "  DATE = {2013-10-02T16:55:55Z},\n",
    "  FILE = {/home/ryan/Zotero/storage/PTWG4AXF/Group_Theory_and_its_Application_to_Chemistry.html},\n",
    "  LANGID = {english},\n",
    "  TITLE = {Group {{Theory}} and Its {{Application}} to {{Chemistry}}},\n",
    "  URLDATE = {2021-04-10},\n",
    "}\n",
    "\n",
    "@BOOK{hibiGrobnerBasesStatistics2014,\n",
    "  AUTHOR = {Hibi, Takayuki},\n",
    "  URL = {http://www.vlebooks.com/vleweb/product/openreader?id=none&isbn=9784431545743},\n",
    "  ANNOTATION = {OCLC: 1100912580},\n",
    "  DATE = {2014},\n",
    "  ISBN = {978-4-431-54574-3},\n",
    "  LANGID = {english},\n",
    "  SHORTTITLE = {Grobner {{Bases}}},\n",
    "  TITLE = {Grobner {{Bases}}: {{Statistics}} and {{Software Systems}}},\n",
    "  URLDATE = {2021-03-03},\n",
    "}\n",
    "\n",
    "@BOOK{joynerAdventuresGroupTheory2002,\n",
    "  AUTHOR = {Joyner, David},\n",
    "  LOCATION = {Baltimore},\n",
    "  PUBLISHER = {Johns Hopkins University Press},\n",
    "  ANNOTATION = {OCLC: ocm48013200},\n",
    "  DATE = {2002},\n",
    "  ISBN = {978-0-8018-6945-7 978-0-8018-6947-1},\n",
    "  KEYWORDS = {Group theory,Mathematical recreations},\n",
    "  PAGETOTAL = {262},\n",
    "  SHORTTITLE = {Adventures in Group Theory},\n",
    "  TITLE = {Adventures in Group Theory: {{Rubik}}'s {{Cube}}, {{Merlin}}'s Machine, and Other Mathematical Toys},\n",
    "}\n",
    "\n",
    "@BOOK{judsonAbstractAlgebraTheory2016,\n",
    "  ABSTRACT = {This text is intended for a one- or two-semester undergraduate course in abstract algebra. Traditionally, these courses have covered the theoretical aspects of groups, rings, and fields. However, with the development of computing in the last several decades, applications that involve abstract algebra and discrete mathematics have become increasingly important, and many science, engineering, and computer science students are now electing to minor in mathematics. Though theory still occupies a central role in the subject of abstract algebra and no student should go through such a course without a good notion of what a proof is, the importance of applications such as coding theory and cryptography has grown significantly. Until recently most abstract algebra texts included few if any applications. However, one of the major problems in teaching an abstract algebra course is that for many students it is their first encounter with an environment that requires them to do rigorous proofs. Such students often find it hard to see the use of learning to prove theorems and propositions; applied examples help the instructor provide motivation. This text contains more material than can possibly be covered in a single semester. Certainly there is adequate material for a two-semester course, and perhaps more; however, for a one-semester course it would be quite easy to omit selected chapters and still have a useful text. The order of presentation of topics is standard: groups, then rings, and finally fields. Emphasis can be placed either on theory or on applications. A typical one-semester course might cover groups and rings while briefly touching on field theory, using Chapters 1 through 6, 9, 10, 11, 13 (the first part), 16, 17, 18 (the first part), 20, and 21. Parts of these chapters could be deleted and applications substituted according to the interests of the students and the instructor. A two-semester course emphasizing theory might cover Chapters 1 through 6, 9, 10, 11, 13 through 18, 20, 21, 22 (the first part), and 23. On the other hand, if applications are to be emphasized, the course might cover Chapters 1 through 14, and 16 through 22. In an applied course, some of the more theoretical results could be assumed or omitted. A chapter dependency chart appears below. (A broken line indicates a partial dependency.).},\n",
    "  AUTHOR = {Judson, Thomas W and {Open Textbook Library}},\n",
    "  URL = {https://open.umn.edu/opentextbooks/textbooks/217, http://abstract.pugetsound.edu/},\n",
    "  ANNOTATION = {OCLC: 1151064240},\n",
    "  DATE = {2016},\n",
    "  FILE = {/home/ryan/Zotero/storage/UWR3XHJM/Judson - Abstract Algebra.pdf},\n",
    "  ISBN = {978-1-944325-02-2},\n",
    "  LANGID = {In English.},\n",
    "  TITLE = {Abstract Algebra Theory and Applications},\n",
    "  URLDATE = {2021-04-10},\n",
    "}\n",
    "\n",
    "@MISC{judyholdenerAlgebraicGeometry2013,\n",
    "  AUTHOR = {{Judy Holdener}},\n",
    "  URL = {http://pi.math.cornell.edu/~dmehrle/notes/old/alggeo/},\n",
    "  DATE = {2013},\n",
    "  FILE = {/home/ryan/Zotero/storage/PX46QLIT/out.html},\n",
    "  TITLE = {Algebraic {{Geometry}}},\n",
    "}\n",
    "\n",
    "@BOOK{larsonElementaryLinearAlgebra1991a,\n",
    "  AUTHOR = {Larson, Ron and Edwards, Bruce H.},\n",
    "  LOCATION = {Lexington, Mass},\n",
    "  PUBLISHER = {D.C. Heath},\n",
    "  DATE = {1991},\n",
    "  EDITION = {2nd ed},\n",
    "  ISBN = {978-0-669-24592-9},\n",
    "  KEYWORDS = {Algebras; Linear},\n",
    "  PAGETOTAL = {592},\n",
    "  TITLE = {Elementary Linear Algebra},\n",
    "}\n",
    "\n",
    "@INPROCEEDINGS{martin-mateosFormalProofDickson2003,\n",
    "  ABSTRACT = {.Dickson’s Lemma is the main result needed to prove the termination of Buchberger’s algorithm for computing Gröbner basis of polynomial ideals. In this case study, we present a formal proof of Dickson’s Lemma using the ACL2 system. Due to the limited expressiveness of the ACL2 logic, the classical non-constructive proof of this result cannot be done in ACL2. Instead, we formalize a proof where the termination argument is justified by the multiset extension of a well-founded relation.},\n",
    "  AUTHOR = {Martın-Mateos, F. J. and Alonso, J. A. and Hidalgo, M. J. and Ruiz-Reina, J. L.},\n",
    "  EDITOR = {Vardi, Moshe Y. and Voronkov, Andrei},\n",
    "  LOCATION = {Berlin, Heidelberg},\n",
    "  PUBLISHER = {Springer},\n",
    "  BOOKTITLE = {Logic for {{Programming}}, {{Artificial Intelligence}}, and {{Reasoning}}},\n",
    "  DATE = {2003},\n",
    "  DOI = {10.1007/978-3-540-39813-4_3},\n",
    "  FILE = {/home/ryan/Zotero/storage/2QE2HIQQ/Martın-Mateos et al. - 2003 - A Formal Proof of Dickson’s Lemma in ACL2.pdf},\n",
    "  ISBN = {978-3-540-39813-4},\n",
    "  KEYWORDS = {Common Lisp,Constructive Proof,Formal Proof,Recursive Call,Reducible Pattern},\n",
    "  LANGID = {english},\n",
    "  PAGES = {49--58},\n",
    "  SERIES = {Lecture {{Notes}} in {{Computer Science}}},\n",
    "  TITLE = {A {{Formal Proof}} of {{Dickson}}’s {{Lemma}} in {{ACL2}}},\n",
    "}\n",
    "\n",
    "@BOOK{nicodemiIntroductionAbstractAlgebra2007a,\n",
    "  AUTHOR = {Nicodemi, Olympia and Sutherland, Melissa A. and Towsley, Gary W.},\n",
    "  LOCATION = {Upper Saddle River, NJ},\n",
    "  PUBLISHER = {Pearson Prentice Hall},\n",
    "  ANNOTATION = {OCLC: 253915717},\n",
    "  DATE = {2007},\n",
    "  ISBN = {978-0-13-101963-8},\n",
    "  LANGID = {english},\n",
    "  PAGETOTAL = {436},\n",
    "  TITLE = {An Introduction to Abstract Algebra with Notes to the Future Teacher},\n",
    "}\n",
    "\n",
    "@ONLINE{pabloparriloAlgebraicTechniquesSemidefinite,\n",
    "  ABSTRACT = {This research-oriented course will focus on algebraic and computational techniques for optimization problems involving polynomial equations and inequalities with particular emphasis on the connections with semidefinite optimization. The course will develop in a parallel fashion several algebraic and numerical approaches to polynomial systems, with a view towards methods that simultaneously incorporate both elements. We will study both the complex and real cases, developing techniques of general applicability, and stressing convexity-based ideas, complexity results, and efficient implementations. Although we will use examples from several engineering areas, particular emphasis will be given to those arising from systems and control applications.},\n",
    "  AUTHOR = {{Pablo Parrilo}},\n",
    "  ORGANIZATION = {MIT OpenCourseWare},\n",
    "  URL = {https://ocw.mit.edu/courses/electrical-engineering-and-computer-science/6-972-algebraic-techniques-and-semidefinite-optimization-spring-2006/},\n",
    "  FILE = {/home/ryan/Zotero/storage/DZ4MR7XB/lecture_13.pdf;/home/ryan/Zotero/storage/WFJHQ7E9/6-972-spring-2006.zip;/home/ryan/Zotero/storage/42Y8TNGS/index.html},\n",
    "  LANGID = {english},\n",
    "  TITLE = {Algebraic {{Techniques}} and {{Semidefinite Optimization}}},\n",
    "  URLDATE = {2021-04-08},\n",
    "}\n",
    "\n",
    "@VIDEO{prof.berndsturmfelsIntroductionGrobnerBases2017,\n",
    "  ABSTRACT = {Using Grobner bases to perform Gaussian elimination on non-linear systems, apply the Euclidean algorithm to multivariate systems and run the Simplex algorithm in a minimisation problem.},\n",
    "  EDITOR = {{Prof. Bernd Sturmfels}},\n",
    "  URL = {https://www.youtube.com/watch?v=TNO5WuxuNak},\n",
    "  DATE = {2017-01-20},\n",
    "  EDITORTYPE = {director},\n",
    "  TITLE = {Introduction to {{Grobner Bases}} - {{Prof}}. {{Bernd Sturmfels}}},\n",
    "  URLDATE = {2021-04-12},\n",
    "}\n",
    "\n",
    "@ONLINE{RingPolynomialForms,\n",
    "  URL = {https://proofwiki.org/wiki/Ring_of_Polynomial_Forms_is_Integral_Domain},\n",
    "  FILE = {/home/ryan/Zotero/storage/YICHLU7S/Ring_of_Polynomial_Forms_is_Integral_Domain.html},\n",
    "  TITLE = {Ring of {{Polynomial Forms}} Is {{Integral Domain}} - {{ProofWiki}}},\n",
    "  URLDATE = {2021-04-12},\n",
    "}\n",
    "\n",
    "@BOOK{roberthowlettUndergraduateCourseAbstract,\n",
    "  AUTHOR = {{Robert Howlett}},\n",
    "  URL = {https://www.maths.usyd.edu.au/u/bobh/UoS/},\n",
    "  TITLE = {An Undergraduate Course in {{Abstract Algebra}}: {{Course}} Notes for {{MATH3002}}},\n",
    "}\n",
    "\n",
    "@BOOK{sturmfelsSolvingSystemsPolynomial2002,\n",
    "  EDITOR = {Sturmfels, Bernd},\n",
    "  LOCATION = {Providence, R.I},\n",
    "  PUBLISHER = {Published for the Conference Board of the Mathematical Sciences by the American Mathematical Society},\n",
    "  ANNOTATION = {OCLC: ocm50273026},\n",
    "  DATE = {2002},\n",
    "  EVENTTITLE = {{{CBMS Conference}} on {{Solving Polynomial Equations}}},\n",
    "  ISBN = {978-0-8218-3251-6},\n",
    "  KEYWORDS = {Congresses,Equations,Numerical solutions,Polynomials},\n",
    "  NUMBER = {no. 97},\n",
    "  PAGETOTAL = {152},\n",
    "  SERIES = {Conference {{Board}} of the {{Mathematical Sciences}} Regional Conference Series in Mathematics},\n",
    "  TITLE = {Solving Systems of Polynomial Equations},\n",
    "}\n",
    "\n",
    "@ONLINE{sympydevelopmentteamBasicFunctionalityModule,\n",
    "  AUTHOR = {{SymPy Development Team}},\n",
    "  ORGANIZATION = {Sympy Documentation},\n",
    "  URL = {https://docs.sympy.org/latest/modules/polys/basics.html},\n",
    "  FILE = {/home/ryan/Zotero/storage/A6KUTH88/basics.html},\n",
    "  TITLE = {Basic Functionality of the Module — {{SymPy}} 1.8 Documentation},\n",
    "  URLDATE = {2021-04-11},\n",
    "}\n",
    "\n",
    "@ONLINE{sympydevelopmentteamGrobnerBasesTheir2021,\n",
    "  AUTHOR = {{SymPy Development Team}},\n",
    "  ORGANIZATION = {Sympy Documentation},\n",
    "  URL = {https://mattpap.github.io/masters-thesis/html/src/groebner.html},\n",
    "  DATE = {2021-04-09},\n",
    "  FILE = {/home/ryan/Zotero/storage/LIX9PLRR/groebner.html},\n",
    "  TITLE = {Gröbner Bases and Their Applications — {{Polynomials Manipulation Module}} v1.0 Documentation},\n",
    "  URLDATE = {2021-04-11},\n",
    "}\n",
    "\n",
    "@ONLINE{sympydevelopmentteamSympyPolysGroebnertools,\n",
    "  AUTHOR = {{SymPy Development Team}},\n",
    "  ORGANIZATION = {Sympy Documentation},\n",
    "  URL = {http://www.caacle.com/sympy-docs-html-1.4/_modules/sympy/polys/groebnertools.html},\n",
    "  FILE = {/home/ryan/Zotero/storage/PMBGID2K/groebnertools.html},\n",
    "  TITLE = {Sympy.Polys.Groebnertools — {{SymPy}} 1.4 Documentation},\n",
    "  URLDATE = {2021-04-12},\n",
    "}\n",
    "\n",
    "@ONLINE{sympydevelopmentteamSympySolversPolysys,\n",
    "  AUTHOR = {{SymPy Development Team}},\n",
    "  ORGANIZATION = {Sympy Documentation},\n",
    "  URL = {http://man.hubwiz.com/docset/SymPy.docset/Contents/Resources/Documents/_modules/sympy/solvers/polysys.html},\n",
    "  FILE = {/home/ryan/Zotero/storage/2E29FENT/polysys.html},\n",
    "  TITLE = {Sympy.Solvers.Polysys — {{SymPy}} 1.4 Documentation},\n",
    "  URLDATE = {2021-04-11},\n",
    "}\n",
    "\n",
    "@SOFTWARE{rcoreteamLanguageEnvironmentStatistical2020,\n",
    "  AUTHOR = {Team, R Core},\n",
    "  LOCATION = {Vienna, Austria},\n",
    "  ORGANIZATION = {R Foundation for Statistical Computing},\n",
    "  URL = {http://www.R-project.org/},\n",
    "  DATE = {2020},\n",
    "  TITLE = {R: {{A Language}} and {{Environment}} for {{Statistical Computing}}},\n",
    "}\n",
    "\n",
    "@BOOK{tinkhamGroupTheoryQuantum2003,\n",
    "  AUTHOR = {Tinkham, Michael},\n",
    "  LOCATION = {Mineola, N.Y},\n",
    "  PUBLISHER = {Dover Publications},\n",
    "  DATE = {2003},\n",
    "  ISBN = {978-0-486-43247-2},\n",
    "  KEYWORDS = {Group theory,Quantum theory},\n",
    "  PAGETOTAL = {340},\n",
    "  TITLE = {Group Theory and Quantum Mechanics},\n",
    "}\n",
    "\n",
    "@ONLINE{WrongGroebnerBasis,\n",
    "  ABSTRACT = {In [17]: from sympy.polys.polytools import groebner In [18]: groebner([0.144*x*y+0.018*x**2+0.05*x-1.577,0.072*y**2+0.036*x*y+0.05*y-1.423], [x, y]) Out[18]: GroebnerBasis([1.0], x, y, domain=ℝ, or...},\n",
    "  ORGANIZATION = {GitHub},\n",
    "  URL = {https://github.com/sympy/sympy/issues/11623},\n",
    "  FILE = {/home/ryan/Zotero/storage/5Q5UTUBV/11623.html},\n",
    "  LANGID = {english},\n",
    "  TITLE = {Wrong Groebner Basis · {{Issue}} \\#11623 · Sympy/Sympy},\n",
    "  URLDATE = {2021-04-11},\n",
    "}\n",
    "\n",
    "```\n",
    "\n"
   ]
  }
 ],
 "metadata": {
  "kernelspec": {
   "display_name": "Python 3",
   "language": "python",
   "name": "python3"
  },
  "language_info": {
   "codemirror_mode": {
    "name": "ipython",
    "version": 3
   },
   "file_extension": ".py",
   "mimetype": "text/x-python",
   "name": "python",
   "nbconvert_exporter": "python",
   "pygments_lexer": "ipython3",
   "version": "3.9.3"
  },
  "toc": {
   "base_numbering": 1,
   "nav_menu": {},
   "number_sections": true,
   "sideBar": true,
   "skip_h1_title": false,
   "title_cell": "Table of Contents",
   "title_sidebar": "Contents",
   "toc_cell": false,
   "toc_position": {},
   "toc_section_display": true,
   "toc_window_display": false
  }
 },
 "nbformat": 4,
 "nbformat_minor": 5
}
