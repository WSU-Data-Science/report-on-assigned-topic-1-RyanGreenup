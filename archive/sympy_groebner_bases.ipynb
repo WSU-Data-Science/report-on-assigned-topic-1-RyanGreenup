{
 "cells": [
  {
   "cell_type": "markdown",
   "id": "occasional-appliance",
   "metadata": {},
   "source": [
    "# Buchbergers Algorithm"
   ]
  },
  {
   "cell_type": "markdown",
   "id": "regional-zealand",
   "metadata": {},
   "source": [
    "## Boiler Plate"
   ]
  },
  {
   "cell_type": "markdown",
   "id": "robust-subdivision",
   "metadata": {},
   "source": [
    "First load the Sympy module"
   ]
  },
  {
   "cell_type": "code",
   "execution_count": 1,
   "id": "northern-cancellation",
   "metadata": {},
   "outputs": [],
   "source": [
    "## Sympy Boiler Plate\n",
    "\n",
    "from __future__ import division\n",
    "from sympy import *\n",
    "t, x, y, z = symbols('t x y z')  # I believe this order matters, i.e. t<-x1, x <- x2, y <- x3 ...\n",
    "k, m, n = symbols('k m n', integer=True)\n",
    "f, g, h = symbols('f g h', cls=Function)\n",
    "init_printing()\n",
    "init_printing(use_latex='mathjax', latex_mode='equation')\n",
    "\n",
    "\n",
    "\n",
    "import pyperclip\n",
    "def lx(expr):\n",
    "    pyperclip.copy(latex(expr))\n",
    "    print(expr)\n",
    "# NB: See also srepr(), display() and print_mathml()\n",
    "\n",
    "import numpy as np\n",
    "import matplotlib as plt"
   ]
  },
  {
   "cell_type": "markdown",
   "id": "affiliated-dublin",
   "metadata": {},
   "source": [
    "## Terminology\n",
    "\n",
    "There are mutlidegree's, leading coefficients, leading monomials and leading terms."
   ]
  },
  {
   "cell_type": "code",
   "execution_count": 2,
   "id": "satisfactory-original",
   "metadata": {},
   "outputs": [],
   "source": [
    "def f(x, domain = 'QQ'):\n",
    "    return 2+3*x+5*y+7*x*y+11*x**2*y+13*x*y**2+17*x**2*y**2+19*x**2*y**2*z**2\n",
    "    # return 13*x**2+11*x-7\n",
    "def g(x, domain = 'QQ'):\n",
    "    return 2+3*x+5*y+7*x*y+11*x**2*y+13*x*y**2+17*x**2*y**2+19*x*y**2*z**2\n",
    "    # return 13*x**2+11*x-7\n"
   ]
  },
  {
   "cell_type": "code",
   "execution_count": 3,
   "id": "theoretical-league",
   "metadata": {},
   "outputs": [
    {
     "output_type": "stream",
     "name": "stdout",
     "text": [
      "Leading Monomial:\n"
     ]
    },
    {
     "output_type": "display_data",
     "data": {
      "text/plain": " 2  2  2\nx ⋅y ⋅z ",
      "text/latex": "\\begin{equation}x^{2} y^{2} z^{2}\\end{equation}"
     },
     "metadata": {}
    },
    {
     "output_type": "stream",
     "name": "stdout",
     "text": [
      "Leading Coefficient\n"
     ]
    },
    {
     "output_type": "display_data",
     "data": {
      "text/plain": "19",
      "text/latex": "\\begin{equation}19\\end{equation}"
     },
     "metadata": {}
    },
    {
     "output_type": "stream",
     "name": "stdout",
     "text": [
      "Leading Term\n"
     ]
    },
    {
     "output_type": "display_data",
     "data": {
      "text/plain": "    2  2  2\n19⋅x ⋅y ⋅z ",
      "text/latex": "\\begin{equation}19 x^{2} y^{2} z^{2}\\end{equation}"
     },
     "metadata": {}
    }
   ],
   "source": [
    "print(\"Leading Monomial:\")\n",
    "display(LM(f(x)))\n",
    "\n",
    "print(\"Leading Coefficient\")\n",
    "display(LC(f(x)))\n",
    "\n",
    "print(\"Leading Term\")\n",
    "display(LT(f(x)))"
   ]
  },
  {
   "cell_type": "markdown",
   "id": "pressing-homeless",
   "metadata": {},
   "source": [
    "The initial monomial with respect to an ordering is the first monomial returned by `sympy`, I believe that sympy uses lexicographic ordering under the hood, as suggested by the documentation [^spdocsPolySysRef], but I'd need to get a better understanding of the differences between `lex`, `grlex` and `grevlex` to be certain.\n",
    "\n",
    "\n",
    "[^spdocsPolySysRef]: SymPy Development Team. “Polynomials Manipulation Module Reference — SymPy 1.8 Documentation.” Sympy Documentation. Accessed April 13, 2021. https://docs.sympy.org/latest/modules/polys/reference.html."
   ]
  },
  {
   "cell_type": "code",
   "execution_count": 4,
   "id": "medium-possession",
   "metadata": {},
   "outputs": [
    {
     "output_type": "execute_result",
     "data": {
      "text/plain": [
       "    2  2  2       2  2       2           2                        \n",
       "19⋅x ⋅y ⋅z  + 17⋅x ⋅y  + 11⋅x ⋅y + 13⋅x⋅y  + 7⋅x⋅y + 3⋅x + 5⋅y + 2"
      ],
      "text/latex": "\\begin{equation}19 x^{2} y^{2} z^{2} + 17 x^{2} y^{2} + 11 x^{2} y + 13 x y^{2} + 7 x y + 3 x + 5 y + 2\\end{equation}"
     },
     "metadata": {},
     "execution_count": 4
    }
   ],
   "source": [
    "f(x)"
   ]
  },
  {
   "cell_type": "markdown",
   "id": "incomplete-adolescent",
   "metadata": {},
   "source": [
    "In this case, the first monomial is $x^2y^2z^2$ and so that is the initial. In practice we can just use the `LT`, the initial is just another way to skin the cat, which is probably why sympy doesn't offer a clear way to extract the initial. [^initVlt].\n",
    "\n",
    "\n",
    "[^initVlt]: If it was necessary to get the initial one option might be to extract the polynomial to a string `str(f(x))` and then use regex `^[A-Za-z0-9*]+(?=[\\ +])` to extract the first term and then take the `LM` of that term to get the initial monomial."
   ]
  },
  {
   "cell_type": "code",
   "execution_count": 5,
   "id": "electoral-disclaimer",
   "metadata": {},
   "outputs": [
    {
     "output_type": "execute_result",
     "data": {
      "text/plain": [
       "    2  2  2       2  2       2           2                        \n",
       "19⋅x ⋅y ⋅z  + 17⋅x ⋅y  + 11⋅x ⋅y + 13⋅x⋅y  + 7⋅x⋅y + 3⋅x + 5⋅y + 2"
      ],
      "text/latex": "\\begin{equation}19 x^{2} y^{2} z^{2} + 17 x^{2} y^{2} + 11 x^{2} y + 13 x y^{2} + 7 x y + 3 x + 5 y + 2\\end{equation}"
     },
     "metadata": {},
     "execution_count": 5
    }
   ],
   "source": [
    "f(x)"
   ]
  },
  {
   "cell_type": "code",
   "execution_count": 6,
   "id": "alone-accommodation",
   "metadata": {},
   "outputs": [
    {
     "output_type": "execute_result",
     "data": {
      "text/plain": [
       "    2  2       2           2  2         2                        \n",
       "17⋅x ⋅y  + 11⋅x ⋅y + 19⋅x⋅y ⋅z  + 13⋅x⋅y  + 7⋅x⋅y + 3⋅x + 5⋅y + 2"
      ],
      "text/latex": "\\begin{equation}17 x^{2} y^{2} + 11 x^{2} y + 19 x y^{2} z^{2} + 13 x y^{2} + 7 x y + 3 x + 5 y + 2\\end{equation}"
     },
     "metadata": {},
     "execution_count": 6
    }
   ],
   "source": [
    "g(x)"
   ]
  },
  {
   "cell_type": "markdown",
   "id": "lovely-tourist",
   "metadata": {},
   "source": [
    "## Implementing the Algorithm"
   ]
  },
  {
   "cell_type": "markdown",
   "id": "charming-strike",
   "metadata": {},
   "source": [
    "### Set of Polynomials"
   ]
  },
  {
   "cell_type": "markdown",
   "id": "married-madrid",
   "metadata": {},
   "source": [
    "To begin with, we'll implement buchberger's algorithm on a simple polynomial system, the reason for this choice is to see the implementation of the algorithm generally, a *simple* system such as a linear or single variable system, may be more confusing at first, but will be returned to later in order to draw insights."
   ]
  },
  {
   "cell_type": "markdown",
   "id": "atlantic-spider",
   "metadata": {},
   "source": [
    "So we have our bag of polynomials:"
   ]
  },
  {
   "cell_type": "code",
   "execution_count": 7,
   "id": "latter-robin",
   "metadata": {},
   "outputs": [
    {
     "output_type": "display_data",
     "data": {
      "text/plain": " 3        \nx  - 2⋅x⋅y",
      "text/latex": "\\begin{equation}x^{3} - 2 x y\\end{equation}"
     },
     "metadata": {}
    },
    {
     "output_type": "display_data",
     "data": {
      "text/plain": " 2            2\nx ⋅y + x - 2⋅y ",
      "text/latex": "\\begin{equation}x^{2} y + x - 2 y^{2}\\end{equation}"
     },
     "metadata": {}
    }
   ],
   "source": [
    "F = [x**3-2*x*y, x**2*y-2*y**2 + x]\n",
    "for poly in F:\n",
    "    display(poly)"
   ]
  },
  {
   "cell_type": "markdown",
   "id": "objective-interview",
   "metadata": {},
   "source": [
    "These polynomials are equal to zero and so could also be expressed:"
   ]
  },
  {
   "cell_type": "markdown",
   "id": "ambient-retreat",
   "metadata": {},
   "source": [
    "\\begin{align}\n",
    "x^3 &= 2xy \\\\\n",
    "  x &=2y^2-x^2y    \n",
    "\\end{align}"
   ]
  },
  {
   "cell_type": "markdown",
   "id": "greatest-indian",
   "metadata": {},
   "source": [
    "Now we want our algorithm to give us back:"
   ]
  },
  {
   "cell_type": "code",
   "execution_count": 8,
   "id": "working-harvest",
   "metadata": {},
   "outputs": [
    {
     "output_type": "execute_result",
     "data": {
      "text/plain": [
       "             ⎛⎡       2   3⎤                           ⎞\n",
       "GroebnerBasis⎝⎣x - 2⋅y , y ⎦, x, y, domain=ℤ, order=lex⎠"
      ],
      "text/latex": "\\begin{equation}GroebnerBasis\\left(\\left( x - 2 y^{2}, \\  y^{3}\\right), \\left( x, \\  y\\right)\\right)\\end{equation}"
     },
     "metadata": {},
     "execution_count": 8
    }
   ],
   "source": [
    "G_out = polys.polytools.groebner(F, x, y, order = 'lex', method = 'buchberger')\n",
    "G_out\n"
   ]
  },
  {
   "cell_type": "markdown",
   "id": "logical-knowing",
   "metadata": {},
   "source": [
    "Note that the 2nd tupple $\\left(x, y\\right)$ that is printed out refers to the variables, the first tupple is the reduced Groebner Basis, a clearer way to display it would be as a list:"
   ]
  },
  {
   "cell_type": "code",
   "execution_count": 9,
   "id": "compact-hostel",
   "metadata": {},
   "outputs": [
    {
     "output_type": "display_data",
     "data": {
      "text/plain": "⎡       2   3⎤\n⎣x - 2⋅y , y ⎦",
      "text/latex": "\\begin{equation}\\left[ x - 2 y^{2}, \\  y^{3}\\right]\\end{equation}"
     },
     "metadata": {}
    }
   ],
   "source": [
    "\n",
    "G = []\n",
    "for poly in G_out:\n",
    "    G.append(poly)\n",
    "\n",
    "display(G)\n"
   ]
  },
  {
   "cell_type": "markdown",
   "id": "crucial-disabled",
   "metadata": {},
   "source": [
    "and so overall we have:"
   ]
  },
  {
   "cell_type": "markdown",
   "id": "white-karma",
   "metadata": {},
   "source": [
    "$$\n",
    "\\begin{array}{rcl}\n",
    "x^{3} & = & 2xy\\\\\n",
    "x & = & 2y^{2}-x^{2}y\n",
    "\\end{array}\\implies\\begin{array}{rcl}\n",
    "y^{2} & = & \\frac{1}{2}x\\\\\n",
    "y^{3} & = & 0\n",
    "\\end{array}\n",
    "$$"
   ]
  },
  {
   "cell_type": "markdown",
   "id": "suitable-african",
   "metadata": {},
   "source": [
    "\\begin{align}\n",
    "y^2 &= \\frac{1}{2}x \\\\\n",
    "y^3 &= 0\n",
    "\\end{align}    "
   ]
  },
  {
   "cell_type": "markdown",
   "id": "historic-welsh",
   "metadata": {},
   "source": [
    "## S-Polynomial"
   ]
  },
  {
   "cell_type": "markdown",
   "id": "willing-diversity",
   "metadata": {},
   "source": [
    "The $S$-Polynomial used to determine whether or not two polynomials belong in the Groebner Basis and it is given by:\n",
    "\n",
    "$$\n",
    "S=\\mathrm{LCM}\\left(\\mathrm{LM}\\left(f\\right),\\mathrm{LM}\\left(g\\right)\\right)\\times\\left(\\frac{f}{\\mathrm{LT}\\left(f\\right)}-\\frac{g}{\\mathrm{LT}\\left(g\\right)}\\right)\n",
    "$$"
   ]
  },
  {
   "cell_type": "markdown",
   "id": "representative-enemy",
   "metadata": {},
   "source": [
    "Sympy comes with a function to determine the LCM of polynomials:\n",
    "\n"
   ]
  },
  {
   "cell_type": "code",
   "execution_count": 10,
   "id": "still-front",
   "metadata": {},
   "outputs": [
    {
     "output_type": "execute_result",
     "data": {
      "text/plain": [
       " 3  \n",
       "x ⋅y"
      ],
      "text/latex": "\\begin{equation}x^{3} y\\end{equation}"
     },
     "metadata": {},
     "execution_count": 10
    }
   ],
   "source": [
    "from sympy.polys.monomials import monomial_mul, monomial_lcm, monomial_divides, term_div\n",
    "# https://docs.sympy.org/latest/modules/polys/basics.html\n",
    "LMf = LM(F[0])\n",
    "LMg = LM(F[1])\n",
    "# LCM12 = monomial_lcm(LMF, LMG) # This fails\n",
    "LCM12 = lcm(LMf, LMg)\n",
    "LCM12\n"
   ]
  },
  {
   "cell_type": "markdown",
   "id": "sweet-depth",
   "metadata": {},
   "source": [
    "and the $s$-polynomial can hence be calculated thusly:"
   ]
  },
  {
   "cell_type": "code",
   "execution_count": 11,
   "id": "statewide-thesaurus",
   "metadata": {},
   "outputs": [
    {
     "output_type": "execute_result",
     "data": {
      "text/plain": [
       "  2\n",
       "-x "
      ],
      "text/latex": "\\begin{equation}- x^{2}\\end{equation}"
     },
     "metadata": {},
     "execution_count": 11
    }
   ],
   "source": [
    "def s_polynomial(f, g):\n",
    "    LCM_fg = lcm(LM(f), LM(g))\n",
    "    s = LCM_fg*(f/LT(f)-g/LT(g))\n",
    "    return s.expand()\n",
    "s=s_polynomial(F[0], F[1])\n",
    "s"
   ]
  },
  {
   "cell_type": "markdown",
   "id": "intimate-offset",
   "metadata": {},
   "source": [
    "Now we need to divide this $s$ value by all the terms in $F$, write it out in terms of quotients and divisors and then consider the remainder, so for example:"
   ]
  },
  {
   "cell_type": "code",
   "execution_count": 12,
   "id": "fluid-summer",
   "metadata": {},
   "outputs": [
    {
     "output_type": "display_data",
     "data": {
      "text/plain": "⎛     2⎞\n⎝0, -x ⎠",
      "text/latex": "\\begin{equation}\\left( 0, \\  - x^{2}\\right)\\end{equation}"
     },
     "metadata": {}
    },
    {
     "output_type": "display_data",
     "data": {
      "text/plain": "⎛     2⎞\n⎝0, -x ⎠",
      "text/latex": "\\begin{equation}\\left( 0, \\  - x^{2}\\right)\\end{equation}"
     },
     "metadata": {}
    }
   ],
   "source": [
    "display(div(s, F[0]))\n",
    "display(div(s, F[1]))"
   ]
  },
  {
   "cell_type": "markdown",
   "id": "egyptian-federal",
   "metadata": {},
   "source": [
    "\\begin{align*}\n",
    " & -x^{2} & = & 0\\left(2xy\\right) & -x^{2}\\\\\n",
    "+ &  & =\\\\\n",
    " & -x^{2} & = & 0\\left(2y^{2}-x^{2}y\\right) & -x^{2}\\\\\n",
    "\\hline  & -2x^{2} & = & 0\\left(2xy\\right)+0\\left(2y^{2}-x^{2}y\\right) & -2x^{2}\\\\\n",
    "\\implies & r & = & \\mathrm{mean}\\left(r\\in R\\right)\n",
    "\\end{align*}\n"
   ]
  },
  {
   "cell_type": "markdown",
   "id": "material-ensemble",
   "metadata": {},
   "source": [
    "And so this remainder value can be calculated, in `sympy`, like so:"
   ]
  },
  {
   "cell_type": "code",
   "execution_count": 13,
   "id": "difficult-musician",
   "metadata": {},
   "outputs": [
    {
     "output_type": "execute_result",
     "data": {
      "text/plain": [
       "  2\n",
       "-x "
      ],
      "text/latex": "\\begin{equation}- x^{2}\\end{equation}"
     },
     "metadata": {},
     "execution_count": 13
    }
   ],
   "source": [
    " def remainder_set_division(s, F):\n",
    "    \"\"\"\n",
    "    return remainder value after dividing s by all terms in F,\n",
    "    For use in BuchBerger's Algorithm using an S-polynomial against the\n",
    "    collection of polynomials\n",
    "\n",
    "    Args:\n",
    "        s (sympy): A sympy polynomial, typically an S-polynomial for \n",
    "        F (list, of sympy): The list of polynomials of concern\n",
    "    \"\"\"    \n",
    "    # Calculate all the remainders\n",
    "    r_list = [ div(s, F[i])[1] for i in range(len(F)) ]\n",
    "\n",
    "    # If one of those remainders is 0, then we should get back 0\n",
    "    if 0 in r_list:\n",
    "        return 0\n",
    "    else:\n",
    "    # Otherwise average all the remainders to get the overall\n",
    "        r = sum(r_list)/len(r_list)\n",
    "        return r\n",
    "\n",
    "r = remainder_set_division(s, F)    \n",
    "r"
   ]
  },
  {
   "cell_type": "code",
   "execution_count": 14,
   "metadata": {},
   "outputs": [
    {
     "output_type": "display_data",
     "data": {
      "text/plain": "⎛     2⎞\n⎝0, -x ⎠",
      "text/latex": "\\begin{equation}\\left( 0, \\  - x^{2}\\right)\\end{equation}"
     },
     "metadata": {}
    },
    {
     "output_type": "display_data",
     "data": {
      "text/plain": "⎛     2⎞\n⎝0, -x ⎠",
      "text/latex": "\\begin{equation}\\left( 0, \\  - x^{2}\\right)\\end{equation}"
     },
     "metadata": {}
    },
    {
     "output_type": "display_data",
     "data": {
      "text/plain": "  2\n-x ",
      "text/latex": "\\begin{equation}- x^{2}\\end{equation}"
     },
     "metadata": {}
    }
   ],
   "source": [
    "s = -x**2\n",
    "F = [x**3-2*x*y, x**2*y-2*y**2 + x]\n",
    "display(\n",
    "    div(-x**2, F[0]),\n",
    "    div(-x**2, F[1]),\n",
    "    remainder_set_division(s, F)\n",
    ")\n"
   ]
  },
  {
   "cell_type": "markdown",
   "id": "foreign-principle",
   "metadata": {},
   "source": [
    "Now because this remainder value is non-zero, it belongs to the Groebner Bases and it needs to be added back to $F$ and the process needs to start again."
   ]
  },
  {
   "cell_type": "code",
   "execution_count": 15,
   "id": "stone-rocket",
   "metadata": {},
   "outputs": [
    {
     "output_type": "display_data",
     "data": {
      "text/plain": " 3        \nx  - 2⋅x⋅y",
      "text/latex": "\\begin{equation}x^{3} - 2 x y\\end{equation}"
     },
     "metadata": {}
    },
    {
     "output_type": "display_data",
     "data": {
      "text/plain": " 2            2\nx ⋅y + x - 2⋅y ",
      "text/latex": "\\begin{equation}x^{2} y + x - 2 y^{2}\\end{equation}"
     },
     "metadata": {}
    },
    {
     "output_type": "display_data",
     "data": {
      "text/plain": "  2\n-x ",
      "text/latex": "\\begin{equation}- x^{2}\\end{equation}"
     },
     "metadata": {}
    }
   ],
   "source": [
    "F_0 = F.copy() # Remember to copy lists in Python, like C\n",
    "F.append(r)\n",
    "for poly in F:\n",
    "    display(poly)\n"
   ]
  },
  {
   "cell_type": "markdown",
   "id": "normal-formula",
   "metadata": {},
   "source": [
    "### Continue testing values"
   ]
  },
  {
   "cell_type": "markdown",
   "id": "preceding-laser",
   "metadata": {},
   "source": [
    "Next compare $f_1$ and the newly added $f_3$:"
   ]
  },
  {
   "cell_type": "code",
   "execution_count": 16,
   "id": "undefined-lobby",
   "metadata": {},
   "outputs": [
    {
     "output_type": "stream",
     "name": "stdout",
     "text": [
      "The s polynomial is:\n"
     ]
    },
    {
     "output_type": "display_data",
     "data": {
      "text/plain": "-2⋅x⋅y",
      "text/latex": "\\begin{equation}- 2 x y\\end{equation}"
     },
     "metadata": {}
    },
    {
     "output_type": "stream",
     "name": "stdout",
     "text": [
      "The remainder is:\n"
     ]
    },
    {
     "output_type": "display_data",
     "data": {
      "text/plain": "-2⋅x⋅y",
      "text/latex": "\\begin{equation}- 2 x y\\end{equation}"
     },
     "metadata": {}
    },
    {
     "output_type": "stream",
     "name": "stdout",
     "text": [
      "Add the remainder back in to F\n"
     ]
    }
   ],
   "source": [
    "# Calculate the S-Polynomial\n",
    "s = s_polynomial(F[0], F[2])\n",
    "print(\"The s polynomial is:\")\n",
    "display(s)\n",
    "# calculate the remainder\n",
    "r = remainder_set_division(s, F)    \n",
    "print(\"The remainder is:\")\n",
    "display(r)\n",
    "\n",
    "# Add the remainder back to F\n",
    "if r!=0:\n",
    "    print(\"Add the remainder back in to F\")\n",
    "    F.append(r)\n"
   ]
  },
  {
   "cell_type": "markdown",
   "id": "packed-aside",
   "metadata": {},
   "source": [
    "Now we compare $f_1$ with the newly added $f_4$:"
   ]
  },
  {
   "cell_type": "code",
   "execution_count": 17,
   "id": "sustainable-helmet",
   "metadata": {},
   "outputs": [
    {
     "output_type": "execute_result",
     "data": {
      "text/plain": [
       "0"
      ],
      "text/latex": "\\begin{equation}0\\end{equation}"
     },
     "metadata": {},
     "execution_count": 17
    }
   ],
   "source": [
    "s=s_polynomial(x**3-2*x*y, -2*x*y)\n",
    "r = remainder_set_division(s, F)\n",
    "r\n"
   ]
  },
  {
   "source": [
    "This remainder is 0, hence this pair of functions belongs to the Gröbner Basis"
   ],
   "cell_type": "markdown",
   "metadata": {}
  },
  {
   "source": [
    "Next compare $f_2$ with $f_3$"
   ],
   "cell_type": "markdown",
   "metadata": {}
  },
  {
   "cell_type": "code",
   "execution_count": 18,
   "metadata": {},
   "outputs": [
    {
     "output_type": "stream",
     "name": "stdout",
     "text": [
      "The s polynomial is:\n"
     ]
    },
    {
     "output_type": "display_data",
     "data": {
      "text/plain": "       2\nx - 2⋅y ",
      "text/latex": "\\begin{equation}x - 2 y^{2}\\end{equation}"
     },
     "metadata": {}
    },
    {
     "output_type": "stream",
     "name": "stdout",
     "text": [
      "The remainder is:\n"
     ]
    },
    {
     "output_type": "display_data",
     "data": {
      "text/plain": "       2\nx - 2⋅y ",
      "text/latex": "\\begin{equation}x - 2 y^{2}\\end{equation}"
     },
     "metadata": {}
    },
    {
     "output_type": "stream",
     "name": "stdout",
     "text": [
      "Add the remainder back in to F\n"
     ]
    }
   ],
   "source": [
    "# Calculate the S-Polynomial\n",
    "s = s_polynomial(F[1], F[2])\n",
    "print(\"The s polynomial is:\")\n",
    "display(s)\n",
    "# calculate the remainder\n",
    "r = remainder_set_division(s, F)    \n",
    "print(\"The remainder is:\")\n",
    "display(r)\n",
    "\n",
    "# Add the remainder back to F\n",
    "if r!=0:\n",
    "    print(\"Add the remainder back in to F\")\n",
    "    F.append(r)\n"
   ]
  },
  {
   "source": [
    "Next compare $f_2$ to $f_4$"
   ],
   "cell_type": "markdown",
   "metadata": {}
  },
  {
   "cell_type": "code",
   "execution_count": 19,
   "metadata": {},
   "outputs": [
    {
     "output_type": "stream",
     "name": "stdout",
     "text": [
      "The s polynomial is:\n"
     ]
    },
    {
     "output_type": "display_data",
     "data": {
      "text/plain": "       2\nx - 2⋅y ",
      "text/latex": "\\begin{equation}x - 2 y^{2}\\end{equation}"
     },
     "metadata": {}
    },
    {
     "output_type": "stream",
     "name": "stdout",
     "text": [
      "The remainder is:\n"
     ]
    },
    {
     "output_type": "display_data",
     "data": {
      "text/plain": "0",
      "text/latex": "\\begin{equation}0\\end{equation}"
     },
     "metadata": {}
    }
   ],
   "source": [
    "# Calculate the S-Polynomial\n",
    "s = s_polynomial(F[1], F[2])\n",
    "print(\"The s polynomial is:\")\n",
    "display(s)\n",
    "# calculate the remainder\n",
    "r = remainder_set_division(s, F)    \n",
    "print(\"The remainder is:\")\n",
    "display(r)\n",
    "\n",
    "# Add the remainder back to F\n",
    "if r!=0:\n",
    "    print(\"Add the remainder back in to F\")\n",
    "    F.append(r)\n"
   ]
  },
  {
   "source": [
    "The rest of the combinations all come out as zero and the Grober basis of this system (with respect to lexicographic monomial ordering) is:"
   ],
   "cell_type": "markdown",
   "metadata": {}
  },
  {
   "cell_type": "code",
   "execution_count": 20,
   "metadata": {},
   "outputs": [
    {
     "output_type": "display_data",
     "data": {
      "text/plain": " 3        \nx  - 2⋅x⋅y",
      "text/latex": "\\begin{equation}x^{3} - 2 x y\\end{equation}"
     },
     "metadata": {}
    },
    {
     "output_type": "display_data",
     "data": {
      "text/plain": " 2            2\nx ⋅y + x - 2⋅y ",
      "text/latex": "\\begin{equation}x^{2} y + x - 2 y^{2}\\end{equation}"
     },
     "metadata": {}
    },
    {
     "output_type": "display_data",
     "data": {
      "text/plain": "  2\n-x ",
      "text/latex": "\\begin{equation}- x^{2}\\end{equation}"
     },
     "metadata": {}
    },
    {
     "output_type": "display_data",
     "data": {
      "text/plain": "-2⋅x⋅y",
      "text/latex": "\\begin{equation}- 2 x y\\end{equation}"
     },
     "metadata": {}
    },
    {
     "output_type": "display_data",
     "data": {
      "text/plain": "       2\nx - 2⋅y ",
      "text/latex": "\\begin{equation}x - 2 y^{2}\\end{equation}"
     },
     "metadata": {}
    }
   ],
   "source": [
    "for poly in F:\n",
    "    display(poly)"
   ]
  },
  {
   "cell_type": "markdown",
   "id": "indian-partner",
   "metadata": {},
   "source": [
    "### Automate the process"
   ]
  },
  {
   "cell_type": "code",
   "execution_count": 21,
   "id": "integrated-niagara",
   "metadata": {},
   "outputs": [
    {
     "output_type": "display_data",
     "data": {
      "text/plain": "⎡ 3           2            2    2⎤\n⎣x  - 2⋅x⋅y, x ⋅y + x - 2⋅y , -x ⎦",
      "text/latex": "\\begin{equation}\\left[ x^{3} - 2 x y, \\  x^{2} y + x - 2 y^{2}, \\  - x^{2}\\right]\\end{equation}"
     },
     "metadata": {}
    }
   ],
   "source": [
    "F_0 = [x**3 - 2*x*y, x**2*y + x - 2*y**2, -x**2]\n",
    "F = F_0.copy()\n",
    "display(F)\n"
   ]
  },
  {
   "cell_type": "markdown",
   "id": "fatal-survey",
   "metadata": {},
   "source": [
    "To return all possible pairs from a set of values in python, the itertools library can be used:"
   ]
  },
  {
   "cell_type": "code",
   "execution_count": 22,
   "id": "orange-bacteria",
   "metadata": {},
   "outputs": [],
   "source": [
    "# from itertools import tee\n",
    "\n",
    "\n",
    "\n",
    "# def pairwise(iterable): # NOTE https://docs.python.org/3/library/itertools.html\n",
    "#     \"s -> (s0,s1), (s1,s2), (s2, s3), ...\"\n",
    "#     # iterable_copy = iterable.copy()\n",
    "#     # iterable_copy.append(iterable[0]) # I have to add this on to make it work, it's not elegant but :shrug:\n",
    "#     a, b = tee(iterable)\n",
    "#     next(b, None)\n",
    "#     return list(zip(a, b))\n",
    "\n",
    "\n",
    "# list_of_vals = [1, 2, 3, 5, 7, 11, 13, 17, 19]\n",
    "# for pair in pairwise(F):\n",
    "#     display(pair)"
   ]
  },
  {
   "cell_type": "code",
   "execution_count": 23,
   "metadata": {},
   "outputs": [
    {
     "output_type": "execute_result",
     "data": {
      "text/plain": [
       "⎡⎧ 3           2            2⎫  ⎧  2   3        ⎫  ⎧  2   2            2⎫⎤\n",
       "⎢⎨x  - 2⋅x⋅y, x ⋅y + x - 2⋅y ⎬, ⎨-x , x  - 2⋅x⋅y⎬, ⎨-x , x ⋅y + x - 2⋅y ⎬⎥\n",
       "⎣⎩                           ⎭  ⎩               ⎭  ⎩                    ⎭⎦"
      ],
      "text/latex": "\\begin{equation}\\left[ \\left\\{x^{3} - 2 x y, x^{2} y + x - 2 y^{2}\\right\\}, \\  \\left\\{- x^{2}, x^{3} - 2 x y\\right\\}, \\  \\left\\{- x^{2}, x^{2} y + x - 2 y^{2}\\right\\}\\right]\\end{equation}"
     },
     "metadata": {},
     "execution_count": 23
    }
   ],
   "source": [
    "import itertools\n",
    "def pairwise(F):\n",
    "    # All possible pairs\n",
    "    pairs = list(itertools.combinations(F, 2))\n",
    "    # Make pairs sets so order doesn't matter (e.g. {f,g} == {g,f})\n",
    "    pairs = [set(pair) for pair in pairs]\n",
    "    return pairs\n",
    "\n",
    "def list_intersection(u, v):\n",
    "    return [i for i in u if i in v]\n",
    "    \n",
    "def list_complement(u,v):\n",
    "    return [i for i in u if i not in v]\n",
    "\n",
    "\n",
    "pairwise(F)"
   ]
  },
  {
   "cell_type": "code",
   "execution_count": 24,
   "metadata": {},
   "outputs": [],
   "source": [
    "def list_intersection(u, v):\n",
    "    return [i for i in u if i in v]\n",
    "def list_complement(u,v):\n",
    "    return [i for i in u if i not in v]\n",
    "\n"
   ]
  },
  {
   "cell_type": "code",
   "execution_count": 25,
   "metadata": {},
   "outputs": [],
   "source": []
  },
  {
   "cell_type": "code",
   "execution_count": 27,
   "metadata": {},
   "outputs": [
    {
     "output_type": "display_data",
     "data": {
      "text/plain": "[{0, 1}, set(), {0, 3}, {0, 4}, {0, 5}, {1, 2}, {1, 3}, {1, 4}, {1, 5}, {2, 3}\n, {2, 4}, {2, 5}, {3, 4}, {3, 5}, {4, 5}]",
      "text/latex": "\\begin{equation}\\left[ \\left\\{0, 1\\right\\}, \\  \\left\\{\\right\\}, \\  \\left\\{0, 3\\right\\}, \\  \\left\\{0, 4\\right\\}, \\  \\left\\{0, 5\\right\\}, \\  \\left\\{1, 2\\right\\}, \\  \\left\\{1, 3\\right\\}, \\  \\left\\{1, 4\\right\\}, \\  \\left\\{1, 5\\right\\}, \\  \\left\\{2, 3\\right\\}, \\  \\left\\{2, 4\\right\\}, \\  \\left\\{2, 5\\right\\}, \\  \\left\\{3, 4\\right\\}, \\  \\left\\{3, 5\\right\\}, \\  \\left\\{4, 5\\right\\}\\right]\\end{equation}"
     },
     "metadata": {}
    },
    {
     "output_type": "display_data",
     "data": {
      "text/plain": "set()",
      "text/latex": "\\begin{equation}\\left\\{\\right\\}\\end{equation}"
     },
     "metadata": {}
    },
    {
     "output_type": "display_data",
     "data": {
      "text/plain": "0",
      "text/latex": "\\begin{equation}0\\end{equation}"
     },
     "metadata": {}
    },
    {
     "output_type": "display_data",
     "data": {
      "text/plain": "2",
      "text/latex": "\\begin{equation}2\\end{equation}"
     },
     "metadata": {}
    }
   ],
   "source": [
    "all=pairwise(range(6))\n",
    "a = all[1]\n",
    "display(\n",
    "    all,\n",
    "a,\n",
    "a.pop(),\n",
    "a.pop()\n",
    ")"
   ]
  },
  {
   "cell_type": "code",
   "execution_count": 36,
   "metadata": {},
   "outputs": [],
   "source": [
    "F_0 = [x**3-2*x*y, x**2*y-2*y**2 + x]\n",
    "F = F_0.copy()\n",
    "pairs = pairwise(F)"
   ]
  },
  {
   "cell_type": "code",
   "execution_count": 37,
   "metadata": {},
   "outputs": [
    {
     "output_type": "stream",
     "name": "stdout",
     "text": [
      "Input Polynomials are:\n"
     ]
    },
    {
     "output_type": "display_data",
     "data": {
      "text/plain": " 2            2\nx ⋅y + x - 2⋅y ",
      "text/latex": "\\begin{equation}x^{2} y + x - 2 y^{2}\\end{equation}"
     },
     "metadata": {}
    },
    {
     "output_type": "display_data",
     "data": {
      "text/plain": " 3        \nx  - 2⋅x⋅y",
      "text/latex": "\\begin{equation}x^{3} - 2 x y\\end{equation}"
     },
     "metadata": {}
    },
    {
     "output_type": "stream",
     "name": "stdout",
     "text": [
      "The S-Polynomial is:\n"
     ]
    },
    {
     "output_type": "display_data",
     "data": {
      "text/plain": " 2\nx ",
      "text/latex": "\\begin{equation}x^{2}\\end{equation}"
     },
     "metadata": {}
    },
    {
     "output_type": "stream",
     "name": "stdout",
     "text": [
      "The remainder is appended back to F:\n"
     ]
    },
    {
     "output_type": "display_data",
     "data": {
      "text/plain": " 2\nx ",
      "text/latex": "\\begin{equation}x^{2}\\end{equation}"
     },
     "metadata": {}
    },
    {
     "output_type": "stream",
     "name": "stdout",
     "text": [
      "\n---\n\nInput Polynomials are:\n"
     ]
    },
    {
     "output_type": "display_data",
     "data": {
      "text/plain": " 2            2\nx ⋅y + x - 2⋅y ",
      "text/latex": "\\begin{equation}x^{2} y + x - 2 y^{2}\\end{equation}"
     },
     "metadata": {}
    },
    {
     "output_type": "display_data",
     "data": {
      "text/plain": " 2\nx ",
      "text/latex": "\\begin{equation}x^{2}\\end{equation}"
     },
     "metadata": {}
    },
    {
     "output_type": "stream",
     "name": "stdout",
     "text": [
      "The S-Polynomial is:\n"
     ]
    },
    {
     "output_type": "display_data",
     "data": {
      "text/plain": "       2\nx - 2⋅y ",
      "text/latex": "\\begin{equation}x - 2 y^{2}\\end{equation}"
     },
     "metadata": {}
    },
    {
     "output_type": "stream",
     "name": "stdout",
     "text": [
      "The remainder is appended back to F:\n"
     ]
    },
    {
     "output_type": "display_data",
     "data": {
      "text/plain": "       2\nx - 2⋅y ",
      "text/latex": "\\begin{equation}x - 2 y^{2}\\end{equation}"
     },
     "metadata": {}
    },
    {
     "output_type": "stream",
     "name": "stdout",
     "text": [
      "\n---\n\nInput Polynomials are:\n"
     ]
    },
    {
     "output_type": "display_data",
     "data": {
      "text/plain": " 2\nx ",
      "text/latex": "\\begin{equation}x^{2}\\end{equation}"
     },
     "metadata": {}
    },
    {
     "output_type": "display_data",
     "data": {
      "text/plain": "       2\nx - 2⋅y ",
      "text/latex": "\\begin{equation}x - 2 y^{2}\\end{equation}"
     },
     "metadata": {}
    },
    {
     "output_type": "stream",
     "name": "stdout",
     "text": [
      "The S-Polynomial is:\n"
     ]
    },
    {
     "output_type": "display_data",
     "data": {
      "text/plain": "     2\n2⋅x⋅y ",
      "text/latex": "\\begin{equation}2 x y^{2}\\end{equation}"
     },
     "metadata": {}
    },
    {
     "output_type": "stream",
     "name": "stdout",
     "text": [
      "The remainder is appended back to F:\n"
     ]
    },
    {
     "output_type": "display_data",
     "data": {
      "text/plain": "     2     \n3⋅x⋅y     4\n────── + y \n  2        ",
      "text/latex": "\\begin{equation}\\frac{3 x y^{2}}{2} + y^{4}\\end{equation}"
     },
     "metadata": {}
    },
    {
     "output_type": "stream",
     "name": "stdout",
     "text": [
      "\n---\n\nInput Polynomials are:\n"
     ]
    },
    {
     "output_type": "display_data",
     "data": {
      "text/plain": "     2     \n3⋅x⋅y     4\n────── + y \n  2        ",
      "text/latex": "\\begin{equation}\\frac{3 x y^{2}}{2} + y^{4}\\end{equation}"
     },
     "metadata": {}
    },
    {
     "output_type": "display_data",
     "data": {
      "text/plain": "       2\nx - 2⋅y ",
      "text/latex": "\\begin{equation}x - 2 y^{2}\\end{equation}"
     },
     "metadata": {}
    },
    {
     "output_type": "stream",
     "name": "stdout",
     "text": [
      "The S-Polynomial is:\n"
     ]
    },
    {
     "output_type": "display_data",
     "data": {
      "text/plain": "   4\n8⋅y \n────\n 3  ",
      "text/latex": "\\begin{equation}\\frac{8 y^{4}}{3}\\end{equation}"
     },
     "metadata": {}
    },
    {
     "output_type": "stream",
     "name": "stdout",
     "text": [
      "The remainder is appended back to F:\n"
     ]
    },
    {
     "output_type": "display_data",
     "data": {
      "text/plain": "   4\n8⋅y \n────\n 3  ",
      "text/latex": "\\begin{equation}\\frac{8 y^{4}}{3}\\end{equation}"
     },
     "metadata": {}
    },
    {
     "output_type": "stream",
     "name": "stdout",
     "text": [
      "\n---\n\nInput Polynomials are:\n"
     ]
    },
    {
     "output_type": "display_data",
     "data": {
      "text/plain": "     2     \n3⋅x⋅y     4\n────── + y \n  2        ",
      "text/latex": "\\begin{equation}\\frac{3 x y^{2}}{2} + y^{4}\\end{equation}"
     },
     "metadata": {}
    },
    {
     "output_type": "display_data",
     "data": {
      "text/plain": "   4\n8⋅y \n────\n 3  ",
      "text/latex": "\\begin{equation}\\frac{8 y^{4}}{3}\\end{equation}"
     },
     "metadata": {}
    },
    {
     "output_type": "stream",
     "name": "stdout",
     "text": [
      "The S-Polynomial is:\n"
     ]
    },
    {
     "output_type": "display_data",
     "data": {
      "text/plain": "   6\n2⋅y \n────\n 3  ",
      "text/latex": "\\begin{equation}\\frac{2 y^{6}}{3}\\end{equation}"
     },
     "metadata": {}
    },
    {
     "output_type": "stream",
     "name": "stdout",
     "text": [
      "Remainder is 0, this pair belongs to Groebner Basis\n\n---\n\nInput Polynomials are:\n"
     ]
    },
    {
     "output_type": "display_data",
     "data": {
      "text/plain": "       2\nx - 2⋅y ",
      "text/latex": "\\begin{equation}x - 2 y^{2}\\end{equation}"
     },
     "metadata": {}
    },
    {
     "output_type": "display_data",
     "data": {
      "text/plain": "   4\n8⋅y \n────\n 3  ",
      "text/latex": "\\begin{equation}\\frac{8 y^{4}}{3}\\end{equation}"
     },
     "metadata": {}
    },
    {
     "output_type": "stream",
     "name": "stdout",
     "text": [
      "The S-Polynomial is:\n"
     ]
    },
    {
     "output_type": "display_data",
     "data": {
      "text/plain": "    6\n-2⋅y ",
      "text/latex": "\\begin{equation}- 2 y^{6}\\end{equation}"
     },
     "metadata": {}
    },
    {
     "output_type": "stream",
     "name": "stdout",
     "text": [
      "Remainder is 0, this pair belongs to Groebner Basis\n\n---\n\nInput Polynomials are:\n"
     ]
    },
    {
     "output_type": "display_data",
     "data": {
      "text/plain": "     2     \n3⋅x⋅y     4\n────── + y \n  2        ",
      "text/latex": "\\begin{equation}\\frac{3 x y^{2}}{2} + y^{4}\\end{equation}"
     },
     "metadata": {}
    },
    {
     "output_type": "display_data",
     "data": {
      "text/plain": "       2\nx - 2⋅y ",
      "text/latex": "\\begin{equation}x - 2 y^{2}\\end{equation}"
     },
     "metadata": {}
    },
    {
     "output_type": "stream",
     "name": "stdout",
     "text": [
      "The S-Polynomial is:\n"
     ]
    },
    {
     "output_type": "display_data",
     "data": {
      "text/plain": "   4\n8⋅y \n────\n 3  ",
      "text/latex": "\\begin{equation}\\frac{8 y^{4}}{3}\\end{equation}"
     },
     "metadata": {}
    },
    {
     "output_type": "stream",
     "name": "stdout",
     "text": [
      "Remainder is 0, this pair belongs to Groebner Basis\n\n---\n\nInput Polynomials are:\n"
     ]
    },
    {
     "output_type": "display_data",
     "data": {
      "text/plain": " 2\nx ",
      "text/latex": "\\begin{equation}x^{2}\\end{equation}"
     },
     "metadata": {}
    },
    {
     "output_type": "display_data",
     "data": {
      "text/plain": "   4\n8⋅y \n────\n 3  ",
      "text/latex": "\\begin{equation}\\frac{8 y^{4}}{3}\\end{equation}"
     },
     "metadata": {}
    },
    {
     "output_type": "stream",
     "name": "stdout",
     "text": [
      "The S-Polynomial is:\n"
     ]
    },
    {
     "output_type": "display_data",
     "data": {
      "text/plain": "0",
      "text/latex": "\\begin{equation}0\\end{equation}"
     },
     "metadata": {}
    },
    {
     "output_type": "stream",
     "name": "stdout",
     "text": [
      "Remainder is 0, this pair belongs to Groebner Basis\n\n---\n\nInput Polynomials are:\n"
     ]
    },
    {
     "output_type": "display_data",
     "data": {
      "text/plain": " 2\nx ",
      "text/latex": "\\begin{equation}x^{2}\\end{equation}"
     },
     "metadata": {}
    },
    {
     "output_type": "display_data",
     "data": {
      "text/plain": "     2     \n3⋅x⋅y     4\n────── + y \n  2        ",
      "text/latex": "\\begin{equation}\\frac{3 x y^{2}}{2} + y^{4}\\end{equation}"
     },
     "metadata": {}
    },
    {
     "output_type": "stream",
     "name": "stdout",
     "text": [
      "The S-Polynomial is:\n"
     ]
    },
    {
     "output_type": "display_data",
     "data": {
      "text/plain": "      4 \n-2⋅x⋅y  \n────────\n   3    ",
      "text/latex": "\\begin{equation}- \\frac{2 x y^{4}}{3}\\end{equation}"
     },
     "metadata": {}
    },
    {
     "output_type": "stream",
     "name": "stdout",
     "text": [
      "Remainder is 0, this pair belongs to Groebner Basis\n\n---\n\nInput Polynomials are:\n"
     ]
    },
    {
     "output_type": "display_data",
     "data": {
      "text/plain": " 2\nx ",
      "text/latex": "\\begin{equation}x^{2}\\end{equation}"
     },
     "metadata": {}
    },
    {
     "output_type": "display_data",
     "data": {
      "text/plain": "       2\nx - 2⋅y ",
      "text/latex": "\\begin{equation}x - 2 y^{2}\\end{equation}"
     },
     "metadata": {}
    },
    {
     "output_type": "stream",
     "name": "stdout",
     "text": [
      "The S-Polynomial is:\n"
     ]
    },
    {
     "output_type": "display_data",
     "data": {
      "text/plain": "     2\n2⋅x⋅y ",
      "text/latex": "\\begin{equation}2 x y^{2}\\end{equation}"
     },
     "metadata": {}
    },
    {
     "output_type": "stream",
     "name": "stdout",
     "text": [
      "The remainder is appended back to F:\n"
     ]
    },
    {
     "output_type": "display_data",
     "data": {
      "text/plain": "     2      4\n4⋅x⋅y    4⋅y \n────── + ────\n  3       9  ",
      "text/latex": "\\begin{equation}\\frac{4 x y^{2}}{3} + \\frac{4 y^{4}}{9}\\end{equation}"
     },
     "metadata": {}
    },
    {
     "output_type": "stream",
     "name": "stdout",
     "text": [
      "\n---\n\nInput Polynomials are:\n"
     ]
    },
    {
     "output_type": "display_data",
     "data": {
      "text/plain": "     2      4\n4⋅x⋅y    4⋅y \n────── + ────\n  3       9  ",
      "text/latex": "\\begin{equation}\\frac{4 x y^{2}}{3} + \\frac{4 y^{4}}{9}\\end{equation}"
     },
     "metadata": {}
    },
    {
     "output_type": "display_data",
     "data": {
      "text/plain": "   4\n8⋅y \n────\n 3  ",
      "text/latex": "\\begin{equation}\\frac{8 y^{4}}{3}\\end{equation}"
     },
     "metadata": {}
    },
    {
     "output_type": "stream",
     "name": "stdout",
     "text": [
      "The S-Polynomial is:\n"
     ]
    },
    {
     "output_type": "display_data",
     "data": {
      "text/plain": " 6\ny \n──\n3 ",
      "text/latex": "\\begin{equation}\\frac{y^{6}}{3}\\end{equation}"
     },
     "metadata": {}
    },
    {
     "output_type": "stream",
     "name": "stdout",
     "text": [
      "Remainder is 0, this pair belongs to Groebner Basis\n\n---\n---\n\nAlgorithm Completed! The Groebner Basis is:\n"
     ]
    },
    {
     "output_type": "display_data",
     "data": {
      "text/plain": " 3        \nx  - 2⋅x⋅y",
      "text/latex": "\\begin{equation}x^{3} - 2 x y\\end{equation}"
     },
     "metadata": {}
    },
    {
     "output_type": "display_data",
     "data": {
      "text/plain": " 2            2\nx ⋅y + x - 2⋅y ",
      "text/latex": "\\begin{equation}x^{2} y + x - 2 y^{2}\\end{equation}"
     },
     "metadata": {}
    },
    {
     "output_type": "display_data",
     "data": {
      "text/plain": " 2\nx ",
      "text/latex": "\\begin{equation}x^{2}\\end{equation}"
     },
     "metadata": {}
    },
    {
     "output_type": "display_data",
     "data": {
      "text/plain": "       2\nx - 2⋅y ",
      "text/latex": "\\begin{equation}x - 2 y^{2}\\end{equation}"
     },
     "metadata": {}
    },
    {
     "output_type": "display_data",
     "data": {
      "text/plain": "     2     \n3⋅x⋅y     4\n────── + y \n  2        ",
      "text/latex": "\\begin{equation}\\frac{3 x y^{2}}{2} + y^{4}\\end{equation}"
     },
     "metadata": {}
    },
    {
     "output_type": "display_data",
     "data": {
      "text/plain": "   4\n8⋅y \n────\n 3  ",
      "text/latex": "\\begin{equation}\\frac{8 y^{4}}{3}\\end{equation}"
     },
     "metadata": {}
    },
    {
     "output_type": "display_data",
     "data": {
      "text/plain": "     2      4\n4⋅x⋅y    4⋅y \n────── + ────\n  3       9  ",
      "text/latex": "\\begin{equation}\\frac{4 x y^{2}}{3} + \\frac{4 y^{4}}{9}\\end{equation}"
     },
     "metadata": {}
    }
   ],
   "source": [
    "count = 0\n",
    "limit = 10\n",
    "# For every pair of polynomials in F\n",
    "while len(pairs) > 0:\n",
    "    # Just use the first pair, we'll drop it later\n",
    "    print(len(pairs))\n",
    "    pair = pairs.pop()\n",
    "\n",
    "    # Print the pairs that are being used\n",
    "    print(\"Input Polynomials are:\")\n",
    "    f = pair.pop()\n",
    "    g = pair.pop()\n",
    "    display(f, g)\n",
    "\n",
    "    # Calculate the S Polynomial\n",
    "    s = s_polynomial(f, g)\n",
    "    print(\"The S-Polynomial is:\")\n",
    "    display(s)\n",
    "\n",
    "    # Calculate the overall remainder\n",
    "    r = remainder_set_division(s, F)\n",
    "    \n",
    "    if r != 0: \n",
    "        print(\"The remainder is appended back to F:\")\n",
    "        display(r)\n",
    "        F.append(r)\n",
    "        pairs_done.append(pair)\n",
    "        pairs = list_complement(pairwise(F), pairs_done)\n",
    "    else:\n",
    "        print(\"Remainder is 0, this pair belongs to Groebner Basis\")\n",
    "    \n",
    "    count += 1\n",
    "    if count > limit:\n",
    "        break\n",
    "\n",
    "    print(\"\\n---\\n\")\n",
    "print(\"\\n---\\n---\\n\")\n",
    "# Print F, which should now be a Groebner Basis\n",
    "print(\"Algorithm Completed! The Groebner Basis is:\")\n",
    "for poly in F:\n",
    "    display(poly)"
   ]
  },
  {
   "cell_type": "code",
   "execution_count": 44,
   "metadata": {},
   "outputs": [
    {
     "output_type": "stream",
     "name": "stdout",
     "text": [
      "(1, 2)\n(2, 3)\n(3, 5)\n(5, 7)\n(7, 11)\n(11, 13)\n(13, 17)\n(17, 19)\n"
     ]
    }
   ],
   "source": [
    "from itertools import tee\n",
    "\n",
    "\n",
    "def pairwise(iterable): # NOTE https://docs.python.org/3/library/itertools.html\n",
    "    \"s -> (s0,s1), (s1,s2), (s2, s3), ...\"\n",
    "    a, b = tee(iterable)\n",
    "    next(b, None)\n",
    "    return zip(a, b)\n",
    "\n",
    "list_of_vals = [1, 2, 3, 5, 7, 11, 13, 17, 19]\n",
    "for pair in pairwise(list_of_vals):\n",
    "    print(pair)"
   ]
  },
  {
   "cell_type": "code",
   "execution_count": null,
   "metadata": {},
   "outputs": [],
   "source": []
  },
  {
   "cell_type": "code",
   "execution_count": 29,
   "metadata": {},
   "outputs": [
    {
     "output_type": "stream",
     "name": "stdout",
     "text": [
      "Input Polynomials are:\n"
     ]
    },
    {
     "output_type": "display_data",
     "data": {
      "text/plain": " 3        \nx  - 2⋅x⋅y",
      "text/latex": "\\begin{equation}x^{3} - 2 x y\\end{equation}"
     },
     "metadata": {}
    },
    {
     "output_type": "display_data",
     "data": {
      "text/plain": " 2            2\nx ⋅y + x - 2⋅y ",
      "text/latex": "\\begin{equation}x^{2} y + x - 2 y^{2}\\end{equation}"
     },
     "metadata": {}
    },
    {
     "output_type": "stream",
     "name": "stdout",
     "text": [
      "The S-Polynomial is:\n"
     ]
    },
    {
     "output_type": "display_data",
     "data": {
      "text/plain": "  2\n-x ",
      "text/latex": "\\begin{equation}- x^{2}\\end{equation}"
     },
     "metadata": {}
    },
    {
     "output_type": "stream",
     "name": "stdout",
     "text": [
      "The remainder is appended back to F:\n"
     ]
    },
    {
     "output_type": "display_data",
     "data": {
      "text/plain": "  2\n-x ",
      "text/latex": "\\begin{equation}- x^{2}\\end{equation}"
     },
     "metadata": {}
    },
    {
     "output_type": "stream",
     "name": "stdout",
     "text": [
      "\n---\n\nInput Polynomials are:\n"
     ]
    },
    {
     "output_type": "display_data",
     "data": {
      "text/plain": " 2            2\nx ⋅y + x - 2⋅y ",
      "text/latex": "\\begin{equation}x^{2} y + x - 2 y^{2}\\end{equation}"
     },
     "metadata": {}
    },
    {
     "output_type": "display_data",
     "data": {
      "text/plain": " 3        \nx  - 2⋅x⋅y",
      "text/latex": "\\begin{equation}x^{3} - 2 x y\\end{equation}"
     },
     "metadata": {}
    },
    {
     "output_type": "stream",
     "name": "stdout",
     "text": [
      "The S-Polynomial is:\n"
     ]
    },
    {
     "output_type": "display_data",
     "data": {
      "text/plain": " 2\nx ",
      "text/latex": "\\begin{equation}x^{2}\\end{equation}"
     },
     "metadata": {}
    },
    {
     "output_type": "stream",
     "name": "stdout",
     "text": [
      "Remainder is 0, this pair belongs to Groebner Basis\n\n---\n\n\n---\n---\n\nAlgorithm Completed! The Groebner Basis is:\n"
     ]
    },
    {
     "output_type": "display_data",
     "data": {
      "text/plain": " 3        \nx  - 2⋅x⋅y",
      "text/latex": "\\begin{equation}x^{3} - 2 x y\\end{equation}"
     },
     "metadata": {}
    },
    {
     "output_type": "display_data",
     "data": {
      "text/plain": " 2            2\nx ⋅y + x - 2⋅y ",
      "text/latex": "\\begin{equation}x^{2} y + x - 2 y^{2}\\end{equation}"
     },
     "metadata": {}
    },
    {
     "output_type": "display_data",
     "data": {
      "text/plain": "  2\n-x ",
      "text/latex": "\\begin{equation}- x^{2}\\end{equation}"
     },
     "metadata": {}
    }
   ],
   "source": [
    "# For every pair of polynomials in F\n",
    "for pair in pairwise(F):\n",
    "    # Print the pairs that are being used\n",
    "    print(\"Input Polynomials are:\")\n",
    "    display(pair[0])\n",
    "    display(pair[1])\n",
    "\n",
    "    # Calculate the S Polynomial\n",
    "    s = s_polynomial(pair[0], pair[1])\n",
    "    print(\"The S-Polynomial is:\")\n",
    "    display(s)\n",
    "\n",
    "    r = remainder_set_division(s, F)\n",
    "    # # Calculate all the remainders\n",
    "    # r_list = [ div(s, F[i])[1] for i in range(len(F)) ]\n",
    "\n",
    "    # # Add the final remainder\n",
    "    # r = sum(r_list)/len(r_list)\n",
    "\n",
    "    # If necessary add it back in\n",
    "    if r != 0: \n",
    "        print(\"The remainder is appended back to F:\")\n",
    "        display(r)\n",
    "        F.append(r)\n",
    "    else:\n",
    "        print(\"Remainder is 0, this pair belongs to Groebner Basis\")\n",
    "\n",
    "    print(\"\\n---\\n\")\n",
    "print(\"\\n---\\n---\\n\")\n",
    "# Print F, which should now be a Groebner Basis\n",
    "print(\"Algorithm Completed! The Groebner Basis is:\")\n",
    "for poly in F:\n",
    "    display(poly)"
   ]
  },
  {
   "cell_type": "code",
   "execution_count": 30,
   "metadata": {},
   "outputs": [
    {
     "output_type": "execute_result",
     "data": {
      "text/plain": [
       "⎡ 3           2            2⎤\n",
       "⎣x  - 2⋅x⋅y, x ⋅y + x - 2⋅y ⎦"
      ],
      "text/latex": "\\begin{equation}\\left[ x^{3} - 2 x y, \\  x^{2} y + x - 2 y^{2}\\right]\\end{equation}"
     },
     "metadata": {},
     "execution_count": 30
    }
   ],
   "source": [
    "F_0"
   ]
  },
  {
   "cell_type": "code",
   "execution_count": 31,
   "metadata": {},
   "outputs": [
    {
     "output_type": "stream",
     "name": "stdout",
     "text": [
      "(x**3 - 2*x*y, x**2*y + x - 2*y**2)\n(x**2*y + x - 2*y**2, x**3 - 2*x*y)\n"
     ]
    }
   ],
   "source": [
    "for pair in pairwise(F):\n",
    "    print(pair)"
   ]
  },
  {
   "cell_type": "code",
   "execution_count": 78,
   "metadata": {},
   "outputs": [
    {
     "output_type": "execute_result",
     "data": {
      "text/plain": [
       "[]"
      ],
      "text/latex": "\\begin{equation}\\left[ \\right]\\end{equation}"
     },
     "metadata": {},
     "execution_count": 78
    }
   ],
   "source": []
  },
  {
   "cell_type": "code",
   "execution_count": null,
   "metadata": {},
   "outputs": [],
   "source": []
  },
  {
   "cell_type": "code",
   "execution_count": 32,
   "metadata": {},
   "outputs": [
    {
     "output_type": "stream",
     "name": "stdout",
     "text": [
      "1\n2\n3\n"
     ]
    }
   ],
   "source": [
    "p = [1, 2, 3]\n",
    "pd = [1]\n",
    "for x in p:\n",
    "    p = [1, 2, 3, 4]\n",
    "    print(x)"
   ]
  },
  {
   "cell_type": "code",
   "execution_count": 33,
   "metadata": {},
   "outputs": [
    {
     "output_type": "error",
     "ename": "SyntaxError",
     "evalue": "invalid syntax (<ipython-input-33-b4afb2b386df>, line 1)",
     "traceback": [
      "\u001b[0;36m  File \u001b[0;32m\"<ipython-input-33-b4afb2b386df>\"\u001b[0;36m, line \u001b[0;32m1\u001b[0m\n\u001b[0;31m    [i for i in p and not in pd]\u001b[0m\n\u001b[0m                          ^\u001b[0m\n\u001b[0;31mSyntaxError\u001b[0m\u001b[0;31m:\u001b[0m invalid syntax\n"
     ]
    }
   ],
   "source": [
    "[i for i in p and not in pd]"
   ]
  },
  {
   "cell_type": "code",
   "execution_count": null,
   "metadata": {},
   "outputs": [],
   "source": []
  },
  {
   "cell_type": "code",
   "execution_count": 44,
   "metadata": {},
   "outputs": [
    {
     "output_type": "display_data",
     "data": {
      "text/plain": "⎛ 3           2            2⎞\n⎝x  - 2⋅x⋅y, x ⋅y + x - 2⋅y ⎠",
      "text/latex": "\\begin{equation}\\left( x^{3} - 2 x y, \\  x^{2} y + x - 2 y^{2}\\right)\\end{equation}"
     },
     "metadata": {}
    },
    {
     "output_type": "display_data",
     "data": {
      "text/plain": "⎛ 2            2   3        ⎞\n⎝x ⋅y + x - 2⋅y , x  - 2⋅x⋅y⎠",
      "text/latex": "\\begin{equation}\\left( x^{2} y + x - 2 y^{2}, \\  x^{3} - 2 x y\\right)\\end{equation}"
     },
     "metadata": {}
    }
   ],
   "source": [
    "from itertools import tee\n",
    "\n",
    "\n",
    "\n",
    "def pairwise(iterable): # NOTE https://docs.python.org/3/library/itertools.html\n",
    "    \"s -> (s0,s1), (s1,s2), (s2, s3), ...\"\n",
    "    iterable_copy = iterable.copy()\n",
    "    iterable_copy.append(iterable[0]) # I have to add this on to make it work, it's not elegant but :shrug:\n",
    "    a, b = tee(iterable_copy)\n",
    "    next(b, None)\n",
    "    return list(zip(a, b))\n",
    "\n",
    "\n",
    "list_of_vals = [1, 2, 3, 5, 7, 11, 13, 17, 19]\n",
    "for pair in pairwise(F):\n",
    "    display(pair)"
   ]
  },
  {
   "cell_type": "code",
   "execution_count": 48,
   "metadata": {},
   "outputs": [
    {
     "output_type": "execute_result",
     "data": {
      "text/plain": [
       "[(1, 2), (2, 3), (3, 1), 3]"
      ],
      "text/latex": "\\begin{equation}\\left[ \\left( 1, \\  2\\right), \\  \\left( 2, \\  3\\right), \\  \\left( 3, \\  1\\right), \\  3\\right]\\end{equation}"
     },
     "metadata": {},
     "execution_count": 48
    }
   ],
   "source": [
    "p = pairwise([1,2,3])\n",
    "p.append(3)\n",
    "p"
   ]
  },
  {
   "cell_type": "code",
   "execution_count": null,
   "metadata": {},
   "outputs": [],
   "source": []
  },
  {
   "cell_type": "code",
   "execution_count": 53,
   "id": "purple-sheep",
   "metadata": {},
   "outputs": [
    {
     "output_type": "stream",
     "name": "stdout",
     "text": [
      "Input Polynomials are:\n"
     ]
    },
    {
     "output_type": "display_data",
     "data": {
      "text/plain": "27 - 6⋅y",
      "text/latex": "\\begin{equation}27 - 6 y\\end{equation}"
     },
     "metadata": {}
    },
    {
     "output_type": "display_data",
     "data": {
      "text/plain": "     2          \n- 2⋅y  + 9⋅y + 3",
      "text/latex": "\\begin{equation}- 2 y^{2} + 9 y + 3\\end{equation}"
     },
     "metadata": {}
    },
    {
     "output_type": "stream",
     "name": "stdout",
     "text": [
      "The S-Polynomial is:\n"
     ]
    },
    {
     "output_type": "display_data",
     "data": {
      "text/plain": "3/2",
      "text/latex": "\\begin{equation}\\frac{3}{2}\\end{equation}"
     },
     "metadata": {}
    },
    {
     "output_type": "stream",
     "name": "stdout",
     "text": [
      "The remainder is appended back to F:\n"
     ]
    },
    {
     "output_type": "display_data",
     "data": {
      "text/plain": "3/2",
      "text/latex": "\\begin{equation}\\frac{3}{2}\\end{equation}"
     },
     "metadata": {}
    },
    {
     "output_type": "stream",
     "name": "stdout",
     "text": [
      "\n---\n\nInput Polynomials are:\n"
     ]
    },
    {
     "output_type": "display_data",
     "data": {
      "text/plain": "     2          \n- 2⋅y  + 9⋅y + 3",
      "text/latex": "\\begin{equation}- 2 y^{2} + 9 y + 3\\end{equation}"
     },
     "metadata": {}
    },
    {
     "output_type": "display_data",
     "data": {
      "text/plain": "27 - 6⋅y",
      "text/latex": "\\begin{equation}27 - 6 y\\end{equation}"
     },
     "metadata": {}
    },
    {
     "output_type": "stream",
     "name": "stdout",
     "text": [
      "The S-Polynomial is:\n"
     ]
    },
    {
     "output_type": "display_data",
     "data": {
      "text/plain": "-3/2",
      "text/latex": "\\begin{equation}- \\frac{3}{2}\\end{equation}"
     },
     "metadata": {}
    },
    {
     "output_type": "error",
     "ename": "ComputationFailed",
     "evalue": "div(-3/2, 3/2) failed without generators",
     "traceback": [
      "\u001b[0;31m---------------------------------------------------------------------------\u001b[0m",
      "\u001b[0;31mPolificationFailed\u001b[0m                        Traceback (most recent call last)",
      "\u001b[0;32m/usr/lib/python3.9/site-packages/sympy/polys/polytools.py\u001b[0m in \u001b[0;36mdiv\u001b[0;34m(f, g, *gens, **args)\u001b[0m\n\u001b[1;32m   4813\u001b[0m     \u001b[0;32mtry\u001b[0m\u001b[0;34m:\u001b[0m\u001b[0;34m\u001b[0m\u001b[0;34m\u001b[0m\u001b[0m\n\u001b[0;32m-> 4814\u001b[0;31m         \u001b[0;34m(\u001b[0m\u001b[0mF\u001b[0m\u001b[0;34m,\u001b[0m \u001b[0mG\u001b[0m\u001b[0;34m)\u001b[0m\u001b[0;34m,\u001b[0m \u001b[0mopt\u001b[0m \u001b[0;34m=\u001b[0m \u001b[0mparallel_poly_from_expr\u001b[0m\u001b[0;34m(\u001b[0m\u001b[0;34m(\u001b[0m\u001b[0mf\u001b[0m\u001b[0;34m,\u001b[0m \u001b[0mg\u001b[0m\u001b[0;34m)\u001b[0m\u001b[0;34m,\u001b[0m \u001b[0;34m*\u001b[0m\u001b[0mgens\u001b[0m\u001b[0;34m,\u001b[0m \u001b[0;34m**\u001b[0m\u001b[0margs\u001b[0m\u001b[0;34m)\u001b[0m\u001b[0;34m\u001b[0m\u001b[0;34m\u001b[0m\u001b[0m\n\u001b[0m\u001b[1;32m   4815\u001b[0m     \u001b[0;32mexcept\u001b[0m \u001b[0mPolificationFailed\u001b[0m \u001b[0;32mas\u001b[0m \u001b[0mexc\u001b[0m\u001b[0;34m:\u001b[0m\u001b[0;34m\u001b[0m\u001b[0;34m\u001b[0m\u001b[0m\n",
      "\u001b[0;32m/usr/lib/python3.9/site-packages/sympy/polys/polytools.py\u001b[0m in \u001b[0;36mparallel_poly_from_expr\u001b[0;34m(exprs, *gens, **args)\u001b[0m\n\u001b[1;32m   4339\u001b[0m     \u001b[0mopt\u001b[0m \u001b[0;34m=\u001b[0m \u001b[0moptions\u001b[0m\u001b[0;34m.\u001b[0m\u001b[0mbuild_options\u001b[0m\u001b[0;34m(\u001b[0m\u001b[0mgens\u001b[0m\u001b[0;34m,\u001b[0m \u001b[0margs\u001b[0m\u001b[0;34m)\u001b[0m\u001b[0;34m\u001b[0m\u001b[0;34m\u001b[0m\u001b[0m\n\u001b[0;32m-> 4340\u001b[0;31m     \u001b[0;32mreturn\u001b[0m \u001b[0m_parallel_poly_from_expr\u001b[0m\u001b[0;34m(\u001b[0m\u001b[0mexprs\u001b[0m\u001b[0;34m,\u001b[0m \u001b[0mopt\u001b[0m\u001b[0;34m)\u001b[0m\u001b[0;34m\u001b[0m\u001b[0;34m\u001b[0m\u001b[0m\n\u001b[0m\u001b[1;32m   4341\u001b[0m \u001b[0;34m\u001b[0m\u001b[0m\n",
      "\u001b[0;32m/usr/lib/python3.9/site-packages/sympy/polys/polytools.py\u001b[0m in \u001b[0;36m_parallel_poly_from_expr\u001b[0;34m(exprs, opt)\u001b[0m\n\u001b[1;32m   4394\u001b[0m     \u001b[0;32mif\u001b[0m \u001b[0;32mnot\u001b[0m \u001b[0mopt\u001b[0m\u001b[0;34m.\u001b[0m\u001b[0mgens\u001b[0m\u001b[0;34m:\u001b[0m\u001b[0;34m\u001b[0m\u001b[0;34m\u001b[0m\u001b[0m\n\u001b[0;32m-> 4395\u001b[0;31m         \u001b[0;32mraise\u001b[0m \u001b[0mPolificationFailed\u001b[0m\u001b[0;34m(\u001b[0m\u001b[0mopt\u001b[0m\u001b[0;34m,\u001b[0m \u001b[0morigs\u001b[0m\u001b[0;34m,\u001b[0m \u001b[0mexprs\u001b[0m\u001b[0;34m,\u001b[0m \u001b[0;32mTrue\u001b[0m\u001b[0;34m)\u001b[0m\u001b[0;34m\u001b[0m\u001b[0;34m\u001b[0m\u001b[0m\n\u001b[0m\u001b[1;32m   4396\u001b[0m \u001b[0;34m\u001b[0m\u001b[0m\n",
      "\u001b[0;31mPolificationFailed\u001b[0m: can't construct polynomials from -3/2, 3/2",
      "\nDuring handling of the above exception, another exception occurred:\n",
      "\u001b[0;31mComputationFailed\u001b[0m                         Traceback (most recent call last)",
      "\u001b[0;32m<ipython-input-53-802c4a226af0>\u001b[0m in \u001b[0;36m<module>\u001b[0;34m\u001b[0m\n\u001b[1;32m     20\u001b[0m \u001b[0;34m\u001b[0m\u001b[0m\n\u001b[1;32m     21\u001b[0m     \u001b[0;31m# Calculate the Remainder\u001b[0m\u001b[0;34m\u001b[0m\u001b[0;34m\u001b[0m\u001b[0;34m\u001b[0m\u001b[0m\n\u001b[0;32m---> 22\u001b[0;31m     \u001b[0mr\u001b[0m \u001b[0;34m=\u001b[0m \u001b[0mremainder_set_division\u001b[0m\u001b[0;34m(\u001b[0m\u001b[0ms\u001b[0m\u001b[0;34m,\u001b[0m \u001b[0mF\u001b[0m\u001b[0;34m)\u001b[0m\u001b[0;34m\u001b[0m\u001b[0;34m\u001b[0m\u001b[0m\n\u001b[0m\u001b[1;32m     23\u001b[0m \u001b[0;34m\u001b[0m\u001b[0m\n\u001b[1;32m     24\u001b[0m     \u001b[0;31m# Remember that we already did this pair\u001b[0m\u001b[0;34m\u001b[0m\u001b[0;34m\u001b[0m\u001b[0;34m\u001b[0m\u001b[0m\n",
      "\u001b[0;32m<ipython-input-17-3eda5e9d12a1>\u001b[0m in \u001b[0;36mremainder_set_division\u001b[0;34m(s, F)\u001b[0m\n\u001b[1;32m     10\u001b[0m    \"\"\"    \n\u001b[1;32m     11\u001b[0m    \u001b[0;31m# Calculate all the remainders\u001b[0m\u001b[0;34m\u001b[0m\u001b[0;34m\u001b[0m\u001b[0;34m\u001b[0m\u001b[0m\n\u001b[0;32m---> 12\u001b[0;31m    \u001b[0mr_list\u001b[0m \u001b[0;34m=\u001b[0m \u001b[0;34m[\u001b[0m \u001b[0mdiv\u001b[0m\u001b[0;34m(\u001b[0m\u001b[0ms\u001b[0m\u001b[0;34m,\u001b[0m \u001b[0mF\u001b[0m\u001b[0;34m[\u001b[0m\u001b[0mi\u001b[0m\u001b[0;34m]\u001b[0m\u001b[0;34m)\u001b[0m\u001b[0;34m[\u001b[0m\u001b[0;36m1\u001b[0m\u001b[0;34m]\u001b[0m \u001b[0;32mfor\u001b[0m \u001b[0mi\u001b[0m \u001b[0;32min\u001b[0m \u001b[0mrange\u001b[0m\u001b[0;34m(\u001b[0m\u001b[0mlen\u001b[0m\u001b[0;34m(\u001b[0m\u001b[0mF\u001b[0m\u001b[0;34m)\u001b[0m\u001b[0;34m)\u001b[0m \u001b[0;34m]\u001b[0m\u001b[0;34m\u001b[0m\u001b[0;34m\u001b[0m\u001b[0m\n\u001b[0m\u001b[1;32m     13\u001b[0m \u001b[0;34m\u001b[0m\u001b[0m\n\u001b[1;32m     14\u001b[0m    \u001b[0;31m# If one of those remainders is 0, then we should get back 0\u001b[0m\u001b[0;34m\u001b[0m\u001b[0;34m\u001b[0m\u001b[0;34m\u001b[0m\u001b[0m\n",
      "\u001b[0;32m<ipython-input-17-3eda5e9d12a1>\u001b[0m in \u001b[0;36m<listcomp>\u001b[0;34m(.0)\u001b[0m\n\u001b[1;32m     10\u001b[0m    \"\"\"    \n\u001b[1;32m     11\u001b[0m    \u001b[0;31m# Calculate all the remainders\u001b[0m\u001b[0;34m\u001b[0m\u001b[0;34m\u001b[0m\u001b[0;34m\u001b[0m\u001b[0m\n\u001b[0;32m---> 12\u001b[0;31m    \u001b[0mr_list\u001b[0m \u001b[0;34m=\u001b[0m \u001b[0;34m[\u001b[0m \u001b[0mdiv\u001b[0m\u001b[0;34m(\u001b[0m\u001b[0ms\u001b[0m\u001b[0;34m,\u001b[0m \u001b[0mF\u001b[0m\u001b[0;34m[\u001b[0m\u001b[0mi\u001b[0m\u001b[0;34m]\u001b[0m\u001b[0;34m)\u001b[0m\u001b[0;34m[\u001b[0m\u001b[0;36m1\u001b[0m\u001b[0;34m]\u001b[0m \u001b[0;32mfor\u001b[0m \u001b[0mi\u001b[0m \u001b[0;32min\u001b[0m \u001b[0mrange\u001b[0m\u001b[0;34m(\u001b[0m\u001b[0mlen\u001b[0m\u001b[0;34m(\u001b[0m\u001b[0mF\u001b[0m\u001b[0;34m)\u001b[0m\u001b[0;34m)\u001b[0m \u001b[0;34m]\u001b[0m\u001b[0;34m\u001b[0m\u001b[0;34m\u001b[0m\u001b[0m\n\u001b[0m\u001b[1;32m     13\u001b[0m \u001b[0;34m\u001b[0m\u001b[0m\n\u001b[1;32m     14\u001b[0m    \u001b[0;31m# If one of those remainders is 0, then we should get back 0\u001b[0m\u001b[0;34m\u001b[0m\u001b[0;34m\u001b[0m\u001b[0;34m\u001b[0m\u001b[0m\n",
      "\u001b[0;32m/usr/lib/python3.9/site-packages/sympy/polys/polytools.py\u001b[0m in \u001b[0;36mdiv\u001b[0;34m(f, g, *gens, **args)\u001b[0m\n\u001b[1;32m   4814\u001b[0m         \u001b[0;34m(\u001b[0m\u001b[0mF\u001b[0m\u001b[0;34m,\u001b[0m \u001b[0mG\u001b[0m\u001b[0;34m)\u001b[0m\u001b[0;34m,\u001b[0m \u001b[0mopt\u001b[0m \u001b[0;34m=\u001b[0m \u001b[0mparallel_poly_from_expr\u001b[0m\u001b[0;34m(\u001b[0m\u001b[0;34m(\u001b[0m\u001b[0mf\u001b[0m\u001b[0;34m,\u001b[0m \u001b[0mg\u001b[0m\u001b[0;34m)\u001b[0m\u001b[0;34m,\u001b[0m \u001b[0;34m*\u001b[0m\u001b[0mgens\u001b[0m\u001b[0;34m,\u001b[0m \u001b[0;34m**\u001b[0m\u001b[0margs\u001b[0m\u001b[0;34m)\u001b[0m\u001b[0;34m\u001b[0m\u001b[0;34m\u001b[0m\u001b[0m\n\u001b[1;32m   4815\u001b[0m     \u001b[0;32mexcept\u001b[0m \u001b[0mPolificationFailed\u001b[0m \u001b[0;32mas\u001b[0m \u001b[0mexc\u001b[0m\u001b[0;34m:\u001b[0m\u001b[0;34m\u001b[0m\u001b[0;34m\u001b[0m\u001b[0m\n\u001b[0;32m-> 4816\u001b[0;31m         \u001b[0;32mraise\u001b[0m \u001b[0mComputationFailed\u001b[0m\u001b[0;34m(\u001b[0m\u001b[0;34m'div'\u001b[0m\u001b[0;34m,\u001b[0m \u001b[0;36m2\u001b[0m\u001b[0;34m,\u001b[0m \u001b[0mexc\u001b[0m\u001b[0;34m)\u001b[0m\u001b[0;34m\u001b[0m\u001b[0;34m\u001b[0m\u001b[0m\n\u001b[0m\u001b[1;32m   4817\u001b[0m \u001b[0;34m\u001b[0m\u001b[0m\n\u001b[1;32m   4818\u001b[0m     \u001b[0mq\u001b[0m\u001b[0;34m,\u001b[0m \u001b[0mr\u001b[0m \u001b[0;34m=\u001b[0m \u001b[0mF\u001b[0m\u001b[0;34m.\u001b[0m\u001b[0mdiv\u001b[0m\u001b[0;34m(\u001b[0m\u001b[0mG\u001b[0m\u001b[0;34m,\u001b[0m \u001b[0mauto\u001b[0m\u001b[0;34m=\u001b[0m\u001b[0mopt\u001b[0m\u001b[0;34m.\u001b[0m\u001b[0mauto\u001b[0m\u001b[0;34m)\u001b[0m\u001b[0;34m\u001b[0m\u001b[0;34m\u001b[0m\u001b[0m\n",
      "\u001b[0;31mComputationFailed\u001b[0m: div(-3/2, 3/2) failed without generators"
     ]
    }
   ],
   "source": [
    "F = F_0.copy()\n",
    "pairs = pairwise(F)\n",
    "pairs_done = []\n",
    "\n",
    "# For every pair of polynomials in F\n",
    "for pair in pairs:\n",
    "    # Skip this pair if it's been done\n",
    "    if pair in pairs_done:\n",
    "        continue\n",
    "\n",
    "    # Print the pairs that are being used\n",
    "    print(\"Input Polynomials are:\")\n",
    "    display(pair[0])\n",
    "    display(pair[1])\n",
    "\n",
    "    # Calculate the S Polynomial\n",
    "    s = s_polynomial(pair[0], pair[1])\n",
    "    print(\"The S-Polynomial is:\")\n",
    "    display(s)\n",
    "\n",
    "    # Calculate the Remainder\n",
    "    r = remainder_set_division(s, F)\n",
    "    \n",
    "    # Remember that we already did this pair\n",
    "    pairs_done.append(pair)\n",
    "\n",
    "    # If necessary add it back in\n",
    "    if r != 0: \n",
    "        print(\"The remainder is appended back to F:\")\n",
    "        display(r)\n",
    "        F.append(r)\n",
    "        # recreate the pairs list to include this one\n",
    "        pairs.append(pairwise(F))\n",
    "        \n",
    "    else:\n",
    "        print(\"Remainder is 0, this pair belongs to Groebner Basis\")\n",
    "\n",
    "    print(\"\\n---\\n\")\n",
    "print(\"\\n---\\n---\\n\")\n",
    "# Print F, which should now be a Groebner Basis\n",
    "print(\"Algorithm Completed! The Groebner Basis is:\")\n",
    "for poly in F:\n",
    "    display(poly)"
   ]
  },
  {
   "cell_type": "code",
   "execution_count": 424,
   "id": "australian-rugby",
   "metadata": {},
   "outputs": [
    {
     "ename": "SyntaxError",
     "evalue": "invalid syntax (<ipython-input-424-6d2ae4931d5a>, line 1)",
     "output_type": "error",
     "traceback": [
      "\u001b[0;36m  File \u001b[0;32m\"<ipython-input-424-6d2ae4931d5a>\"\u001b[0;36m, line \u001b[0;32m1\u001b[0m\n\u001b[0;31m    To test if this is indeed a Groebner Basis:\u001b[0m\n\u001b[0m       ^\u001b[0m\n\u001b[0;31mSyntaxError\u001b[0m\u001b[0;31m:\u001b[0m invalid syntax\n"
     ]
    }
   ],
   "source": [
    "To test if this is indeed a Groebner Basis:"
   ]
  },
  {
   "cell_type": "markdown",
   "id": "plastic-screen",
   "metadata": {},
   "source": [
    "Now would be a good time to stop and look at implementing autoreduction."
   ]
  },
  {
   "cell_type": "markdown",
   "id": "electoral-parts",
   "metadata": {},
   "source": [
    "### Old Work"
   ]
  },
  {
   "cell_type": "code",
   "execution_count": 17,
   "id": "proprietary-information",
   "metadata": {},
   "outputs": [],
   "source": [
    "def poly_prod(F):\n",
    "    product_val = 1\n",
    "    for poly in F:\n",
    "        product_val *= poly\n",
    "    return product_val"
   ]
  },
  {
   "cell_type": "code",
   "execution_count": 18,
   "id": "structured-ceiling",
   "metadata": {},
   "outputs": [],
   "source": [
    "def remainder_set_div(s, F):\n",
    "    r_list = [ div(s, F[i])[1] for i in range(len(F)) ]\n",
    "    r = sum(r_list)\n",
    "    return r\n"
   ]
  },
  {
   "cell_type": "code",
   "execution_count": 19,
   "id": "concrete-notification",
   "metadata": {},
   "outputs": [],
   "source": [
    "def buchberger_criterion(f,g, F):\n",
    "    s = s_polynomial(f, g)\n",
    "    r = remainder_set_div(s, F)\n",
    "    return r"
   ]
  },
  {
   "cell_type": "code",
   "execution_count": 20,
   "id": "subtle-phenomenon",
   "metadata": {},
   "outputs": [],
   "source": [
    "r = buchberger_criterion(F[0], F[1], F)\n",
    "if r != 0:\n",
    "    F.append(r)\n"
   ]
  },
  {
   "cell_type": "code",
   "execution_count": 21,
   "id": "weird-scroll",
   "metadata": {},
   "outputs": [
    {
     "data": {
      "text/latex": [
       "\\begin{equation}\\left[ x^{3} - 2 x y, \\  x^{2} y + x - 2 y^{2}, \\  - x^{2}, \\  x^{3} - 2 x y, \\  x^{3} - 2 x y, \\  - \\frac{4 x^{2}}{5}, \\  x - 2 y^{2}, \\  \\frac{12 x y}{7} + \\frac{4 y^{3}}{7}, \\  - \\frac{3 x y}{2} - \\frac{5 y^{3}}{12}, \\  \\frac{4 x y^{2}}{3} + \\frac{25 y^{4}}{81}, \\  - \\frac{7 y^{3}}{3}, \\  \\frac{5 y^{3}}{99}, \\  \\frac{25 y^{4}}{648}, \\  \\frac{125 y^{5}}{702}, \\  - 11 x^{2} - 4 y^{4}\\right]\\end{equation}"
      ],
      "text/plain": [
       "⎡                                                              2              \n",
       "⎢ 3           2            2    2   3           3          -4⋅x           2  1\n",
       "⎢x  - 2⋅x⋅y, x ⋅y + x - 2⋅y , -x , x  - 2⋅x⋅y, x  - 2⋅x⋅y, ──────, x - 2⋅y , ─\n",
       "⎣                                                            5                \n",
       "\n",
       "           3               3       2       4      3      3      4       5     \n",
       "2⋅x⋅y   4⋅y     3⋅x⋅y   5⋅y   4⋅x⋅y    25⋅y   -7⋅y    5⋅y   25⋅y   125⋅y      \n",
       "───── + ────, - ───── - ────, ────── + ─────, ──────, ────, ─────, ──────, - 1\n",
       " 7       7        2      12     3        81     3      99    648    702       \n",
       "\n",
       "           ⎤\n",
       "   2      4⎥\n",
       "1⋅x  - 4⋅y ⎥\n",
       "           ⎦"
      ]
     },
     "execution_count": 21,
     "metadata": {},
     "output_type": "execute_result"
    }
   ],
   "source": [
    "F"
   ]
  },
  {
   "cell_type": "markdown",
   "id": "suitable-blank",
   "metadata": {},
   "source": [
    "So we got back a remainder of $-x^2$, this isn't zero, so we throw it in the bag"
   ]
  },
  {
   "cell_type": "markdown",
   "id": "authorized-kenya",
   "metadata": {},
   "source": [
    "We haven't tried every combination, so onto the next one:"
   ]
  },
  {
   "cell_type": "code",
   "execution_count": 22,
   "id": "final-logic",
   "metadata": {},
   "outputs": [],
   "source": [
    "r = buchberger_criterion(F[0], F[2], F)\n",
    "if r != 0:\n",
    "    F.append(r)\n"
   ]
  },
  {
   "cell_type": "code",
   "execution_count": 23,
   "id": "cathedral-experience",
   "metadata": {},
   "outputs": [
    {
     "data": {
      "text/latex": [
       "\\begin{equation}\\left[ x^{3} - 2 x y, \\  x^{2} y + x - 2 y^{2}, \\  - x^{2}, \\  x^{3} - 2 x y, \\  x^{3} - 2 x y, \\  - \\frac{4 x^{2}}{5}, \\  x - 2 y^{2}, \\  \\frac{12 x y}{7} + \\frac{4 y^{3}}{7}, \\  - \\frac{3 x y}{2} - \\frac{5 y^{3}}{12}, \\  \\frac{4 x y^{2}}{3} + \\frac{25 y^{4}}{81}, \\  - \\frac{7 y^{3}}{3}, \\  \\frac{5 y^{3}}{99}, \\  \\frac{25 y^{4}}{648}, \\  \\frac{125 y^{5}}{702}, \\  - 11 x^{2} - 4 y^{4}, \\  - 24 x y - \\frac{25 y^{3}}{9}\\right]\\end{equation}"
      ],
      "text/plain": [
       "⎡                                                              2              \n",
       "⎢ 3           2            2    2   3           3          -4⋅x           2  1\n",
       "⎢x  - 2⋅x⋅y, x ⋅y + x - 2⋅y , -x , x  - 2⋅x⋅y, x  - 2⋅x⋅y, ──────, x - 2⋅y , ─\n",
       "⎣                                                            5                \n",
       "\n",
       "           3               3       2       4      3      3      4       5     \n",
       "2⋅x⋅y   4⋅y     3⋅x⋅y   5⋅y   4⋅x⋅y    25⋅y   -7⋅y    5⋅y   25⋅y   125⋅y      \n",
       "───── + ────, - ───── - ────, ────── + ─────, ──────, ────, ─────, ──────, - 1\n",
       " 7       7        2      12     3        81     3      99    648    702       \n",
       "\n",
       "                           3⎤\n",
       "   2      4            25⋅y ⎥\n",
       "1⋅x  - 4⋅y , -24⋅x⋅y - ─────⎥\n",
       "                         9  ⎦"
      ]
     },
     "execution_count": 23,
     "metadata": {},
     "output_type": "execute_result"
    }
   ],
   "source": [
    "F"
   ]
  },
  {
   "cell_type": "markdown",
   "id": "automatic-collection",
   "metadata": {},
   "source": [
    "This gave a remainder of $-2xy$, so it goes in the bag"
   ]
  },
  {
   "cell_type": "markdown",
   "id": "neither-australian",
   "metadata": {},
   "source": [
    "Now we try the next combination $f_1$ and $f_4$"
   ]
  },
  {
   "cell_type": "code",
   "execution_count": 24,
   "id": "prerequisite-executive",
   "metadata": {},
   "outputs": [
    {
     "data": {
      "text/latex": [
       "\\begin{equation}\\left[ x^{3} - 2 x y, \\  x^{2} y + x - 2 y^{2}, \\  - x^{2}, \\  x^{3} - 2 x y, \\  x^{3} - 2 x y, \\  - \\frac{4 x^{2}}{5}, \\  x - 2 y^{2}, \\  \\frac{12 x y}{7} + \\frac{4 y^{3}}{7}, \\  - \\frac{3 x y}{2} - \\frac{5 y^{3}}{12}, \\  \\frac{4 x y^{2}}{3} + \\frac{25 y^{4}}{81}, \\  - \\frac{7 y^{3}}{3}, \\  \\frac{5 y^{3}}{99}, \\  \\frac{25 y^{4}}{648}, \\  \\frac{125 y^{5}}{702}, \\  - 11 x^{2} - 4 y^{4}, \\  - 24 x y - \\frac{25 y^{3}}{9}\\right]\\end{equation}"
      ],
      "text/plain": [
       "⎡                                                              2              \n",
       "⎢ 3           2            2    2   3           3          -4⋅x           2  1\n",
       "⎢x  - 2⋅x⋅y, x ⋅y + x - 2⋅y , -x , x  - 2⋅x⋅y, x  - 2⋅x⋅y, ──────, x - 2⋅y , ─\n",
       "⎣                                                            5                \n",
       "\n",
       "           3               3       2       4      3      3      4       5     \n",
       "2⋅x⋅y   4⋅y     3⋅x⋅y   5⋅y   4⋅x⋅y    25⋅y   -7⋅y    5⋅y   25⋅y   125⋅y      \n",
       "───── + ────, - ───── - ────, ────── + ─────, ──────, ────, ─────, ──────, - 1\n",
       " 7       7        2      12     3        81     3      99    648    702       \n",
       "\n",
       "                           3⎤\n",
       "   2      4            25⋅y ⎥\n",
       "1⋅x  - 4⋅y , -24⋅x⋅y - ─────⎥\n",
       "                         9  ⎦"
      ]
     },
     "execution_count": 24,
     "metadata": {},
     "output_type": "execute_result"
    }
   ],
   "source": [
    "r = buchberger_criterion(F[0], F[3], F)\n",
    "if r != 0:\n",
    "    F.append(r)\n",
    "F"
   ]
  },
  {
   "cell_type": "markdown",
   "id": "present-racing",
   "metadata": {},
   "source": [
    "So the problem at this step is that diving by the product of F is not what we want"
   ]
  },
  {
   "cell_type": "code",
   "execution_count": 25,
   "id": "executed-commissioner",
   "metadata": {},
   "outputs": [
    {
     "name": "stdout",
     "output_type": "stream",
     "text": [
      "(0, -2*x*y**2)\n",
      "(0, -2*x*y**2)\n",
      "(0, -2*x*y**2)\n",
      "(0, -2*x*y**2)\n"
     ]
    }
   ],
   "source": [
    "print(div(-2*x*y**2, F[1]))\n",
    "print(div(-2*x*y**2, F[2]))\n",
    "print(div(-2*x*y**2, F[3]))\n",
    "print(div(-2*x*y**2, F[4]))"
   ]
  },
  {
   "source": [
    "## Could be useful?"
   ],
   "cell_type": "markdown",
   "metadata": {}
  },
  {
   "cell_type": "code",
   "execution_count": null,
   "metadata": {},
   "outputs": [],
   "source": [
    "divmod(s, F[0])"
   ]
  }
 ],
 "metadata": {
  "kernelspec": {
   "display_name": "Python 3",
   "language": "python",
   "name": "python3"
  },
  "language_info": {
   "codemirror_mode": {
    "name": "ipython",
    "version": 3
   },
   "file_extension": ".py",
   "mimetype": "text/x-python",
   "name": "python",
   "nbconvert_exporter": "python",
   "pygments_lexer": "ipython3",
   "version": "3.9.3"
  }
 },
 "nbformat": 4,
 "nbformat_minor": 5
}